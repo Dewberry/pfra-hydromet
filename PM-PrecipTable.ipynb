{
 "cells": [
  {
   "cell_type": "markdown",
   "metadata": {},
   "source": [
    "## Load Libraries, Parameters, and Data:"
   ]
  },
  {
   "cell_type": "markdown",
   "metadata": {},
   "source": [
    "### Libraries:"
   ]
  },
  {
   "cell_type": "code",
   "execution_count": 1,
   "metadata": {},
   "outputs": [],
   "source": [
    "import sys\n",
    "sys.path.append('core')\n",
    "from hydromet import*"
   ]
  },
  {
   "cell_type": "markdown",
   "metadata": {},
   "source": [
    "### Specify parameters: "
   ]
  },
  {
   "cell_type": "code",
   "execution_count": 2,
   "metadata": {},
   "outputs": [],
   "source": [
    "## Vector polygon information (.geojson, .shp, or .gdb):\n",
    "polygon = 'PluvialDomain_V5.shp' # Name\n",
    "filter_field = 'CN_ID'           # Attribute with in the vector polygon used for data selection\n",
    "#select_data = 'D01'\n",
    "gdf_slice_column = 'CN_ID'       # Column within the vector polygon to plot\n",
    "brute_force_projection = '+proj=lcc +lat_1=39.83333333333334 +lat_2=38.33333333333334 +lat_0=37.66666666666666 +lon_0=-122 +x_0=2000000.0001016 +y_0=500000.0001016001 +ellps=GRS80 +towgs84=0,0,0,0,0,0,0 +units=us-ft +no_defs'\n",
    "\n",
    "\n",
    "## Paths:\n",
    "root_dir = pl.Path(r'C:\\Users\\sputnam\\Desktop\\PFRA_Production\\Sacramento')\n",
    "datarepository_dir = pl.Path(os.getcwd())/'DataRepository'\n",
    "#root_dir = pl.Path(os.getcwd())\n",
    "#datarepository_dir = root_dir/'DataRepository'\n",
    "polygon_dir = root_dir/'Inputs'/polygon\n",
    "outputs_dir = root_dir/'Outputs'\n",
    "notebook_dir = root_dir/'Notebooks'"
   ]
  },
  {
   "cell_type": "markdown",
   "metadata": {},
   "source": [
    "### Load the polygon(s):"
   ]
  },
  {
   "cell_type": "code",
   "execution_count": 3,
   "metadata": {},
   "outputs": [
    {
     "data": {
      "text/html": [
       "<div>\n",
       "<style scoped>\n",
       "    .dataframe tbody tr th:only-of-type {\n",
       "        vertical-align: middle;\n",
       "    }\n",
       "\n",
       "    .dataframe tbody tr th {\n",
       "        vertical-align: top;\n",
       "    }\n",
       "\n",
       "    .dataframe thead th {\n",
       "        text-align: right;\n",
       "    }\n",
       "</style>\n",
       "<table border=\"1\" class=\"dataframe\">\n",
       "  <thead>\n",
       "    <tr style=\"text-align: right;\">\n",
       "      <th></th>\n",
       "      <th>OBJECTID</th>\n",
       "      <th>HUC12</th>\n",
       "      <th>NAME_1</th>\n",
       "      <th>PTS</th>\n",
       "      <th>Company</th>\n",
       "      <th>cordinate</th>\n",
       "      <th>area</th>\n",
       "      <th>Model_Area</th>\n",
       "      <th>Modeler_Na</th>\n",
       "      <th>DA</th>\n",
       "      <th>CN_ID</th>\n",
       "      <th>Model_ID</th>\n",
       "      <th>geometry</th>\n",
       "    </tr>\n",
       "  </thead>\n",
       "  <tbody>\n",
       "    <tr>\n",
       "      <th>0</th>\n",
       "      <td>11</td>\n",
       "      <td>180201630302</td>\n",
       "      <td>Tule Canal-Toe Drain</td>\n",
       "      <td>STARRII</td>\n",
       "      <td>Dewberry</td>\n",
       "      <td>PROJCS[\"North_America_Albers_Equal_Area_Conic\"...</td>\n",
       "      <td>200000.0</td>\n",
       "      <td>1</td>\n",
       "      <td>Seth Bradley</td>\n",
       "      <td>82.709280</td>\n",
       "      <td>D14</td>\n",
       "      <td>SacramentoR_West</td>\n",
       "      <td>POLYGON ((6667253.745535955 2008677.719047442,...</td>\n",
       "    </tr>\n",
       "    <tr>\n",
       "      <th>1</th>\n",
       "      <td>23</td>\n",
       "      <td>180201110302</td>\n",
       "      <td>Arcade Creek</td>\n",
       "      <td>STARRII</td>\n",
       "      <td>Dewberry</td>\n",
       "      <td>PROJCS[\"North_America_Albers_Equal_Area_Conic\"...</td>\n",
       "      <td>70000.0</td>\n",
       "      <td>7</td>\n",
       "      <td>Matt Deshotel</td>\n",
       "      <td>48.183988</td>\n",
       "      <td>D26</td>\n",
       "      <td>AmericanR_North</td>\n",
       "      <td>POLYGON ((6737850.961454228 1997428.366811171,...</td>\n",
       "    </tr>\n",
       "  </tbody>\n",
       "</table>\n",
       "</div>"
      ],
      "text/plain": [
       "   OBJECTID         HUC12                NAME_1      PTS   Company  \\\n",
       "0        11  180201630302  Tule Canal-Toe Drain  STARRII  Dewberry   \n",
       "1        23  180201110302          Arcade Creek  STARRII  Dewberry   \n",
       "\n",
       "                                           cordinate      area  Model_Area  \\\n",
       "0  PROJCS[\"North_America_Albers_Equal_Area_Conic\"...  200000.0           1   \n",
       "1  PROJCS[\"North_America_Albers_Equal_Area_Conic\"...   70000.0           7   \n",
       "\n",
       "      Modeler_Na         DA CN_ID          Model_ID  \\\n",
       "0   Seth Bradley  82.709280   D14  SacramentoR_West   \n",
       "1  Matt Deshotel  48.183988   D26   AmericanR_North   \n",
       "\n",
       "                                            geometry  \n",
       "0  POLYGON ((6667253.745535955 2008677.719047442,...  \n",
       "1  POLYGON ((6737850.961454228 1997428.366811171,...  "
      ]
     },
     "execution_count": 3,
     "metadata": {},
     "output_type": "execute_result"
    }
   ],
   "source": [
    "gdf = gpd.GeoDataFrame.from_file(polygon_dir)\n",
    "gdf.head(2)"
   ]
  },
  {
   "cell_type": "markdown",
   "metadata": {},
   "source": [
    "---"
   ]
  },
  {
   "cell_type": "markdown",
   "metadata": {},
   "source": [
    "## Run PrecipTable Notebook:\n",
    "- If the PrecipTable Notebook is to be run for a single polygon then specify the polygon using 'select_data' above, otherwise, the PrecipTable Notebook will be run for each polygon within the geodataframe. "
   ]
  },
  {
   "cell_type": "code",
   "execution_count": null,
   "metadata": {},
   "outputs": [
    {
     "data": {
      "application/vnd.jupyter.widget-view+json": {
       "model_id": "29e65a9e9b414e57bbf992dd413eef37",
       "version_major": 2,
       "version_minor": 0
      },
      "text/plain": [
       "HBox(children=(IntProgress(value=0, max=35), HTML(value='')))"
      ]
     },
     "metadata": {},
     "output_type": "display_data"
    },
    {
     "name": "stdout",
     "output_type": "stream",
     "text": [
      "\n"
     ]
    },
    {
     "data": {
      "application/vnd.jupyter.widget-view+json": {
       "model_id": "fdbc7941ca0a41e3ab86b3f0e2eb9bf7",
       "version_major": 2,
       "version_minor": 0
      },
      "text/plain": [
       "HBox(children=(IntProgress(value=0, max=35), HTML(value='')))"
      ]
     },
     "metadata": {},
     "output_type": "display_data"
    },
    {
     "name": "stdout",
     "output_type": "stream",
     "text": [
      "\n"
     ]
    },
    {
     "data": {
      "application/vnd.jupyter.widget-view+json": {
       "model_id": "535a807c3ab042bc9e2c1efce3813652",
       "version_major": 2,
       "version_minor": 0
      },
      "text/plain": [
       "HBox(children=(IntProgress(value=0, max=35), HTML(value='')))"
      ]
     },
     "metadata": {},
     "output_type": "display_data"
    },
    {
     "name": "stdout",
     "output_type": "stream",
     "text": [
      "\n"
     ]
    },
    {
     "data": {
      "application/vnd.jupyter.widget-view+json": {
       "model_id": "5d21ed3c0dcc40a8865d74f1160fc431",
       "version_major": 2,
       "version_minor": 0
      },
      "text/plain": [
       "HBox(children=(IntProgress(value=0, max=35), HTML(value='')))"
      ]
     },
     "metadata": {},
     "output_type": "display_data"
    },
    {
     "name": "stdout",
     "output_type": "stream",
     "text": [
      "\n"
     ]
    },
    {
     "data": {
      "application/vnd.jupyter.widget-view+json": {
       "model_id": "37309c8ab6964ab1afc36f28bf851dca",
       "version_major": 2,
       "version_minor": 0
      },
      "text/plain": [
       "HBox(children=(IntProgress(value=0, max=35), HTML(value='')))"
      ]
     },
     "metadata": {},
     "output_type": "display_data"
    },
    {
     "name": "stdout",
     "output_type": "stream",
     "text": [
      "\n"
     ]
    },
    {
     "data": {
      "application/vnd.jupyter.widget-view+json": {
       "model_id": "c838c0bf35754094acbf0353ed495eae",
       "version_major": 2,
       "version_minor": 0
      },
      "text/plain": [
       "HBox(children=(IntProgress(value=0, max=35), HTML(value='')))"
      ]
     },
     "metadata": {},
     "output_type": "display_data"
    }
   ],
   "source": [
    "if 'select_data' in locals(): \n",
    "    data_to_select = [select_data]    \n",
    "else:\n",
    "    data_to_select = sorted(list(gdf[filter_field]))\n",
    "    \n",
    "for select_data in data_to_select:\n",
    "    PrecipTable = str(notebook_dir/'PrecipTable_{0}.ipynb'.format(select_data))\n",
    "                                                                                                                     \n",
    "    \n",
    "    nb_parameters = {'filter_field': filter_field,\n",
    "                     'select_data': select_data,\n",
    "                     'gdf_slice_column': gdf_slice_column,\n",
    "                     'brute_force_projection': brute_force_projection,\n",
    "                     'datarepository_dir': str(datarepository_dir),\n",
    "                     'polygon_dir': str(polygon_dir),\n",
    "                     'outputs_dir': str(outputs_dir)}\n",
    "        \n",
    "    pm.execute_notebook('PrecipTable.ipynb', PrecipTable, parameters = nb_parameters);\n",
    "        \n",
    "    ! jupyter nbconvert $PrecipTable --log-level WARN"
   ]
  },
  {
   "cell_type": "markdown",
   "metadata": {},
   "source": [
    "---\n",
    "## End"
   ]
  }
 ],
 "metadata": {
  "kernelspec": {
   "display_name": "Python 3",
   "language": "python",
   "name": "python3"
  },
  "language_info": {
   "codemirror_mode": {
    "name": "ipython",
    "version": 3
   },
   "file_extension": ".py",
   "mimetype": "text/x-python",
   "name": "python",
   "nbconvert_exporter": "python",
   "pygments_lexer": "ipython3",
   "version": "3.7.1"
  }
 },
 "nbformat": 4,
 "nbformat_minor": 2
}
