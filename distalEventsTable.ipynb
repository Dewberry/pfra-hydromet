{
 "cells": [
  {
   "cell_type": "markdown",
   "metadata": {},
   "source": [
    "# Distal Events Table\n",
    "\n",
    "__Description__: Excess rainfall is calculated for ...\n",
    "    \n",
    "__Input__: The metadata *.json* file from either `EventsTable.ipynb` or `PM-EventsTable.ipynb`, which contains the final precipitation curves for each randomized event.\n",
    "\n",
    "__Output__:\n",
    "    \n",
    "---"
   ]
  },
  {
   "cell_type": "markdown",
   "metadata": {},
   "source": [
    "## A. Load Libraries, Parameters, and Data:"
   ]
  },
  {
   "cell_type": "markdown",
   "metadata": {},
   "source": [
    "### Libraries:"
   ]
  },
  {
   "cell_type": "code",
   "execution_count": 1,
   "metadata": {},
   "outputs": [],
   "source": [
    "import sys\n",
    "sys.path.append('core')\n",
    "from hydromet import*"
   ]
  },
  {
   "cell_type": "markdown",
   "metadata": {},
   "source": [
    "### Parameters:"
   ]
  },
  {
   "cell_type": "markdown",
   "metadata": {},
   "source": [
    "#### Papermill (site specific):"
   ]
  },
  {
   "cell_type": "code",
   "execution_count": 2,
   "metadata": {},
   "outputs": [],
   "source": [
    "## Excess rainfall parameters:\n",
    "CN = 85       # Curve number\n",
    "\n",
    "\n",
    "## Filenames and paths:\n",
    "AOI = 'DC'     # Area of interest\n",
    "Model = 'P01'  # Model name\n",
    "\n",
    "root_dir = pl.Path(os.getcwd())\n",
    "outputs_dir = root_dir/'Outputs'\n",
    "datarepository_dir = root_dir/'DataRepository'\n",
    "\n",
    "\n",
    "## Options:\n",
    "display_print = True"
   ]
  },
  {
   "cell_type": "markdown",
   "metadata": {},
   "source": [
    "##### Convert all paths to objects:"
   ]
  },
  {
   "cell_type": "code",
   "execution_count": 3,
   "metadata": {},
   "outputs": [],
   "source": [
    "outputs_dir = pl.Path(outputs_dir)\n",
    "datarepository_dir = pl.Path(datarepository_dir)"
   ]
  },
  {
   "cell_type": "markdown",
   "metadata": {},
   "source": [
    "#### Global (project specific):"
   ]
  },
  {
   "cell_type": "code",
   "execution_count": 4,
   "metadata": {},
   "outputs": [],
   "source": [
    "## Filenames and paths:\n",
    "CN_Distribution = 'NEH630_Table_10_1.json'\n",
    "\n",
    "\n",
    "## Options:\n",
    "adjust_CN_less24 = False # Set to True to adjust the curve number when the storm duration is less than 24 hours\n",
    "\n",
    "start_time = time.time()"
   ]
  },
  {
   "cell_type": "markdown",
   "metadata": {},
   "source": [
    "###  Data:"
   ]
  },
  {
   "cell_type": "markdown",
   "metadata": {},
   "source": [
    "#### Metadata from EventsTable.ipynb:"
   ]
  },
  {
   "cell_type": "code",
   "execution_count": 5,
   "metadata": {},
   "outputs": [],
   "source": [
    "with open(outputs_dir/'Metadata_{0}_{1}.json'.format(AOI, Model)) as f:\n",
    "    md = json.load(f)"
   ]
  },
  {
   "cell_type": "markdown",
   "metadata": {},
   "source": [
    "##### Extract the durations:"
   ]
  },
  {
   "cell_type": "code",
   "execution_count": 6,
   "metadata": {},
   "outputs": [
    {
     "name": "stdout",
     "output_type": "stream",
     "text": [
      "Durations: ['H06', 'H12', 'H24', 'H96']\n"
     ]
    }
   ],
   "source": [
    "durations = list(md.keys())\n",
    "print('Durations:', durations)"
   ]
  },
  {
   "cell_type": "markdown",
   "metadata": {},
   "source": [
    "##### Extract the boundary condition names:"
   ]
  },
  {
   "cell_type": "code",
   "execution_count": 7,
   "metadata": {},
   "outputs": [
    {
     "name": "stdout",
     "output_type": "stream",
     "text": [
      "Boundary Condition Names: ['D01']\n"
     ]
    }
   ],
   "source": [
    "BCN = list(md[durations[0]]['BCName'].keys())\n",
    "print('Boundary Condition Names:', BCN)"
   ]
  },
  {
   "cell_type": "markdown",
   "metadata": {},
   "source": [
    "#### Curve number distribution:"
   ]
  },
  {
   "cell_type": "code",
   "execution_count": 8,
   "metadata": {},
   "outputs": [
    {
     "name": "stdout",
     "output_type": "stream",
     "text": [
      "{'Dry': 70, 'Wet': 94}\n"
     ]
    }
   ],
   "source": [
    "arc_data = get_CN_distribution(datarepository_dir, CN_Distribution, CN, display_print)"
   ]
  },
  {
   "cell_type": "markdown",
   "metadata": {},
   "source": [
    "---"
   ]
  },
  {
   "cell_type": "markdown",
   "metadata": {},
   "source": [
    "## B. TBD"
   ]
  },
  {
   "cell_type": "code",
   "execution_count": null,
   "metadata": {},
   "outputs": [],
   "source": [
    "for dur in durations:\n",
    "    for name in BCN:"
   ]
  },
  {
   "cell_type": "code",
   "execution_count": 9,
   "metadata": {},
   "outputs": [],
   "source": [
    "dur = durations[0]\n",
    "idur = int(dur.replace('H', ''))\n",
    "name = BCN[0]\n",
    "ID = 'E60001'\n",
    "i = 0\n",
    "\n",
    "outfiles = []\n",
    "\n",
    "scen = md[dur]['BCName'][name]\n",
    "\n",
    "groups = scen['groups']\n",
    "\n",
    "precip = scen['precip']\n",
    "sim_ID = list(precip.keys())\n",
    "n_rand_events = len(sim_ID)\n",
    "\n",
    "#params = scen['parameters']\n",
    "#seed = params['seed']\n",
    "#tempEpsilon = params['tempEpsilon']\n",
    "#tempEpsilon2 = params['tempEpsilon2']\n",
    "#convEpsilon = params['convEpsilon']\n",
    "#volEpsilon = params['volEpsilon']\n",
    "seed = 2149\n",
    "tempEpsilon = 4 \n",
    "tempEpsilon2 = 2 \n",
    "convEpsilon = 100  \n",
    "volEpsilon = 67  \n",
    "\n",
    "\n",
    "## Calculate random curve numbers:\n",
    "df_CN = prep_cn_table(CN, arc_data) \n",
    "fitted_cn = find_optimal_curve_std(df_CN, 'Lower', 'Upper')\n",
    "filename = \"Rand_CN_distal_{0}_Dur{1}_tempE{2}_convE{3}_volE{4}_Se{5}.csv\".format(AOI, idur, tempEpsilon, convEpsilon, volEpsilon, seed)\n",
    "outfiles.append(filename)\n",
    "random_cns = RandomizeData(fitted_cn, n_rand_events, outputs_dir, filename, seed=seed, variable='CN', lower='Lower', upper='Upper', display_print = display_print)"
   ]
  },
  {
   "cell_type": "code",
   "execution_count": 9,
   "metadata": {},
   "outputs": [],
   "source": [
    "runids = []\n",
    "\n",
    "for i, ID in enumerate(sim_ID):\n",
    "    excess = []\n",
    "    cum_precip = list(precip[ID].values())\n",
    "    total_precip = cum_precip[-1]\n",
    "    cn = random_cns.iloc[i]['Random CN']\n",
    "    if idur < 24 and adjust_CN_less24:\n",
    "        adj_cn, s, ia = update_CN(cn, idur, total_precip)\n",
    "    else:\n",
    "        s  = S_24hr(cn)\n",
    "        ia = IA_24hr(s)\n",
    "    for p in cum_precip:\n",
    "        excess.append(calculate_excess(p, ia, s))\n",
    "    runid='E{}_'.format(event)+'{}Hr_'.format(dur)+'Q{}_'.format(int(orig_q))+'D{}_'.format(decile)+'CN{}'.format(cn)\n"
   ]
  },
  {
   "cell_type": "markdown",
   "metadata": {},
   "source": [
    "## C. Combine Temporal Curves:"
   ]
  },
  {
   "cell_type": "code",
   "execution_count": null,
   "metadata": {},
   "outputs": [],
   "source": []
  },
  {
   "cell_type": "markdown",
   "metadata": {},
   "source": [
    "---"
   ]
  },
  {
   "cell_type": "markdown",
   "metadata": {},
   "source": [
    "## D. Save the Results:"
   ]
  },
  {
   "cell_type": "markdown",
   "metadata": {},
   "source": [
    "### Combined excess rainfall curves:"
   ]
  },
  {
   "cell_type": "code",
   "execution_count": null,
   "metadata": {},
   "outputs": [],
   "source": []
  },
  {
   "cell_type": "markdown",
   "metadata": {},
   "source": [
    "### All metadata:"
   ]
  },
  {
   "cell_type": "code",
   "execution_count": null,
   "metadata": {},
   "outputs": [],
   "source": []
  },
  {
   "cell_type": "markdown",
   "metadata": {},
   "source": [
    "---"
   ]
  },
  {
   "cell_type": "markdown",
   "metadata": {},
   "source": [
    "# End"
   ]
  }
 ],
 "metadata": {
  "kernelspec": {
   "display_name": "Python 3",
   "language": "python",
   "name": "python3"
  },
  "language_info": {
   "codemirror_mode": {
    "name": "ipython",
    "version": 3
   },
   "file_extension": ".py",
   "mimetype": "text/x-python",
   "name": "python",
   "nbconvert_exporter": "python",
   "pygments_lexer": "ipython3",
   "version": "3.7.1"
  }
 },
 "nbformat": 4,
 "nbformat_minor": 2
}
