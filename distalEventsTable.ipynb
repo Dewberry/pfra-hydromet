{
 "cells": [
  {
   "cell_type": "markdown",
   "metadata": {},
   "source": [
    "# Distal Events Table\n",
    "\n",
    "__Description__: Excess rainfall is calculated using updated randomized curve numbers and the original precipitation events calculated in `EventsTable.ipynb`. The events are then combined using the groups determined from the convolution steps in `EventsTable.ipynb`.\n",
    "    \n",
    "__Input__: \n",
    "- The pluvial_parameters.xlsx which contains the distal domains and their corresponding curve numbers.\n",
    "- The metadata *.json* file from PM-EventsTable.ipynb, which contains the final precipitation curves for each randomized event.\n",
    "- The weights *.json* file from PM-EventsTable.ipynb, which contains the weight for each randomized event.\n",
    "\n",
    "\n",
    "__Output__:\n",
    "- The incremental excess rainfall for a suite of events at each duration and boundary condition.\n",
    "- The metadata associated with each event, including the randomized precipitation data, curve numbers, and the underlying events that were grouped to create the final set of events. \n",
    "    \n",
    "---"
   ]
  },
  {
   "cell_type": "markdown",
   "metadata": {},
   "source": [
    "## A. Load Libraries, Parameters, and Data:"
   ]
  },
  {
   "cell_type": "markdown",
   "metadata": {},
   "source": [
    "### Libraries:"
   ]
  },
  {
   "cell_type": "code",
   "execution_count": null,
   "metadata": {},
   "outputs": [],
   "source": [
    "import sys\n",
    "sys.path.append('core')\n",
    "import hydromet_distal\n",
    "from hydromet import*"
   ]
  },
  {
   "cell_type": "markdown",
   "metadata": {},
   "source": [
    "### Parameters:"
   ]
  },
  {
   "cell_type": "markdown",
   "metadata": {},
   "source": [
    "#### Site specific:"
   ]
  },
  {
   "cell_type": "code",
   "execution_count": null,
   "metadata": {},
   "outputs": [],
   "source": [
    "## Filenames and paths:\n",
    "Project_Area = 'Sacramento'\n",
    "Pluvial_Model = 'P01'          \n",
    "mainBCN = 'D30'   \n",
    "pluvial_params = '{0}_{1}_Pluvial_Parameters.xlsx'.format(Project_Area, Pluvial_Model)\n",
    "\n",
    "root_dir = pl.Path(r'C:\\Users\\sputnam\\Desktop\\PFRA_Production\\Sacramento')\n",
    "#root_dir = pl.Path(os.getcwd())\n",
    "inputs_dir = root_dir/'Inputs'\n",
    "outputs_dir = root_dir/'Outputs'\n",
    "notebook_dir = root_dir/'Notebooks'\n",
    "pluvial_params_dir = inputs_dir/pluvial_params\n",
    "datarepository_dir = pl.Path(os.getcwd())/'DataRepository'\n",
    "#datarepository_dir = root_dir/'DataRepository'\n",
    "\n",
    "\n",
    "## Options:\n",
    "display_plots = True\n",
    "display_print = True"
   ]
  },
  {
   "cell_type": "markdown",
   "metadata": {},
   "source": [
    "#### Global (project specific):"
   ]
  },
  {
   "cell_type": "code",
   "execution_count": null,
   "metadata": {},
   "outputs": [],
   "source": [
    "## Filenames and paths:\n",
    "CN_Distribution = 'NEH630_Table_10_1.json'\n",
    "\n",
    "\n",
    "## Options:\n",
    "adjust_CN_less24 = False # Set to True to adjust the curve number when the storm duration is less than 24 hours\n",
    "remove_intermediates = True\n",
    "time_idx_ordinate = 'Hours'\n",
    "run_dur_dic = {'6': 1, '12': 1, '24': 2, '96': 5} # Run durations in days\n",
    "\n",
    "start_time = time.time()"
   ]
  },
  {
   "cell_type": "markdown",
   "metadata": {},
   "source": [
    "###  Data:"
   ]
  },
  {
   "cell_type": "markdown",
   "metadata": {},
   "source": [
    "#### Metadata:"
   ]
  },
  {
   "cell_type": "code",
   "execution_count": null,
   "metadata": {},
   "outputs": [],
   "source": [
    "with open(outputs_dir/'{0}_{1}_{2}_Metadata.json'.format(Project_Area, Pluvial_Model, mainBCN)) as f:\n",
    "    md = json.load(f)"
   ]
  },
  {
   "cell_type": "markdown",
   "metadata": {},
   "source": [
    "##### Extract the durations:"
   ]
  },
  {
   "cell_type": "code",
   "execution_count": null,
   "metadata": {},
   "outputs": [],
   "source": [
    "durations = list(md.keys())\n",
    "print('Durations:', durations)"
   ]
  },
  {
   "cell_type": "markdown",
   "metadata": {},
   "source": [
    "#### Event weights:"
   ]
  },
  {
   "cell_type": "code",
   "execution_count": null,
   "metadata": {},
   "outputs": [],
   "source": [
    "with open(outputs_dir/'{0}_{1}_{2}_Weights.json'.format(Project_Area, Pluvial_Model, mainBCN)) as f:\n",
    "    weights_dic =  json.load(f)"
   ]
  },
  {
   "cell_type": "markdown",
   "metadata": {},
   "source": [
    "#### Pluvial domain information:"
   ]
  },
  {
   "cell_type": "code",
   "execution_count": null,
   "metadata": {},
   "outputs": [],
   "source": [
    "pp = pd.read_excel(pluvial_params_dir, sheet_name = 'Pluvial_Domain')\n",
    "pp.head(2)"
   ]
  },
  {
   "cell_type": "markdown",
   "metadata": {},
   "source": [
    "##### Extract the distal domains:"
   ]
  },
  {
   "cell_type": "code",
   "execution_count": null,
   "metadata": {},
   "outputs": [],
   "source": [
    "distalBCNs = list(pp['Pluvial Domain'])\n",
    "distalBCNs.remove(mainBCN)\n",
    "print('All distal domains/boundary condition names:', distalBCNs)"
   ]
  },
  {
   "cell_type": "markdown",
   "metadata": {},
   "source": [
    "---"
   ]
  },
  {
   "cell_type": "markdown",
   "metadata": {},
   "source": [
    "## B. Calculate Excess Rainfall and Group Events:\n",
    "- For each distal domain:\n",
    "    - Extract the curve number from the Pluvial Parameters file.\n",
    "    - Get the curve number distribution\n",
    "    - Extract the data from the metadata dictionary.\n",
    "    - Calculate random curve numbers.\n",
    "    - Perform the excess rainfall calculation.\n",
    "    - Combine the events using the previously determined groups.\n",
    "    - Save the excess rainfall and metadata.\n",
    "    - Plot the results."
   ]
  },
  {
   "cell_type": "code",
   "execution_count": null,
   "metadata": {},
   "outputs": [],
   "source": [
    "count = 1\n",
    "d_plots = False\n",
    "for distalBCN in distalBCNs:\n",
    "    if (count/5).is_integer() or count == 1: \n",
    "        d_print = display_print\n",
    "    else:\n",
    "        d_print = False\n",
    "    if count == len(distalBCNs):\n",
    "        d_plots = display_plots\n",
    "        \n",
    "    CN = get_CN(pluvial_params_dir, distalBCN, d_print)\n",
    "    \n",
    "    arc_data = get_CN_distribution(datarepository_dir, CN_Distribution, CN, d_print)\n",
    "\n",
    "    hydromet_distal.main(md, weights_dic, durations, mainBCN, CN, arc_data, Project_Area, Pluvial_Model, distalBCN, outputs_dir, \n",
    "                                             time_idx_ordinate, run_dur_dic, adjust_CN_less24, remove_intermediates, d_print, d_plots)  \n",
    "    \n",
    "    count+=1"
   ]
  },
  {
   "cell_type": "markdown",
   "metadata": {},
   "source": [
    "---"
   ]
  },
  {
   "cell_type": "markdown",
   "metadata": {},
   "source": [
    "## C. Run reEventsTable Notebook:\n",
    "- Check if each distal domain has stormwater infrastructure.\n",
    "- If it does, run the notebook."
   ]
  },
  {
   "cell_type": "code",
   "execution_count": null,
   "metadata": {},
   "outputs": [],
   "source": [
    "count = 1\n",
    "for distalBCN in distalBCNs:\n",
    "    if (count/5).is_integer() or count == 1: \n",
    "        d_print = True\n",
    "        d_plots = True\n",
    "    else:\n",
    "        d_print = False\n",
    "        d_plots = False\n",
    "        \n",
    "    run_reduced = checkif_SWinfra(pluvial_params_dir, distalBCN, d_print)\n",
    "    \n",
    "    if run_reduced == 'YES':\n",
    "        reEventsTable = str(notebook_dir/'reEventsTable_{0}_{1}.ipynb'.format(Project_Area, Pluvial_Model, distalBCN))\n",
    "        \n",
    "        nb_parameters = {'Project_Area': Project_Area, 'Pluvial_Model': Pluvial_Model, 'BCN': distalBCN, 'pluvial_params_dir': str(pluvial_params_dir),\n",
    "                         'outputs_dir': str(outputs_dir), 'display_plots': d_plots, 'display_print': d_print}\n",
    "        \n",
    "        pm.execute_notebook('reEventsTable.ipynb', reEventsTable, parameters = nb_parameters);\n",
    "        \n",
    "        ! jupyter nbconvert $reEventsTable --log-level WARN\n",
    "        \n",
    "    count+=1    "
   ]
  },
  {
   "cell_type": "markdown",
   "metadata": {},
   "source": [
    "---"
   ]
  },
  {
   "cell_type": "markdown",
   "metadata": {},
   "source": [
    "## D. Save a Copy of this Notebook:"
   ]
  },
  {
   "cell_type": "markdown",
   "metadata": {},
   "source": [
    "### File save this notebook and then run:"
   ]
  },
  {
   "cell_type": "code",
   "execution_count": null,
   "metadata": {},
   "outputs": [],
   "source": [
    "orig_nb = 'distalEventsTable'\n",
    "new_nb = '{0}_{1}_{2}_{3}.ipynb'.format(orig_nb, Project_Area, Pluvial_Model, mainBCN)\n",
    "new_nb_path = str(notebook_dir/new_nb)\n",
    "\n",
    "shutil.copy(pl.Path(os.getcwd())/'{0}.ipynb'.format(orig_nb), new_nb_path)\n",
    "\n",
    "! jupyter nbconvert $new_nb_path --log-level WARN\n",
    "\n",
    "if display_print: print('Runtime: {} Minutes'.format(round(time.time()-start_time)/60, 3))         "
   ]
  },
  {
   "cell_type": "markdown",
   "metadata": {},
   "source": [
    "---"
   ]
  },
  {
   "cell_type": "markdown",
   "metadata": {},
   "source": [
    "# End"
   ]
  }
 ],
 "metadata": {
  "kernelspec": {
   "display_name": "Python 3",
   "language": "python",
   "name": "python3"
  },
  "language_info": {
   "codemirror_mode": {
    "name": "ipython",
    "version": 3
   },
   "file_extension": ".py",
   "mimetype": "text/x-python",
   "name": "python",
   "nbconvert_exporter": "python",
   "pygments_lexer": "ipython3",
   "version": "3.7.1"
  }
 },
 "nbformat": 4,
 "nbformat_minor": 2
}
