{
 "cells": [
  {
   "cell_type": "markdown",
   "metadata": {},
   "source": [
    "# Papermill Sampler Operation\n",
    "\n",
    "__Description__: Tool to calculate the mean flow frequency curve, specify a range of annual exceedance probabilities with corresponding weights, and assign those weights to discharge events.\n",
    "\n",
    "__Input__: [HEC-SSP](https://www.hec.usace.army.mil/software/hec-ssp/) .rpt files containing flow frequency data for a specific USGS Stream Gage calculated at a range of confidence limits and the following notebooks: `SSP_to_Mean_Curve`, `Stratified_Sampler`, and `Make_Production_Run_List`.\n",
    "\n",
    "__Output__: Excel workbook with a sheet for the mean flow frequency curve table, the annual exceedance probability (AEP) vs weight table, and the discharge verses weight table.\n",
    "\n",
    "---\n",
    "## Load Libraries and Parameters:\n",
    "### Libraries:"
   ]
  },
  {
   "cell_type": "code",
   "execution_count": 1,
   "metadata": {},
   "outputs": [],
   "source": [
    "import sys\n",
    "sys.path.append('core')\n",
    "from meanffc import*"
   ]
  },
  {
   "cell_type": "markdown",
   "metadata": {},
   "source": [
    "### Parameters:\n",
    "#### Global:"
   ]
  },
  {
   "cell_type": "code",
   "execution_count": 2,
   "metadata": {},
   "outputs": [],
   "source": [
    "## Filenames and paths:\n",
    "gage_ID = '01134500'  # The USGS Station ID whose mean flow frequency curve will be calculated using this notebook.\n",
    "\n",
    "root_dir = pl.Path(os.getcwd())       # The root directory/path\n",
    "inputs_dir = root_dir/'Inputs'        # The directory/path where the SSP files can be found within the root directory\n",
    "outputs_dir = root_dir/'Outputs'      # The directory/path to save the outputs\n",
    "notebooks_dir = root_dir/'Notebooks'  # The directory/path to save the executed notebooks\n",
    "\n",
    "## Options:\n",
    "verbose = True      # Option for displaying print statements\n",
    "round_decimals = 1  # Number of decimal places to include in the final mean curve table."
   ]
  },
  {
   "cell_type": "markdown",
   "metadata": {},
   "source": [
    "#### Notebook specific:"
   ]
  },
  {
   "cell_type": "code",
   "execution_count": 3,
   "metadata": {},
   "outputs": [],
   "source": [
    "## SSP to Mean Curve:\n",
    "version = '2_2'       # The version of HEC-SSP used to calculate the .rpt files. Either 2.1 or 2.2, specified as 2_1 or 2_2 here, respectively.\n",
    "max_cl = 0.99       # Specify the upper confidence limit to restrict the confidence limit range, i.e. set the upper limit to 0.99 to restrict the range to 0.01 to 0.99.\n",
    "adj_flows = 1.0       # [cfs]; amount to adjust the discharge for each annual exceedance probability if the discharge does not increase with decreasing probability.\n",
    "Extrapolate = True    # True indicates that you want to extrapolate while False indicates that you want to only interpolate within the bounds of the minimum and maximum discharge for a specific CL. \n",
    "exclude_tails = True  # If True than the integration to calculate the mean curve only includes the area between the lower and upper confidence limits.\n",
    "\n",
    "## Stratified Sampler:\n",
    "min_val = 2     # The minimum recurrence interval\n",
    "max_val = 3000  # The maximum recurrence interval\n",
    "nbin = 100      # The number of recurrence intervals/annual exceedance probabilities "
   ]
  },
  {
   "cell_type": "markdown",
   "metadata": {},
   "source": [
    "#### Make directories if they do not exist:"
   ]
  },
  {
   "cell_type": "code",
   "execution_count": 4,
   "metadata": {},
   "outputs": [
    {
     "name": "stdout",
     "output_type": "stream",
     "text": [
      "C:\\Users\\sputnam\\Desktop\\MeanFFC\\Inputs - already exists\n",
      "C:\\Users\\sputnam\\Desktop\\MeanFFC\\Outputs - created\n",
      "C:\\Users\\sputnam\\Desktop\\MeanFFC\\Notebooks - created\n"
     ]
    }
   ],
   "source": [
    "dir_lst = [inputs_dir, outputs_dir, notebooks_dir]\n",
    "make_directories(dir_lst, verbose)"
   ]
  },
  {
   "cell_type": "markdown",
   "metadata": {},
   "source": [
    "---\n",
    "## Run Each Notebook:\n",
    "### 1) SSP to Mean Curve:\n",
    "#### Execute:"
   ]
  },
  {
   "cell_type": "markdown",
   "metadata": {},
   "source": [
    " "
   ]
  },
  {
   "cell_type": "code",
   "execution_count": 5,
   "metadata": {},
   "outputs": [
    {
     "data": {
      "application/vnd.jupyter.widget-view+json": {
       "model_id": "513c8ea746ef40bc99bedf654e9476d9",
       "version_major": 2,
       "version_minor": 0
      },
      "text/plain": [
       "HBox(children=(IntProgress(value=0, max=46), HTML(value='')))"
      ]
     },
     "metadata": {},
     "output_type": "display_data"
    },
    {
     "name": "stdout",
     "output_type": "stream",
     "text": [
      "\n"
     ]
    }
   ],
   "source": [
    "nb1_name = 'SSP_to_Mean_Curve'\n",
    "\n",
    "nb1_path = pl.Path(notebooks_dir/'{0}_{1}.ipynb'.format(nb1_name, gage_ID))\n",
    "\n",
    "nb1_parameters = {'gage_ID': gage_ID, 'inputs_dir': str(inputs_dir), 'outputs_dir': str(outputs_dir), 'version': version, 'max_cl': max_cl, \n",
    "                  'adj_flows': adj_flows, 'round_decimals': round_decimals, 'verbose': verbose, 'Extrapolate': Extrapolate, 'exclude_tails': exclude_tails}\n",
    "\n",
    "pm.execute_notebook('{0}.ipynb'.format(nb1_name), str(nb1_path), nb1_parameters);"
   ]
  },
  {
   "cell_type": "markdown",
   "metadata": {},
   "source": [
    "#### Display results:"
   ]
  },
  {
   "cell_type": "code",
   "execution_count": 6,
   "metadata": {},
   "outputs": [
    {
     "data": {
      "text/html": [
       "<div>\n",
       "<style scoped>\n",
       "    .dataframe tbody tr th:only-of-type {\n",
       "        vertical-align: middle;\n",
       "    }\n",
       "\n",
       "    .dataframe tbody tr th {\n",
       "        vertical-align: top;\n",
       "    }\n",
       "\n",
       "    .dataframe thead th {\n",
       "        text-align: right;\n",
       "    }\n",
       "</style>\n",
       "<table border=\"1\" class=\"dataframe\">\n",
       "  <thead>\n",
       "    <tr style=\"text-align: right;\">\n",
       "      <th></th>\n",
       "      <th>Q_Mean_cfs</th>\n",
       "      <th>Q_Median_cfs</th>\n",
       "    </tr>\n",
       "    <tr>\n",
       "      <th>AEP</th>\n",
       "      <th></th>\n",
       "      <th></th>\n",
       "    </tr>\n",
       "  </thead>\n",
       "  <tbody>\n",
       "    <tr>\n",
       "      <th>0.9</th>\n",
       "      <td>1431.9</td>\n",
       "      <td>1433.3</td>\n",
       "    </tr>\n",
       "    <tr>\n",
       "      <th>0.5</th>\n",
       "      <td>2095.3</td>\n",
       "      <td>2083.5</td>\n",
       "    </tr>\n",
       "  </tbody>\n",
       "</table>\n",
       "</div>"
      ],
      "text/plain": [
       "     Q_Mean_cfs  Q_Median_cfs\n",
       "AEP                          \n",
       "0.9      1431.9        1433.3\n",
       "0.5      2095.3        2083.5"
      ]
     },
     "metadata": {},
     "output_type": "display_data"
    }
   ],
   "source": [
    "nb1 = sb.read_notebook(str(nb1_path))\n",
    "\n",
    "mean_curve = format_mean_curve(nb1.scraps['mean_curve'][1], verbose)"
   ]
  },
  {
   "cell_type": "markdown",
   "metadata": {},
   "source": [
    "### 2) Stratified Sampler:\n",
    "#### Execute:"
   ]
  },
  {
   "cell_type": "code",
   "execution_count": 7,
   "metadata": {},
   "outputs": [
    {
     "data": {
      "application/vnd.jupyter.widget-view+json": {
       "model_id": "54e928e406de4da2b585711adede273d",
       "version_major": 2,
       "version_minor": 0
      },
      "text/plain": [
       "HBox(children=(IntProgress(value=0, max=16), HTML(value='')))"
      ]
     },
     "metadata": {},
     "output_type": "display_data"
    },
    {
     "name": "stdout",
     "output_type": "stream",
     "text": [
      "\n"
     ]
    }
   ],
   "source": [
    "nb2_name = 'Stratified_Sampler'\n",
    "\n",
    "nb2_path = pl.Path(notebooks_dir/'{0}_{1}.ipynb'.format(nb2_name, gage_ID))\n",
    "\n",
    "nb2_parameters = {'gage_ID': gage_ID, 'outputs_dir': str(outputs_dir), 'min_val': min_val, 'max_val': max_val, 'nbin': nbin, 'verbose': verbose}\n",
    "\n",
    "pm.execute_notebook('{0}.ipynb'.format(nb2_name), str(nb2_path), nb2_parameters);"
   ]
  },
  {
   "cell_type": "markdown",
   "metadata": {},
   "source": [
    "#### Display results:"
   ]
  },
  {
   "cell_type": "code",
   "execution_count": 8,
   "metadata": {},
   "outputs": [
    {
     "data": {
      "text/html": [
       "<div>\n",
       "<style scoped>\n",
       "    .dataframe tbody tr th:only-of-type {\n",
       "        vertical-align: middle;\n",
       "    }\n",
       "\n",
       "    .dataframe tbody tr th {\n",
       "        vertical-align: top;\n",
       "    }\n",
       "\n",
       "    .dataframe thead th {\n",
       "        text-align: right;\n",
       "    }\n",
       "</style>\n",
       "<table border=\"1\" class=\"dataframe\">\n",
       "  <thead>\n",
       "    <tr style=\"text-align: right;\">\n",
       "      <th></th>\n",
       "      <th>AEP</th>\n",
       "      <th>Weight</th>\n",
       "    </tr>\n",
       "  </thead>\n",
       "  <tbody>\n",
       "    <tr>\n",
       "      <th>E0001</th>\n",
       "      <td>0.482369</td>\n",
       "      <td>0.035594</td>\n",
       "    </tr>\n",
       "    <tr>\n",
       "      <th>E0002</th>\n",
       "      <td>0.448352</td>\n",
       "      <td>0.032774</td>\n",
       "    </tr>\n",
       "  </tbody>\n",
       "</table>\n",
       "</div>"
      ],
      "text/plain": [
       "            AEP    Weight\n",
       "E0001  0.482369  0.035594\n",
       "E0002  0.448352  0.032774"
      ]
     },
     "execution_count": 8,
     "metadata": {},
     "output_type": "execute_result"
    }
   ],
   "source": [
    "nb2 = sb.read_notebook(str(nb2_path))\n",
    "\n",
    "AEP_Weights = pd.DataFrame.from_dict(nb2.scraps['AEP_Weights'][1])\n",
    "\n",
    "AEP_Weights.head(2)"
   ]
  },
  {
   "cell_type": "markdown",
   "metadata": {},
   "source": [
    "### 3) Make Production Run List: \n",
    "#### Execute:"
   ]
  },
  {
   "cell_type": "code",
   "execution_count": 9,
   "metadata": {},
   "outputs": [
    {
     "data": {
      "application/vnd.jupyter.widget-view+json": {
       "model_id": "26342035028e4357a6bc9d656b561d58",
       "version_major": 2,
       "version_minor": 0
      },
      "text/plain": [
       "HBox(children=(IntProgress(value=0, max=20), HTML(value='')))"
      ]
     },
     "metadata": {},
     "output_type": "display_data"
    },
    {
     "name": "stdout",
     "output_type": "stream",
     "text": [
      "\n"
     ]
    }
   ],
   "source": [
    "nb3_name = 'Make_Production_Run_List'\n",
    "\n",
    "nb3_path = pl.Path(notebooks_dir/'{0}_{1}.ipynb'.format(nb3_name, gage_ID))\n",
    "\n",
    "nb3_parameters = {'gage_ID': gage_ID, 'outputs_dir': str(outputs_dir), 'round_decimals': round_decimals, \n",
    "                  'verbose': verbose, 'mean_curve': mean_curve.to_dict(), 'AEP_Weights': AEP_Weights.to_dict()}\n",
    "\n",
    "pm.execute_notebook('{0}.ipynb'.format(nb3_name), str(nb3_path), nb3_parameters);"
   ]
  },
  {
   "cell_type": "markdown",
   "metadata": {},
   "source": [
    "#### Display results:"
   ]
  },
  {
   "cell_type": "code",
   "execution_count": 10,
   "metadata": {},
   "outputs": [
    {
     "data": {
      "text/html": [
       "<div>\n",
       "<style scoped>\n",
       "    .dataframe tbody tr th:only-of-type {\n",
       "        vertical-align: middle;\n",
       "    }\n",
       "\n",
       "    .dataframe tbody tr th {\n",
       "        vertical-align: top;\n",
       "    }\n",
       "\n",
       "    .dataframe thead th {\n",
       "        text-align: right;\n",
       "    }\n",
       "</style>\n",
       "<table border=\"1\" class=\"dataframe\">\n",
       "  <thead>\n",
       "    <tr style=\"text-align: right;\">\n",
       "      <th></th>\n",
       "      <th>AEP</th>\n",
       "      <th>Q_Mean_cfs</th>\n",
       "      <th>Q_Median_cfs</th>\n",
       "      <th>RI</th>\n",
       "      <th>Weight</th>\n",
       "    </tr>\n",
       "  </thead>\n",
       "  <tbody>\n",
       "    <tr>\n",
       "      <th>E0001</th>\n",
       "      <td>0.482369</td>\n",
       "      <td>2127.0</td>\n",
       "      <td>2115.0</td>\n",
       "      <td>2.073100</td>\n",
       "      <td>0.035594</td>\n",
       "    </tr>\n",
       "    <tr>\n",
       "      <th>E0002</th>\n",
       "      <td>0.448352</td>\n",
       "      <td>2189.6</td>\n",
       "      <td>2177.4</td>\n",
       "      <td>2.230391</td>\n",
       "      <td>0.032774</td>\n",
       "    </tr>\n",
       "  </tbody>\n",
       "</table>\n",
       "</div>"
      ],
      "text/plain": [
       "            AEP  Q_Mean_cfs  Q_Median_cfs        RI    Weight\n",
       "E0001  0.482369      2127.0        2115.0  2.073100  0.035594\n",
       "E0002  0.448352      2189.6        2177.4  2.230391  0.032774"
      ]
     },
     "execution_count": 10,
     "metadata": {},
     "output_type": "execute_result"
    }
   ],
   "source": [
    "nb3 = sb.read_notebook(str(nb3_path))\n",
    "\n",
    "ProRunList = pd.DataFrame.from_dict(nb3.scraps['ProRunList'][1])\n",
    "\n",
    "ProRunList.head(2)"
   ]
  },
  {
   "cell_type": "markdown",
   "metadata": {},
   "source": [
    "---\n",
    "## Save the Results:"
   ]
  },
  {
   "cell_type": "code",
   "execution_count": 11,
   "metadata": {},
   "outputs": [
    {
     "name": "stderr",
     "output_type": "stream",
     "text": [
      "C:\\Users\\sputnam\\AppData\\Local\\Continuum\\anaconda3\\lib\\site-packages\\nbconvert\\filters\\datatypefilter.py:41: UserWarning: Your element with mimetype(s) dict_keys(['application/scrapbook.scrap.json+json']) is not able to be represented.\n",
      "  mimetypes=output.keys())\n",
      "C:\\Users\\sputnam\\AppData\\Local\\Continuum\\anaconda3\\lib\\site-packages\\nbconvert\\filters\\datatypefilter.py:41: UserWarning: Your element with mimetype(s) dict_keys(['application/vnd.plotly.v1+json']) is not able to be represented.\n",
      "  mimetypes=output.keys())\n",
      "C:\\Users\\sputnam\\AppData\\Local\\Continuum\\anaconda3\\lib\\site-packages\\nbconvert\\filters\\datatypefilter.py:41: UserWarning: Your element with mimetype(s) dict_keys(['application/scrapbook.scrap.json+json']) is not able to be represented.\n",
      "  mimetypes=output.keys())\n",
      "C:\\Users\\sputnam\\AppData\\Local\\Continuum\\anaconda3\\lib\\site-packages\\nbconvert\\filters\\datatypefilter.py:41: UserWarning: Your element with mimetype(s) dict_keys(['application/scrapbook.scrap.json+json']) is not able to be represented.\n",
      "  mimetypes=output.keys())\n"
     ]
    }
   ],
   "source": [
    "with pd.ExcelWriter(outputs_dir/'Sampler_Operation_{0}.xlsx'.format(gage_ID)) as writer:\n",
    "    mean_curve.to_excel(writer, sheet_name='Mean Curve') \n",
    "    AEP_Weights.to_excel(writer, sheet_name='AEP Weights')\n",
    "    ProRunList.to_excel(writer, sheet_name='Production Run List')\n",
    "    \n",
    "! jupyter nbconvert $nb1_path --log-level WARN\n",
    "! jupyter nbconvert $nb2_path --log-level WARN\n",
    "! jupyter nbconvert $nb3_path --log-level WARN"
   ]
  },
  {
   "cell_type": "markdown",
   "metadata": {},
   "source": [
    "---\n",
    "## End"
   ]
  }
 ],
 "metadata": {
  "kernelspec": {
   "display_name": "Python 3",
   "language": "python",
   "name": "python3"
  },
  "language_info": {
   "codemirror_mode": {
    "name": "ipython",
    "version": 3
   },
   "file_extension": ".py",
   "mimetype": "text/x-python",
   "name": "python",
   "nbconvert_exporter": "python",
   "pygments_lexer": "ipython3",
   "version": "3.7.1"
  }
 },
 "nbformat": 4,
 "nbformat_minor": 4
}
