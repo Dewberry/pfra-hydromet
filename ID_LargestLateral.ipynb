{
 "cells": [
  {
   "cell_type": "code",
   "execution_count": 1,
   "metadata": {},
   "outputs": [],
   "source": [
    "import json\n",
    "import pandas as pd\n",
    "import pathlib as pl"
   ]
  },
  {
   "cell_type": "code",
   "execution_count": 2,
   "metadata": {},
   "outputs": [],
   "source": [
    "Project_Area = 'Sacramento'\n",
    "root_dir = pl.Path(r'C:\\Users\\sputnam\\Desktop\\PFRA_Production\\Pluvial\\{0}'.format(Project_Area))\n",
    "outputs_dir = root_dir/'Outputs'"
   ]
  },
  {
   "cell_type": "code",
   "execution_count": 3,
   "metadata": {},
   "outputs": [
    {
     "name": "stdout",
     "output_type": "stream",
     "text": [
      "C:\\Users\\sputnam\\Desktop\\PFRA_Production\\Pluvial\\Sacramento\\Outputs\\Sacramento_P01_Forcing\\Sacramento_P01_D23.json\n",
      "C:\\Users\\sputnam\\Desktop\\PFRA_Production\\Pluvial\\Sacramento\\Outputs\\Sacramento_P01_Forcing\\Sacramento_P01_D24.json\n",
      "C:\\Users\\sputnam\\Desktop\\PFRA_Production\\Pluvial\\Sacramento\\Outputs\\Sacramento_P01_Forcing\\Sacramento_P01_D25.json\n",
      "C:\\Users\\sputnam\\Desktop\\PFRA_Production\\Pluvial\\Sacramento\\Outputs\\Sacramento_P01_Forcing\\Sacramento_P01_D26.json\n",
      "C:\\Users\\sputnam\\Desktop\\PFRA_Production\\Pluvial\\Sacramento\\Outputs\\Sacramento_P01_Forcing\\Sacramento_P01_D27.json\n",
      "C:\\Users\\sputnam\\Desktop\\PFRA_Production\\Pluvial\\Sacramento\\Outputs\\Sacramento_P01_Forcing\\Sacramento_P01_D28.json\n",
      "C:\\Users\\sputnam\\Desktop\\PFRA_Production\\Pluvial\\Sacramento\\Outputs\\Sacramento_P01_Forcing\\Sacramento_P01_D29.json\n",
      "C:\\Users\\sputnam\\Desktop\\PFRA_Production\\Pluvial\\Sacramento\\Outputs\\Sacramento_P01_Forcing\\Sacramento_P01_D30.json\n",
      "C:\\Users\\sputnam\\Desktop\\PFRA_Production\\Pluvial\\Sacramento\\Outputs\\Sacramento_P01_Forcing\\Sacramento_P01_D31.json\n",
      "C:\\Users\\sputnam\\Desktop\\PFRA_Production\\Pluvial\\Sacramento\\Outputs\\Sacramento_P01_Forcing\\Sacramento_P01_D32.json\n",
      "C:\\Users\\sputnam\\Desktop\\PFRA_Production\\Pluvial\\Sacramento\\Outputs\\Sacramento_P01_Forcing\\Sacramento_P01_D33.json\n",
      "C:\\Users\\sputnam\\Desktop\\PFRA_Production\\Pluvial\\Sacramento\\Outputs\\Sacramento_P01_Forcing\\Sacramento_P01_D34.json\n",
      "C:\\Users\\sputnam\\Desktop\\PFRA_Production\\Pluvial\\Sacramento\\Outputs\\Sacramento_P01_Forcing\\Sacramento_P01_D35.json\n",
      "C:\\Users\\sputnam\\Desktop\\PFRA_Production\\Pluvial\\Sacramento\\Outputs\\Sacramento_P02_Forcing\\Sacramento_P02_D01.json\n",
      "C:\\Users\\sputnam\\Desktop\\PFRA_Production\\Pluvial\\Sacramento\\Outputs\\Sacramento_P02_Forcing\\Sacramento_P02_D02.json\n",
      "C:\\Users\\sputnam\\Desktop\\PFRA_Production\\Pluvial\\Sacramento\\Outputs\\Sacramento_P02_Forcing\\Sacramento_P02_D03.json\n",
      "C:\\Users\\sputnam\\Desktop\\PFRA_Production\\Pluvial\\Sacramento\\Outputs\\Sacramento_P02_Forcing\\Sacramento_P02_D04.json\n",
      "C:\\Users\\sputnam\\Desktop\\PFRA_Production\\Pluvial\\Sacramento\\Outputs\\Sacramento_P02_Forcing\\Sacramento_P02_D05.json\n",
      "C:\\Users\\sputnam\\Desktop\\PFRA_Production\\Pluvial\\Sacramento\\Outputs\\Sacramento_P02_Forcing\\Sacramento_P02_D06.json\n",
      "C:\\Users\\sputnam\\Desktop\\PFRA_Production\\Pluvial\\Sacramento\\Outputs\\Sacramento_P02_Forcing\\Sacramento_P02_D07.json\n",
      "C:\\Users\\sputnam\\Desktop\\PFRA_Production\\Pluvial\\Sacramento\\Outputs\\Sacramento_P02_Forcing\\Sacramento_P02_D08.json\n",
      "C:\\Users\\sputnam\\Desktop\\PFRA_Production\\Pluvial\\Sacramento\\Outputs\\Sacramento_P02_Forcing\\Sacramento_P02_D09.json\n",
      "C:\\Users\\sputnam\\Desktop\\PFRA_Production\\Pluvial\\Sacramento\\Outputs\\Sacramento_P02_Forcing\\Sacramento_P02_D10.json\n",
      "C:\\Users\\sputnam\\Desktop\\PFRA_Production\\Pluvial\\Sacramento\\Outputs\\Sacramento_P02_Forcing\\Sacramento_P02_D11.json\n",
      "C:\\Users\\sputnam\\Desktop\\PFRA_Production\\Pluvial\\Sacramento\\Outputs\\Sacramento_P02_Forcing\\Sacramento_P02_D12.json\n",
      "C:\\Users\\sputnam\\Desktop\\PFRA_Production\\Pluvial\\Sacramento\\Outputs\\Sacramento_P02_Forcing\\Sacramento_P02_D13.json\n",
      "C:\\Users\\sputnam\\Desktop\\PFRA_Production\\Pluvial\\Sacramento\\Outputs\\Sacramento_P02_Forcing\\Sacramento_P02_D14.json\n",
      "C:\\Users\\sputnam\\Desktop\\PFRA_Production\\Pluvial\\Sacramento\\Outputs\\Sacramento_P02_Forcing\\Sacramento_P02_D15.json\n",
      "C:\\Users\\sputnam\\Desktop\\PFRA_Production\\Pluvial\\Sacramento\\Outputs\\Sacramento_P02_Forcing\\Sacramento_P02_D16.json\n",
      "C:\\Users\\sputnam\\Desktop\\PFRA_Production\\Pluvial\\Sacramento\\Outputs\\Sacramento_P02_Forcing\\Sacramento_P02_D17.json\n",
      "C:\\Users\\sputnam\\Desktop\\PFRA_Production\\Pluvial\\Sacramento\\Outputs\\Sacramento_P02_Forcing\\Sacramento_P02_D18.json\n",
      "C:\\Users\\sputnam\\Desktop\\PFRA_Production\\Pluvial\\Sacramento\\Outputs\\Sacramento_P02_Forcing\\Sacramento_P02_D19.json\n",
      "C:\\Users\\sputnam\\Desktop\\PFRA_Production\\Pluvial\\Sacramento\\Outputs\\Sacramento_P02_Forcing\\Sacramento_P02_D20.json\n",
      "C:\\Users\\sputnam\\Desktop\\PFRA_Production\\Pluvial\\Sacramento\\Outputs\\Sacramento_P02_Forcing\\Sacramento_P02_D21.json\n",
      "C:\\Users\\sputnam\\Desktop\\PFRA_Production\\Pluvial\\Sacramento\\Outputs\\Sacramento_P02_Forcing\\Sacramento_P02_D22.json\n",
      "C:\\Users\\sputnam\\Desktop\\PFRA_Production\\Pluvial\\Sacramento\\Outputs\\Sacramento_P03_Forcing\\Sacramento_P03_D36.json\n",
      "C:\\Users\\sputnam\\Desktop\\PFRA_Production\\Pluvial\\Sacramento\\Outputs\\Sacramento_P03_Forcing\\Sacramento_P03_D37.json\n",
      "C:\\Users\\sputnam\\Desktop\\PFRA_Production\\Pluvial\\Sacramento\\Outputs\\Sacramento_P03_Forcing\\Sacramento_P03_D38.json\n",
      "C:\\Users\\sputnam\\Desktop\\PFRA_Production\\Pluvial\\Sacramento\\Outputs\\Sacramento_P03_Forcing\\Sacramento_P03_D39.json\n",
      "C:\\Users\\sputnam\\Desktop\\PFRA_Production\\Pluvial\\Sacramento\\Outputs\\Sacramento_P03_Forcing\\Sacramento_P03_D40.json\n",
      "C:\\Users\\sputnam\\Desktop\\PFRA_Production\\Pluvial\\Sacramento\\Outputs\\Sacramento_P03_Forcing\\Sacramento_P03_D41.json\n",
      "C:\\Users\\sputnam\\Desktop\\PFRA_Production\\Pluvial\\Sacramento\\Outputs\\Sacramento_P03_Forcing\\Sacramento_P03_D42.json\n"
     ]
    }
   ],
   "source": [
    "forcing_files = []\n",
    "for f in outputs_dir.glob('**/*.json'):\n",
    "    if 'Forcing' in f.parent.stem:\n",
    "        forcing_files.append(f)\n",
    "        print(f)"
   ]
  },
  {
   "cell_type": "code",
   "execution_count": 4,
   "metadata": {},
   "outputs": [
    {
     "name": "stdout",
     "output_type": "stream",
     "text": [
      "For P01 D26 the event with no excess rainfall which has the largest lateral inflow peak is E1236 with 1832 cfs\n",
      "For P01 D29 the event with no excess rainfall which has the largest lateral inflow peak is E1237 with 478 cfs\n",
      "For P01 D30 the event with no excess rainfall which has the largest lateral inflow peak is E0098 with 976 cfs\n",
      "For P02 D10 the event with no excess rainfall which has the largest lateral inflow peak is E0140 with 4451 cfs\n",
      "For P02 D12 the event with no excess rainfall which has the largest lateral inflow peak is E0140 with 3209 cfs\n",
      "For P02 D15 the event with no excess rainfall which has the largest lateral inflow peak is E0232 with 4543 cfs\n",
      "For P02 D19 the event with no excess rainfall which has the largest lateral inflow peak is E0219 with 746 cfs\n",
      "For P02 D22 the event with no excess rainfall which has the largest lateral inflow peak is E0219 with 6653 cfs\n",
      "For P03 D37 the event with no excess rainfall which has the largest lateral inflow peak is E0197 with 2187 cfs\n",
      "For P03 D38 the event with no excess rainfall which has the largest lateral inflow peak is E0197 with 747 cfs\n",
      "For P03 D41 the event with no excess rainfall which has the largest lateral inflow peak is E0197 with 2314 cfs\n"
     ]
    }
   ],
   "source": [
    "models = []\n",
    "domains = []\n",
    "events = []\n",
    "\n",
    "for forcing_file in forcing_files:\n",
    "    _, Pluvial_Model, Domain =  forcing_file.stem.split('_')\n",
    "    \n",
    "    with open(forcing_file) as f:\n",
    "        f_dic = json.load(f)\n",
    "        \n",
    "    durs = list(f_dic.keys())\n",
    "    \n",
    "    bcns = list(f_dic[durs[0]]['BCName'].keys())\n",
    "    lbcns = [x for x in bcns if 'L' in x]\n",
    "              \n",
    "    if len(lbcns)!=0:\n",
    "        models.append(Pluvial_Model)\n",
    "        domains.append(Domain)\n",
    "        select_lbcn = lbcns[0]\n",
    "        abs_max = 0.0\n",
    "        for d in durs:\n",
    "            for k, v in f_dic[d]['BCName'][Domain].items():\n",
    "                if sum(v)==0:\n",
    "                    qmax = max(f_dic[d]['BCName'][select_lbcn][k])\n",
    "                    if abs_max <= qmax:\n",
    "                        abs_max = qmax\n",
    "                        select_event = k\n",
    "        events.append(select_event)            \n",
    "        print('For {0} {1} the event with no excess rainfall which has the largest lateral inflow peak is {2} with {3} cfs'.format(Pluvial_Model, Domain, select_event, int(abs_max)))"
   ]
  },
  {
   "cell_type": "code",
   "execution_count": 5,
   "metadata": {},
   "outputs": [
    {
     "data": {
      "text/html": [
       "<div>\n",
       "<style scoped>\n",
       "    .dataframe tbody tr th:only-of-type {\n",
       "        vertical-align: middle;\n",
       "    }\n",
       "\n",
       "    .dataframe tbody tr th {\n",
       "        vertical-align: top;\n",
       "    }\n",
       "\n",
       "    .dataframe thead th {\n",
       "        text-align: right;\n",
       "    }\n",
       "</style>\n",
       "<table border=\"1\" class=\"dataframe\">\n",
       "  <thead>\n",
       "    <tr style=\"text-align: right;\">\n",
       "      <th></th>\n",
       "      <th>Domain</th>\n",
       "      <th>Event</th>\n",
       "    </tr>\n",
       "    <tr>\n",
       "      <th>Model</th>\n",
       "      <th></th>\n",
       "      <th></th>\n",
       "    </tr>\n",
       "  </thead>\n",
       "  <tbody>\n",
       "    <tr>\n",
       "      <th>P01</th>\n",
       "      <td>D26</td>\n",
       "      <td>E1236</td>\n",
       "    </tr>\n",
       "    <tr>\n",
       "      <th>P01</th>\n",
       "      <td>D29</td>\n",
       "      <td>E1237</td>\n",
       "    </tr>\n",
       "    <tr>\n",
       "      <th>P01</th>\n",
       "      <td>D30</td>\n",
       "      <td>E0098</td>\n",
       "    </tr>\n",
       "    <tr>\n",
       "      <th>P02</th>\n",
       "      <td>D10</td>\n",
       "      <td>E0140</td>\n",
       "    </tr>\n",
       "    <tr>\n",
       "      <th>P02</th>\n",
       "      <td>D12</td>\n",
       "      <td>E0140</td>\n",
       "    </tr>\n",
       "  </tbody>\n",
       "</table>\n",
       "</div>"
      ],
      "text/plain": [
       "      Domain  Event\n",
       "Model              \n",
       "P01      D26  E1236\n",
       "P01      D29  E1237\n",
       "P01      D30  E0098\n",
       "P02      D10  E0140\n",
       "P02      D12  E0140"
      ]
     },
     "execution_count": 5,
     "metadata": {},
     "output_type": "execute_result"
    }
   ],
   "source": [
    "df = pd.DataFrame()\n",
    "df['Model'] = models\n",
    "df['Domain'] = domains\n",
    "df ['Event'] = events\n",
    "df = df.set_index('Model')\n",
    "df.to_csv(outputs_dir/'{0}_Events_LargestLat.csv'.format(Project_Area))\n",
    "df.head()"
   ]
  },
  {
   "cell_type": "markdown",
   "metadata": {},
   "source": [
    "---\n",
    "## End"
   ]
  }
 ],
 "metadata": {
  "kernelspec": {
   "display_name": "Python 3",
   "language": "python",
   "name": "python3"
  },
  "language_info": {
   "codemirror_mode": {
    "name": "ipython",
    "version": 3
   },
   "file_extension": ".py",
   "mimetype": "text/x-python",
   "name": "python",
   "nbconvert_exporter": "python",
   "pygments_lexer": "ipython3",
   "version": "3.7.1"
  }
 },
 "nbformat": 4,
 "nbformat_minor": 4
}
