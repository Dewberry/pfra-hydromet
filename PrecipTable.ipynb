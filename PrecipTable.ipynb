{
 "cells": [
  {
   "cell_type": "markdown",
   "metadata": {},
   "source": [
    "# Precipitation Frequency Table\n",
    "\n",
    "__Description__: Auto-retrieve [NOAA Atlas 14](https://hdsc.nws.noaa.gov/hdsc/pfds/pfds_gis.html) precipitation statistics from [FTP](ftp://hdsc.nws.noaa.gov/pub/hdsc/data/) and calcualte the area-averaged precipitation frequency table for the area of interest (AOI).\n",
    "\n",
    "__Input__: A vector polygon of the AOI and the durations of interest.\n",
    "\n",
    "__Output__: A spreadsheet with sheets for each duration and a sheet with the NOAA Atlas 14 volume and region numbers. For each duration, the sheet contains a table with area-averaged precipitation and confidence limits. \n",
    "\n",
    "---"
   ]
  },
  {
   "cell_type": "markdown",
   "metadata": {},
   "source": [
    "## Load Libraries, Parameters, and Data:"
   ]
  },
  {
   "cell_type": "markdown",
   "metadata": {},
   "source": [
    "### Libraries:"
   ]
  },
  {
   "cell_type": "code",
   "execution_count": 1,
   "metadata": {
    "collapsed": true
   },
   "outputs": [],
   "source": [
    "import sys\n",
    "sys.path.append('core')\n",
    "from hydromet import*"
   ]
  },
  {
   "cell_type": "markdown",
   "metadata": {},
   "source": [
    "### Parameters: "
   ]
  },
  {
   "cell_type": "markdown",
   "metadata": {},
   "source": [
    "#### Papermill (site specific):"
   ]
  },
  {
   "cell_type": "code",
   "execution_count": 2,
   "metadata": {},
   "outputs": [],
   "source": [
    "## Filenames:\n",
    "Project_Area = 'Sacramento'\n",
    "Pluvial_Model = 'P02'          \n",
    "BCN = 'D15'  \n",
    "\n",
    "polygon = 'PluvialDomain_V5.shp' # Name\n",
    "filter_field = 'Pluvial_Do'          # Attribute with in the vector polygon used for data selection\n",
    "select_data = BCN              # Value within the filter_field used for data selection\n",
    "gdf_slice_column = 'Pluvial_Do'       # Column within the vector polygon to plot\n",
    "\n",
    "brute_force_projection = '+proj=lcc +lat_1=39.83333333333334 +lat_2=38.33333333333334 +lat_0=37.66666666666666 +lon_0=-122 +x_0=2000000.0001016 +y_0=500000.0001016001 +ellps=GRS80 +towgs84=0,0,0,0,0,0,0 +units=us-ft +no_defs'\n",
    "\n",
    "## Paths:\n",
    "root_dir =  pl.Path(r'C:\\Users\\sputnam\\Desktop\\PFRA_Production\\Sacramento')\n",
    "#root_dir = pl.Path(os.getcwd())\n",
    "datarepository_dir = pl.Path(os.getcwd())/'DataRepository'\n",
    "#datarepository_dir = root_dir/'DataRepository'\n",
    "polygon_dir = root_dir/'Inputs'/polygon\n",
    "outputs_dir = root_dir/'Outputs'"
   ]
  },
  {
   "cell_type": "markdown",
   "metadata": {},
   "source": [
    "##### Convert all paths to objects:"
   ]
  },
  {
   "cell_type": "code",
   "execution_count": 3,
   "metadata": {},
   "outputs": [],
   "source": [
    "datarepository_dir = pl.Path(datarepository_dir)\n",
    "polygon_dir = pl.Path(polygon_dir)\n",
    "outputs_dir = pl.Path(outputs_dir)"
   ]
  },
  {
   "cell_type": "markdown",
   "metadata": {},
   "source": [
    "#### Global (project specific):"
   ]
  },
  {
   "cell_type": "code",
   "execution_count": 4,
   "metadata": {},
   "outputs": [],
   "source": [
    "noaa_data_crs = {'init':'epsg:4326'} \n",
    "\n",
    "durations = ['06h', '12h', '24h', '04d'] \n",
    "dur_names = ['6hr', '12hr', '24hr', '96hr']\n",
    "\n",
    "vol_code_filename = 'NOAA_Atlas_Volume_Codes.json'\n",
    "Temporal_area_filename = 'NOAA_Temporal_Areas_US.geojson'\n",
    "\n",
    "verbose = True"
   ]
  },
  {
   "cell_type": "markdown",
   "metadata": {},
   "source": [
    "## Read Vector Polygon:"
   ]
  },
  {
   "cell_type": "markdown",
   "metadata": {},
   "source": [
    "### Load as a geodataframe:"
   ]
  },
  {
   "cell_type": "code",
   "execution_count": 5,
   "metadata": {},
   "outputs": [
    {
     "data": {
      "text/html": [
       "<div>\n",
       "<style scoped>\n",
       "    .dataframe tbody tr th:only-of-type {\n",
       "        vertical-align: middle;\n",
       "    }\n",
       "\n",
       "    .dataframe tbody tr th {\n",
       "        vertical-align: top;\n",
       "    }\n",
       "\n",
       "    .dataframe thead th {\n",
       "        text-align: right;\n",
       "    }\n",
       "</style>\n",
       "<table border=\"1\" class=\"dataframe\">\n",
       "  <thead>\n",
       "    <tr style=\"text-align: right;\">\n",
       "      <th></th>\n",
       "      <th>OBJECTID</th>\n",
       "      <th>HUC12</th>\n",
       "      <th>NAME_1</th>\n",
       "      <th>PTS</th>\n",
       "      <th>Company</th>\n",
       "      <th>cordinate</th>\n",
       "      <th>area</th>\n",
       "      <th>Model_Area</th>\n",
       "      <th>Modeler_Na</th>\n",
       "      <th>DA</th>\n",
       "      <th>Pluvial_Do</th>\n",
       "      <th>Pluvial_Mo</th>\n",
       "      <th>geometry</th>\n",
       "    </tr>\n",
       "  </thead>\n",
       "  <tbody>\n",
       "    <tr>\n",
       "      <th>0</th>\n",
       "      <td>11</td>\n",
       "      <td>180201630302</td>\n",
       "      <td>Tule Canal-Toe Drain</td>\n",
       "      <td>STARRII</td>\n",
       "      <td>Dewberry</td>\n",
       "      <td>PROJCS[\"North_America_Albers_Equal_Area_Conic\"...</td>\n",
       "      <td>200000.0</td>\n",
       "      <td>1</td>\n",
       "      <td>Seth Bradley</td>\n",
       "      <td>82.709280</td>\n",
       "      <td>D14</td>\n",
       "      <td>P02</td>\n",
       "      <td>POLYGON ((6667253.745535955 2008677.719047442,...</td>\n",
       "    </tr>\n",
       "    <tr>\n",
       "      <th>1</th>\n",
       "      <td>23</td>\n",
       "      <td>180201110302</td>\n",
       "      <td>Arcade Creek</td>\n",
       "      <td>STARRII</td>\n",
       "      <td>Dewberry</td>\n",
       "      <td>PROJCS[\"North_America_Albers_Equal_Area_Conic\"...</td>\n",
       "      <td>70000.0</td>\n",
       "      <td>7</td>\n",
       "      <td>Matt Deshotel</td>\n",
       "      <td>48.183988</td>\n",
       "      <td>D26</td>\n",
       "      <td>P01</td>\n",
       "      <td>POLYGON ((6737850.961454228 1997428.366811171,...</td>\n",
       "    </tr>\n",
       "  </tbody>\n",
       "</table>\n",
       "</div>"
      ],
      "text/plain": [
       "   OBJECTID         HUC12                NAME_1      PTS   Company  \\\n",
       "0        11  180201630302  Tule Canal-Toe Drain  STARRII  Dewberry   \n",
       "1        23  180201110302          Arcade Creek  STARRII  Dewberry   \n",
       "\n",
       "                                           cordinate      area  Model_Area  \\\n",
       "0  PROJCS[\"North_America_Albers_Equal_Area_Conic\"...  200000.0           1   \n",
       "1  PROJCS[\"North_America_Albers_Equal_Area_Conic\"...   70000.0           7   \n",
       "\n",
       "      Modeler_Na         DA Pluvial_Do Pluvial_Mo  \\\n",
       "0   Seth Bradley  82.709280        D14        P02   \n",
       "1  Matt Deshotel  48.183988        D26        P01   \n",
       "\n",
       "                                            geometry  \n",
       "0  POLYGON ((6667253.745535955 2008677.719047442,...  \n",
       "1  POLYGON ((6737850.961454228 1997428.366811171,...  "
      ]
     },
     "execution_count": 5,
     "metadata": {},
     "output_type": "execute_result"
    }
   ],
   "source": [
    "gdf = gpd.GeoDataFrame.from_file(polygon_dir)\n",
    "\n",
    "gdf.head(2)"
   ]
  },
  {
   "cell_type": "markdown",
   "metadata": {},
   "source": [
    "### Determine projection:\n",
    "- If a projection cannot be determined automatically, search for the projection using the EPSG number on the following website: https://www.spatialreference.org/, select 'Proj4', and copy and paste the string above, setting it equal to brute_force_projection. Rerun the cell with the brute_force_projection string and the cell below."
   ]
  },
  {
   "cell_type": "code",
   "execution_count": 6,
   "metadata": {},
   "outputs": [
    {
     "name": "stdout",
     "output_type": "stream",
     "text": [
      "Original Coordinate Reference System: {'init': 'epsg:2226'}\n",
      "Error: Setting projection as +proj=lcc +lat_1=39.83333333333334 +lat_2=38.33333333333334 +lat_0=37.66666666666666 +lon_0=-122 +x_0=2000000.0001016 +y_0=500000.0001016001 +ellps=GRS80 +towgs84=0,0,0,0,0,0,0 +units=us-ft +no_defs\n"
     ]
    }
   ],
   "source": [
    "print('Original Coordinate Reference System:', gdf.crs)\n",
    "with fiona.collection(polygon_dir, 'r') as layer:\n",
    "    try:\n",
    "        vector_crs_prj = Proj(layer.crs).srs\n",
    "        if 'epsg' in vector_crs_prj: \n",
    "            raise KeyboardInterrupt\n",
    "        else: \n",
    "            print('Vector Layer crs = {}'.format(vector_crs_prj))\n",
    "        \n",
    "    except:\n",
    "        assert brute_force_projection!= None, 'Need to specify projection'\n",
    "        vector_crs_prj = brute_force_projection\n",
    "        print('Error: Setting projection as {}'.format(brute_force_projection))"
   ]
  },
  {
   "cell_type": "markdown",
   "metadata": {},
   "source": [
    "### Extract the area of interest, reproject, and plot:"
   ]
  },
  {
   "cell_type": "code",
   "execution_count": 7,
   "metadata": {},
   "outputs": [
    {
     "data": {
      "image/png": "[encoded data removed]",
      "text/plain": [
       "<Figure size 720x1008 with 1 Axes>"
      ]
     },
     "metadata": {
      "needs_background": "light"
     },
     "output_type": "display_data"
    }
   ],
   "source": [
    "gdf = gdf.loc[gdf[filter_field] == select_data].copy()\n",
    "    \n",
    "gdf.crs = vector_crs_prj\n",
    "\n",
    "geo_df = gdf.to_crs(crs = noaa_data_crs)\n",
    "\n",
    "plot_area_of_interest(geo_df, select_data, gdf_slice_column)"
   ]
  },
  {
   "cell_type": "markdown",
   "metadata": {},
   "source": [
    "## Identify the NOAA Atlas 14 Volume Code:"
   ]
  },
  {
   "cell_type": "markdown",
   "metadata": {},
   "source": [
    "### Determine the volume and region numbers:"
   ]
  },
  {
   "cell_type": "code",
   "execution_count": 8,
   "metadata": {},
   "outputs": [
    {
     "name": "stdout",
     "output_type": "stream",
     "text": [
      "Volume           6\n",
      "Region           5\n",
      "Percent_area     100.0\n"
     ]
    },
    {
     "data": {
      "image/png": "[encoded data removed]",
      "text/plain": [
       "<Figure size 720x1008 with 1 Axes>"
      ]
     },
     "metadata": {
      "needs_background": "light"
     },
     "output_type": "display_data"
    }
   ],
   "source": [
    "volume_dict, intersection_gdf = intersect_temporal_areas(geo_df, datarepository_dir, Temporal_area_filename, alldata=True)\n",
    "\n",
    "plot_aoi_noaa_intersection(intersection_gdf, select_data)\n",
    "\n",
    "volume = volume_dict['Volume']"
   ]
  },
  {
   "cell_type": "markdown",
   "metadata": {},
   "source": [
    "### Load Atlas 14 volume code from json:"
   ]
  },
  {
   "cell_type": "code",
   "execution_count": 9,
   "metadata": {},
   "outputs": [
    {
     "name": "stdout",
     "output_type": "stream",
     "text": [
      "NOAA Atlas 14 Volume Code: sw\n"
     ]
    }
   ],
   "source": [
    "vol_code = get_volume_code(datarepository_dir, vol_code_filename, volume)"
   ]
  },
  {
   "cell_type": "markdown",
   "metadata": {},
   "source": [
    "## Retrieve the Precipitation Frequency Data:"
   ]
  },
  {
   "cell_type": "markdown",
   "metadata": {},
   "source": [
    "### Get list of zip files:"
   ]
  },
  {
   "cell_type": "code",
   "execution_count": 10,
   "metadata": {},
   "outputs": [
    {
     "name": "stdout",
     "output_type": "stream",
     "text": [
      "30 files found for 06h\n",
      "30 files found for 12h\n",
      "30 files found for 24h\n",
      "30 files found for 04d\n"
     ]
    }
   ],
   "source": [
    "noaa_url = 'ftp://hdsc.nws.noaa.gov/pub/hdsc/data/{}/'.format(vol_code)\n",
    "\n",
    "req = urllib.request.Request(noaa_url)\n",
    "data = urllib.request.urlopen(req).read().decode().split()\n",
    "\n",
    "copy_zips = []\n",
    "for duration in durations:\n",
    "    zips = [d for d in data if ('.zip' in d) and ('{}'.format(duration) in d) and ('ams' not in d)]\n",
    "    copy_zips.append(zips)\n",
    "    if verbose: print('{} files found for {}'.format(len(zips), duration))\n",
    "\n",
    "all_zips_list = list(np.array(copy_zips).flat)"
   ]
  },
  {
   "cell_type": "markdown",
   "metadata": {},
   "source": [
    "### Iterate through zip files and build a table:"
   ]
  },
  {
   "cell_type": "code",
   "execution_count": 11,
   "metadata": {},
   "outputs": [
    {
     "name": "stdout",
     "output_type": "stream",
     "text": [
      "0 sw1000yr06ha.zip\n",
      "1 sw1000yr06hal.zip\n",
      "2 sw1000yr06hau.zip\n",
      "3 sw100yr06ha.zip\n",
      "4 sw100yr06hal.zip\n",
      "5 sw100yr06hau.zip\n",
      "6 sw10yr06ha.zip\n",
      "7 sw10yr06hal.zip\n",
      "8 sw10yr06hau.zip\n",
      "9 sw1yr06ha.zip\n",
      "10 sw1yr06hal.zip\n",
      "11 sw1yr06hau.zip\n",
      "12 sw200yr06ha.zip\n",
      "13 sw200yr06hal.zip\n",
      "14 sw200yr06hau.zip\n",
      "15 sw25yr06ha.zip\n",
      "16 sw25yr06hal.zip\n",
      "17 sw25yr06hau.zip\n",
      "18 sw2yr06ha.zip\n",
      "19 sw2yr06hal.zip\n",
      "20 sw2yr06hau.zip\n",
      "21 sw500yr06ha.zip\n",
      "22 sw500yr06hal.zip\n",
      "23 sw500yr06hau.zip\n",
      "24 sw50yr06ha.zip\n",
      "25 sw50yr06hal.zip\n",
      "26 sw50yr06hau.zip\n",
      "27 sw5yr06ha.zip\n",
      "28 sw5yr06hal.zip\n",
      "29 sw5yr06hau.zip\n",
      "30 sw1000yr12ha.zip\n",
      "31 sw1000yr12hal.zip\n",
      "32 sw1000yr12hau.zip\n",
      "33 sw100yr12ha.zip\n",
      "34 sw100yr12hal.zip\n",
      "35 sw100yr12hau.zip\n",
      "36 sw10yr12ha.zip\n",
      "37 sw10yr12hal.zip\n",
      "38 sw10yr12hau.zip\n",
      "39 sw1yr12ha.zip\n",
      "40 sw1yr12hal.zip\n",
      "41 sw1yr12hau.zip\n",
      "42 sw200yr12ha.zip\n",
      "43 sw200yr12hal.zip\n",
      "44 sw200yr12hau.zip\n",
      "45 sw25yr12ha.zip\n",
      "46 sw25yr12hal.zip\n",
      "47 sw25yr12hau.zip\n",
      "48 sw2yr12ha.zip\n",
      "49 sw2yr12hal.zip\n",
      "50 sw2yr12hau.zip\n",
      "51 sw500yr12ha.zip\n",
      "52 sw500yr12hal.zip\n",
      "53 sw500yr12hau.zip\n",
      "54 sw50yr12ha.zip\n",
      "55 sw50yr12hal.zip\n",
      "56 sw50yr12hau.zip\n",
      "57 sw5yr12ha.zip\n",
      "58 sw5yr12hal.zip\n",
      "59 sw5yr12hau.zip\n",
      "60 sw1000yr24ha.zip\n",
      "61 sw1000yr24hal.zip\n",
      "62 sw1000yr24hau.zip\n",
      "63 sw100yr24ha.zip\n",
      "64 sw100yr24hal.zip\n",
      "65 sw100yr24hau.zip\n",
      "66 sw10yr24ha.zip\n",
      "67 sw10yr24hal.zip\n",
      "68 sw10yr24hau.zip\n",
      "69 sw1yr24ha.zip\n",
      "70 sw1yr24hal.zip\n",
      "71 sw1yr24hau.zip\n",
      "72 sw200yr24ha.zip\n",
      "73 sw200yr24hal.zip\n",
      "74 sw200yr24hau.zip\n",
      "75 sw25yr24ha.zip\n",
      "76 sw25yr24hal.zip\n",
      "77 sw25yr24hau.zip\n",
      "78 sw2yr24ha.zip\n",
      "79 sw2yr24hal.zip\n",
      "80 sw2yr24hau.zip\n",
      "81 sw500yr24ha.zip\n",
      "82 sw500yr24hal.zip\n",
      "83 sw500yr24hau.zip\n",
      "84 sw50yr24ha.zip\n",
      "85 sw50yr24hal.zip\n",
      "86 sw50yr24hau.zip\n",
      "87 sw5yr24ha.zip\n",
      "88 sw5yr24hal.zip\n",
      "89 sw5yr24hau.zip\n",
      "90 sw1000yr04da.zip\n",
      "91 sw1000yr04dal.zip\n",
      "92 sw1000yr04dau.zip\n",
      "93 sw100yr04da.zip\n",
      "94 sw100yr04dal.zip\n",
      "95 sw100yr04dau.zip\n",
      "96 sw10yr04da.zip\n",
      "97 sw10yr04dal.zip\n",
      "98 sw10yr04dau.zip\n",
      "99 sw1yr04da.zip\n",
      "100 sw1yr04dal.zip\n",
      "101 sw1yr04dau.zip\n",
      "102 sw200yr04da.zip\n",
      "103 sw200yr04dal.zip\n",
      "104 sw200yr04dau.zip\n",
      "105 sw25yr04da.zip\n",
      "106 sw25yr04dal.zip\n",
      "107 sw25yr04dau.zip\n",
      "108 sw2yr04da.zip\n",
      "109 sw2yr04dal.zip\n",
      "110 sw2yr04dau.zip\n",
      "111 sw500yr04da.zip\n",
      "112 sw500yr04dal.zip\n",
      "113 sw500yr04dau.zip\n",
      "114 sw50yr04da.zip\n",
      "115 sw50yr04dal.zip\n",
      "116 sw50yr04dau.zip\n",
      "117 sw5yr04da.zip\n",
      "118 sw5yr04dal.zip\n",
      "119 sw5yr04dau.zip\n",
      "141 Seconds\n"
     ]
    },
    {
     "data": {
      "text/html": [
       "<div>\n",
       "<style scoped>\n",
       "    .dataframe tbody tr th:only-of-type {\n",
       "        vertical-align: middle;\n",
       "    }\n",
       "\n",
       "    .dataframe tbody tr th {\n",
       "        vertical-align: top;\n",
       "    }\n",
       "\n",
       "    .dataframe thead th {\n",
       "        text-align: right;\n",
       "    }\n",
       "</style>\n",
       "<table border=\"1\" class=\"dataframe\">\n",
       "  <thead>\n",
       "    <tr style=\"text-align: right;\">\n",
       "      <th></th>\n",
       "      <th>TR</th>\n",
       "      <th>duration</th>\n",
       "      <th>region</th>\n",
       "      <th>statistic</th>\n",
       "      <th>value</th>\n",
       "    </tr>\n",
       "  </thead>\n",
       "  <tbody>\n",
       "    <tr>\n",
       "      <th>0</th>\n",
       "      <td>1000</td>\n",
       "      <td>06h</td>\n",
       "      <td>sw</td>\n",
       "      <td>Expected Value</td>\n",
       "      <td>4.012479</td>\n",
       "    </tr>\n",
       "    <tr>\n",
       "      <th>1</th>\n",
       "      <td>1000</td>\n",
       "      <td>06h</td>\n",
       "      <td>sw</td>\n",
       "      <td>Lower (90%)</td>\n",
       "      <td>2.841729</td>\n",
       "    </tr>\n",
       "    <tr>\n",
       "      <th>2</th>\n",
       "      <td>1000</td>\n",
       "      <td>06h</td>\n",
       "      <td>sw</td>\n",
       "      <td>Upper (90%)</td>\n",
       "      <td>5.722854</td>\n",
       "    </tr>\n",
       "    <tr>\n",
       "      <th>3</th>\n",
       "      <td>100</td>\n",
       "      <td>06h</td>\n",
       "      <td>sw</td>\n",
       "      <td>Expected Value</td>\n",
       "      <td>2.828250</td>\n",
       "    </tr>\n",
       "    <tr>\n",
       "      <th>4</th>\n",
       "      <td>100</td>\n",
       "      <td>06h</td>\n",
       "      <td>sw</td>\n",
       "      <td>Lower (90%)</td>\n",
       "      <td>2.268729</td>\n",
       "    </tr>\n",
       "  </tbody>\n",
       "</table>\n",
       "</div>"
      ],
      "text/plain": [
       "     TR duration region       statistic     value\n",
       "0  1000      06h     sw  Expected Value  4.012479\n",
       "1  1000      06h     sw     Lower (90%)  2.841729\n",
       "2  1000      06h     sw     Upper (90%)  5.722854\n",
       "3   100      06h     sw  Expected Value  2.828250\n",
       "4   100      06h     sw     Lower (90%)  2.268729"
      ]
     },
     "metadata": {},
     "output_type": "display_data"
    },
    {
     "name": "stdout",
     "output_type": "stream",
     "text": [
      "None\n"
     ]
    }
   ],
   "source": [
    "df = build_precip_table(geo_df, all_zips_list, noaa_url, vol_code, 10, verbose) #The integer is the number of times to attempt getting the file from ftp"
   ]
  },
  {
   "cell_type": "markdown",
   "metadata": {},
   "source": [
    "## Save the Results to an Excel Workbook:"
   ]
  },
  {
   "cell_type": "markdown",
   "metadata": {},
   "source": [
    "### Create an outputs directory:"
   ]
  },
  {
   "cell_type": "code",
   "execution_count": 12,
   "metadata": {},
   "outputs": [],
   "source": [
    "if not os.path.isdir(outputs_dir):\n",
    "    os.mkdir(outputs_dir)"
   ]
  },
  {
   "cell_type": "markdown",
   "metadata": {},
   "source": [
    "### Save:"
   ]
  },
  {
   "cell_type": "code",
   "execution_count": 13,
   "metadata": {},
   "outputs": [
    {
     "name": "stdout",
     "output_type": "stream",
     "text": [
      "      Expected Value  Lower (90%)  Upper (90%)\n",
      "Tr                                            \n",
      "1           0.996583     0.893458     1.123021\n",
      "2           1.234750     1.105063     1.393292\n",
      "5           1.556979     1.388979     1.762979\n",
      "10          1.827813     1.614375     2.090667\n",
      "25          2.208563     1.872417     2.631604\n",
      "50          2.511500     2.075333     3.069958\n",
      "100         2.828250     2.268729     3.561208\n",
      "200         3.164104     2.453792     4.120875\n",
      "500         3.634729     2.682021     4.975854\n",
      "1000        4.012479     2.841729     5.722854\n",
      "      Expected Value  Lower (90%)  Upper (90%)\n",
      "Tr                                            \n",
      "1           1.336938     1.198438     1.506458\n",
      "2           1.672688     1.497167     1.887500\n",
      "5           2.120521     1.891667     2.400979\n",
      "10          2.491396     2.200417     2.849542\n",
      "25          3.004583     2.547188     3.579938\n",
      "50          3.406292     2.814854     4.163750\n",
      "100         3.820625     3.064896     4.810833\n",
      "200         4.253687     3.298979     5.540250\n",
      "500         4.850854     3.579271     6.640688\n",
      "1000        5.322396     3.769313     7.591292\n",
      "      Expected Value  Lower (90%)  Upper (90%)\n",
      "Tr                                            \n",
      "1           1.765104     1.599417     1.987750\n",
      "2           2.229563     2.018146     2.513250\n",
      "5           2.843083     2.567917     3.212063\n",
      "10          3.346688     3.002604     3.806563\n",
      "25          4.036604     3.523146     4.719437\n",
      "50          4.571625     3.921333     5.438667\n",
      "100         5.119063     4.302313     6.215167\n",
      "200         5.686792     4.668833     7.068000\n",
      "500         6.462813     5.123542     8.318271\n",
      "1000        7.069896     5.443854     9.369271\n",
      "      Expected Value  Lower (90%)  Upper (90%)\n",
      "Tr                                            \n",
      "1           2.807063     2.543604     3.161083\n",
      "2           3.557729     3.220479     4.010417\n",
      "5           4.542917     4.103229     5.132333\n",
      "10          5.345833     4.796104     6.080188\n",
      "25          6.436937     5.618167     7.525583\n",
      "50          7.276208     6.241000     8.656104\n",
      "100         8.129479     6.832438     9.870292\n",
      "200         9.008896     7.396167    11.197083\n",
      "500        10.201646     8.087813    13.130729\n",
      "1000       11.127958     8.568354    14.747333\n",
      "\n",
      "NOAA_Atlas_MetaData:\n"
     ]
    },
    {
     "data": {
      "text/html": [
       "<div>\n",
       "<style scoped>\n",
       "    .dataframe tbody tr th:only-of-type {\n",
       "        vertical-align: middle;\n",
       "    }\n",
       "\n",
       "    .dataframe tbody tr th {\n",
       "        vertical-align: top;\n",
       "    }\n",
       "\n",
       "    .dataframe thead th {\n",
       "        text-align: right;\n",
       "    }\n",
       "</style>\n",
       "<table border=\"1\" class=\"dataframe\">\n",
       "  <thead>\n",
       "    <tr style=\"text-align: right;\">\n",
       "      <th></th>\n",
       "      <th>Volume</th>\n",
       "      <th>Region</th>\n",
       "      <th>Percent_area</th>\n",
       "    </tr>\n",
       "    <tr>\n",
       "      <th>AOI</th>\n",
       "      <th></th>\n",
       "      <th></th>\n",
       "      <th></th>\n",
       "    </tr>\n",
       "  </thead>\n",
       "  <tbody>\n",
       "    <tr>\n",
       "      <th>Pluvial_Do_D15</th>\n",
       "      <td>6</td>\n",
       "      <td>5</td>\n",
       "      <td>100.0</td>\n",
       "    </tr>\n",
       "  </tbody>\n",
       "</table>\n",
       "</div>"
      ],
      "text/plain": [
       "               Volume  Region  Percent_area\n",
       "AOI                                        \n",
       "Pluvial_Do_D15      6       5         100.0"
      ]
     },
     "metadata": {},
     "output_type": "display_data"
    }
   ],
   "source": [
    "writer = pd.ExcelWriter(outputs_dir/'{0}_{1}_{2}_PrecipTable.xlsx'.format(Project_Area, Pluvial_Model, BCN))\n",
    "\n",
    "for i, d in enumerate(durations):\n",
    "    table = pd.pivot_table(df[df['duration'] == d], values = 'value', index=['TR'], columns=['statistic'])\n",
    "    table.index.name = 'Tr'\n",
    "    table.columns.name = None\n",
    "    table = table.sort_values(by = ['Expected Value'])\n",
    "    table.to_excel(writer, sheet_name = 'AreaDepths_{}'.format(dur_names[i]))\n",
    "    print(table)\n",
    "\n",
    "metadata = pd.DataFrame.from_dict([volume_dict])\n",
    "metadata['AOI'] = str(filter_field) + '_' + str(select_data)\n",
    "metadata = metadata.set_index('AOI')\n",
    "metadata.to_excel(writer, sheet_name = 'NOAA_Atlas_MetaData')\n",
    "print('\\nNOAA_Atlas_MetaData:')\n",
    "display(metadata)\n",
    "    \n",
    "writer.save()"
   ]
  },
  {
   "cell_type": "markdown",
   "metadata": {},
   "source": [
    "---"
   ]
  }
 ],
 "metadata": {
  "kernelspec": {
   "display_name": "Python 3",
   "language": "python",
   "name": "python3"
  },
  "language_info": {
   "codemirror_mode": {
    "name": "ipython",
    "version": 3
   },
   "file_extension": ".py",
   "mimetype": "text/x-python",
   "name": "python",
   "nbconvert_exporter": "python",
   "pygments_lexer": "ipython3",
   "version": "3.7.1"
  },
  "nteract": {
   "version": "0.12.3"
  }
 },
 "nbformat": 4,
 "nbformat_minor": 2
}
