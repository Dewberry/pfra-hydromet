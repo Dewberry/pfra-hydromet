{
 "cells": [
  {
   "cell_type": "markdown",
   "metadata": {},
   "source": [
    "# Precipitation Frequency Table\n",
    "\n",
    "__Description__: Auto-retrieve [NOAA Atlas 14](https://hdsc.nws.noaa.gov/hdsc/pfds/pfds_gis.html) precipitation statistics from [FTP](ftp://hdsc.nws.noaa.gov/pub/hdsc/data/) and calcualte the area-averaged precipitaiton frequency table for the area of interest (AOI).\n",
    "\n",
    "__Input__: A vector polygon of the AOI, the NOAA Atlas 14 [volume](https://hdsc.nws.noaa.gov/hdsc/pfds/pfds_temporal.html) number, and durations of interest.\n",
    "\n",
    "__Output__: A spreadsheet with tabs for each duration. Each tab contains a table for the given duration with area-averaged precipitation and confidence limits.\n",
    "\n",
    "---"
   ]
  },
  {
   "cell_type": "markdown",
   "metadata": {},
   "source": [
    "## Load Libraries, Parameters, and Data:"
   ]
  },
  {
   "cell_type": "markdown",
   "metadata": {},
   "source": [
    "### Libraries:"
   ]
  },
  {
   "cell_type": "code",
   "execution_count": 1,
   "metadata": {
    "collapsed": true
   },
   "outputs": [],
   "source": [
    "import sys\n",
    "sys.path.append('core')\n",
    "from hydromet import*"
   ]
  },
  {
   "cell_type": "markdown",
   "metadata": {},
   "source": [
    "### Parameters: "
   ]
  },
  {
   "cell_type": "markdown",
   "metadata": {},
   "source": [
    "#### Papermill (site specific):"
   ]
  },
  {
   "cell_type": "code",
   "execution_count": 2,
   "metadata": {
    "collapsed": true
   },
   "outputs": [],
   "source": [
    "## Atlas 14 volume number:\n",
    "volume = 2\n",
    "\n",
    "\n",
    "## Vector polygon information (.geojson, .shp, or .gdb):\n",
    "polygon = 'AnacostiaR_HUC12.shp'\n",
    "\n",
    "\n",
    "## Paths:\n",
    "root_dir = pl.Path(os.getcwd())\n",
    "inputs_dir = root_dir/'Inputs'\n",
    "datarepository_dir = root_dir/'DataRepository'\n",
    "polygon_dir = inputs_dir/polygon\n",
    "outputs_dir = root_dir/'Outputs'"
   ]
  },
  {
   "cell_type": "markdown",
   "metadata": {},
   "source": [
    "#### Global (project specific):"
   ]
  },
  {
   "cell_type": "code",
   "execution_count": 3,
   "metadata": {},
   "outputs": [],
   "source": [
    "noaa_data_crs = {'init':'epsg:4326'} \n",
    "\n",
    "# If geopandas cannot read the projection info, add proj4 string here\n",
    "brute_force_projection = \"+proj=lcc +lat_1=39.45 +lat_2=38.3 +lat_0=37.66666666666666 +lon_0=-77 +x_0=399999.9998983998 +y_0=0 +ellps=GRS80 +datum=NAD83 +to_meter=0.3048006096012192 +no_defs\"\n",
    "\n",
    "durations = ['06h', '12h', '24h', '04d'] \n",
    "dur_names = ['6hr', '12hr', '24hr', '96hr']\n",
    "\n",
    "vol_code_filename = 'NOAA_Atlas_Volume_Codes.json'"
   ]
  },
  {
   "cell_type": "markdown",
   "metadata": {},
   "source": [
    "### Load Atlas 14 volume code from json:"
   ]
  },
  {
   "cell_type": "code",
   "execution_count": 4,
   "metadata": {},
   "outputs": [
    {
     "name": "stdout",
     "output_type": "stream",
     "text": [
      "NOAA Atlas 14 Volume Code: orb\n"
     ]
    }
   ],
   "source": [
    "vol_code = get_volume_code(datarepository_dir, vol_code_filename, volume)"
   ]
  },
  {
   "cell_type": "markdown",
   "metadata": {},
   "source": [
    "## Read Vector Polygon:"
   ]
  },
  {
   "cell_type": "markdown",
   "metadata": {},
   "source": [
    "### Load as a geodataframe:"
   ]
  },
  {
   "cell_type": "code",
   "execution_count": 5,
   "metadata": {},
   "outputs": [
    {
     "data": {
      "text/html": [
       "<div>\n",
       "<style scoped>\n",
       "    .dataframe tbody tr th:only-of-type {\n",
       "        vertical-align: middle;\n",
       "    }\n",
       "\n",
       "    .dataframe tbody tr th {\n",
       "        vertical-align: top;\n",
       "    }\n",
       "\n",
       "    .dataframe thead th {\n",
       "        text-align: right;\n",
       "    }\n",
       "</style>\n",
       "<table border=\"1\" class=\"dataframe\">\n",
       "  <thead>\n",
       "    <tr style=\"text-align: right;\">\n",
       "      <th></th>\n",
       "      <th>OBJECTID</th>\n",
       "      <th>HUC12</th>\n",
       "      <th>NAME_1</th>\n",
       "      <th>PTS</th>\n",
       "      <th>Company</th>\n",
       "      <th>geometry</th>\n",
       "    </tr>\n",
       "  </thead>\n",
       "  <tbody>\n",
       "    <tr>\n",
       "      <th>0</th>\n",
       "      <td>24</td>\n",
       "      <td>020700100204</td>\n",
       "      <td>Beaverdam Creek-Anacostia River</td>\n",
       "      <td>STARRII</td>\n",
       "      <td>Dewberry</td>\n",
       "      <td>POLYGON ((1355945.2168896 458817.7307685095, 1...</td>\n",
       "    </tr>\n",
       "  </tbody>\n",
       "</table>\n",
       "</div>"
      ],
      "text/plain": [
       "   OBJECTID         HUC12                           NAME_1      PTS   Company  \\\n",
       "0        24  020700100204  Beaverdam Creek-Anacostia River  STARRII  Dewberry   \n",
       "\n",
       "                                            geometry  \n",
       "0  POLYGON ((1355945.2168896 458817.7307685095, 1...  "
      ]
     },
     "execution_count": 5,
     "metadata": {},
     "output_type": "execute_result"
    }
   ],
   "source": [
    "gdf = gpd.GeoDataFrame.from_file(polygon_dir)\n",
    "\n",
    "gdf.head(2)"
   ]
  },
  {
   "cell_type": "markdown",
   "metadata": {},
   "source": [
    "### Add filtering if desired"
   ]
  },
  {
   "cell_type": "code",
   "execution_count": 6,
   "metadata": {},
   "outputs": [],
   "source": [
    "filter_field = 'OBJECTID'        # Attribute with in the vector polygon used for data selection\n",
    "select_data = 24 # Value within the filter_field used for data selection\n",
    "gdf_slice_column = 'OBJECTID'   # Column within the vector polygon to plot"
   ]
  },
  {
   "cell_type": "markdown",
   "metadata": {},
   "source": [
    "### Determine projection:"
   ]
  },
  {
   "cell_type": "code",
   "execution_count": 7,
   "metadata": {},
   "outputs": [
    {
     "name": "stdout",
     "output_type": "stream",
     "text": [
      "Error: Setting projection as +proj=lcc +lat_1=39.45 +lat_2=38.3 +lat_0=37.66666666666666 +lon_0=-77 +x_0=399999.9998983998 +y_0=0 +ellps=GRS80 +datum=NAD83 +to_meter=0.3048006096012192 +no_defs\n"
     ]
    }
   ],
   "source": [
    "with fiona.collection(polygon_dir, 'r') as layer:\n",
    "    try:\n",
    "        vector_crs_prj = Proj(layer.crs).srs\n",
    "        if 'epsg' in vector_crs_prj: \n",
    "            raise KeyboardInterrupt\n",
    "        else: \n",
    "            print('Vector Layer crs = {}'.format(vector_crs_prj))\n",
    "        \n",
    "    except:\n",
    "        assert brute_force_projection!= None, 'Need to specify projection'\n",
    "        vector_crs_prj = brute_force_projection\n",
    "        print('Error: Setting projection as {}'.format(brute_force_projection))"
   ]
  },
  {
   "cell_type": "markdown",
   "metadata": {},
   "source": [
    "### Extract the area of interest, reproject, and plot:"
   ]
  },
  {
   "cell_type": "code",
   "execution_count": 8,
   "metadata": {},
   "outputs": [
    {
     "data": {
      "image/png": "[encoded data removed]",
      "text/plain": [
       "<Figure size 1008x1296 with 1 Axes>"
      ]
     },
     "metadata": {
      "needs_background": "light"
     },
     "output_type": "display_data"
    }
   ],
   "source": [
    "gdf_slice = gdf.loc[gdf[filter_field]==select_data].copy()\n",
    "\n",
    "gdf_slice.crs = vector_crs_prj\n",
    "\n",
    "geo_df = gdf_slice.to_crs(crs = noaa_data_crs)\n",
    "\n",
    "plot_area_of_interest(geo_df, select_data, gdf_slice_column)"
   ]
  },
  {
   "cell_type": "markdown",
   "metadata": {},
   "source": [
    "## Retrieve the Precipitation Frequency Data:"
   ]
  },
  {
   "cell_type": "markdown",
   "metadata": {},
   "source": [
    "### Get list of zip files:"
   ]
  },
  {
   "cell_type": "code",
   "execution_count": 9,
   "metadata": {},
   "outputs": [
    {
     "name": "stdout",
     "output_type": "stream",
     "text": [
      "30 files found for 06h\n",
      "30 files found for 12h\n",
      "30 files found for 24h\n",
      "30 files found for 04d\n"
     ]
    }
   ],
   "source": [
    "noaa_url = 'ftp://hdsc.nws.noaa.gov/pub/hdsc/data/{}/'.format(vol_code)\n",
    "\n",
    "req = urllib.request.Request(noaa_url)\n",
    "data = urllib.request.urlopen(req).read().decode().split()\n",
    "\n",
    "copy_zips = []\n",
    "for duration in durations:\n",
    "    zips = [d for d in data if ('.zip' in d) and ('{}'.format(duration) in d) and ('ams' not in d)]\n",
    "    copy_zips.append(zips)\n",
    "    print('{} files found for {}'.format(len(zips), duration))\n",
    "\n",
    "all_zips_list = list(np.array(copy_zips).flat)"
   ]
  },
  {
   "cell_type": "markdown",
   "metadata": {},
   "source": [
    "### Iterate through zip files and build a table:"
   ]
  },
  {
   "cell_type": "code",
   "execution_count": 10,
   "metadata": {},
   "outputs": [
    {
     "name": "stdout",
     "output_type": "stream",
     "text": [
      "0 orb1000yr06ha.zip\n",
      "1 orb1000yr06hal.zip\n",
      "2 orb1000yr06hau.zip\n",
      "3 orb100yr06ha.zip\n",
      "4 orb100yr06hal.zip\n",
      "5 orb100yr06hau.zip\n",
      "6 orb10yr06ha.zip\n",
      "7 orb10yr06hal.zip\n",
      "8 orb10yr06hau.zip\n",
      "9 orb1yr06ha.zip\n",
      "10 orb1yr06hal.zip\n",
      "11 orb1yr06hau.zip\n",
      "12 orb200yr06ha.zip\n",
      "13 orb200yr06hal.zip\n",
      "14 orb200yr06hau.zip\n",
      "15 orb25yr06ha.zip\n",
      "16 orb25yr06hal.zip\n",
      "17 orb25yr06hau.zip\n",
      "18 orb2yr06ha.zip\n",
      "19 orb2yr06hal.zip\n",
      "20 orb2yr06hau.zip\n",
      "21 orb500yr06ha.zip\n",
      "22 orb500yr06hal.zip\n",
      "23 orb500yr06hau.zip\n",
      "24 orb50yr06ha.zip\n",
      "25 orb50yr06hal.zip\n",
      "26 orb50yr06hau.zip\n",
      "27 orb5yr06ha.zip\n",
      "28 orb5yr06hal.zip\n",
      "29 orb5yr06hau.zip\n",
      "30 orb1000yr12ha.zip\n",
      "31 orb1000yr12hal.zip\n",
      "32 orb1000yr12hau.zip\n",
      "33 orb100yr12ha.zip\n",
      "34 orb100yr12hal.zip\n",
      "35 orb100yr12hau.zip\n",
      "36 orb10yr12ha.zip\n",
      "37 orb10yr12hal.zip\n",
      "38 orb10yr12hau.zip\n",
      "39 orb1yr12ha.zip\n",
      "40 orb1yr12hal.zip\n",
      "41 orb1yr12hau.zip\n",
      "42 orb200yr12ha.zip\n",
      "43 orb200yr12hal.zip\n",
      "44 orb200yr12hau.zip\n",
      "45 orb25yr12ha.zip\n",
      "46 orb25yr12hal.zip\n",
      "47 orb25yr12hau.zip\n",
      "48 orb2yr12ha.zip\n",
      "49 orb2yr12hal.zip\n",
      "50 orb2yr12hau.zip\n",
      "51 orb500yr12ha.zip\n",
      "52 orb500yr12hal.zip\n",
      "53 orb500yr12hau.zip\n",
      "54 orb50yr12ha.zip\n",
      "55 orb50yr12hal.zip\n",
      "56 orb50yr12hau.zip\n",
      "57 orb5yr12ha.zip\n",
      "58 orb5yr12hal.zip\n",
      "59 orb5yr12hau.zip\n",
      "60 orb1000yr24ha.zip\n",
      "61 orb1000yr24hal.zip\n",
      "62 orb1000yr24hau.zip\n",
      "63 orb100yr24ha.zip\n",
      "64 orb100yr24hal.zip\n",
      "65 orb100yr24hau.zip\n",
      "66 orb10yr24ha.zip\n",
      "67 orb10yr24hal.zip\n",
      "68 orb10yr24hau.zip\n",
      "69 orb1yr24ha.zip\n",
      "70 orb1yr24hal.zip\n",
      "71 orb1yr24hau.zip\n",
      "72 orb200yr24ha.zip\n",
      "73 orb200yr24hal.zip\n",
      "74 orb200yr24hau.zip\n",
      "75 orb25yr24ha.zip\n",
      "76 orb25yr24hal.zip\n",
      "77 orb25yr24hau.zip\n",
      "78 orb2yr24ha.zip\n",
      "79 orb2yr24hal.zip\n",
      "80 orb2yr24hau.zip\n",
      "81 orb500yr24ha.zip\n",
      "82 orb500yr24hal.zip\n",
      "83 orb500yr24hau.zip\n",
      "84 orb50yr24ha.zip\n",
      "85 orb50yr24hal.zip\n",
      "86 orb50yr24hau.zip\n",
      "87 orb5yr24ha.zip\n",
      "88 orb5yr24hal.zip\n",
      "89 orb5yr24hau.zip\n",
      "90 orb1000yr04da.zip\n",
      "91 orb1000yr04dal.zip\n",
      "92 orb1000yr04dau.zip\n",
      "93 orb100yr04da.zip\n",
      "94 orb100yr04dal.zip\n",
      "95 orb100yr04dau.zip\n",
      "96 orb10yr04da.zip\n",
      "97 orb10yr04dal.zip\n",
      "98 orb10yr04dau.zip\n",
      "99 orb1yr04da.zip\n",
      "100 orb1yr04dal.zip\n",
      "101 orb1yr04dau.zip\n",
      "102 orb200yr04da.zip\n",
      "103 orb200yr04dal.zip\n",
      "104 orb200yr04dau.zip\n",
      "105 orb25yr04da.zip\n",
      "106 orb25yr04dal.zip\n",
      "107 orb25yr04dau.zip\n",
      "108 orb2yr04da.zip\n",
      "109 orb2yr04dal.zip\n",
      "110 orb2yr04dau.zip\n",
      "111 orb500yr04da.zip\n",
      "112 orb500yr04dal.zip\n",
      "113 orb500yr04dau.zip\n",
      "114 orb50yr04da.zip\n",
      "115 orb50yr04dal.zip\n",
      "116 orb50yr04dau.zip\n",
      "117 orb5yr04da.zip\n",
      "118 orb5yr04dal.zip\n",
      "119 orb5yr04dau.zip\n",
      "85 Seconds\n"
     ]
    }
   ],
   "source": [
    "start = time.time()\n",
    "results = []\n",
    "print_zips=True\n",
    "for i, zip_name in enumerate(all_zips_list):\n",
    "    \n",
    "    remote_file = os.path.join(noaa_url, zip_name)\n",
    "    try:\n",
    "        open_socket = urllib.request.urlopen(remote_file)   \n",
    "        memfile = io.BytesIO(open_socket.read())\n",
    "        memfile\n",
    "        with ZipFile(memfile, 'r') as openzip:\n",
    "            gridfiles = openzip.namelist()\n",
    "            assert len(gridfiles) == 1,'Expected to find 1 file, found {}'.format(len(gridfiles))\n",
    "            local_file = gridfiles[0]\n",
    "    \n",
    "            f = openzip.open(local_file)\n",
    "            content = f.read() \n",
    "    \n",
    "            local_file_to_disk = os.path.join(os.getcwd(), local_file)\n",
    "    \n",
    "            with open(local_file_to_disk, 'wb') as asc:\n",
    "                asc.write(content)\n",
    "        grid_data = parse_filename(zip_name, vol_code)\n",
    "    \n",
    "        grid_data['value'] = get_masked_mean_atlas14(geo_df, local_file_to_disk)    \n",
    "        results.append(grid_data)\n",
    "    \n",
    "        os.remove(local_file_to_disk)\n",
    "        if print_zips: print(i, zip_name)\n",
    "        \n",
    "    except:\n",
    "        print(\"Unable to get data for {}...may be the result of a poor connection\".format(zip_name))\n",
    "        \n",
    "print(round(time.time()-start), 'Seconds')"
   ]
  },
  {
   "cell_type": "markdown",
   "metadata": {},
   "source": [
    "### Create an outputs directory:"
   ]
  },
  {
   "cell_type": "code",
   "execution_count": 11,
   "metadata": {},
   "outputs": [],
   "source": [
    "if not os.path.isdir(outputs_dir):\n",
    "    os.mkdir(outputs_dir)"
   ]
  },
  {
   "cell_type": "markdown",
   "metadata": {},
   "source": [
    "### Transform the data to a dataframe and save:"
   ]
  },
  {
   "cell_type": "code",
   "execution_count": 12,
   "metadata": {},
   "outputs": [
    {
     "name": "stdout",
     "output_type": "stream",
     "text": [
      "      Expected Value  Lower (90%)  Upper (90%)\n",
      "Tr                                            \n",
      "1           1.856218     1.691229     2.055380\n",
      "2           2.247564     2.043832     2.484978\n",
      "5           2.840453     2.572693     3.138844\n",
      "10          3.326732     2.998078     3.676134\n",
      "25          4.047603     3.613844     4.471201\n",
      "50          4.660737     4.122061     5.155084\n",
      "100         5.324173     4.665251     5.902955\n",
      "200         6.041682     5.236464     6.726922\n",
      "500         7.099184     6.046888     7.972961\n",
      "1000        7.990955     6.703486     9.034240\n",
      "      Expected Value  Lower (90%)  Upper (90%)\n",
      "Tr                                            \n",
      "1           2.247676     2.025324     2.526257\n",
      "2           2.714402     2.442274     3.048341\n",
      "5           3.449922     3.095034     3.872665\n",
      "10          4.082397     3.639358     4.577916\n",
      "25          5.047732     4.451732     5.655620\n",
      "50          5.894514     5.143363     6.610793\n",
      "100         6.835257     5.888581     7.688453\n",
      "200         7.885436     6.695184     8.909162\n",
      "500         9.487402     7.881246    10.783860\n",
      "1000       10.875346     8.873497    12.449369\n",
      "      Expected Value  Lower (90%)  Upper (90%)\n",
      "Tr                                            \n",
      "1           2.610168     2.379514     2.899173\n",
      "2           3.157397     2.876503     3.507128\n",
      "5           4.057966     3.691363     4.502486\n",
      "10          4.851486     4.392726     5.365212\n",
      "25          6.069994     5.449989     6.672994\n",
      "50          7.151799     6.371184     7.828531\n",
      "100         8.373408     7.391402     9.138771\n",
      "200         9.766151     8.526531    10.630844\n",
      "500        11.904352    10.219179    12.912581\n",
      "1000       13.782117    11.668648    14.920983\n",
      "      Expected Value  Lower (90%)  Upper (90%)\n",
      "Tr                                            \n",
      "1           3.369430     3.078279     3.723832\n",
      "2           4.072553     3.722872     4.505883\n",
      "5           5.205497     4.749480     5.749330\n",
      "10          6.178743     5.622939     6.811330\n",
      "25          7.641832     6.906972     8.397128\n",
      "50          8.912447     8.004117     9.778777\n",
      "100        10.325330     9.196581    11.318570\n",
      "200        11.902257    10.509011    13.035860\n",
      "500        14.270335    12.418626    15.632503\n",
      "1000       16.308626    14.023492    17.885872\n"
     ]
    }
   ],
   "source": [
    "df = pd.DataFrame.from_dict(results)\n",
    "\n",
    "writer = pd.ExcelWriter(outputs_dir/'PrecipTable_{}.xlsx'.format(select_data))\n",
    "\n",
    "for i, d in enumerate(durations):\n",
    "    table = pd.pivot_table(df[df['duration']==d], values = 'value', index=['TR'], columns=['statistic'])\n",
    "    table.index.name='Tr'\n",
    "    table.columns.name = None\n",
    "    table = table.sort_values(by=['Expected Value'])\n",
    "    table.to_excel(writer, sheet_name='AreaDepths_{}'.format(dur_names[i]))\n",
    "    print(table)\n",
    "    \n",
    "writer.save()"
   ]
  },
  {
   "cell_type": "markdown",
   "metadata": {},
   "source": [
    "---"
   ]
  }
 ],
 "metadata": {
  "kernelspec": {
   "display_name": "Python 3",
   "language": "python",
   "name": "python3"
  },
  "language_info": {
   "codemirror_mode": {
    "name": "ipython",
    "version": 3
   },
   "file_extension": ".py",
   "mimetype": "text/x-python",
   "name": "python",
   "nbconvert_exporter": "python",
   "pygments_lexer": "ipython3",
   "version": "3.7.1"
  },
  "nteract": {
   "version": "0.12.3"
  }
 },
 "nbformat": 4,
 "nbformat_minor": 2
}
