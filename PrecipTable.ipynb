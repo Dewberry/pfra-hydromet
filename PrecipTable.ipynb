{
 "cells": [
  {
   "cell_type": "markdown",
   "metadata": {},
   "source": [
    "# Precipitation Frequency Table\n",
    "\n",
    "__Description__: Auto-retrieve [NOAA Atlas 14](https://hdsc.nws.noaa.gov/hdsc/pfds/pfds_gis.html) precipitation statistics from [FTP](ftp://hdsc.nws.noaa.gov/pub/hdsc/data/) and calcualte the area-averaged precipitation frequency table for the area of interest (AOI).\n",
    "\n",
    "__Input__: A vector polygon of the AOI and the durations of interest.\n",
    "\n",
    "__Output__: A spreadsheet with sheets for each duration and a sheet with the NOAA Atlas 14 volume and region numbers. For each duration, the sheet contains a table with area-averaged precipitation and confidence limits. \n",
    "\n",
    "---"
   ]
  },
  {
   "cell_type": "markdown",
   "metadata": {},
   "source": [
    "## Load Libraries, Parameters, and Data:"
   ]
  },
  {
   "cell_type": "markdown",
   "metadata": {},
   "source": [
    "### Libraries:"
   ]
  },
  {
   "cell_type": "code",
   "execution_count": 1,
   "metadata": {
    "collapsed": true
   },
   "outputs": [],
   "source": [
    "import sys\n",
    "sys.path.append('core')\n",
    "from hydromet import*"
   ]
  },
  {
   "cell_type": "markdown",
   "metadata": {},
   "source": [
    "### Parameters: "
   ]
  },
  {
   "cell_type": "markdown",
   "metadata": {},
   "source": [
    "#### Papermill (site specific):"
   ]
  },
  {
   "cell_type": "code",
   "execution_count": 2,
   "metadata": {
    "collapsed": true
   },
   "outputs": [],
   "source": [
    "## Vector polygon information (.geojson, .shp, or .gdb):\n",
    "polygon = 'HUC12.shp'\n",
    "\n",
    "\n",
    "## Paths:\n",
    "root_dir = pl.Path(os.getcwd())\n",
    "inputs_dir = root_dir/'Inputs'\n",
    "datarepository_dir = root_dir/'DataRepository'\n",
    "polygon_dir = inputs_dir/polygon\n",
    "outputs_dir = root_dir/'Outputs'\n",
    "\n",
    "\n",
    "## If geopandas cannot read the projection info, add proj4 string here\n",
    "brute_force_projection = None"
   ]
  },
  {
   "cell_type": "markdown",
   "metadata": {},
   "source": [
    "#### Global (project specific):"
   ]
  },
  {
   "cell_type": "code",
   "execution_count": 3,
   "metadata": {},
   "outputs": [],
   "source": [
    "noaa_data_crs = {'init':'epsg:4326'} \n",
    "\n",
    "durations = ['06h', '12h', '24h', '04d'] \n",
    "dur_names = ['6hr', '12hr', '24hr', '96hr']\n",
    "\n",
    "vol_code_filename = 'NOAA_Atlas_Volume_Codes.json'\n",
    "Temporal_area_filename = 'NOAA_Temporal_Areas_US.geojson'\n",
    "\n",
    "verbose = True"
   ]
  },
  {
   "cell_type": "markdown",
   "metadata": {},
   "source": [
    "## Read Vector Polygon:"
   ]
  },
  {
   "cell_type": "markdown",
   "metadata": {},
   "source": [
    "### Load as a geodataframe:"
   ]
  },
  {
   "cell_type": "code",
   "execution_count": 4,
   "metadata": {},
   "outputs": [
    {
     "data": {
      "text/html": [
       "<div>\n",
       "<style scoped>\n",
       "    .dataframe tbody tr th:only-of-type {\n",
       "        vertical-align: middle;\n",
       "    }\n",
       "\n",
       "    .dataframe tbody tr th {\n",
       "        vertical-align: top;\n",
       "    }\n",
       "\n",
       "    .dataframe thead th {\n",
       "        text-align: right;\n",
       "    }\n",
       "</style>\n",
       "<table border=\"1\" class=\"dataframe\">\n",
       "  <thead>\n",
       "    <tr style=\"text-align: right;\">\n",
       "      <th></th>\n",
       "      <th>TNMID</th>\n",
       "      <th>METASOURCE</th>\n",
       "      <th>SOURCEDATA</th>\n",
       "      <th>SOURCEORIG</th>\n",
       "      <th>SOURCEFEAT</th>\n",
       "      <th>LOADDATE</th>\n",
       "      <th>GNIS_ID</th>\n",
       "      <th>AREAACRES</th>\n",
       "      <th>AREASQKM</th>\n",
       "      <th>STATES</th>\n",
       "      <th>...</th>\n",
       "      <th>NAME</th>\n",
       "      <th>HUTYPE</th>\n",
       "      <th>HUMOD</th>\n",
       "      <th>TOHUC</th>\n",
       "      <th>NONCONTRIB</th>\n",
       "      <th>NONCONTR_1</th>\n",
       "      <th>SHAPE_Leng</th>\n",
       "      <th>SHAPE_Area</th>\n",
       "      <th>Area_SQMI</th>\n",
       "      <th>geometry</th>\n",
       "    </tr>\n",
       "  </thead>\n",
       "  <tbody>\n",
       "    <tr>\n",
       "      <th>0</th>\n",
       "      <td>{B1EF0C55-72ED-4FF6-A3BA-97A87C6A6C47}</td>\n",
       "      <td>None</td>\n",
       "      <td>None</td>\n",
       "      <td>None</td>\n",
       "      <td>None</td>\n",
       "      <td>2013-01-18</td>\n",
       "      <td>0</td>\n",
       "      <td>12663.63</td>\n",
       "      <td>51.25</td>\n",
       "      <td>AL</td>\n",
       "      <td>...</td>\n",
       "      <td>Pond Creek</td>\n",
       "      <td>S</td>\n",
       "      <td>NM</td>\n",
       "      <td>031401030102</td>\n",
       "      <td>0.0</td>\n",
       "      <td>0.0</td>\n",
       "      <td>0.396873</td>\n",
       "      <td>0.004859</td>\n",
       "      <td>19.786849</td>\n",
       "      <td>POLYGON ((893772.5521249808 -957906.1193751553...</td>\n",
       "    </tr>\n",
       "    <tr>\n",
       "      <th>1</th>\n",
       "      <td>{F0D9874D-52BA-4FDC-A5E6-E259B627764D}</td>\n",
       "      <td>None</td>\n",
       "      <td>None</td>\n",
       "      <td>None</td>\n",
       "      <td>None</td>\n",
       "      <td>2013-01-18</td>\n",
       "      <td>0</td>\n",
       "      <td>37030.62</td>\n",
       "      <td>149.86</td>\n",
       "      <td>AL</td>\n",
       "      <td>...</td>\n",
       "      <td>Lightwood Knot Creek</td>\n",
       "      <td>S</td>\n",
       "      <td>NM</td>\n",
       "      <td>031401030103</td>\n",
       "      <td>0.0</td>\n",
       "      <td>0.0</td>\n",
       "      <td>0.845522</td>\n",
       "      <td>0.014214</td>\n",
       "      <td>57.860117</td>\n",
       "      <td>POLYGON ((890041.6861447804 -945080.4616722828...</td>\n",
       "    </tr>\n",
       "  </tbody>\n",
       "</table>\n",
       "<p>2 rows × 21 columns</p>\n",
       "</div>"
      ],
      "text/plain": [
       "                                    TNMID METASOURCE SOURCEDATA SOURCEORIG  \\\n",
       "0  {B1EF0C55-72ED-4FF6-A3BA-97A87C6A6C47}       None       None       None   \n",
       "1  {F0D9874D-52BA-4FDC-A5E6-E259B627764D}       None       None       None   \n",
       "\n",
       "  SOURCEFEAT    LOADDATE  GNIS_ID  AREAACRES  AREASQKM STATES  ...  \\\n",
       "0       None  2013-01-18        0   12663.63     51.25     AL  ...   \n",
       "1       None  2013-01-18        0   37030.62    149.86     AL  ...   \n",
       "\n",
       "                   NAME HUTYPE HUMOD         TOHUC NONCONTRIB  NONCONTR_1  \\\n",
       "0            Pond Creek      S    NM  031401030102        0.0         0.0   \n",
       "1  Lightwood Knot Creek      S    NM  031401030103        0.0         0.0   \n",
       "\n",
       "   SHAPE_Leng  SHAPE_Area  Area_SQMI  \\\n",
       "0    0.396873    0.004859  19.786849   \n",
       "1    0.845522    0.014214  57.860117   \n",
       "\n",
       "                                            geometry  \n",
       "0  POLYGON ((893772.5521249808 -957906.1193751553...  \n",
       "1  POLYGON ((890041.6861447804 -945080.4616722828...  \n",
       "\n",
       "[2 rows x 21 columns]"
      ]
     },
     "execution_count": 4,
     "metadata": {},
     "output_type": "execute_result"
    }
   ],
   "source": [
    "gdf = gpd.GeoDataFrame.from_file(polygon_dir)\n",
    "\n",
    "gdf.head(2)"
   ]
  },
  {
   "cell_type": "markdown",
   "metadata": {},
   "source": [
    "### Add filtering if desired"
   ]
  },
  {
   "cell_type": "code",
   "execution_count": 5,
   "metadata": {},
   "outputs": [],
   "source": [
    "filter_field = 'HUC12'          # Attribute with in the vector polygon used for data selection\n",
    "select_data = '180201160703'    # Value within the filter_field used for data selection\n",
    "gdf_slice_column = 'HUC12'      # Column within the vector polygon to plot"
   ]
  },
  {
   "cell_type": "markdown",
   "metadata": {},
   "source": [
    "### Determine projection:\n",
    "- If a projection cannot be determined automatically, search for the projection using the EPSG number on the following website: https://www.spatialreference.org/, select 'Proj4', and copy and paste the string above, setting it equal to brute_force_projection. Rerun the cell with the brute_force_projection string and the cell below."
   ]
  },
  {
   "cell_type": "code",
   "execution_count": 6,
   "metadata": {},
   "outputs": [
    {
     "name": "stdout",
     "output_type": "stream",
     "text": [
      "Original Coordinate Reference System: {}\n",
      "Vector Layer crs = +proj=aea +lat_1=20 +lat_2=60 +lat_0=40 +lon_0=-96 +x_0=0 +y_0=0 +datum=NAD83 +units=m +no_defs=True \n"
     ]
    }
   ],
   "source": [
    "print('Original Coordinate Reference System:', gdf.crs)\n",
    "with fiona.collection(polygon_dir, 'r') as layer:\n",
    "    try:\n",
    "        vector_crs_prj = Proj(layer.crs).srs\n",
    "        if 'epsg' in vector_crs_prj: \n",
    "            raise KeyboardInterrupt\n",
    "        else: \n",
    "            print('Vector Layer crs = {}'.format(vector_crs_prj))\n",
    "        \n",
    "    except:\n",
    "        assert brute_force_projection!= None, 'Need to specify projection'\n",
    "        vector_crs_prj = brute_force_projection\n",
    "        print('Error: Setting projection as {}'.format(brute_force_projection))"
   ]
  },
  {
   "cell_type": "markdown",
   "metadata": {},
   "source": [
    "### Extract the area of interest, reproject, and plot:"
   ]
  },
  {
   "cell_type": "code",
   "execution_count": 7,
   "metadata": {},
   "outputs": [
    {
     "data": {
      "image/png": "[encoded data removed]",
      "text/plain": [
       "<Figure size 720x1008 with 1 Axes>"
      ]
     },
     "metadata": {
      "needs_background": "light"
     },
     "output_type": "display_data"
    }
   ],
   "source": [
    "gdf = gdf.loc[gdf[filter_field] == select_data].copy()\n",
    "    \n",
    "gdf.crs = vector_crs_prj\n",
    "\n",
    "geo_df = gdf.to_crs(crs = noaa_data_crs)\n",
    "\n",
    "plot_area_of_interest(geo_df, select_data, gdf_slice_column)"
   ]
  },
  {
   "cell_type": "markdown",
   "metadata": {},
   "source": [
    "## Identify the NOAA Atlas 14 Volume Code:"
   ]
  },
  {
   "cell_type": "markdown",
   "metadata": {},
   "source": [
    "### Determine the volume and region numbers:"
   ]
  },
  {
   "cell_type": "code",
   "execution_count": 8,
   "metadata": {},
   "outputs": [
    {
     "name": "stdout",
     "output_type": "stream",
     "text": [
      "Volume           6\n",
      "Region           5\n",
      "Percent_area     68.270510892131\n",
      "Volume_1         6\n",
      "Region_1         2\n",
      "Percent_area_1   31.729489107868993\n"
     ]
    },
    {
     "data": {
      "image/png": "[encoded data removed]",
      "text/plain": [
       "<Figure size 720x1008 with 1 Axes>"
      ]
     },
     "metadata": {
      "needs_background": "light"
     },
     "output_type": "display_data"
    }
   ],
   "source": [
    "volume_dict, intersection_gdf = intersect_temporal_areas(geo_df, datarepository_dir, Temporal_area_filename, alldata=True)\n",
    "\n",
    "plot_aoi_noaa_intersection(intersection_gdf, select_data)\n",
    "\n",
    "volume = volume_dict['Volume']"
   ]
  },
  {
   "cell_type": "markdown",
   "metadata": {},
   "source": [
    "### Load Atlas 14 volume code from json:"
   ]
  },
  {
   "cell_type": "code",
   "execution_count": 9,
   "metadata": {},
   "outputs": [
    {
     "name": "stdout",
     "output_type": "stream",
     "text": [
      "NOAA Atlas 14 Volume Code: sw\n"
     ]
    }
   ],
   "source": [
    "vol_code = get_volume_code(datarepository_dir, vol_code_filename, volume)"
   ]
  },
  {
   "cell_type": "markdown",
   "metadata": {},
   "source": [
    "## Retrieve the Precipitation Frequency Data:"
   ]
  },
  {
   "cell_type": "markdown",
   "metadata": {},
   "source": [
    "### Get list of zip files:"
   ]
  },
  {
   "cell_type": "code",
   "execution_count": 10,
   "metadata": {},
   "outputs": [
    {
     "name": "stdout",
     "output_type": "stream",
     "text": [
      "30 files found for 06h\n",
      "30 files found for 12h\n",
      "30 files found for 24h\n",
      "30 files found for 04d\n"
     ]
    }
   ],
   "source": [
    "noaa_url = 'ftp://hdsc.nws.noaa.gov/pub/hdsc/data/{}/'.format(vol_code)\n",
    "\n",
    "req = urllib.request.Request(noaa_url)\n",
    "data = urllib.request.urlopen(req).read().decode().split()\n",
    "\n",
    "copy_zips = []\n",
    "for duration in durations:\n",
    "    zips = [d for d in data if ('.zip' in d) and ('{}'.format(duration) in d) and ('ams' not in d)]\n",
    "    copy_zips.append(zips)\n",
    "    if verbose: print('{} files found for {}'.format(len(zips), duration))\n",
    "\n",
    "all_zips_list = list(np.array(copy_zips).flat)"
   ]
  },
  {
   "cell_type": "markdown",
   "metadata": {},
   "source": [
    "### Iterate through zip files and build a table:"
   ]
  },
  {
   "cell_type": "code",
   "execution_count": 11,
   "metadata": {},
   "outputs": [
    {
     "name": "stdout",
     "output_type": "stream",
     "text": [
      "0 sw1000yr06ha.zip\n",
      "1 sw1000yr06hal.zip\n",
      "2 sw1000yr06hau.zip\n",
      "3 sw100yr06ha.zip\n",
      "4 sw100yr06hal.zip\n",
      "5 sw100yr06hau.zip\n",
      "6 sw10yr06ha.zip\n",
      "7 sw10yr06hal.zip\n",
      "8 sw10yr06hau.zip\n",
      "Unable to get data on attempt 1 for sw1yr06ha.zip\n",
      "9 sw1yr06ha.zip\n",
      "10 sw1yr06hal.zip\n",
      "11 sw1yr06hau.zip\n",
      "12 sw200yr06ha.zip\n",
      "13 sw200yr06hal.zip\n",
      "14 sw200yr06hau.zip\n",
      "15 sw25yr06ha.zip\n",
      "16 sw25yr06hal.zip\n",
      "17 sw25yr06hau.zip\n",
      "18 sw2yr06ha.zip\n",
      "19 sw2yr06hal.zip\n",
      "20 sw2yr06hau.zip\n",
      "21 sw500yr06ha.zip\n",
      "22 sw500yr06hal.zip\n",
      "23 sw500yr06hau.zip\n",
      "24 sw50yr06ha.zip\n",
      "25 sw50yr06hal.zip\n",
      "26 sw50yr06hau.zip\n",
      "27 sw5yr06ha.zip\n",
      "28 sw5yr06hal.zip\n",
      "29 sw5yr06hau.zip\n",
      "30 sw1000yr12ha.zip\n",
      "31 sw1000yr12hal.zip\n",
      "32 sw1000yr12hau.zip\n",
      "33 sw100yr12ha.zip\n",
      "34 sw100yr12hal.zip\n",
      "35 sw100yr12hau.zip\n",
      "36 sw10yr12ha.zip\n",
      "37 sw10yr12hal.zip\n",
      "38 sw10yr12hau.zip\n",
      "39 sw1yr12ha.zip\n",
      "40 sw1yr12hal.zip\n",
      "41 sw1yr12hau.zip\n",
      "42 sw200yr12ha.zip\n",
      "43 sw200yr12hal.zip\n",
      "44 sw200yr12hau.zip\n",
      "45 sw25yr12ha.zip\n",
      "46 sw25yr12hal.zip\n",
      "47 sw25yr12hau.zip\n",
      "48 sw2yr12ha.zip\n",
      "49 sw2yr12hal.zip\n",
      "50 sw2yr12hau.zip\n",
      "51 sw500yr12ha.zip\n",
      "52 sw500yr12hal.zip\n",
      "53 sw500yr12hau.zip\n",
      "54 sw50yr12ha.zip\n",
      "55 sw50yr12hal.zip\n",
      "56 sw50yr12hau.zip\n",
      "57 sw5yr12ha.zip\n",
      "58 sw5yr12hal.zip\n",
      "59 sw5yr12hau.zip\n",
      "60 sw1000yr24ha.zip\n",
      "61 sw1000yr24hal.zip\n",
      "62 sw1000yr24hau.zip\n",
      "63 sw100yr24ha.zip\n",
      "64 sw100yr24hal.zip\n",
      "65 sw100yr24hau.zip\n",
      "66 sw10yr24ha.zip\n",
      "67 sw10yr24hal.zip\n",
      "68 sw10yr24hau.zip\n",
      "69 sw1yr24ha.zip\n",
      "70 sw1yr24hal.zip\n",
      "71 sw1yr24hau.zip\n",
      "72 sw200yr24ha.zip\n",
      "73 sw200yr24hal.zip\n",
      "74 sw200yr24hau.zip\n",
      "75 sw25yr24ha.zip\n",
      "76 sw25yr24hal.zip\n",
      "77 sw25yr24hau.zip\n",
      "78 sw2yr24ha.zip\n",
      "79 sw2yr24hal.zip\n",
      "80 sw2yr24hau.zip\n",
      "81 sw500yr24ha.zip\n",
      "82 sw500yr24hal.zip\n",
      "83 sw500yr24hau.zip\n",
      "84 sw50yr24ha.zip\n",
      "85 sw50yr24hal.zip\n",
      "86 sw50yr24hau.zip\n",
      "87 sw5yr24ha.zip\n",
      "88 sw5yr24hal.zip\n",
      "89 sw5yr24hau.zip\n",
      "90 sw1000yr04da.zip\n",
      "91 sw1000yr04dal.zip\n",
      "92 sw1000yr04dau.zip\n",
      "93 sw100yr04da.zip\n",
      "94 sw100yr04dal.zip\n",
      "95 sw100yr04dau.zip\n",
      "96 sw10yr04da.zip\n",
      "97 sw10yr04dal.zip\n",
      "98 sw10yr04dau.zip\n",
      "99 sw1yr04da.zip\n",
      "100 sw1yr04dal.zip\n",
      "101 sw1yr04dau.zip\n",
      "102 sw200yr04da.zip\n",
      "103 sw200yr04dal.zip\n",
      "104 sw200yr04dau.zip\n",
      "105 sw25yr04da.zip\n",
      "106 sw25yr04dal.zip\n",
      "107 sw25yr04dau.zip\n",
      "108 sw2yr04da.zip\n",
      "109 sw2yr04dal.zip\n",
      "110 sw2yr04dau.zip\n",
      "111 sw500yr04da.zip\n",
      "112 sw500yr04dal.zip\n",
      "113 sw500yr04dau.zip\n",
      "114 sw50yr04da.zip\n",
      "115 sw50yr04dal.zip\n",
      "116 sw50yr04dau.zip\n",
      "117 sw5yr04da.zip\n",
      "118 sw5yr04dal.zip\n",
      "119 sw5yr04dau.zip\n",
      "165 Seconds\n"
     ]
    },
    {
     "data": {
      "text/html": [
       "<div>\n",
       "<style scoped>\n",
       "    .dataframe tbody tr th:only-of-type {\n",
       "        vertical-align: middle;\n",
       "    }\n",
       "\n",
       "    .dataframe tbody tr th {\n",
       "        vertical-align: top;\n",
       "    }\n",
       "\n",
       "    .dataframe thead th {\n",
       "        text-align: right;\n",
       "    }\n",
       "</style>\n",
       "<table border=\"1\" class=\"dataframe\">\n",
       "  <thead>\n",
       "    <tr style=\"text-align: right;\">\n",
       "      <th></th>\n",
       "      <th>TR</th>\n",
       "      <th>duration</th>\n",
       "      <th>region</th>\n",
       "      <th>statistic</th>\n",
       "      <th>value</th>\n",
       "    </tr>\n",
       "  </thead>\n",
       "  <tbody>\n",
       "    <tr>\n",
       "      <th>0</th>\n",
       "      <td>1000</td>\n",
       "      <td>06h</td>\n",
       "      <td>sw</td>\n",
       "      <td>Expected Value</td>\n",
       "      <td>3.908791</td>\n",
       "    </tr>\n",
       "    <tr>\n",
       "      <th>1</th>\n",
       "      <td>1000</td>\n",
       "      <td>06h</td>\n",
       "      <td>sw</td>\n",
       "      <td>Lower (90%)</td>\n",
       "      <td>2.789731</td>\n",
       "    </tr>\n",
       "    <tr>\n",
       "      <th>2</th>\n",
       "      <td>1000</td>\n",
       "      <td>06h</td>\n",
       "      <td>sw</td>\n",
       "      <td>Upper (90%)</td>\n",
       "      <td>5.532162</td>\n",
       "    </tr>\n",
       "    <tr>\n",
       "      <th>3</th>\n",
       "      <td>100</td>\n",
       "      <td>06h</td>\n",
       "      <td>sw</td>\n",
       "      <td>Expected Value</td>\n",
       "      <td>2.904248</td>\n",
       "    </tr>\n",
       "    <tr>\n",
       "      <th>4</th>\n",
       "      <td>100</td>\n",
       "      <td>06h</td>\n",
       "      <td>sw</td>\n",
       "      <td>Lower (90%)</td>\n",
       "      <td>2.331145</td>\n",
       "    </tr>\n",
       "  </tbody>\n",
       "</table>\n",
       "</div>"
      ],
      "text/plain": [
       "     TR duration region       statistic     value\n",
       "0  1000      06h     sw  Expected Value  3.908791\n",
       "1  1000      06h     sw     Lower (90%)  2.789731\n",
       "2  1000      06h     sw     Upper (90%)  5.532162\n",
       "3   100      06h     sw  Expected Value  2.904248\n",
       "4   100      06h     sw     Lower (90%)  2.331145"
      ]
     },
     "metadata": {},
     "output_type": "display_data"
    },
    {
     "name": "stdout",
     "output_type": "stream",
     "text": [
      "None\n"
     ]
    }
   ],
   "source": [
    "df = build_precip_table(geo_df, all_zips_list, noaa_url, vol_code, 10, verbose) #The integer is the number of times to attempt getting the file from ftp"
   ]
  },
  {
   "cell_type": "markdown",
   "metadata": {},
   "source": [
    "## Save the Results to an Excel Workbook:"
   ]
  },
  {
   "cell_type": "markdown",
   "metadata": {},
   "source": [
    "### Create an outputs directory:"
   ]
  },
  {
   "cell_type": "code",
   "execution_count": 12,
   "metadata": {},
   "outputs": [],
   "source": [
    "if not os.path.isdir(outputs_dir):\n",
    "    os.mkdir(outputs_dir)"
   ]
  },
  {
   "cell_type": "markdown",
   "metadata": {},
   "source": [
    "### Save:"
   ]
  },
  {
   "cell_type": "code",
   "execution_count": 13,
   "metadata": {},
   "outputs": [
    {
     "name": "stdout",
     "output_type": "stream",
     "text": [
      "      Expected Value  Lower (90%)  Upper (90%)\n",
      "Tr                                            \n",
      "1           1.060043     0.944098     1.202274\n",
      "2           1.326197     1.179436     1.506256\n",
      "5           1.671803     1.482222     1.904692\n",
      "10          1.951150     1.713774     2.244004\n",
      "25          2.327521     1.967590     2.781128\n",
      "50          2.614496     2.157842     3.199876\n",
      "100         2.904248     2.331145     3.654859\n",
      "200         3.200919     2.488927     4.158171\n",
      "500         3.600291     2.671081     4.901722\n",
      "1000        3.908791     2.789731     5.532162\n",
      "      Expected Value  Lower (90%)  Upper (90%)\n",
      "Tr                                            \n",
      "1           1.478915     1.317132     1.677346\n",
      "2           1.858509     1.652880     2.110876\n",
      "5           2.347474     2.081303     2.674483\n",
      "10          2.740171     2.406799     3.151470\n",
      "25          3.265154     2.760184     3.901573\n",
      "50          3.662517     3.022838     4.482573\n",
      "100         4.061090     3.259709     5.110598\n",
      "200         4.466632     3.473120     5.802385\n",
      "500         5.008521     3.715906     6.819000\n",
      "1000        5.423786     3.870970     7.676338\n",
      "      Expected Value  Lower (90%)  Upper (90%)\n",
      "Tr                                            \n",
      "1           2.058274     1.852440     2.333714\n",
      "2           2.599214     2.336897     2.949979\n",
      "5           3.291603     2.952915     3.744034\n",
      "10          3.844402     3.425932     4.402171\n",
      "25          4.578650     3.970111     5.388295\n",
      "50          5.131064     4.372808     6.143692\n",
      "100         5.682098     4.745363     6.942453\n",
      "200         6.239624     5.091132     7.803235\n",
      "500         6.979735     5.500543     9.037397\n",
      "1000        7.543406     5.774752    10.054855\n",
      "      Expected Value  Lower (90%)  Upper (90%)\n",
      "Tr                                            \n",
      "1           3.415991     3.074316     3.873107\n",
      "2           4.331423     3.894282     4.915970\n",
      "5           5.504949     4.938462     6.261590\n",
      "10          6.444026     5.742547     7.378983\n",
      "25          7.694769     6.672034     9.055432\n",
      "50          8.638060     7.361530    10.342863\n",
      "100         9.580667     8.001269    11.705889\n",
      "200        10.536107     8.596782    13.176427\n",
      "500        11.807607     9.305278    15.288658\n",
      "1000       12.777906     9.781944    17.032179\n",
      "\n",
      "NOAA_Atlas_MetaData:\n"
     ]
    },
    {
     "data": {
      "text/html": [
       "<div>\n",
       "<style scoped>\n",
       "    .dataframe tbody tr th:only-of-type {\n",
       "        vertical-align: middle;\n",
       "    }\n",
       "\n",
       "    .dataframe tbody tr th {\n",
       "        vertical-align: top;\n",
       "    }\n",
       "\n",
       "    .dataframe thead th {\n",
       "        text-align: right;\n",
       "    }\n",
       "</style>\n",
       "<table border=\"1\" class=\"dataframe\">\n",
       "  <thead>\n",
       "    <tr style=\"text-align: right;\">\n",
       "      <th></th>\n",
       "      <th>Volume</th>\n",
       "      <th>Region</th>\n",
       "      <th>Percent_area</th>\n",
       "      <th>Volume_1</th>\n",
       "      <th>Region_1</th>\n",
       "      <th>Percent_area_1</th>\n",
       "    </tr>\n",
       "    <tr>\n",
       "      <th>AOI</th>\n",
       "      <th></th>\n",
       "      <th></th>\n",
       "      <th></th>\n",
       "      <th></th>\n",
       "      <th></th>\n",
       "      <th></th>\n",
       "    </tr>\n",
       "  </thead>\n",
       "  <tbody>\n",
       "    <tr>\n",
       "      <th>HUC12_180201160703</th>\n",
       "      <td>6</td>\n",
       "      <td>5</td>\n",
       "      <td>68.270511</td>\n",
       "      <td>6</td>\n",
       "      <td>2</td>\n",
       "      <td>31.729489</td>\n",
       "    </tr>\n",
       "  </tbody>\n",
       "</table>\n",
       "</div>"
      ],
      "text/plain": [
       "                   Volume  Region  Percent_area Volume_1  Region_1  \\\n",
       "AOI                                                                  \n",
       "HUC12_180201160703      6       5     68.270511        6         2   \n",
       "\n",
       "                    Percent_area_1  \n",
       "AOI                                 \n",
       "HUC12_180201160703       31.729489  "
      ]
     },
     "metadata": {},
     "output_type": "display_data"
    }
   ],
   "source": [
    "writer = pd.ExcelWriter(outputs_dir/'PrecipTable_{}.xlsx'.format(select_data))\n",
    "\n",
    "for i, d in enumerate(durations):\n",
    "    table = pd.pivot_table(df[df['duration'] == d], values = 'value', index=['TR'], columns=['statistic'])\n",
    "    table.index.name = 'Tr'\n",
    "    table.columns.name = None\n",
    "    table = table.sort_values(by = ['Expected Value'])\n",
    "    table.to_excel(writer, sheet_name = 'AreaDepths_{}'.format(dur_names[i]))\n",
    "    print(table)\n",
    "\n",
    "metadata = pd.DataFrame.from_dict([volume_dict])\n",
    "metadata['AOI'] = str(filter_field) + '_' + str(select_data)\n",
    "metadata = metadata.set_index('AOI')\n",
    "metadata.to_excel(writer, sheet_name = 'NOAA_Atlas_MetaData')\n",
    "print('\\nNOAA_Atlas_MetaData:')\n",
    "display(metadata)\n",
    "    \n",
    "writer.save()"
   ]
  },
  {
   "cell_type": "markdown",
   "metadata": {},
   "source": [
    "---"
   ]
  }
 ],
 "metadata": {
  "kernelspec": {
   "display_name": "Python 3",
   "language": "python",
   "name": "python3"
  },
  "language_info": {
   "codemirror_mode": {
    "name": "ipython",
    "version": 3
   },
   "file_extension": ".py",
   "mimetype": "text/x-python",
   "name": "python",
   "nbconvert_exporter": "python",
   "pygments_lexer": "ipython3",
   "version": "3.7.1"
  },
  "nteract": {
   "version": "0.12.3"
  }
 },
 "nbformat": 4,
 "nbformat_minor": 2
}
