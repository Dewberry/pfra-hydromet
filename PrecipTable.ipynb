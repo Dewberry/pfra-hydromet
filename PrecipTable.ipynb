{
 "cells": [
  {
   "cell_type": "markdown",
   "metadata": {},
   "source": [
    "# Precipitation Frequency Table\n",
    "\n",
    "__Description__: Auto-retrieve [NOAA Atlas 14](https://hdsc.nws.noaa.gov/hdsc/pfds/pfds_gis.html) precipitation statistics from [FTP](ftp://hdsc.nws.noaa.gov/pub/hdsc/data/) and calcualte the area-averaged precipitaiton frequency table for the area of interest (AOI).\n",
    "\n",
    "__Input__: A vector polygon of the AOI, the NOAA Atlas 14 [volume](https://hdsc.nws.noaa.gov/hdsc/pfds/pfds_temporal.html) number, and durations of interest.\n",
    "\n",
    "__Output__: A spreadsheet with tabs for each duration. Each tab contains a table for the given duration with area-averaged precipitation and confidence limits.\n",
    "\n",
    "---"
   ]
  },
  {
   "cell_type": "markdown",
   "metadata": {},
   "source": [
    "## Load Libraries, Parameters, and Data:"
   ]
  },
  {
   "cell_type": "markdown",
   "metadata": {},
   "source": [
    "### Libraries:"
   ]
  },
  {
   "cell_type": "code",
   "execution_count": 1,
   "metadata": {
    "collapsed": true
   },
   "outputs": [],
   "source": [
    "import sys\n",
    "sys.path.append('core')\n",
    "from hydromet import*\n",
    "from hydromet_plotter import*"
   ]
  },
  {
   "cell_type": "markdown",
   "metadata": {},
   "source": [
    "### Parameters: "
   ]
  },
  {
   "cell_type": "markdown",
   "metadata": {},
   "source": [
    "#### Papermill (site specific):"
   ]
  },
  {
   "cell_type": "code",
   "execution_count": 2,
   "metadata": {
    "collapsed": true
   },
   "outputs": [],
   "source": [
    "### Atlas 14 volume number:\n",
    "volume = 10\n",
    "\n",
    "### Vector polygon information (.geojson, .shp, or .gdb):\n",
    "polygon = 'test.geojson'\n",
    "\n",
    "root_dir = pl.Path(os.getcwd())\n",
    "inputs_dir = root_dir/'Inputs'\n",
    "polygon_dir = inputs_dir/polygon\n",
    "outputs_dir = root_dir/'Outputs'\n"
   ]
  },
  {
   "cell_type": "markdown",
   "metadata": {},
   "source": [
    "#### Global (project specific):"
   ]
  },
  {
   "cell_type": "code",
   "execution_count": 3,
   "metadata": {},
   "outputs": [],
   "source": [
    "assert volume!= 5, 'For Volume 5 (Selected Pacific Islands) the user needs to specify as sub_volume ID, which needs to be adapted into the workflow'\n",
    "volume_key = {1:'sw' , 2:'orb', 3:'pr', 4:'hi', 5:['nmi', 'ch', 'ko', 'pp', 'nk', 'pg', 'yp', 'wl', 'ul', 'pl', 'rm', 'as', 'gu', 'wki'], 6:'sw', 7:'ak', 8:'mw', 9:'se', 10:'ne', 11:'tx'}\n",
    "\n",
    "noaa_data_crs = {'init':'epsg:4326'} \n",
    "\n",
    "# If geopandas cannot read the projection info, add proj4 string here\n",
    "brute_force_projection=None\n",
    "\n",
    "durations = ['06h', '12h', '24h', '04d'] \n",
    "dur_names = ['6hr', '12hr', '24hr', '96hr']"
   ]
  },
  {
   "cell_type": "markdown",
   "metadata": {},
   "source": [
    "## Read Vector Polygon:"
   ]
  },
  {
   "cell_type": "markdown",
   "metadata": {},
   "source": [
    "### Load as a geodataframe:"
   ]
  },
  {
   "cell_type": "code",
   "execution_count": 4,
   "metadata": {},
   "outputs": [
    {
     "data": {
      "text/html": [
       "<div>\n",
       "<style scoped>\n",
       "    .dataframe tbody tr th:only-of-type {\n",
       "        vertical-align: middle;\n",
       "    }\n",
       "\n",
       "    .dataframe tbody tr th {\n",
       "        vertical-align: top;\n",
       "    }\n",
       "\n",
       "    .dataframe thead th {\n",
       "        text-align: right;\n",
       "    }\n",
       "</style>\n",
       "<table border=\"1\" class=\"dataframe\">\n",
       "  <thead>\n",
       "    <tr style=\"text-align: right;\">\n",
       "      <th></th>\n",
       "      <th>HUC_8</th>\n",
       "      <th>OBJECTID_1</th>\n",
       "      <th>ID</th>\n",
       "      <th>HUC_89</th>\n",
       "      <th>RISK_FACTO</th>\n",
       "      <th>RISK_RANK</th>\n",
       "      <th>RISK_DECIL</th>\n",
       "      <th>RISKPCT</th>\n",
       "      <th>RANK_NO</th>\n",
       "      <th>Shape_Leng</th>\n",
       "      <th>Shape_Area</th>\n",
       "      <th>Scope_Mile</th>\n",
       "      <th>geometry</th>\n",
       "    </tr>\n",
       "  </thead>\n",
       "  <tbody>\n",
       "    <tr>\n",
       "      <th>0</th>\n",
       "      <td>02010006</td>\n",
       "      <td>0</td>\n",
       "      <td>0.0</td>\n",
       "      <td>None</td>\n",
       "      <td>0.0</td>\n",
       "      <td>0.0</td>\n",
       "      <td>0.0</td>\n",
       "      <td>None</td>\n",
       "      <td>0.0</td>\n",
       "      <td>3.708098</td>\n",
       "      <td>0.17945</td>\n",
       "      <td>177.1</td>\n",
       "      <td>(POLYGON ((-73.9083514 44.36842019999995, -73....</td>\n",
       "    </tr>\n",
       "  </tbody>\n",
       "</table>\n",
       "</div>"
      ],
      "text/plain": [
       "      HUC_8  OBJECTID_1   ID HUC_89  RISK_FACTO  RISK_RANK  RISK_DECIL  \\\n",
       "0  02010006           0  0.0   None         0.0        0.0         0.0   \n",
       "\n",
       "  RISKPCT  RANK_NO  Shape_Leng  Shape_Area  Scope_Mile  \\\n",
       "0    None      0.0    3.708098     0.17945       177.1   \n",
       "\n",
       "                                            geometry  \n",
       "0  (POLYGON ((-73.9083514 44.36842019999995, -73....  "
      ]
     },
     "execution_count": 4,
     "metadata": {},
     "output_type": "execute_result"
    }
   ],
   "source": [
    "gdf = gpd.GeoDataFrame.from_file(polygon_dir)\n",
    "gdf.head(2)"
   ]
  },
  {
   "cell_type": "markdown",
   "metadata": {},
   "source": [
    "### Add filtering if desired"
   ]
  },
  {
   "cell_type": "code",
   "execution_count": 5,
   "metadata": {},
   "outputs": [],
   "source": [
    "filter_field = 'HUC_8'        # Attribute with in the vector polygon used for data selection\n",
    "select_data = '02010006'  # Value within the filter_field used for data selection\n",
    "gdf_slice_column = 'HUC_8'   # Column within the vector polygon to plot"
   ]
  },
  {
   "cell_type": "markdown",
   "metadata": {},
   "source": [
    "#### Determine projection:"
   ]
  },
  {
   "cell_type": "code",
   "execution_count": 6,
   "metadata": {},
   "outputs": [
    {
     "name": "stdout",
     "output_type": "stream",
     "text": [
      "Vector Layer crs = +units=m +init=epsg:4269 \n"
     ]
    }
   ],
   "source": [
    "with fiona.collection(polygon_dir, 'r') as layer:\n",
    "    try:\n",
    "        vector_crs_prj = Proj(layer.crs).srs\n",
    "        print('Vector Layer crs = {}'.format(vector_crs_prj))\n",
    "        \n",
    "    except RuntimeError as e:\n",
    "        vector_crs_prj = brute_force_projection\n",
    "        print('Runtime Error: {}...setting projection as {}'.format(e, brute_force_projection))"
   ]
  },
  {
   "cell_type": "markdown",
   "metadata": {},
   "source": [
    "#### Extract the area of interest, reproject, and plot:"
   ]
  },
  {
   "cell_type": "code",
   "execution_count": 7,
   "metadata": {},
   "outputs": [
    {
     "data": {
      "image/png": "[encoded data removed]",
      "text/plain": [
       "<Figure size 1008x1296 with 1 Axes>"
      ]
     },
     "metadata": {},
     "output_type": "display_data"
    }
   ],
   "source": [
    "gdf_slice = gdf.loc[gdf[filter_field]==select_data].copy()\n",
    "\n",
    "gdf_slice.crs = vector_crs_prj\n",
    "\n",
    "geo_df = gdf_slice.to_crs(crs = noaa_data_crs)\n",
    "\n",
    "plot_area_of_interest(geo_df, select_data, gdf_slice_column)"
   ]
  },
  {
   "cell_type": "markdown",
   "metadata": {},
   "source": [
    "## Retrieve the Precipitation Frequency Data:"
   ]
  },
  {
   "cell_type": "markdown",
   "metadata": {},
   "source": [
    "### Get list of zip files:"
   ]
  },
  {
   "cell_type": "code",
   "execution_count": 8,
   "metadata": {},
   "outputs": [
    {
     "name": "stdout",
     "output_type": "stream",
     "text": [
      "30 files found for 06h\n",
      "30 files found for 12h\n",
      "30 files found for 24h\n",
      "30 files found for 04d\n"
     ]
    }
   ],
   "source": [
    "noaa_url = 'ftp://hdsc.nws.noaa.gov/pub/hdsc/data/{}/'.format(volume_key[volume])\n",
    "\n",
    "req = urllib.request.Request(noaa_url)\n",
    "data = urllib.request.urlopen(req).read().decode().split()\n",
    "\n",
    "copy_zips = []\n",
    "for duration in durations:\n",
    "    zips = [d for d in data if ('.zip' in d) and ('{}'.format(duration) in d) and ('ams' not in d)]\n",
    "    copy_zips.append(zips)\n",
    "    print('{} files found for {}'.format(len(zips), duration))\n",
    "\n",
    "all_zips_list = list(np.array(copy_zips).flat)"
   ]
  },
  {
   "cell_type": "markdown",
   "metadata": {},
   "source": [
    "### Iterate through zip files and build a table:"
   ]
  },
  {
   "cell_type": "code",
   "execution_count": 9,
   "metadata": {},
   "outputs": [
    {
     "name": "stdout",
     "output_type": "stream",
     "text": [
      "0 ne1000yr06ha.zip\n",
      "1 ne1000yr06hal.zip\n",
      "2 ne1000yr06hau.zip\n",
      "3 ne100yr06ha.zip\n",
      "4 ne100yr06hal.zip\n",
      "5 ne100yr06hau.zip\n",
      "6 ne10yr06ha.zip\n",
      "7 ne10yr06hal.zip\n",
      "8 ne10yr06hau.zip\n",
      "9 ne1yr06ha.zip\n",
      "10 ne1yr06hal.zip\n",
      "11 ne1yr06hau.zip\n",
      "12 ne200yr06ha.zip\n",
      "13 ne200yr06hal.zip\n",
      "14 ne200yr06hau.zip\n",
      "15 ne25yr06ha.zip\n",
      "16 ne25yr06hal.zip\n",
      "17 ne25yr06hau.zip\n",
      "18 ne2yr06ha.zip\n",
      "19 ne2yr06hal.zip\n",
      "20 ne2yr06hau.zip\n",
      "21 ne500yr06ha.zip\n",
      "22 ne500yr06hal.zip\n",
      "23 ne500yr06hau.zip\n",
      "24 ne50yr06ha.zip\n",
      "25 ne50yr06hal.zip\n",
      "26 ne50yr06hau.zip\n",
      "27 ne5yr06ha.zip\n",
      "28 ne5yr06hal.zip\n",
      "29 ne5yr06hau.zip\n",
      "30 ne1000yr12ha.zip\n",
      "31 ne1000yr12hal.zip\n",
      "32 ne1000yr12hau.zip\n",
      "33 ne100yr12ha.zip\n",
      "34 ne100yr12hal.zip\n",
      "35 ne100yr12hau.zip\n",
      "36 ne10yr12ha.zip\n",
      "37 ne10yr12hal.zip\n",
      "38 ne10yr12hau.zip\n",
      "39 ne1yr12ha.zip\n",
      "40 ne1yr12hal.zip\n",
      "41 ne1yr12hau.zip\n",
      "42 ne200yr12ha.zip\n",
      "43 ne200yr12hal.zip\n",
      "44 ne200yr12hau.zip\n",
      "45 ne25yr12ha.zip\n",
      "46 ne25yr12hal.zip\n",
      "47 ne25yr12hau.zip\n",
      "48 ne2yr12ha.zip\n",
      "49 ne2yr12hal.zip\n",
      "50 ne2yr12hau.zip\n",
      "51 ne500yr12ha.zip\n",
      "52 ne500yr12hal.zip\n",
      "53 ne500yr12hau.zip\n",
      "54 ne50yr12ha.zip\n",
      "55 ne50yr12hal.zip\n",
      "56 ne50yr12hau.zip\n",
      "57 ne5yr12ha.zip\n",
      "58 ne5yr12hal.zip\n",
      "59 ne5yr12hau.zip\n",
      "60 ne1000yr24ha.zip\n",
      "61 ne1000yr24hal.zip\n",
      "62 ne1000yr24hau.zip\n",
      "63 ne100yr24ha.zip\n",
      "64 ne100yr24hal.zip\n",
      "65 ne100yr24hau.zip\n",
      "66 ne10yr24ha.zip\n",
      "67 ne10yr24hal.zip\n",
      "68 ne10yr24hau.zip\n",
      "69 ne1yr24ha.zip\n",
      "70 ne1yr24hal.zip\n",
      "71 ne1yr24hau.zip\n",
      "72 ne200yr24ha.zip\n",
      "73 ne200yr24hal.zip\n",
      "74 ne200yr24hau.zip\n",
      "75 ne25yr24ha.zip\n",
      "76 ne25yr24hal.zip\n",
      "77 ne25yr24hau.zip\n",
      "78 ne2yr24ha.zip\n",
      "79 ne2yr24hal.zip\n",
      "80 ne2yr24hau.zip\n",
      "81 ne500yr24ha.zip\n",
      "82 ne500yr24hal.zip\n",
      "83 ne500yr24hau.zip\n",
      "84 ne50yr24ha.zip\n",
      "85 ne50yr24hal.zip\n",
      "86 ne50yr24hau.zip\n",
      "87 ne5yr24ha.zip\n",
      "88 ne5yr24hal.zip\n",
      "89 ne5yr24hau.zip\n",
      "90 ne1000yr04da.zip\n",
      "91 ne1000yr04dal.zip\n",
      "92 ne1000yr04dau.zip\n",
      "93 ne100yr04da.zip\n",
      "94 ne100yr04dal.zip\n",
      "95 ne100yr04dau.zip\n",
      "96 ne10yr04da.zip\n",
      "97 ne10yr04dal.zip\n",
      "98 ne10yr04dau.zip\n",
      "99 ne1yr04da.zip\n",
      "100 ne1yr04dal.zip\n",
      "101 ne1yr04dau.zip\n",
      "102 ne200yr04da.zip\n",
      "103 ne200yr04dal.zip\n",
      "104 ne200yr04dau.zip\n",
      "105 ne25yr04da.zip\n",
      "106 ne25yr04dal.zip\n",
      "107 ne25yr04dau.zip\n",
      "108 ne2yr04da.zip\n",
      "109 ne2yr04dal.zip\n",
      "110 ne2yr04dau.zip\n",
      "111 ne500yr04da.zip\n",
      "112 ne500yr04dal.zip\n",
      "113 ne500yr04dau.zip\n",
      "114 ne50yr04da.zip\n",
      "115 ne50yr04dal.zip\n",
      "116 ne50yr04dau.zip\n",
      "117 ne5yr04da.zip\n",
      "118 ne5yr04dal.zip\n",
      "119 ne5yr04dau.zip\n",
      "57 Seconds\n"
     ]
    }
   ],
   "source": [
    "start = time.time()\n",
    "results = []\n",
    "print_zips=True\n",
    "for i, zip_name in enumerate(all_zips_list):\n",
    "    \n",
    "    remote_file = os.path.join(noaa_url, zip_name)\n",
    "    try:\n",
    "        \n",
    "        open_socket = urllib.request.urlopen(remote_file)   \n",
    "        memfile = io.BytesIO(open_socket.read())\n",
    "\n",
    "        with ZipFile(memfile, 'r') as openzip:\n",
    "            gridfiles = openzip.namelist()\n",
    "            assert len(gridfiles) == 1,'Expected to find 1 file, found {}'.format(len(gridfiles))\n",
    "            local_file = gridfiles[0]\n",
    "\n",
    "            f = openzip.open(local_file)\n",
    "            content = f.read() \n",
    "\n",
    "            local_file_to_disk = os.path.join(os.getcwd(), local_file)\n",
    "\n",
    "            with open(local_file_to_disk, 'wb') as asc:\n",
    "                asc.write(content)\n",
    "\n",
    "        grid_data = parse_filename(zip_name, volume_key[volume])\n",
    "        grid_data['value'] = get_masked_mean_atlas14(geo_df, local_file_to_disk)    \n",
    "        results.append(grid_data)\n",
    "\n",
    "        os.remove(local_file_to_disk)\n",
    "        if print_zips: print(i, zip_name)\n",
    "        \n",
    "    except:\n",
    "        print(\"Unable to get data for {}...may be the result of a poor connection\".format(zip_name))\n",
    "        \n",
    "print(round(time.time()-start), 'Seconds')"
   ]
  },
  {
   "cell_type": "markdown",
   "metadata": {},
   "source": [
    "## Save the Results:"
   ]
  },
  {
   "cell_type": "markdown",
   "metadata": {},
   "source": [
    "### Create an outputs directory:"
   ]
  },
  {
   "cell_type": "code",
   "execution_count": 10,
   "metadata": {},
   "outputs": [],
   "source": [
    "if not os.path.isdir(outputs_dir):\n",
    "    os.mkdir(outputs_dir)"
   ]
  },
  {
   "cell_type": "markdown",
   "metadata": {},
   "source": [
    "### Transform the data to a dataframe and save:"
   ]
  },
  {
   "cell_type": "code",
   "execution_count": 11,
   "metadata": {},
   "outputs": [
    {
     "name": "stdout",
     "output_type": "stream",
     "text": [
      "      Expected Value  Lower (90%)  Upper (90%)\n",
      "Tr                                            \n",
      "1           1.402850     1.148532     1.702089\n",
      "2           1.680928     1.374522     2.041564\n",
      "5           2.135597     1.739553     2.602149\n",
      "10          2.512793     2.033436     3.078254\n",
      "25          3.031982     2.365180     3.880254\n",
      "50          3.420349     2.607081     4.471436\n",
      "100         3.832415     2.826416     5.200728\n",
      "200         4.308613     2.979932     5.949647\n",
      "500         5.007066     3.314275     7.149201\n",
      "1000        5.589311     3.601647     8.135424\n",
      "      Expected Value  Lower (90%)  Upper (90%)\n",
      "Tr                                            \n",
      "1           1.687509     1.390980     2.033393\n",
      "2           2.000067     1.646528     2.412450\n",
      "5           2.511113     2.059148     3.038385\n",
      "10          2.935034     2.391054     3.569929\n",
      "25          3.518568     2.762640     4.461597\n",
      "50          3.955944     3.034154     5.119961\n",
      "100         4.418208     3.276744     5.926685\n",
      "200         4.947812     3.446555     6.757805\n",
      "500         5.719289     3.812688     8.070159\n",
      "1000        6.358996     4.125803     9.143917\n",
      "      Expected Value  Lower (90%)  Upper (90%)\n",
      "Tr                                            \n",
      "1           1.995006     1.655662     2.387246\n",
      "2           2.335840     1.936051     2.797908\n",
      "5           2.893125     2.388520     3.476063\n",
      "10          3.355486     2.752123     4.052028\n",
      "25          3.991860     3.154137     5.012604\n",
      "50          4.470646     3.449130     5.724172\n",
      "100         4.972951     3.706064     6.586301\n",
      "200         5.539123     3.886867     7.481181\n",
      "500         6.353127     4.266016     8.857268\n",
      "1000        7.021048     4.586699     9.972596\n",
      "      Expected Value  Lower (90%)  Upper (90%)\n",
      "Tr                                            \n",
      "1           2.835210     2.385557     3.345461\n",
      "2           3.215599     2.702183     3.797842\n",
      "5           3.837540     3.212184     4.545343\n",
      "10          4.353486     3.620203     5.180790\n",
      "25          5.063672     4.052948     6.229536\n",
      "50          5.603846     4.374581     7.013712\n",
      "100         6.158565     4.631600     7.936309\n",
      "200         6.754974     4.813071     8.915414\n",
      "500         7.580558     5.167315    10.309866\n",
      "1000        8.235755     5.455485    11.407397\n"
     ]
    }
   ],
   "source": [
    "df = pd.DataFrame.from_dict(results)\n",
    "\n",
    "writer = pd.ExcelWriter(outputs_dir/'PrecipTable_{}.xlsx'.format(select_data))\n",
    "\n",
    "for i, d in enumerate(durations):\n",
    "    table = pd.pivot_table(df[df['duration']==d], values = 'value', index=['TR'], columns=['statistic'])\n",
    "    table.index.name='Tr'\n",
    "    table.columns.name = None\n",
    "    table = table.sort_values(by=['Expected Value'])\n",
    "    table.to_excel(writer, sheet_name='AreaDepths_{}'.format(dur_names[i]))\n",
    "    print(table)\n",
    "    \n",
    "writer.save()"
   ]
  },
  {
   "cell_type": "markdown",
   "metadata": {},
   "source": [
    "---"
   ]
  },
  {
   "cell_type": "markdown",
   "metadata": {},
   "source": [
    "# END"
   ]
  }
 ],
 "metadata": {
  "kernelspec": {
   "display_name": "Python 3",
   "language": "python",
   "name": "python3"
  },
  "language_info": {
   "codemirror_mode": {
    "name": "ipython",
    "version": 3
   },
   "file_extension": ".py",
   "mimetype": "text/x-python",
   "name": "python",
   "nbconvert_exporter": "python",
   "pygments_lexer": "ipython3",
   "version": "3.7.1"
  },
  "nteract": {
   "version": "0.12.3"
  }
 },
 "nbformat": 4,
 "nbformat_minor": 2
}
