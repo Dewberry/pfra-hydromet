{
 "cells": [
  {
   "cell_type": "markdown",
   "metadata": {},
   "source": [
    "# Precipitation Frequency Table\n",
    "\n",
    "__Description__: Auto-retrieve [NOAA Atlas 14](https://hdsc.nws.noaa.gov/hdsc/pfds/pfds_gis.html) precipitation statistics from [FTP](ftp://hdsc.nws.noaa.gov/pub/hdsc/data/) and calcualte the area-averaged precipitaiton frequency table for the area of interest (AOI).\n",
    "\n",
    "__Input__: A vector polygon of the AOI, the NOAA Atlas 14 [volume](https://hdsc.nws.noaa.gov/hdsc/pfds/pfds_temporal.html) number, and durations of interest.\n",
    "\n",
    "__Output__: A spreadsheet with tabs for each duration. Each tab contains a table for the given duration with area-averaged precipitation and confidence limits.\n",
    "\n",
    "---"
   ]
  },
  {
   "cell_type": "markdown",
   "metadata": {},
   "source": [
    "## Load Libraries, Parameters, and Data:"
   ]
  },
  {
   "cell_type": "markdown",
   "metadata": {},
   "source": [
    "### Libraries:"
   ]
  },
  {
   "cell_type": "code",
   "execution_count": 1,
   "metadata": {
    "collapsed": true
   },
   "outputs": [],
   "source": [
    "import sys\n",
    "sys.path.append('core')\n",
    "from hydromet import*"
   ]
  },
  {
   "cell_type": "markdown",
   "metadata": {},
   "source": [
    "### Parameters: "
   ]
  },
  {
   "cell_type": "markdown",
   "metadata": {},
   "source": [
    "#### Papermill (site specific):"
   ]
  },
  {
   "cell_type": "code",
   "execution_count": 2,
   "metadata": {
    "collapsed": true
   },
   "outputs": [],
   "source": [
    "## Atlas 14 volume number:\n",
    "volume = 2\n",
    "\n",
    "\n",
    "## Vector polygon information (.geojson, .shp, or .gdb):\n",
    "polygon = 'D01_2D_Domain.shp'\n",
    "\n",
    "\n",
    "## Paths:\n",
    "root_dir = pl.Path(os.getcwd())\n",
    "inputs_dir = root_dir/'Inputs'\n",
    "datarepository_dir = root_dir/'DataRepository'\n",
    "polygon_dir = inputs_dir/polygon\n",
    "outputs_dir = root_dir/'Outputs'\n",
    "\n",
    "\n",
    "## If geopandas cannot read the projection info, add proj4 string here\n",
    "brute_force_projection = None"
   ]
  },
  {
   "cell_type": "markdown",
   "metadata": {},
   "source": [
    "#### Global (project specific):"
   ]
  },
  {
   "cell_type": "code",
   "execution_count": 3,
   "metadata": {},
   "outputs": [],
   "source": [
    "noaa_data_crs = {'init':'epsg:4326'} \n",
    "\n",
    "durations = ['06h', '12h', '24h', '04d'] \n",
    "dur_names = ['6hr', '12hr', '24hr', '96hr']\n",
    "\n",
    "vol_code_filename = 'NOAA_Atlas_Volume_Codes.json'\n",
    "\n",
    "verbose = True"
   ]
  },
  {
   "cell_type": "markdown",
   "metadata": {},
   "source": [
    "### Load Atlas 14 volume code from json:"
   ]
  },
  {
   "cell_type": "code",
   "execution_count": 4,
   "metadata": {},
   "outputs": [
    {
     "name": "stdout",
     "output_type": "stream",
     "text": [
      "NOAA Atlas 14 Volume Code: orb\n"
     ]
    }
   ],
   "source": [
    "vol_code = get_volume_code(datarepository_dir, vol_code_filename, volume)"
   ]
  },
  {
   "cell_type": "markdown",
   "metadata": {},
   "source": [
    "## Read Vector Polygon:"
   ]
  },
  {
   "cell_type": "markdown",
   "metadata": {},
   "source": [
    "### Load as a geodataframe:"
   ]
  },
  {
   "cell_type": "code",
   "execution_count": 5,
   "metadata": {},
   "outputs": [
    {
     "data": {
      "text/html": [
       "<div>\n",
       "<style scoped>\n",
       "    .dataframe tbody tr th:only-of-type {\n",
       "        vertical-align: middle;\n",
       "    }\n",
       "\n",
       "    .dataframe tbody tr th {\n",
       "        vertical-align: top;\n",
       "    }\n",
       "\n",
       "    .dataframe thead th {\n",
       "        text-align: right;\n",
       "    }\n",
       "</style>\n",
       "<table border=\"1\" class=\"dataframe\">\n",
       "  <thead>\n",
       "    <tr style=\"text-align: right;\">\n",
       "      <th></th>\n",
       "      <th>FID_2D_Dom</th>\n",
       "      <th>FID_CamRun</th>\n",
       "      <th>FID_1</th>\n",
       "      <th>Count</th>\n",
       "      <th>Length</th>\n",
       "      <th>Area</th>\n",
       "      <th>FID_CamR_1</th>\n",
       "      <th>FID_CamR_2</th>\n",
       "      <th>Id</th>\n",
       "      <th>FID_CamR_3</th>\n",
       "      <th>...</th>\n",
       "      <th>Area_1</th>\n",
       "      <th>FID_Camero</th>\n",
       "      <th>Id_1</th>\n",
       "      <th>Shape_Leng</th>\n",
       "      <th>Shape_Area</th>\n",
       "      <th>FID_Add_Ca</th>\n",
       "      <th>Id_12</th>\n",
       "      <th>Area_12</th>\n",
       "      <th>Area_12_13</th>\n",
       "      <th>geometry</th>\n",
       "    </tr>\n",
       "  </thead>\n",
       "  <tbody>\n",
       "    <tr>\n",
       "      <th>0</th>\n",
       "      <td>0</td>\n",
       "      <td>0</td>\n",
       "      <td>0.0</td>\n",
       "      <td>88.0</td>\n",
       "      <td>216571.202923</td>\n",
       "      <td>1.644100e+09</td>\n",
       "      <td>-1</td>\n",
       "      <td>0</td>\n",
       "      <td>0</td>\n",
       "      <td>0</td>\n",
       "      <td>...</td>\n",
       "      <td>0.0</td>\n",
       "      <td>0</td>\n",
       "      <td>0</td>\n",
       "      <td>0.0</td>\n",
       "      <td>0.0</td>\n",
       "      <td>-1</td>\n",
       "      <td>0</td>\n",
       "      <td>53.617756</td>\n",
       "      <td>34315.363681</td>\n",
       "      <td>POLYGON ((1250722.687626332 448421.3110747337,...</td>\n",
       "    </tr>\n",
       "  </tbody>\n",
       "</table>\n",
       "<p>1 rows × 24 columns</p>\n",
       "</div>"
      ],
      "text/plain": [
       "   FID_2D_Dom  FID_CamRun  FID_1  Count         Length          Area  \\\n",
       "0           0           0    0.0   88.0  216571.202923  1.644100e+09   \n",
       "\n",
       "   FID_CamR_1  FID_CamR_2  Id  FID_CamR_3  ...  Area_1  FID_Camero  Id_1  \\\n",
       "0          -1           0   0           0  ...     0.0           0     0   \n",
       "\n",
       "   Shape_Leng  Shape_Area  FID_Add_Ca  Id_12    Area_12    Area_12_13  \\\n",
       "0         0.0         0.0          -1      0  53.617756  34315.363681   \n",
       "\n",
       "                                            geometry  \n",
       "0  POLYGON ((1250722.687626332 448421.3110747337,...  \n",
       "\n",
       "[1 rows x 24 columns]"
      ]
     },
     "execution_count": 5,
     "metadata": {},
     "output_type": "execute_result"
    }
   ],
   "source": [
    "gdf = gpd.GeoDataFrame.from_file(polygon_dir)\n",
    "\n",
    "gdf.head(2)"
   ]
  },
  {
   "cell_type": "markdown",
   "metadata": {},
   "source": [
    "### Add filtering if desired"
   ]
  },
  {
   "cell_type": "code",
   "execution_count": 6,
   "metadata": {},
   "outputs": [],
   "source": [
    "filter_field = 'FID_2D_Dom'        # Attribute with in the vector polygon used for data selection\n",
    "select_data = 0                    # Value within the filter_field used for data selection\n",
    "gdf_slice_column = 'FID_2D_Dom'    # Column within the vector polygon to plot"
   ]
  },
  {
   "cell_type": "markdown",
   "metadata": {},
   "source": [
    "### Determine projection:\n",
    "- If a projection cannot be determined automatically, search for the projection using the EPSG number on the following website: https://www.spatialreference.org/, select 'Proj4', and copy and paste the string above, setting it equal to brute_force_projection. Rerun the cell with the brute_force_projection string and the cell below."
   ]
  },
  {
   "cell_type": "code",
   "execution_count": 7,
   "metadata": {},
   "outputs": [
    {
     "name": "stdout",
     "output_type": "stream",
     "text": [
      "Original Coordinate Reference System: {'init': 'epsg:2248'}\n",
      "Error: Setting projection as +proj=lcc +lat_1=39.45 +lat_2=38.3 +lat_0=37.66666666666666 +lon_0=-77 +x_0=399999.9998983998 +y_0=0 +ellps=GRS80 +datum=NAD83 +to_meter=0.3048006096012192 +no_defs\n"
     ]
    }
   ],
   "source": [
    "print('Original Coordinate Reference System:', gdf.crs)\n",
    "with fiona.collection(polygon_dir, 'r') as layer:\n",
    "    try:\n",
    "        vector_crs_prj = Proj(layer.crs).srs\n",
    "        if 'epsg' in vector_crs_prj: \n",
    "            raise KeyboardInterrupt\n",
    "        else: \n",
    "            print('Vector Layer crs = {}'.format(vector_crs_prj))\n",
    "        \n",
    "    except:\n",
    "        assert brute_force_projection!= None, 'Need to specify projection'\n",
    "        vector_crs_prj = brute_force_projection\n",
    "        print('Error: Setting projection as {}'.format(brute_force_projection))"
   ]
  },
  {
   "cell_type": "markdown",
   "metadata": {},
   "source": [
    "### Extract the area of interest, reproject, and plot:"
   ]
  },
  {
   "cell_type": "code",
   "execution_count": 8,
   "metadata": {},
   "outputs": [
    {
     "data": {
      "image/png": "[encoded data removed]",
      "text/plain": [
       "<Figure size 1008x1296 with 1 Axes>"
      ]
     },
     "metadata": {
      "needs_background": "light"
     },
     "output_type": "display_data"
    }
   ],
   "source": [
    "gdf = gdf.loc[gdf[filter_field] == select_data].copy()\n",
    "    \n",
    "gdf.crs = vector_crs_prj\n",
    "\n",
    "geo_df = gdf.to_crs(crs = noaa_data_crs)\n",
    "\n",
    "plot_area_of_interest(geo_df, select_data, gdf_slice_column)"
   ]
  },
  {
   "cell_type": "markdown",
   "metadata": {},
   "source": [
    "## Retrieve the Precipitation Frequency Data:"
   ]
  },
  {
   "cell_type": "markdown",
   "metadata": {},
   "source": [
    "### Get list of zip files:"
   ]
  },
  {
   "cell_type": "code",
   "execution_count": 9,
   "metadata": {},
   "outputs": [
    {
     "name": "stdout",
     "output_type": "stream",
     "text": [
      "30 files found for 06h\n",
      "30 files found for 12h\n",
      "30 files found for 24h\n",
      "30 files found for 04d\n"
     ]
    }
   ],
   "source": [
    "noaa_url = 'ftp://hdsc.nws.noaa.gov/pub/hdsc/data/{}/'.format(vol_code)\n",
    "\n",
    "req = urllib.request.Request(noaa_url)\n",
    "data = urllib.request.urlopen(req).read().decode().split()\n",
    "\n",
    "copy_zips = []\n",
    "for duration in durations:\n",
    "    zips = [d for d in data if ('.zip' in d) and ('{}'.format(duration) in d) and ('ams' not in d)]\n",
    "    copy_zips.append(zips)\n",
    "    if verbose: print('{} files found for {}'.format(len(zips), duration))\n",
    "\n",
    "all_zips_list = list(np.array(copy_zips).flat)"
   ]
  },
  {
   "cell_type": "markdown",
   "metadata": {},
   "source": [
    "### Iterate through zip files and build a table:"
   ]
  },
  {
   "cell_type": "code",
   "execution_count": 10,
   "metadata": {},
   "outputs": [
    {
     "name": "stdout",
     "output_type": "stream",
     "text": [
      "0 orb1000yr06ha.zip\n",
      "1 orb1000yr06hal.zip\n",
      "2 orb1000yr06hau.zip\n",
      "3 orb100yr06ha.zip\n",
      "4 orb100yr06hal.zip\n",
      "5 orb100yr06hau.zip\n",
      "6 orb10yr06ha.zip\n",
      "7 orb10yr06hal.zip\n",
      "8 orb10yr06hau.zip\n",
      "9 orb1yr06ha.zip\n",
      "10 orb1yr06hal.zip\n",
      "11 orb1yr06hau.zip\n",
      "12 orb200yr06ha.zip\n",
      "13 orb200yr06hal.zip\n",
      "14 orb200yr06hau.zip\n",
      "15 orb25yr06ha.zip\n",
      "16 orb25yr06hal.zip\n",
      "17 orb25yr06hau.zip\n",
      "18 orb2yr06ha.zip\n",
      "19 orb2yr06hal.zip\n",
      "20 orb2yr06hau.zip\n",
      "21 orb500yr06ha.zip\n",
      "22 orb500yr06hal.zip\n",
      "23 orb500yr06hau.zip\n",
      "24 orb50yr06ha.zip\n",
      "25 orb50yr06hal.zip\n",
      "26 orb50yr06hau.zip\n",
      "27 orb5yr06ha.zip\n",
      "28 orb5yr06hal.zip\n",
      "29 orb5yr06hau.zip\n",
      "30 orb1000yr12ha.zip\n",
      "31 orb1000yr12hal.zip\n",
      "32 orb1000yr12hau.zip\n",
      "33 orb100yr12ha.zip\n",
      "34 orb100yr12hal.zip\n",
      "35 orb100yr12hau.zip\n",
      "36 orb10yr12ha.zip\n",
      "37 orb10yr12hal.zip\n",
      "38 orb10yr12hau.zip\n",
      "39 orb1yr12ha.zip\n",
      "40 orb1yr12hal.zip\n",
      "41 orb1yr12hau.zip\n",
      "42 orb200yr12ha.zip\n",
      "43 orb200yr12hal.zip\n",
      "44 orb200yr12hau.zip\n",
      "45 orb25yr12ha.zip\n",
      "46 orb25yr12hal.zip\n",
      "47 orb25yr12hau.zip\n",
      "48 orb2yr12ha.zip\n",
      "49 orb2yr12hal.zip\n",
      "50 orb2yr12hau.zip\n",
      "51 orb500yr12ha.zip\n",
      "52 orb500yr12hal.zip\n",
      "53 orb500yr12hau.zip\n",
      "54 orb50yr12ha.zip\n",
      "55 orb50yr12hal.zip\n",
      "56 orb50yr12hau.zip\n",
      "57 orb5yr12ha.zip\n",
      "58 orb5yr12hal.zip\n",
      "59 orb5yr12hau.zip\n",
      "60 orb1000yr24ha.zip\n",
      "61 orb1000yr24hal.zip\n",
      "62 orb1000yr24hau.zip\n",
      "63 orb100yr24ha.zip\n",
      "64 orb100yr24hal.zip\n",
      "65 orb100yr24hau.zip\n",
      "66 orb10yr24ha.zip\n",
      "67 orb10yr24hal.zip\n",
      "68 orb10yr24hau.zip\n",
      "69 orb1yr24ha.zip\n",
      "70 orb1yr24hal.zip\n",
      "71 orb1yr24hau.zip\n",
      "72 orb200yr24ha.zip\n",
      "73 orb200yr24hal.zip\n",
      "74 orb200yr24hau.zip\n",
      "75 orb25yr24ha.zip\n",
      "76 orb25yr24hal.zip\n",
      "77 orb25yr24hau.zip\n",
      "78 orb2yr24ha.zip\n",
      "79 orb2yr24hal.zip\n",
      "80 orb2yr24hau.zip\n",
      "81 orb500yr24ha.zip\n",
      "82 orb500yr24hal.zip\n",
      "83 orb500yr24hau.zip\n",
      "84 orb50yr24ha.zip\n",
      "85 orb50yr24hal.zip\n",
      "86 orb50yr24hau.zip\n",
      "87 orb5yr24ha.zip\n",
      "88 orb5yr24hal.zip\n",
      "89 orb5yr24hau.zip\n",
      "90 orb1000yr04da.zip\n",
      "91 orb1000yr04dal.zip\n",
      "92 orb1000yr04dau.zip\n",
      "93 orb100yr04da.zip\n",
      "94 orb100yr04dal.zip\n",
      "95 orb100yr04dau.zip\n",
      "96 orb10yr04da.zip\n",
      "97 orb10yr04dal.zip\n",
      "98 orb10yr04dau.zip\n",
      "99 orb1yr04da.zip\n",
      "100 orb1yr04dal.zip\n",
      "101 orb1yr04dau.zip\n",
      "102 orb200yr04da.zip\n",
      "103 orb200yr04dal.zip\n",
      "104 orb200yr04dau.zip\n",
      "105 orb25yr04da.zip\n",
      "106 orb25yr04dal.zip\n",
      "107 orb25yr04dau.zip\n",
      "108 orb2yr04da.zip\n",
      "109 orb2yr04dal.zip\n",
      "110 orb2yr04dau.zip\n",
      "111 orb500yr04da.zip\n",
      "112 orb500yr04dal.zip\n",
      "113 orb500yr04dau.zip\n",
      "114 orb50yr04da.zip\n",
      "115 orb50yr04dal.zip\n",
      "116 orb50yr04dau.zip\n",
      "117 orb5yr04da.zip\n",
      "118 orb5yr04dal.zip\n",
      "119 orb5yr04dau.zip\n",
      "90 Seconds\n"
     ]
    },
    {
     "data": {
      "text/html": [
       "<div>\n",
       "<style scoped>\n",
       "    .dataframe tbody tr th:only-of-type {\n",
       "        vertical-align: middle;\n",
       "    }\n",
       "\n",
       "    .dataframe tbody tr th {\n",
       "        vertical-align: top;\n",
       "    }\n",
       "\n",
       "    .dataframe thead th {\n",
       "        text-align: right;\n",
       "    }\n",
       "</style>\n",
       "<table border=\"1\" class=\"dataframe\">\n",
       "  <thead>\n",
       "    <tr style=\"text-align: right;\">\n",
       "      <th></th>\n",
       "      <th>TR</th>\n",
       "      <th>duration</th>\n",
       "      <th>region</th>\n",
       "      <th>statistic</th>\n",
       "      <th>value</th>\n",
       "    </tr>\n",
       "  </thead>\n",
       "  <tbody>\n",
       "    <tr>\n",
       "      <th>0</th>\n",
       "      <td>1000</td>\n",
       "      <td>06h</td>\n",
       "      <td>orb</td>\n",
       "      <td>Expected Value</td>\n",
       "      <td>8.027368</td>\n",
       "    </tr>\n",
       "    <tr>\n",
       "      <th>1</th>\n",
       "      <td>1000</td>\n",
       "      <td>06h</td>\n",
       "      <td>orb</td>\n",
       "      <td>Lower (90%)</td>\n",
       "      <td>6.731976</td>\n",
       "    </tr>\n",
       "    <tr>\n",
       "      <th>2</th>\n",
       "      <td>1000</td>\n",
       "      <td>06h</td>\n",
       "      <td>orb</td>\n",
       "      <td>Upper (90%)</td>\n",
       "      <td>9.059344</td>\n",
       "    </tr>\n",
       "    <tr>\n",
       "      <th>3</th>\n",
       "      <td>100</td>\n",
       "      <td>06h</td>\n",
       "      <td>orb</td>\n",
       "      <td>Expected Value</td>\n",
       "      <td>5.343378</td>\n",
       "    </tr>\n",
       "    <tr>\n",
       "      <th>4</th>\n",
       "      <td>100</td>\n",
       "      <td>06h</td>\n",
       "      <td>orb</td>\n",
       "      <td>Lower (90%)</td>\n",
       "      <td>4.675086</td>\n",
       "    </tr>\n",
       "  </tbody>\n",
       "</table>\n",
       "</div>"
      ],
      "text/plain": [
       "     TR duration region       statistic     value\n",
       "0  1000      06h    orb  Expected Value  8.027368\n",
       "1  1000      06h    orb     Lower (90%)  6.731976\n",
       "2  1000      06h    orb     Upper (90%)  9.059344\n",
       "3   100      06h    orb  Expected Value  5.343378\n",
       "4   100      06h    orb     Lower (90%)  4.675086"
      ]
     },
     "metadata": {},
     "output_type": "display_data"
    },
    {
     "name": "stdout",
     "output_type": "stream",
     "text": [
      "None\n"
     ]
    }
   ],
   "source": [
    "df = build_precip_table(geo_df, all_zips_list, noaa_url, vol_code, 10, verbose) #The integer is the number of times to attempt getting the file from ftp"
   ]
  },
  {
   "cell_type": "markdown",
   "metadata": {},
   "source": [
    "### Save the results to an Excel Workbook:"
   ]
  },
  {
   "cell_type": "markdown",
   "metadata": {},
   "source": [
    "#### Create an outputs directory:"
   ]
  },
  {
   "cell_type": "code",
   "execution_count": 11,
   "metadata": {},
   "outputs": [],
   "source": [
    "if not os.path.isdir(outputs_dir):\n",
    "    os.mkdir(outputs_dir)"
   ]
  },
  {
   "cell_type": "markdown",
   "metadata": {},
   "source": [
    "#### Save to Excel:"
   ]
  },
  {
   "cell_type": "code",
   "execution_count": 12,
   "metadata": {},
   "outputs": [
    {
     "name": "stdout",
     "output_type": "stream",
     "text": [
      "      Expected Value  Lower (90%)  Upper (90%)\n",
      "Tr                                            \n",
      "1           1.864675     1.695129     2.069675\n",
      "2           2.260435     2.050273     2.504780\n",
      "5           2.855522     2.579981     3.163306\n",
      "10          3.343483     3.007182     3.701110\n",
      "25          4.065177     3.623344     4.499579\n",
      "50          4.678502     4.132215     5.181297\n",
      "100         5.343378     4.675086     5.928244\n",
      "200         6.064033     5.248450     6.753498\n",
      "500         7.128148     6.067493     7.999952\n",
      "1000        8.027368     6.731976     9.059344\n",
      "      Expected Value  Lower (90%)  Upper (90%)\n",
      "Tr                                            \n",
      "1           2.258593     2.036847     2.527502\n",
      "2           2.727459     2.457249     3.051732\n",
      "5           3.462976     3.112349     3.873675\n",
      "10          4.092660     3.656445     4.572708\n",
      "25          5.050512     4.465919     5.636005\n",
      "50          5.888914     5.152517     6.574670\n",
      "100         6.821081     5.893919     7.632474\n",
      "200         7.860837     6.696349     8.828450\n",
      "500         9.445196     7.877579    10.675493\n",
      "1000       10.819445     8.866952    12.314014\n",
      "      Expected Value  Lower (90%)  Upper (90%)\n",
      "Tr                                            \n",
      "1           2.605005     2.370134     2.907163\n",
      "2           3.151943     2.865799     3.518967\n",
      "5           4.051995     3.678665     4.518038\n",
      "10          4.844914     4.380426     5.380421\n",
      "25          6.061952     5.438761     6.694900\n",
      "50          7.142627     6.358335     7.853684\n",
      "100         8.364608     7.379096     9.168493\n",
      "200         9.757057     8.512033    10.668478\n",
      "500        11.895632    10.206799    12.963086\n",
      "1000       13.775383    11.656057    14.979354\n",
      "      Expected Value  Lower (90%)  Upper (90%)\n",
      "Tr                                            \n",
      "1           3.366191     3.064292     3.736493\n",
      "2           4.069990     3.707464     4.521943\n",
      "5           5.203278     4.728478     5.771746\n",
      "10          6.176842     5.599847     6.839091\n",
      "25          7.640670     6.879536     8.432837\n",
      "50          8.911124     7.975933     9.816110\n",
      "100        10.324292     9.158971    11.355694\n",
      "200        11.901057    10.463244    13.072033\n",
      "500        14.271746    12.376364    15.672000\n",
      "1000       16.313474    13.976335    17.940665\n"
     ]
    }
   ],
   "source": [
    "writer = pd.ExcelWriter(outputs_dir/'PrecipTable_{}.xlsx'.format(select_data))\n",
    "\n",
    "for i, d in enumerate(durations):\n",
    "    table = pd.pivot_table(df[df['duration'] == d], values = 'value', index=['TR'], columns=['statistic'])\n",
    "    table.index.name = 'Tr'\n",
    "    table.columns.name = None\n",
    "    table = table.sort_values(by = ['Expected Value'])\n",
    "    table.to_excel(writer, sheet_name = 'AreaDepths_{}'.format(dur_names[i]))\n",
    "    print(table)\n",
    "    \n",
    "writer.save()"
   ]
  },
  {
   "cell_type": "markdown",
   "metadata": {},
   "source": [
    "---"
   ]
  }
 ],
 "metadata": {
  "kernelspec": {
   "display_name": "Python 3",
   "language": "python",
   "name": "python3"
  },
  "language_info": {
   "codemirror_mode": {
    "name": "ipython",
    "version": 3
   },
   "file_extension": ".py",
   "mimetype": "text/x-python",
   "name": "python",
   "nbconvert_exporter": "python",
   "pygments_lexer": "ipython3",
   "version": "3.7.1"
  },
  "nteract": {
   "version": "0.12.3"
  }
 },
 "nbformat": 4,
 "nbformat_minor": 2
}
