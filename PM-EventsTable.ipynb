{
 "cells": [
  {
   "cell_type": "markdown",
   "metadata": {},
   "source": [
    "## Load Libraries:"
   ]
  },
  {
   "cell_type": "code",
   "execution_count": 1,
   "metadata": {},
   "outputs": [],
   "source": [
    "import os\n",
    "import logging\n",
    "import numpy as np\n",
    "import pathlib as pl\n",
    "import papermill as pm\n",
    "import scrapbook as sb\n",
    "logging.basicConfig(level=logging.ERROR)"
   ]
  },
  {
   "cell_type": "markdown",
   "metadata": {},
   "source": [
    "## Run EventsTable Notebook:"
   ]
  },
  {
   "cell_type": "markdown",
   "metadata": {},
   "source": [
    "### Specify:"
   ]
  },
  {
   "cell_type": "code",
   "execution_count": 2,
   "metadata": {},
   "outputs": [],
   "source": [
    "## Excess rainfall parameters:\n",
    "CN = 83                      # Curve number\n",
    "volume = 10                   # NOAA Atlas 14 volume\n",
    "region = 1                   # NOAA Atlas 14 region\n",
    "#durations = [6, 12, 24, 96] # Calculate multiple durations \n",
    "durations = [24]              # Calcuate a single duration\n",
    "\n",
    "\n",
    "## Grouping parameters:\n",
    "tempEpsilon_dic = {'6': 1, '12': 2, '24': 4, '96': 16} \n",
    "tempEpsilon2_dic = {'6': 0.5, '12': 1, '24': 2, '96': 8}\n",
    "convEpsilon_dic = {'6': 100, '12': 100, '24': 100, '96': 100}\n",
    "volEpsilon_dic = {'6': 67, '12': 67, '24': 67, '96': 67} \n",
    "\n",
    "\n",
    "### Filenames and paths:\n",
    "AOI = '02010006'\n",
    "precip_table = 'PrecipTable_{0}.xlsx'.format(AOI) \n",
    "\n",
    "root_dir = pl.Path(os.getcwd())\n",
    "inputs_dir = root_dir/'Inputs'\n",
    "outputs_dir = root_dir/'Outputs'\n",
    "notebook_dir = root_dir/'Notebooks'\n",
    "precip_table_dir = outputs_dir/precip_table\n",
    "datarepository_dir = root_dir/'DataRepository'\n",
    "\n",
    "\n",
    "## Options:\n",
    "seed = np.random.randint(low=0, high=10000)\n",
    "papermill = False \n",
    "display_plots = True\n",
    "display_print = True"
   ]
  },
  {
   "cell_type": "markdown",
   "metadata": {},
   "source": [
    "### Run:"
   ]
  },
  {
   "cell_type": "code",
   "execution_count": 3,
   "metadata": {},
   "outputs": [
    {
     "name": "stdout",
     "output_type": "stream",
     "text": [
      "Randomly selected seed: 8343\n",
      "C:\\Users\\slawler\\Desktop\\pfra-hydromet\\Notebooks\\EventsTable_02010006_Dur24_tempE4_2_convE100_volE67.ipynb\n"
     ]
    },
    {
     "name": "stderr",
     "output_type": "stream",
     "text": [
      "Input Notebook:  EventsTable.ipynb\n",
      "Output Notebook: C:\\Users\\slawler\\Desktop\\pfra-hydromet\\Notebooks\\EventsTable_02010006_Dur24_tempE4_2_convE100_volE67.ipynb\n",
      "100%|██████████████████████████████████████████████████████████████████████████████████| 81/81 [59:24<00:00, 44.01s/it]\n",
      "C:\\Users\\slawler\\AppData\\Local\\Continuum\\anaconda3\\lib\\site-packages\\nbconvert\\filters\\datatypefilter.py:41: UserWarning: Your element with mimetype(s) dict_keys(['application/scrapbook.scrap+json']) is not able to be represented.\n",
      "  mimetypes=output.keys())\n"
     ]
    }
   ],
   "source": [
    "print(\"Randomly selected seed: {0}\".format(seed))\n",
    "\n",
    "if not os.path.exists(notebook_dir): os.mkdir(notebook_dir)\n",
    "    \n",
    "nb_executed = {}\n",
    "\n",
    "for dur in durations:\n",
    "    nb_executed[str(dur)] = str(notebook_dir/'EventsTable_{0}_Dur{1}_tempE{2}_{3}_convE{4}_volE{5}.ipynb'.format(AOI, dur,\n",
    "                                                                                                                 tempEpsilon_dic[str(dur)], \n",
    "                                                                                                                 tempEpsilon2_dic[str(dur)], \n",
    "                                                                                                                 convEpsilon_dic[str(dur)], \n",
    "                                                                                                                 volEpsilon_dic[str(dur)]))\n",
    "    print( nb_executed[str(dur)])\n",
    "    nb_parameters = {'CN': CN,\n",
    "                     'volume': volume,\n",
    "                     'region': region,\n",
    "                     'duration': dur,\n",
    "                     'tempEpsilon': tempEpsilon_dic[str(dur)],\n",
    "                     'tempEpsilon2': tempEpsilon2_dic[str(dur)],\n",
    "                     'convEpsilon': convEpsilon_dic[str(dur)],\n",
    "                     'volEpsilon': volEpsilon_dic[str(dur)],\n",
    "                     'AOI': AOI,\n",
    "                     'precip_table_dir': str(precip_table_dir),\n",
    "                     'datarepository_dir': str(datarepository_dir),\n",
    "                     'outputs_dir': str(outputs_dir),\n",
    "                     'seed': seed,\n",
    "                     'papermill': papermill,\n",
    "                     'display_plots': display_plots,\n",
    "                     'display_print': display_print}\n",
    "    \n",
    "    pm.execute_notebook('EventsTable.ipynb', nb_executed[str(dur)], parameters = nb_parameters);\n",
    "    \n",
    "    nb = nb_executed[str(dur)]\n",
    "    ! jupyter nbconvert $nb --log-level ERROR"
   ]
  },
  {
   "cell_type": "markdown",
   "metadata": {},
   "source": [
    "### Display the results:"
   ]
  },
  {
   "cell_type": "markdown",
   "metadata": {},
   "source": [
    "#### Open the executed notebook and extract the scraps:"
   ]
  },
  {
   "cell_type": "code",
   "execution_count": 4,
   "metadata": {},
   "outputs": [],
   "source": [
    "final_reduction_dic = {}\n",
    "\n",
    "for dur in durations:\n",
    "    nb = sb.read_notebook(nb_executed[str(dur)])\n",
    "    final_reduction_dic[str(dur)] = nb.scraps['final_reduction_lst'][1]"
   ]
  },
  {
   "cell_type": "markdown",
   "metadata": {},
   "source": [
    "#### Final incremental excess rainfall results (combined events):"
   ]
  },
  {
   "cell_type": "code",
   "execution_count": 6,
   "metadata": {},
   "outputs": [],
   "source": [
    "#for dur in durations:\n",
    "#    print(\"Number of curves reduced by {0}% or {1} curves out of {2} remaining\".format(np.round(final_reduction_dic[str(dur)][0], 2), final_reduction_dic[str(dur)][1], final_reduction_dic[str(dur)][2]))"
   ]
  },
  {
   "cell_type": "markdown",
   "metadata": {},
   "source": [
    "---"
   ]
  },
  {
   "cell_type": "markdown",
   "metadata": {},
   "source": [
    "## End"
   ]
  }
 ],
 "metadata": {
  "kernelspec": {
   "display_name": "Python 3",
   "language": "python",
   "name": "python3"
  },
  "language_info": {
   "codemirror_mode": {
    "name": "ipython",
    "version": 3
   },
   "file_extension": ".py",
   "mimetype": "text/x-python",
   "name": "python",
   "nbconvert_exporter": "python",
   "pygments_lexer": "ipython3",
   "version": "3.7.1"
  }
 },
 "nbformat": 4,
 "nbformat_minor": 2
}
