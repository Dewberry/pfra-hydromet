{
 "cells": [
  {
   "cell_type": "markdown",
   "metadata": {},
   "source": [
    "## A. Load Libraries:"
   ]
  },
  {
   "cell_type": "code",
   "execution_count": 1,
   "metadata": {},
   "outputs": [],
   "source": [
    "import sys\n",
    "sys.path.append('core')\n",
    "import hydromet_reduced\n",
    "from hydromet import*"
   ]
  },
  {
   "cell_type": "markdown",
   "metadata": {},
   "source": [
    "---"
   ]
  },
  {
   "cell_type": "markdown",
   "metadata": {},
   "source": [
    "## B. Run EventsTable Notebook:"
   ]
  },
  {
   "cell_type": "markdown",
   "metadata": {},
   "source": [
    "### Specify:"
   ]
  },
  {
   "cell_type": "code",
   "execution_count": 2,
   "metadata": {},
   "outputs": [],
   "source": [
    "## Excess rainfall parameters:\n",
    "CN = 85                    # Curve number\n",
    "volume = 2                   # NOAA Atlas 14 volume\n",
    "region = 1                   # NOAA Atlas 14 region\n",
    "durations = [6, 12, 24, 96]  # Calculate multiple durations \n",
    "#durations = [6]            # Calcuate a single duration\n",
    "\n",
    "\n",
    "## Grouping parameters:\n",
    "tempEpsilon_dic = {'6': 1, '12': 2, '24': 4, '96': 16} \n",
    "tempEpsilon2_dic = {'6': 0.5, '12': 1, '24': 2, '96': 8}\n",
    "convEpsilon_dic = {'6': 100, '12': 100, '24': 100, '96': 100}\n",
    "volEpsilon_dic = {'6': 67, '12': 67, '24': 67, '96': 67} \n",
    "\n",
    "\n",
    "### Filenames and paths:\n",
    "AOI = 'DC'     # Area of interest\n",
    "Model = 'P01'  # Model name\n",
    "BCN = 'D01'    # Boundary condition name\n",
    "precip_table = 'PrecipTable_{0}.xlsx'.format(AOI) \n",
    "\n",
    "root_dir = pl.Path(os.getcwd())\n",
    "inputs_dir = root_dir/'Inputs'\n",
    "outputs_dir = root_dir/'Outputs'\n",
    "notebook_dir = root_dir/'Notebooks'\n",
    "precip_table_dir = outputs_dir/precip_table\n",
    "datarepository_dir = root_dir/'DataRepository'\n",
    "bin_dir = root_dir/'bin'\n",
    "\n",
    "\n",
    "## Options:\n",
    "seed = np.random.randint(low=0, high=10000)\n",
    "papermill = False \n",
    "display_plots = True\n",
    "display_print = True\n",
    "save_dss = True\n",
    "remove_ind_dur = False #Remove individual duration files which are combined at the end of this notebook"
   ]
  },
  {
   "cell_type": "markdown",
   "metadata": {},
   "source": [
    "### Run:"
   ]
  },
  {
   "cell_type": "code",
   "execution_count": 3,
   "metadata": {},
   "outputs": [
    {
     "name": "stdout",
     "output_type": "stream",
     "text": [
      "Randomly selected seed: 3537\n",
      "C:\\Users\\sputnam\\Documents\\GitHub\\pfra-hydromet\\Notebooks\\EventsTable_DC_Dur6_tempE1_0.5_convE100_volE67.ipynb\n"
     ]
    },
    {
     "data": {
      "application/vnd.jupyter.widget-view+json": {
       "model_id": "99aad4945295445c8125c4b449bebd15",
       "version_major": 2,
       "version_minor": 0
      },
      "text/plain": [
       "HBox(children=(IntProgress(value=0, max=88), HTML(value='')))"
      ]
     },
     "metadata": {},
     "output_type": "display_data"
    },
    {
     "name": "stdout",
     "output_type": "stream",
     "text": [
      "\n"
     ]
    },
    {
     "name": "stderr",
     "output_type": "stream",
     "text": [
      "c:\\users\\sputnam\\appdata\\local\\continuum\\anaconda3\\lib\\site-packages\\nbconvert\\filters\\datatypefilter.py:41: UserWarning: Your element with mimetype(s) dict_keys(['application/scrapbook.scrap.json+json']) is not able to be represented.\n",
      "  mimetypes=output.keys())\n"
     ]
    },
    {
     "name": "stdout",
     "output_type": "stream",
     "text": [
      "C:\\Users\\sputnam\\Documents\\GitHub\\pfra-hydromet\\Notebooks\\EventsTable_DC_Dur12_tempE2_1_convE100_volE67.ipynb\n"
     ]
    },
    {
     "data": {
      "application/vnd.jupyter.widget-view+json": {
       "model_id": "dbaab98b1d56439194ce1486ecd011e8",
       "version_major": 2,
       "version_minor": 0
      },
      "text/plain": [
       "HBox(children=(IntProgress(value=0, max=88), HTML(value='')))"
      ]
     },
     "metadata": {},
     "output_type": "display_data"
    },
    {
     "name": "stdout",
     "output_type": "stream",
     "text": [
      "\n"
     ]
    },
    {
     "name": "stderr",
     "output_type": "stream",
     "text": [
      "c:\\users\\sputnam\\appdata\\local\\continuum\\anaconda3\\lib\\site-packages\\nbconvert\\filters\\datatypefilter.py:41: UserWarning: Your element with mimetype(s) dict_keys(['application/scrapbook.scrap.json+json']) is not able to be represented.\n",
      "  mimetypes=output.keys())\n"
     ]
    },
    {
     "name": "stdout",
     "output_type": "stream",
     "text": [
      "C:\\Users\\sputnam\\Documents\\GitHub\\pfra-hydromet\\Notebooks\\EventsTable_DC_Dur24_tempE4_2_convE100_volE67.ipynb\n"
     ]
    },
    {
     "data": {
      "application/vnd.jupyter.widget-view+json": {
       "model_id": "454925480bd647b9aa3810e1b7ac1665",
       "version_major": 2,
       "version_minor": 0
      },
      "text/plain": [
       "HBox(children=(IntProgress(value=0, max=88), HTML(value='')))"
      ]
     },
     "metadata": {},
     "output_type": "display_data"
    },
    {
     "name": "stdout",
     "output_type": "stream",
     "text": [
      "\n"
     ]
    },
    {
     "name": "stderr",
     "output_type": "stream",
     "text": [
      "c:\\users\\sputnam\\appdata\\local\\continuum\\anaconda3\\lib\\site-packages\\nbconvert\\filters\\datatypefilter.py:41: UserWarning: Your element with mimetype(s) dict_keys(['application/scrapbook.scrap.json+json']) is not able to be represented.\n",
      "  mimetypes=output.keys())\n"
     ]
    },
    {
     "name": "stdout",
     "output_type": "stream",
     "text": [
      "C:\\Users\\sputnam\\Documents\\GitHub\\pfra-hydromet\\Notebooks\\EventsTable_DC_Dur96_tempE16_8_convE100_volE67.ipynb\n"
     ]
    },
    {
     "data": {
      "application/vnd.jupyter.widget-view+json": {
       "model_id": "d3ba5614959d4763a385aa414515752f",
       "version_major": 2,
       "version_minor": 0
      },
      "text/plain": [
       "HBox(children=(IntProgress(value=0, max=88), HTML(value='')))"
      ]
     },
     "metadata": {},
     "output_type": "display_data"
    },
    {
     "name": "stdout",
     "output_type": "stream",
     "text": [
      "\n"
     ]
    },
    {
     "name": "stderr",
     "output_type": "stream",
     "text": [
      "c:\\users\\sputnam\\appdata\\local\\continuum\\anaconda3\\lib\\site-packages\\nbconvert\\filters\\datatypefilter.py:41: UserWarning: Your element with mimetype(s) dict_keys(['application/scrapbook.scrap.json+json']) is not able to be represented.\n",
      "  mimetypes=output.keys())\n"
     ]
    }
   ],
   "source": [
    "print(\"Randomly selected seed: {0}\".format(seed))\n",
    "\n",
    "if not os.path.exists(notebook_dir): os.mkdir(notebook_dir)\n",
    "    \n",
    "nb_executed = {}\n",
    "\n",
    "for dur in durations:\n",
    "    nb_executed[str(dur)] = str(notebook_dir/'EventsTable_{0}_Dur{1}_tempE{2}_{3}_convE{4}_volE{5}.ipynb'.format(AOI, dur,\n",
    "                                                                                                                 tempEpsilon_dic[str(dur)], \n",
    "                                                                                                                 tempEpsilon2_dic[str(dur)], \n",
    "                                                                                                                 convEpsilon_dic[str(dur)], \n",
    "                                                                                                                 volEpsilon_dic[str(dur)]))\n",
    "    print( nb_executed[str(dur)])\n",
    "    nb_parameters = {'CN': CN,\n",
    "                     'volume': volume,\n",
    "                     'region': region,\n",
    "                     'duration': dur,\n",
    "                     'tempEpsilon': tempEpsilon_dic[str(dur)],\n",
    "                     'tempEpsilon2': tempEpsilon2_dic[str(dur)],\n",
    "                     'convEpsilon': convEpsilon_dic[str(dur)],\n",
    "                     'volEpsilon': volEpsilon_dic[str(dur)],\n",
    "                     'AOI': AOI,\n",
    "                     'precip_table_dir': str(precip_table_dir),\n",
    "                     'datarepository_dir': str(datarepository_dir),\n",
    "                     'bin_dir': str(bin_dir),\n",
    "                     'outputs_dir': str(outputs_dir),\n",
    "                     'seed': seed,\n",
    "                     'papermill': papermill,\n",
    "                     'display_plots': display_plots,\n",
    "                     'display_print': display_print,\n",
    "                     'save_dss': save_dss}\n",
    "    \n",
    "    pm.execute_notebook('EventsTable.ipynb', nb_executed[str(dur)], parameters = nb_parameters);\n",
    "    \n",
    "    nb = nb_executed[str(dur)]\n",
    "    ! jupyter nbconvert $nb --log-level WARN"
   ]
  },
  {
   "cell_type": "markdown",
   "metadata": {},
   "source": [
    "### Display the results:"
   ]
  },
  {
   "cell_type": "markdown",
   "metadata": {},
   "source": [
    "#### Open the executed notebook and extract the scraps:"
   ]
  },
  {
   "cell_type": "code",
   "execution_count": 4,
   "metadata": {},
   "outputs": [],
   "source": [
    "final_reduction_dic = {}\n",
    "\n",
    "for dur in durations:\n",
    "    nb = sb.read_notebook(nb_executed[str(dur)])\n",
    "    final_reduction_dic[str(dur)] = nb.scraps['final_reduction_lst'][1]"
   ]
  },
  {
   "cell_type": "markdown",
   "metadata": {},
   "source": [
    "#### Final incremental excess rainfall results (combined events):"
   ]
  },
  {
   "cell_type": "code",
   "execution_count": 5,
   "metadata": {},
   "outputs": [
    {
     "name": "stdout",
     "output_type": "stream",
     "text": [
      "Number of curves reduced by 93.1% or 342 curves out of 4953 remaining\n",
      "Number of curves reduced by 93.08% or 345 curves out of 4989 remaining\n",
      "Number of curves reduced by 91.35% or 431 curves out of 4985 remaining\n",
      "Number of curves reduced by 87.55% or 622 curves out of 4994 remaining\n"
     ]
    }
   ],
   "source": [
    "for dur in durations:\n",
    "    print(\"Number of curves reduced by {0}% or {1} curves out of {2} remaining\".format(np.round(final_reduction_dic[str(dur)][0], 2), final_reduction_dic[str(dur)][1], final_reduction_dic[str(dur)][2]))"
   ]
  },
  {
   "cell_type": "markdown",
   "metadata": {},
   "source": [
    "### Combine the results for all durations and save:"
   ]
  },
  {
   "cell_type": "markdown",
   "metadata": {},
   "source": [
    "#### Excess rainfall:"
   ]
  },
  {
   "cell_type": "code",
   "execution_count": 6,
   "metadata": {},
   "outputs": [],
   "source": [
    "excess_dic = combine_results('Excess_Rainfall', outputs_dir, AOI, durations, tempEpsilon_dic, convEpsilon_dic, volEpsilon_dic, BCN, remove_ind_dur)\n",
    "\n",
    "with open(outputs_dir/'{0}_{1}.json'.format(AOI, Model), 'w') as f:\n",
    "    json.dump(excess_dic, f)"
   ]
  },
  {
   "cell_type": "markdown",
   "metadata": {},
   "source": [
    "#### Event weights:"
   ]
  },
  {
   "cell_type": "code",
   "execution_count": 33,
   "metadata": {},
   "outputs": [
    {
     "name": "stdout",
     "output_type": "stream",
     "text": [
      "Total Weight: 0.5\n"
     ]
    }
   ],
   "source": [
    "weights_dic = combine_results('Weights', outputs_dir, AOI, durations, tempEpsilon_dic, convEpsilon_dic, volEpsilon_dic, BCN, remove_ind_dur)\n",
    "\n",
    "with open(outputs_dir/'Weights_{0}_{1}.json'.format(AOI, Model), 'w') as f:\n",
    "    json.dump(weights_dic, f)"
   ]
  },
  {
   "cell_type": "markdown",
   "metadata": {},
   "source": [
    "#### Metadata:"
   ]
  },
  {
   "cell_type": "code",
   "execution_count": 8,
   "metadata": {},
   "outputs": [],
   "source": [
    "metadata = combine_metadata(outputs_dir, AOI, durations, tempEpsilon_dic, convEpsilon_dic, volEpsilon_dic, BCN, remove_ind_dur)\n",
    "\n",
    "with open(outputs_dir/'Metadata_{0}_{1}.json'.format(AOI, Model), 'w') as f:\n",
    "    json.dump(metadata, f)       "
   ]
  },
  {
   "cell_type": "markdown",
   "metadata": {},
   "source": [
    "### QC the combined results:"
   ]
  },
  {
   "cell_type": "markdown",
   "metadata": {},
   "source": [
    "#### Plot the weight versus the total runoff for each group"
   ]
  },
  {
   "cell_type": "code",
   "execution_count": 9,
   "metadata": {},
   "outputs": [
    {
     "data": {
      "image/png": "[encoded data removed]",
      "text/plain": [
       "<Figure size 1728x360 with 1 Axes>"
      ]
     },
     "metadata": {
      "needs_background": "light"
     },
     "output_type": "display_data"
    }
   ],
   "source": [
    "plot_amount_vs_weight(weights_dic, excess_dic, BCN)"
   ]
  },
  {
   "cell_type": "markdown",
   "metadata": {},
   "source": [
    "---"
   ]
  },
  {
   "cell_type": "markdown",
   "metadata": {},
   "source": [
    "## C. Run ReducedEvents Notebook:"
   ]
  },
  {
   "cell_type": "markdown",
   "metadata": {},
   "source": [
    "### Specify:"
   ]
  },
  {
   "cell_type": "markdown",
   "metadata": {},
   "source": [
    "#### The stormwater removal rate and capacity:"
   ]
  },
  {
   "cell_type": "code",
   "execution_count": 13,
   "metadata": {},
   "outputs": [],
   "source": [
    "rate = 0.0459    # [L^3/30min]\n",
    "maxcap = 2.2032  # [L^3]\n",
    "\n",
    "rand_rate_cap = False # DO NOT MODIFY"
   ]
  },
  {
   "cell_type": "markdown",
   "metadata": {},
   "source": [
    "#### Or the minimum and maxium stormwater removal rates, which are used to randomly select the removal rate and capacity:"
   ]
  },
  {
   "cell_type": "raw",
   "metadata": {},
   "source": [
    "minrate = 0.0459 # [L^3/30min]\n",
    "maxrate = 0.2375 # [L^3/30min]\n",
    "\n",
    "rand_rate_cap = True # DO NOT MODIFY"
   ]
  },
  {
   "cell_type": "markdown",
   "metadata": {},
   "source": [
    "### Run:"
   ]
  },
  {
   "cell_type": "code",
   "execution_count": 16,
   "metadata": {},
   "outputs": [
    {
     "data": {
      "application/vnd.jupyter.widget-view+json": {
       "model_id": "8c5bdb950b1c4aa3aa255001344ccdac",
       "version_major": 2,
       "version_minor": 0
      },
      "text/plain": [
       "HBox(children=(IntProgress(value=0, max=32), HTML(value='')))"
      ]
     },
     "metadata": {},
     "output_type": "display_data"
    },
    {
     "name": "stdout",
     "output_type": "stream",
     "text": [
      "\n"
     ]
    }
   ],
   "source": [
    "reEventsTable = str(notebook_dir/'reEventsTable_{0}_{1}.ipynb'.format(AOI, Model))\n",
    "                                                                                                                 \n",
    "if rand_rate_cap:\n",
    "    nb_parameters = {'minrate': minrate, 'maxrate': maxrate, 'AOI': AOI, 'Model': Model, 'outputs_dir': str(outputs_dir), \n",
    "                     'seed': seed, 'rand_rate_cap': rand_rate_cap, 'display_plots': display_plots, 'display_print': display_print}\n",
    "else:\n",
    "    nb_parameters = {'rate': rate, 'maxcap': maxcap, 'AOI': AOI, 'Model': Model, 'outputs_dir': str(outputs_dir), \n",
    "                     'rand_rate_cap': rand_rate_cap, 'display_plots': display_plots, 'display_print': display_print}\n",
    "    \n",
    "    \n",
    "pm.execute_notebook('reEventsTable.ipynb', reEventsTable, parameters = nb_parameters);\n",
    "    \n",
    "! jupyter nbconvert $reEventsTable --log-level WARN"
   ]
  },
  {
   "cell_type": "markdown",
   "metadata": {},
   "source": [
    "## D. Save a Copy of this Notebook:"
   ]
  },
  {
   "cell_type": "markdown",
   "metadata": {},
   "source": [
    "### File save this notebook and then run:"
   ]
  },
  {
   "cell_type": "code",
   "execution_count": 12,
   "metadata": {},
   "outputs": [],
   "source": [
    "orig_nb = 'PM-EventsTable'\n",
    "new_nb = '{0}_{1}_{2}.ipynb'.format(orig_nb, AOI, Model)\n",
    "new_nb_path = str(notebook_dir/new_nb)\n",
    "\n",
    "shutil.copy(root_dir/'{0}.ipynb'.format(orig_nb), new_nb_path)\n",
    "\n",
    "! jupyter nbconvert $new_nb_path --log-level WARN"
   ]
  },
  {
   "cell_type": "markdown",
   "metadata": {},
   "source": [
    "## End"
   ]
  }
 ],
 "metadata": {
  "kernelspec": {
   "display_name": "Python 3",
   "language": "python",
   "name": "python3"
  },
  "language_info": {
   "codemirror_mode": {
    "name": "ipython",
    "version": 3
   },
   "file_extension": ".py",
   "mimetype": "text/x-python",
   "name": "python",
   "nbconvert_exporter": "python",
   "pygments_lexer": "ipython3",
   "version": "3.7.1"
  }
 },
 "nbformat": 4,
 "nbformat_minor": 2
}
