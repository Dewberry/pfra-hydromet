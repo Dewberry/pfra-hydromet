{
 "cells": [
  {
   "cell_type": "markdown",
   "metadata": {},
   "source": [
    "## Load Libraries:"
   ]
  },
  {
   "cell_type": "code",
   "execution_count": 2,
   "metadata": {},
   "outputs": [],
   "source": [
    "import sys\n",
    "sys.path.append('core')\n",
    "from hydromet import*"
   ]
  },
  {
   "cell_type": "markdown",
   "metadata": {},
   "source": [
    "## Run EventsTable Notebook:"
   ]
  },
  {
   "cell_type": "markdown",
   "metadata": {},
   "source": [
    "### Specify:"
   ]
  },
  {
   "cell_type": "code",
   "execution_count": 3,
   "metadata": {},
   "outputs": [],
   "source": [
    "## Excess rainfall parameters:\n",
    "CN = 85                    # Curve number\n",
    "volume = 2                   # NOAA Atlas 14 volume\n",
    "region = 1                   # NOAA Atlas 14 region\n",
    "durations = [6, 12, 24, 96]  # Calculate multiple durations \n",
    "#durations = [6]            # Calcuate a single duration\n",
    "#durations = [6, 12]\n",
    "\n",
    "## Grouping parameters:\n",
    "tempEpsilon_dic = {'6': 1, '12': 2, '24': 4, '96': 16} \n",
    "tempEpsilon2_dic = {'6': 0.5, '12': 1, '24': 2, '96': 8}\n",
    "convEpsilon_dic = {'6': 100, '12': 100, '24': 100, '96': 100}\n",
    "volEpsilon_dic = {'6': 67, '12': 67, '24': 67, '96': 67} \n",
    "\n",
    "\n",
    "### Filenames and paths:\n",
    "AOI = 'DC'     # Area of interest\n",
    "Model = 'P01'       # Model name\n",
    "BCN = 'D01'         # Boundary condition name\n",
    "precip_table = 'PrecipTable_{0}.xlsx'.format(AOI) \n",
    "\n",
    "root_dir = pl.Path(os.getcwd())\n",
    "inputs_dir = root_dir/'Inputs'\n",
    "outputs_dir = root_dir/'Outputs'\n",
    "notebook_dir = root_dir/'Notebooks'\n",
    "precip_table_dir = outputs_dir/precip_table\n",
    "datarepository_dir = root_dir/'DataRepository'\n",
    "bin_dir = root_dir/'bin'\n",
    "\n",
    "\n",
    "## Options:\n",
    "seed = np.random.randint(low=0, high=10000)\n",
    "papermill = False \n",
    "display_plots = True\n",
    "display_print = True\n",
    "save_dss = True\n",
    "\n",
    "remove_ind_dur = False #Remove individual duration files which are combined at the end of this notebook"
   ]
  },
  {
   "cell_type": "markdown",
   "metadata": {},
   "source": [
    "### Run:"
   ]
  },
  {
   "cell_type": "code",
   "execution_count": 3,
   "metadata": {},
   "outputs": [
    {
     "name": "stdout",
     "output_type": "stream",
     "text": [
      "Randomly selected seed: 994\n",
      "C:\\Users\\sputnam\\Documents\\GitHub\\pfra-hydromet\\Notebooks\\EventsTable_DC_Dur6_tempE1_0.5_convE100_volE67.ipynb\n"
     ]
    },
    {
     "data": {
      "application/vnd.jupyter.widget-view+json": {
       "model_id": "b2a6dc48b1564602a8ca5dbdf798d298",
       "version_major": 2,
       "version_minor": 0
      },
      "text/plain": [
       "HBox(children=(IntProgress(value=0, max=86), HTML(value='')))"
      ]
     },
     "metadata": {},
     "output_type": "display_data"
    },
    {
     "name": "stdout",
     "output_type": "stream",
     "text": [
      "\n"
     ]
    },
    {
     "name": "stderr",
     "output_type": "stream",
     "text": [
      "c:\\users\\sputnam\\appdata\\local\\continuum\\anaconda3\\lib\\site-packages\\nbconvert\\filters\\datatypefilter.py:41: UserWarning: Your element with mimetype(s) dict_keys(['application/scrapbook.scrap.json+json']) is not able to be represented.\n",
      "  mimetypes=output.keys())\n"
     ]
    },
    {
     "name": "stdout",
     "output_type": "stream",
     "text": [
      "C:\\Users\\sputnam\\Documents\\GitHub\\pfra-hydromet\\Notebooks\\EventsTable_DC_Dur12_tempE2_1_convE100_volE67.ipynb\n"
     ]
    },
    {
     "data": {
      "application/vnd.jupyter.widget-view+json": {
       "model_id": "b9738e6d7e4646a3b0ee1407424ec79b",
       "version_major": 2,
       "version_minor": 0
      },
      "text/plain": [
       "HBox(children=(IntProgress(value=0, max=86), HTML(value='')))"
      ]
     },
     "metadata": {},
     "output_type": "display_data"
    },
    {
     "name": "stdout",
     "output_type": "stream",
     "text": [
      "\n"
     ]
    },
    {
     "name": "stderr",
     "output_type": "stream",
     "text": [
      "c:\\users\\sputnam\\appdata\\local\\continuum\\anaconda3\\lib\\site-packages\\nbconvert\\filters\\datatypefilter.py:41: UserWarning: Your element with mimetype(s) dict_keys(['application/scrapbook.scrap.json+json']) is not able to be represented.\n",
      "  mimetypes=output.keys())\n"
     ]
    },
    {
     "name": "stdout",
     "output_type": "stream",
     "text": [
      "C:\\Users\\sputnam\\Documents\\GitHub\\pfra-hydromet\\Notebooks\\EventsTable_DC_Dur24_tempE4_2_convE100_volE67.ipynb\n"
     ]
    },
    {
     "data": {
      "application/vnd.jupyter.widget-view+json": {
       "model_id": "dd277fb76e63498a806d4b39f6358ce2",
       "version_major": 2,
       "version_minor": 0
      },
      "text/plain": [
       "HBox(children=(IntProgress(value=0, max=86), HTML(value='')))"
      ]
     },
     "metadata": {},
     "output_type": "display_data"
    },
    {
     "name": "stdout",
     "output_type": "stream",
     "text": [
      "\n"
     ]
    },
    {
     "name": "stderr",
     "output_type": "stream",
     "text": [
      "c:\\users\\sputnam\\appdata\\local\\continuum\\anaconda3\\lib\\site-packages\\nbconvert\\filters\\datatypefilter.py:41: UserWarning: Your element with mimetype(s) dict_keys(['application/scrapbook.scrap.json+json']) is not able to be represented.\n",
      "  mimetypes=output.keys())\n"
     ]
    },
    {
     "name": "stdout",
     "output_type": "stream",
     "text": [
      "C:\\Users\\sputnam\\Documents\\GitHub\\pfra-hydromet\\Notebooks\\EventsTable_DC_Dur96_tempE16_8_convE100_volE67.ipynb\n"
     ]
    },
    {
     "data": {
      "application/vnd.jupyter.widget-view+json": {
       "model_id": "2793ec6d3af0484fa67442958eae7b38",
       "version_major": 2,
       "version_minor": 0
      },
      "text/plain": [
       "HBox(children=(IntProgress(value=0, max=86), HTML(value='')))"
      ]
     },
     "metadata": {},
     "output_type": "display_data"
    },
    {
     "name": "stdout",
     "output_type": "stream",
     "text": [
      "\n"
     ]
    },
    {
     "name": "stderr",
     "output_type": "stream",
     "text": [
      "c:\\users\\sputnam\\appdata\\local\\continuum\\anaconda3\\lib\\site-packages\\nbconvert\\filters\\datatypefilter.py:41: UserWarning: Your element with mimetype(s) dict_keys(['application/scrapbook.scrap.json+json']) is not able to be represented.\n",
      "  mimetypes=output.keys())\n"
     ]
    }
   ],
   "source": [
    "print(\"Randomly selected seed: {0}\".format(seed))\n",
    "\n",
    "if not os.path.exists(notebook_dir): os.mkdir(notebook_dir)\n",
    "    \n",
    "nb_executed = {}\n",
    "\n",
    "for dur in durations:\n",
    "    nb_executed[str(dur)] = str(notebook_dir/'EventsTable_{0}_Dur{1}_tempE{2}_{3}_convE{4}_volE{5}.ipynb'.format(AOI, dur,\n",
    "                                                                                                                 tempEpsilon_dic[str(dur)], \n",
    "                                                                                                                 tempEpsilon2_dic[str(dur)], \n",
    "                                                                                                                 convEpsilon_dic[str(dur)], \n",
    "                                                                                                                 volEpsilon_dic[str(dur)]))\n",
    "    print( nb_executed[str(dur)])\n",
    "    nb_parameters = {'CN': CN,\n",
    "                     'volume': volume,\n",
    "                     'region': region,\n",
    "                     'duration': dur,\n",
    "                     'tempEpsilon': tempEpsilon_dic[str(dur)],\n",
    "                     'tempEpsilon2': tempEpsilon2_dic[str(dur)],\n",
    "                     'convEpsilon': convEpsilon_dic[str(dur)],\n",
    "                     'volEpsilon': volEpsilon_dic[str(dur)],\n",
    "                     'AOI': AOI,\n",
    "                     'precip_table_dir': str(precip_table_dir),\n",
    "                     'datarepository_dir': str(datarepository_dir),\n",
    "                     'bin_dir': str(bin_dir),\n",
    "                     'outputs_dir': str(outputs_dir),\n",
    "                     'seed': seed,\n",
    "                     'papermill': papermill,\n",
    "                     'display_plots': display_plots,\n",
    "                     'display_print': display_print,\n",
    "                     'save_dss': save_dss}\n",
    "    \n",
    "    pm.execute_notebook('EventsTable.ipynb', nb_executed[str(dur)], parameters = nb_parameters);\n",
    "    \n",
    "    nb = nb_executed[str(dur)]\n",
    "    ! jupyter nbconvert $nb --log-level ERROR"
   ]
  },
  {
   "cell_type": "markdown",
   "metadata": {},
   "source": [
    "### Display the results:"
   ]
  },
  {
   "cell_type": "markdown",
   "metadata": {},
   "source": [
    "#### Open the executed notebook and extract the scraps:"
   ]
  },
  {
   "cell_type": "code",
   "execution_count": 4,
   "metadata": {},
   "outputs": [],
   "source": [
    "final_reduction_dic = {}\n",
    "\n",
    "for dur in durations:\n",
    "    nb = sb.read_notebook(nb_executed[str(dur)])\n",
    "    final_reduction_dic[str(dur)] = nb.scraps['final_reduction_lst'][1]"
   ]
  },
  {
   "cell_type": "markdown",
   "metadata": {},
   "source": [
    "#### Final incremental excess rainfall results (combined events):"
   ]
  },
  {
   "cell_type": "code",
   "execution_count": 62,
   "metadata": {},
   "outputs": [
    {
     "name": "stdout",
     "output_type": "stream",
     "text": [
      "Number of curves reduced by 92.81% or 358 curves out of 4977 remaining\n",
      "Number of curves reduced by 92.66% or 365 curves out of 4976 remaining\n",
      "Number of curves reduced by 91.93% or 402 curves out of 4980 remaining\n",
      "Number of curves reduced by 88.68% or 565 curves out of 4991 remaining\n"
     ]
    }
   ],
   "source": [
    "for dur in durations:\n",
    "    print(\"Number of curves reduced by {0}% or {1} curves out of {2} remaining\".format(np.round(final_reduction_dic[str(dur)][0], 2), final_reduction_dic[str(dur)][1], final_reduction_dic[str(dur)][2]))"
   ]
  },
  {
   "cell_type": "markdown",
   "metadata": {},
   "source": [
    "### Combine the results for all durations and save:"
   ]
  },
  {
   "cell_type": "code",
   "execution_count": 5,
   "metadata": {},
   "outputs": [],
   "source": [
    "def combine_results(var: str, outputs_dir: str, AOI: str, \n",
    "            durations: list, tempEpsilon_dic: dict, convEpsilon_dic: dict, \n",
    "    volEpsilon_dic: dict, BCN: str=None, remove_ind_dur: bool = True) -> dict:\n",
    "    '''Combines the excess rainfall *.csv files for each duration into a \n",
    "       single dictionary for all durations.\n",
    "    '''\n",
    "    assert var in ['Excess_Rainfall', 'Weights'], 'Cannot combine results'\n",
    "    dic = {}\n",
    "    df_lst = []\n",
    "    for dur in durations:\n",
    "        tE = tempEpsilon_dic[str(dur)]\n",
    "        cE = convEpsilon_dic[str(dur)]\n",
    "        vE = volEpsilon_dic[str(dur)]\n",
    "        scen='{0}_Dur{1}_tempE{2}_convE{3}_volE{4}'.format(AOI, dur, tE, cE, vE)\n",
    "        file = outputs_dir/'{}_{}.csv'.format(var, scen)\n",
    "        df = pd.read_csv(file, index_col = 0)\n",
    "        if remove_ind_dur:\n",
    "            os.remove(file)\n",
    "        if var == 'Excess_Rainfall':\n",
    "            df_dic = df.to_dict()\n",
    "            dates = list(df.index)\n",
    "            ordin = df.index.name.title()\n",
    "            events = {}\n",
    "            for k, v in df_dic.items():\n",
    "                if 'E' in k:\n",
    "                    events[k] = list(v.values())\n",
    "            key ='H{0}'.format(str(dur).zfill(2))\n",
    "            val = {'time_idx_ordinate': ordin, 'time_idx': dates, 'BCName': {BCN: events}}         \n",
    "            dic[key] = val\n",
    "        elif var == 'Weights':\n",
    "            df_lst.append(df)\n",
    "    if var == 'Weights':\n",
    "        all_dfs = pd.concat(df_lst)\n",
    "        all_dfs = all_dfs.set_index('Unnamed: 0')\n",
    "        all_dfs.index.name = ''\n",
    "        print('Total Weight:', all_dfs['Weight'].sum())\n",
    "        dic = all_dfs.to_dict()\n",
    "    return dic"
   ]
  },
  {
   "cell_type": "markdown",
   "metadata": {},
   "source": [
    "#### Excess rainfall:"
   ]
  },
  {
   "cell_type": "code",
   "execution_count": 6,
   "metadata": {},
   "outputs": [],
   "source": [
    "excess_dic = combine_results('Excess_Rainfall', outputs_dir, AOI, durations, tempEpsilon_dic, convEpsilon_dic, volEpsilon_dic, BCN, remove_ind_dur)\n",
    "\n",
    "with open(outputs_dir/'{0}_{1}.json'.format(AOI, Model), 'w') as f:\n",
    "    json.dump(excess_dic, f)"
   ]
  },
  {
   "cell_type": "markdown",
   "metadata": {},
   "source": [
    "#### Event weights:"
   ]
  },
  {
   "cell_type": "code",
   "execution_count": 5,
   "metadata": {},
   "outputs": [],
   "source": [
    "weights_dic = combine_results('Weights', outputs_dir, AOI, durations, tempEpsilon_dic, convEpsilon_dic, volEpsilon_dic, remove_ind_dur)\n",
    "\n",
    "pd.DataFrame.from_dict(weights_dic).to_csv(outputs_dir/'Weights_{0}.csv'.format(AOI))"
   ]
  },
  {
   "cell_type": "markdown",
   "metadata": {},
   "source": [
    "#### Metadata:"
   ]
  },
  {
   "cell_type": "code",
   "execution_count": 22,
   "metadata": {},
   "outputs": [],
   "source": [
    "var =  'Metadata'\n",
    "for dur in durations:\n",
    "    tE = tempEpsilon_dic[str(dur)]\n",
    "    cE = convEpsilon_dic[str(dur)]\n",
    "    vE = volEpsilon_dic[str(dur)]\n",
    "    scen='{0}_Dur{1}_tempE{2}_convE{3}_volE{4}'.format(AOI, dur, tE, cE, vE)\n",
    "    file = outputs_dir/'{}_{}.json'.format(var, scen)"
   ]
  },
  {
   "cell_type": "code",
   "execution_count": 23,
   "metadata": {},
   "outputs": [],
   "source": [
    "with open(file) as f:\n",
    "    md = json.load(f) "
   ]
  },
  {
   "cell_type": "markdown",
   "metadata": {},
   "source": [
    "### QC the combined results:"
   ]
  },
  {
   "cell_type": "markdown",
   "metadata": {},
   "source": [
    "#### Plot the weight versus the total runoff for each group"
   ]
  },
  {
   "cell_type": "code",
   "execution_count": 150,
   "metadata": {},
   "outputs": [
    {
     "data": {
      "image/png": "[encoded data removed]",
      "text/plain": [
       "<Figure size 1728x360 with 1 Axes>"
      ]
     },
     "metadata": {
      "needs_background": "light"
     },
     "output_type": "display_data"
    }
   ],
   "source": [
    "plot_amount_vs_weight(weights, excess_dic, BCN)"
   ]
  },
  {
   "cell_type": "markdown",
   "metadata": {},
   "source": [
    "## End"
   ]
  }
 ],
 "metadata": {
  "kernelspec": {
   "display_name": "Python 3",
   "language": "python",
   "name": "python3"
  },
  "language_info": {
   "codemirror_mode": {
    "name": "ipython",
    "version": 3
   },
   "file_extension": ".py",
   "mimetype": "text/x-python",
   "name": "python",
   "nbconvert_exporter": "python",
   "pygments_lexer": "ipython3",
   "version": "3.7.1"
  }
 },
 "nbformat": 4,
 "nbformat_minor": 2
}
