{
 "cells": [
  {
   "cell_type": "markdown",
   "metadata": {},
   "source": [
    "# Explore Convolution Parameters:\n",
    "\n",
    "---"
   ]
  },
  {
   "cell_type": "markdown",
   "metadata": {},
   "source": [
    "### Load libraries, filenames, and paths:"
   ]
  },
  {
   "cell_type": "code",
   "execution_count": 1,
   "metadata": {},
   "outputs": [],
   "source": [
    "import sys\n",
    "sys.path.append('core')\n",
    "from hydromet import*\n",
    "\n",
    "file = 'DC_P01.json'\n",
    "root_dir = pl.Path(os.getcwd())\n",
    "output_dir = root_dir/'Outputs'\n",
    "\n",
    "duration = 24 # Hours\n",
    "BCN = 'D01'"
   ]
  },
  {
   "cell_type": "markdown",
   "metadata": {},
   "source": [
    "### Load data"
   ]
  },
  {
   "cell_type": "code",
   "execution_count": 4,
   "metadata": {},
   "outputs": [
    {
     "data": {
      "text/html": [
       "<div>\n",
       "<style scoped>\n",
       "    .dataframe tbody tr th:only-of-type {\n",
       "        vertical-align: middle;\n",
       "    }\n",
       "\n",
       "    .dataframe tbody tr th {\n",
       "        vertical-align: top;\n",
       "    }\n",
       "\n",
       "    .dataframe thead th {\n",
       "        text-align: right;\n",
       "    }\n",
       "</style>\n",
       "<table border=\"1\" class=\"dataframe\">\n",
       "  <thead>\n",
       "    <tr style=\"text-align: right;\">\n",
       "      <th></th>\n",
       "      <th>E2001</th>\n",
       "      <th>E2002</th>\n",
       "      <th>E2003</th>\n",
       "      <th>E2004</th>\n",
       "      <th>E2005</th>\n",
       "      <th>E2006</th>\n",
       "      <th>E2007</th>\n",
       "      <th>E2008</th>\n",
       "      <th>E2009</th>\n",
       "      <th>E2010</th>\n",
       "      <th>...</th>\n",
       "      <th>E2422</th>\n",
       "      <th>E2423</th>\n",
       "      <th>E2424</th>\n",
       "      <th>E2425</th>\n",
       "      <th>E2426</th>\n",
       "      <th>E2427</th>\n",
       "      <th>E2428</th>\n",
       "      <th>E2429</th>\n",
       "      <th>E2430</th>\n",
       "      <th>E2431</th>\n",
       "    </tr>\n",
       "    <tr>\n",
       "      <th>hours</th>\n",
       "      <th></th>\n",
       "      <th></th>\n",
       "      <th></th>\n",
       "      <th></th>\n",
       "      <th></th>\n",
       "      <th></th>\n",
       "      <th></th>\n",
       "      <th></th>\n",
       "      <th></th>\n",
       "      <th></th>\n",
       "      <th></th>\n",
       "      <th></th>\n",
       "      <th></th>\n",
       "      <th></th>\n",
       "      <th></th>\n",
       "      <th></th>\n",
       "      <th></th>\n",
       "      <th></th>\n",
       "      <th></th>\n",
       "      <th></th>\n",
       "      <th></th>\n",
       "    </tr>\n",
       "  </thead>\n",
       "  <tbody>\n",
       "    <tr>\n",
       "      <th>0.0</th>\n",
       "      <td>0.000000</td>\n",
       "      <td>0.000000</td>\n",
       "      <td>0.000000</td>\n",
       "      <td>0.000000</td>\n",
       "      <td>0.000000</td>\n",
       "      <td>0.000000</td>\n",
       "      <td>0.00000</td>\n",
       "      <td>0.00000</td>\n",
       "      <td>0.000000</td>\n",
       "      <td>0.000000</td>\n",
       "      <td>...</td>\n",
       "      <td>0.00000</td>\n",
       "      <td>0.000000</td>\n",
       "      <td>0.000000</td>\n",
       "      <td>0.000000</td>\n",
       "      <td>0.000000</td>\n",
       "      <td>0.000000</td>\n",
       "      <td>0.000000</td>\n",
       "      <td>0.000000</td>\n",
       "      <td>0.000000</td>\n",
       "      <td>0.000000</td>\n",
       "    </tr>\n",
       "    <tr>\n",
       "      <th>2.0</th>\n",
       "      <td>0.045131</td>\n",
       "      <td>0.030766</td>\n",
       "      <td>0.021614</td>\n",
       "      <td>0.006797</td>\n",
       "      <td>0.085396</td>\n",
       "      <td>0.018648</td>\n",
       "      <td>0.10523</td>\n",
       "      <td>0.08901</td>\n",
       "      <td>0.011862</td>\n",
       "      <td>0.013333</td>\n",
       "      <td>...</td>\n",
       "      <td>0.00262</td>\n",
       "      <td>0.001364</td>\n",
       "      <td>0.024122</td>\n",
       "      <td>0.083508</td>\n",
       "      <td>0.005366</td>\n",
       "      <td>0.002281</td>\n",
       "      <td>0.046863</td>\n",
       "      <td>0.078757</td>\n",
       "      <td>1.510144</td>\n",
       "      <td>1.875603</td>\n",
       "    </tr>\n",
       "  </tbody>\n",
       "</table>\n",
       "<p>2 rows × 431 columns</p>\n",
       "</div>"
      ],
      "text/plain": [
       "          E2001     E2002     E2003     E2004     E2005     E2006    E2007  \\\n",
       "hours                                                                        \n",
       "0.0    0.000000  0.000000  0.000000  0.000000  0.000000  0.000000  0.00000   \n",
       "2.0    0.045131  0.030766  0.021614  0.006797  0.085396  0.018648  0.10523   \n",
       "\n",
       "         E2008     E2009     E2010  ...    E2422     E2423     E2424  \\\n",
       "hours                               ...                                \n",
       "0.0    0.00000  0.000000  0.000000  ...  0.00000  0.000000  0.000000   \n",
       "2.0    0.08901  0.011862  0.013333  ...  0.00262  0.001364  0.024122   \n",
       "\n",
       "          E2425     E2426     E2427     E2428     E2429     E2430     E2431  \n",
       "hours                                                                        \n",
       "0.0    0.000000  0.000000  0.000000  0.000000  0.000000  0.000000  0.000000  \n",
       "2.0    0.083508  0.005366  0.002281  0.046863  0.078757  1.510144  1.875603  \n",
       "\n",
       "[2 rows x 431 columns]"
      ]
     },
     "execution_count": 4,
     "metadata": {},
     "output_type": "execute_result"
    }
   ],
   "source": [
    "with open(output_dir/file) as f:\n",
    "    EventsTable = json.load(f)\n",
    "\n",
    "dur =  'H{}'.format(str(duration).zfill(2))\n",
    "events = pd.DataFrame.from_dict(EventsTable[dur]['BCName'][BCN])\n",
    "events['hours'] = EventsTable[dur]['time_idx']\n",
    "events = events.set_index('hours')\n",
    "events.head(2)"
   ]
  },
  {
   "cell_type": "markdown",
   "metadata": {},
   "source": [
    "### Specify convolution parameters:\n",
    "- __tempEpsilon__: The number of hours over which to resample the excess rainfall event time-series. This smooths-out high temporal frequency variability, which means more curves will be considered similiar to eachother. \n",
    "\n",
    "- __tempEpsilon__:\n",
    "- __convEpsilon__:\n",
    "- __volEpsilon__:"
   ]
  },
  {
   "cell_type": "code",
   "execution_count": 5,
   "metadata": {},
   "outputs": [],
   "source": [
    "tempEpsilon = 4 \n",
    "tempEpsilon2 = 2 \n",
    "convEpsilon = 133.33  \n",
    "volEpsilon = 67  "
   ]
  },
  {
   "cell_type": "markdown",
   "metadata": {},
   "source": [
    "### Plot the excess rainfall:"
   ]
  },
  {
   "cell_type": "code",
   "execution_count": 6,
   "metadata": {},
   "outputs": [
    {
     "data": {
      "text/plain": [
       "Text(0.5, 1.0, 'Excess Rainfall')"
      ]
     },
     "execution_count": 6,
     "metadata": {},
     "output_type": "execute_result"
    },
    {
     "data": {
      "image/png": "[encoded data removed]",
      "text/plain": [
       "<Figure size 1440x360 with 1 Axes>"
      ]
     },
     "metadata": {
      "needs_background": "light"
     },
     "output_type": "display_data"
    }
   ],
   "source": [
    "fig, ax = plt.subplots(figsize=(20,5))\n",
    "ax.plot(events.index, events['E2001'], color='black', linewidth='2', label='')    \n",
    "ax.grid()\n",
    "ax.set_xlabel('Duration, [hours]')\n",
    "ax.set_ylabel('Runoff, [inches/timestep]')\n",
    "ax.set_title('Excess Rainfall', size = 18)"
   ]
  },
  {
   "cell_type": "markdown",
   "metadata": {},
   "source": [
    "#### Visualize tempEpsilon:"
   ]
  },
  {
   "cell_type": "code",
   "execution_count": null,
   "metadata": {},
   "outputs": [],
   "source": [
    "adj_tempEpsilon = convert_tempEpsilon(tempEpsilon, events)\n",
    "print('{0} hours is {1} timesteps'.format(tempEpsilon, adj_tempEpsilon))"
   ]
  },
  {
   "cell_type": "code",
   "execution_count": null,
   "metadata": {},
   "outputs": [],
   "source": [
    "events_resampled = prep_data_for_convolution(events, adj_tempEpsilon)\n",
    "events_resampled.head(2)"
   ]
  },
  {
   "cell_type": "code",
   "execution_count": null,
   "metadata": {},
   "outputs": [],
   "source": [
    "idx = np.arange(0,24+4,4)\n",
    "idx"
   ]
  },
  {
   "cell_type": "code",
   "execution_count": null,
   "metadata": {},
   "outputs": [],
   "source": [
    "fig, ax = plt.subplots(figsize=(20,5))\n",
    "ax.plot(events.index, events['E2001'], color='black', linewidth='2', label='')    \n",
    "ax.plot(idx, np.insert(list(events_resampled['E2001']),0,0), color='green', linewidth='2', label='tempEpsilon = {}'.format(tempEpsilon))    \n",
    "ax.grid()\n",
    "ax.set_xlabel('Duration, [hours]')\n",
    "ax.set_ylabel('Runoff, [inches/timestep]')\n",
    "ax.set_title('Excess Rainfall', size = 18)\n",
    "ax.legend()    "
   ]
  },
  {
   "cell_type": "code",
   "execution_count": 9,
   "metadata": {},
   "outputs": [
    {
     "name": "stdout",
     "output_type": "stream",
     "text": [
      "Value1 is 1x value2, Epsilon: 0.0\n",
      "Value1 is 2x value2, Epsilon: 66.67\n",
      "Value1 is 3x value2, Epsilon: 100.0\n",
      "Value1 is 4x value2, Epsilon: 120.0\n",
      "Value1 is 5x value2, Epsilon: 133.33\n",
      "Value1 is 6x value2, Epsilon: 142.86\n",
      "Value1 is 7x value2, Epsilon: 150.0\n"
     ]
    }
   ],
   "source": [
    "x = np.arange(1,8)\n",
    "\n",
    "v1 = 1.0\n",
    "\n",
    "for i in x:\n",
    "    v2 = i\n",
    "    pdiff = np.abs(v1-v2)/((v1+v2)/2)*100.0\n",
    "    print('Value1 is {}x value2,'.format(i), 'Epsilon:',np.around(pdiff,2))"
   ]
  },
  {
   "cell_type": "code",
   "execution_count": null,
   "metadata": {},
   "outputs": [],
   "source": []
  }
 ],
 "metadata": {
  "kernelspec": {
   "display_name": "Python 3",
   "language": "python",
   "name": "python3"
  },
  "language_info": {
   "codemirror_mode": {
    "name": "ipython",
    "version": 3
   },
   "file_extension": ".py",
   "mimetype": "text/x-python",
   "name": "python",
   "nbconvert_exporter": "python",
   "pygments_lexer": "ipython3",
   "version": "3.7.1"
  }
 },
 "nbformat": 4,
 "nbformat_minor": 2
}
