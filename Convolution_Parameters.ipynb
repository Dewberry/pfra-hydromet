{
 "cells": [
  {
   "cell_type": "markdown",
   "metadata": {},
   "source": [
    "# Quantification of Events' Similarity:\n",
    "### __Description of the Test Statistic__:\n",
    "In order to improve modeling efficency and reduce redundancy, incremental excess rainfall (runoff) curves are grouped using a novel test statistic. This test statistic is a quantitative measure of the similiarity between two curves and is based on the incremental and cumulative volumentric differences between the two curves. The mathematical structure of the test statistic is based on the Kling-Gupta Efficiency described in Kling et al. (2012) and can be expressed as a follows:\n",
    "\n",
    "$$\n",
    "test = 1-\\sqrt{(t_c-1)^2+(t_v-1)^2}\n",
    "$$\n",
    "\n",
    "Where, \n",
    "$$\n",
    "t_c=  \\frac{conEpsilon-max⁡\\%dif}{conEpsilon}\n",
    "$$\n",
    "\n",
    "and\n",
    "\n",
    "$$\n",
    "t_v= \\frac{volEpsilon-total⁡\\%dif}{volEpsilon}\n",
    "$$\n",
    "\n",
    "\n",
    "For $t_c$, the $max\\%dif$ is the maximum percent difference in runoff between two curves at any given timestep, where the length of the timestep is set by $tempEpsilon$. This percent difference can be expressed as:\n",
    "\n",
    "$$\n",
    "\\%dif =  \\frac{\\mid R_{1_i}-R_{2_i}\\mid}{\\Big[\\frac{R_{1_i}+R_{2_i}}{2}\\Big]} *100\n",
    "$$\n",
    "\n",
    "Where, $R_{1_i}$ is the runoff over timestep $i$ for curve 1 and $R_{2_i}$ is the runoff over time step $i$ for curve 2.\n",
    "\n",
    "\n",
    "For $t_v$, the $total \\% dif$ is the percent difference in the total runoff between two curves. This percent difference can be expressed as:\n",
    "\n",
    "$$\n",
    "𝑡𝑜𝑡𝑎𝑙 \\% 𝑑𝑖𝑓=  \\frac{T_1-T_2}{\\Big[\\frac{T_1+T_2}{2}\\Big]} *100\n",
    "$$\n",
    "\n",
    "Where, $T_1$ is the total runoff for curve 1 and is $T_2$ is the total runoff for curve 2.\n",
    "\n",
    "### __Test Statistic Parameters__:\n",
    "\n",
    "- __tempEpsilon__: The number of hours over which to resample the excess rainfall event time-series during the first convolution. This smooths-out high temporal frequency variability, which means more curves will be considered similiar to eachother. \n",
    "\n",
    "- __tempEpsilon2__: The tempEpsilon for the final (second) convolution. \n",
    "\n",
    "- __convEpsilon__: The maximum allowable percent difference in excess rainfall between two curves at any timestep. If $max⁡\\%dif$ is greater than or equal to $conEpsilon$ then $t_c$ will be less than or equal to zero, resulting in a test value that is less than or equal to zero (see `Interpretation of the Test Statistic` below).\n",
    "\n",
    "- __volEpsilon__: The maximum allowable precent difference in the total excess rainfall between two curves. If $total⁡\\%dif$ is greater than or equal to $volEpsilon$ then $t_v$ will be less than or equal to zero, resulting in a test value that is less than or equal to zero (see `Interpretation of the Test Statistic` below).\n",
    "\n",
    "\n",
    "\n",
    "#Show a plot of each here\n",
    "### Visualize the test statistic parameters:"
   ]
  },
  {
   "cell_type": "markdown",
   "metadata": {},
   "source": [
    "##### Load dependencies:"
   ]
  },
  {
   "cell_type": "code",
   "execution_count": 2,
   "metadata": {},
   "outputs": [
    {
     "data": {
      "text/html": [
       "<div>\n",
       "<style scoped>\n",
       "    .dataframe tbody tr th:only-of-type {\n",
       "        vertical-align: middle;\n",
       "    }\n",
       "\n",
       "    .dataframe tbody tr th {\n",
       "        vertical-align: top;\n",
       "    }\n",
       "\n",
       "    .dataframe thead th {\n",
       "        text-align: right;\n",
       "    }\n",
       "</style>\n",
       "<table border=\"1\" class=\"dataframe\">\n",
       "  <thead>\n",
       "    <tr style=\"text-align: right;\">\n",
       "      <th></th>\n",
       "      <th>E2001</th>\n",
       "      <th>E2002</th>\n",
       "      <th>E2003</th>\n",
       "      <th>E2004</th>\n",
       "      <th>E2005</th>\n",
       "      <th>E2006</th>\n",
       "      <th>E2007</th>\n",
       "      <th>E2008</th>\n",
       "      <th>E2009</th>\n",
       "      <th>E2010</th>\n",
       "      <th>...</th>\n",
       "      <th>E2422</th>\n",
       "      <th>E2423</th>\n",
       "      <th>E2424</th>\n",
       "      <th>E2425</th>\n",
       "      <th>E2426</th>\n",
       "      <th>E2427</th>\n",
       "      <th>E2428</th>\n",
       "      <th>E2429</th>\n",
       "      <th>E2430</th>\n",
       "      <th>E2431</th>\n",
       "    </tr>\n",
       "    <tr>\n",
       "      <th>hours</th>\n",
       "      <th></th>\n",
       "      <th></th>\n",
       "      <th></th>\n",
       "      <th></th>\n",
       "      <th></th>\n",
       "      <th></th>\n",
       "      <th></th>\n",
       "      <th></th>\n",
       "      <th></th>\n",
       "      <th></th>\n",
       "      <th></th>\n",
       "      <th></th>\n",
       "      <th></th>\n",
       "      <th></th>\n",
       "      <th></th>\n",
       "      <th></th>\n",
       "      <th></th>\n",
       "      <th></th>\n",
       "      <th></th>\n",
       "      <th></th>\n",
       "      <th></th>\n",
       "    </tr>\n",
       "  </thead>\n",
       "  <tbody>\n",
       "    <tr>\n",
       "      <th>0.0</th>\n",
       "      <td>0.000000</td>\n",
       "      <td>0.000000</td>\n",
       "      <td>0.000000</td>\n",
       "      <td>0.000000</td>\n",
       "      <td>0.000000</td>\n",
       "      <td>0.000000</td>\n",
       "      <td>0.00000</td>\n",
       "      <td>0.00000</td>\n",
       "      <td>0.000000</td>\n",
       "      <td>0.000000</td>\n",
       "      <td>...</td>\n",
       "      <td>0.00000</td>\n",
       "      <td>0.000000</td>\n",
       "      <td>0.000000</td>\n",
       "      <td>0.000000</td>\n",
       "      <td>0.000000</td>\n",
       "      <td>0.000000</td>\n",
       "      <td>0.000000</td>\n",
       "      <td>0.000000</td>\n",
       "      <td>0.000000</td>\n",
       "      <td>0.000000</td>\n",
       "    </tr>\n",
       "    <tr>\n",
       "      <th>2.0</th>\n",
       "      <td>0.045131</td>\n",
       "      <td>0.030766</td>\n",
       "      <td>0.021614</td>\n",
       "      <td>0.006797</td>\n",
       "      <td>0.085396</td>\n",
       "      <td>0.018648</td>\n",
       "      <td>0.10523</td>\n",
       "      <td>0.08901</td>\n",
       "      <td>0.011862</td>\n",
       "      <td>0.013333</td>\n",
       "      <td>...</td>\n",
       "      <td>0.00262</td>\n",
       "      <td>0.001364</td>\n",
       "      <td>0.024122</td>\n",
       "      <td>0.083508</td>\n",
       "      <td>0.005366</td>\n",
       "      <td>0.002281</td>\n",
       "      <td>0.046863</td>\n",
       "      <td>0.078757</td>\n",
       "      <td>1.510144</td>\n",
       "      <td>1.875603</td>\n",
       "    </tr>\n",
       "  </tbody>\n",
       "</table>\n",
       "<p>2 rows × 431 columns</p>\n",
       "</div>"
      ],
      "text/plain": [
       "          E2001     E2002     E2003     E2004     E2005     E2006    E2007  \\\n",
       "hours                                                                        \n",
       "0.0    0.000000  0.000000  0.000000  0.000000  0.000000  0.000000  0.00000   \n",
       "2.0    0.045131  0.030766  0.021614  0.006797  0.085396  0.018648  0.10523   \n",
       "\n",
       "         E2008     E2009     E2010  ...    E2422     E2423     E2424  \\\n",
       "hours                               ...                                \n",
       "0.0    0.00000  0.000000  0.000000  ...  0.00000  0.000000  0.000000   \n",
       "2.0    0.08901  0.011862  0.013333  ...  0.00262  0.001364  0.024122   \n",
       "\n",
       "          E2425     E2426     E2427     E2428     E2429     E2430     E2431  \n",
       "hours                                                                        \n",
       "0.0    0.000000  0.000000  0.000000  0.000000  0.000000  0.000000  0.000000  \n",
       "2.0    0.083508  0.005366  0.002281  0.046863  0.078757  1.510144  1.875603  \n",
       "\n",
       "[2 rows x 431 columns]"
      ]
     },
     "execution_count": 2,
     "metadata": {},
     "output_type": "execute_result"
    }
   ],
   "source": [
    "import sys\n",
    "sys.path.append('core')\n",
    "from hydromet import*\n",
    "\n",
    "file = 'DC_P01.json'\n",
    "duration = 24 # Hours\n",
    "BCN = 'D01'\n",
    "root_dir = pl.Path(os.getcwd())\n",
    "output_dir = root_dir/'Outputs'\n",
    "\n",
    "with open(output_dir/file) as f:\n",
    "    EventsTable = json.load(f)\n",
    "dur =  'H{}'.format(str(duration).zfill(2))\n",
    "events = pd.DataFrame.from_dict(EventsTable[dur]['BCName'][BCN])\n",
    "events['hours'] = EventsTable[dur]['time_idx']\n",
    "events = events.set_index('hours')\n",
    "events.head(2)"
   ]
  },
  {
   "cell_type": "markdown",
   "metadata": {},
   "source": [
    "##### __tempEpsilon__:\n",
    "- Convert the tempEpsilon from hours to the number of timesteps.\n",
    "- Resample the excess rainfall events using the specified number of timesteps\n",
    "- Plot the results"
   ]
  },
  {
   "cell_type": "code",
   "execution_count": 84,
   "metadata": {},
   "outputs": [
    {
     "name": "stdout",
     "output_type": "stream",
     "text": [
      "2 hours is 1 timesteps\n"
     ]
    },
    {
     "ename": "ValueError",
     "evalue": "x and y must have same first dimension, but have shapes (13,) and (14,)",
     "output_type": "error",
     "traceback": [
      "\u001b[1;31m---------------------------------------------------------------------------\u001b[0m",
      "\u001b[1;31mValueError\u001b[0m                                Traceback (most recent call last)",
      "\u001b[1;32m<ipython-input-84-6ec150a5d08e>\u001b[0m in \u001b[0;36m<module>\u001b[1;34m\u001b[0m\n\u001b[0;32m      9\u001b[0m     \u001b[0mevents_resampled\u001b[0m \u001b[1;33m=\u001b[0m \u001b[0mprep_data_for_convolution\u001b[0m\u001b[1;33m(\u001b[0m\u001b[0mevents\u001b[0m\u001b[1;33m,\u001b[0m \u001b[0madj_tempEpsilon\u001b[0m\u001b[1;33m)\u001b[0m\u001b[1;33m\u001b[0m\u001b[1;33m\u001b[0m\u001b[0m\n\u001b[0;32m     10\u001b[0m     \u001b[0midx\u001b[0m \u001b[1;33m=\u001b[0m \u001b[0mnp\u001b[0m\u001b[1;33m.\u001b[0m\u001b[0marange\u001b[0m\u001b[1;33m(\u001b[0m\u001b[1;36m0\u001b[0m\u001b[1;33m,\u001b[0m \u001b[0mduration\u001b[0m\u001b[1;33m+\u001b[0m\u001b[0madj_tempEpsilon\u001b[0m\u001b[1;33m*\u001b[0m\u001b[0mtstep\u001b[0m\u001b[1;33m,\u001b[0m \u001b[0madj_tempEpsilon\u001b[0m\u001b[1;33m*\u001b[0m\u001b[0mtstep\u001b[0m\u001b[1;33m)\u001b[0m\u001b[1;33m\u001b[0m\u001b[1;33m\u001b[0m\u001b[0m\n\u001b[1;32m---> 11\u001b[1;33m     \u001b[0max\u001b[0m\u001b[1;33m.\u001b[0m\u001b[0mplot\u001b[0m\u001b[1;33m(\u001b[0m\u001b[0midx\u001b[0m\u001b[1;33m,\u001b[0m \u001b[0mnp\u001b[0m\u001b[1;33m.\u001b[0m\u001b[0minsert\u001b[0m\u001b[1;33m(\u001b[0m\u001b[0mlist\u001b[0m\u001b[1;33m(\u001b[0m\u001b[0mevents_resampled\u001b[0m\u001b[1;33m.\u001b[0m\u001b[0miloc\u001b[0m\u001b[1;33m[\u001b[0m\u001b[1;33m:\u001b[0m\u001b[1;33m,\u001b[0m\u001b[1;36m0\u001b[0m\u001b[1;33m]\u001b[0m\u001b[1;33m)\u001b[0m\u001b[1;33m,\u001b[0m \u001b[1;36m0\u001b[0m\u001b[1;33m,\u001b[0m \u001b[1;36m0\u001b[0m\u001b[1;33m)\u001b[0m\u001b[1;33m,\u001b[0m \u001b[0mlinewidth\u001b[0m\u001b[1;33m=\u001b[0m\u001b[1;34m'1'\u001b[0m\u001b[1;33m,\u001b[0m \u001b[0mlabel\u001b[0m\u001b[1;33m=\u001b[0m\u001b[1;34m'tempEpsilon = {}'\u001b[0m\u001b[1;33m.\u001b[0m\u001b[0mformat\u001b[0m\u001b[1;33m(\u001b[0m\u001b[0me\u001b[0m\u001b[1;33m)\u001b[0m\u001b[1;33m,\u001b[0m \u001b[0malpha\u001b[0m\u001b[1;33m=\u001b[0m\u001b[1;36m0.75\u001b[0m\u001b[1;33m)\u001b[0m\u001b[1;33m\u001b[0m\u001b[1;33m\u001b[0m\u001b[0m\n\u001b[0m\u001b[0;32m     12\u001b[0m \u001b[0max\u001b[0m\u001b[1;33m.\u001b[0m\u001b[0mgrid\u001b[0m\u001b[1;33m(\u001b[0m\u001b[1;33m)\u001b[0m\u001b[1;33m\u001b[0m\u001b[1;33m\u001b[0m\u001b[0m\n\u001b[0;32m     13\u001b[0m \u001b[0max\u001b[0m\u001b[1;33m.\u001b[0m\u001b[0mset_xlabel\u001b[0m\u001b[1;33m(\u001b[0m\u001b[1;34m'Duration, [hours]'\u001b[0m\u001b[1;33m)\u001b[0m\u001b[1;33m\u001b[0m\u001b[1;33m\u001b[0m\u001b[0m\n",
      "\u001b[1;32m~\\AppData\\Local\\Continuum\\anaconda3\\lib\\site-packages\\matplotlib\\__init__.py\u001b[0m in \u001b[0;36minner\u001b[1;34m(ax, data, *args, **kwargs)\u001b[0m\n\u001b[0;32m   1808\u001b[0m                         \u001b[1;34m\"the Matplotlib list!)\"\u001b[0m \u001b[1;33m%\u001b[0m \u001b[1;33m(\u001b[0m\u001b[0mlabel_namer\u001b[0m\u001b[1;33m,\u001b[0m \u001b[0mfunc\u001b[0m\u001b[1;33m.\u001b[0m\u001b[0m__name__\u001b[0m\u001b[1;33m)\u001b[0m\u001b[1;33m,\u001b[0m\u001b[1;33m\u001b[0m\u001b[1;33m\u001b[0m\u001b[0m\n\u001b[0;32m   1809\u001b[0m                         RuntimeWarning, stacklevel=2)\n\u001b[1;32m-> 1810\u001b[1;33m             \u001b[1;32mreturn\u001b[0m \u001b[0mfunc\u001b[0m\u001b[1;33m(\u001b[0m\u001b[0max\u001b[0m\u001b[1;33m,\u001b[0m \u001b[1;33m*\u001b[0m\u001b[0margs\u001b[0m\u001b[1;33m,\u001b[0m \u001b[1;33m**\u001b[0m\u001b[0mkwargs\u001b[0m\u001b[1;33m)\u001b[0m\u001b[1;33m\u001b[0m\u001b[1;33m\u001b[0m\u001b[0m\n\u001b[0m\u001b[0;32m   1811\u001b[0m \u001b[1;33m\u001b[0m\u001b[0m\n\u001b[0;32m   1812\u001b[0m         inner.__doc__ = _add_data_doc(inner.__doc__,\n",
      "\u001b[1;32m~\\AppData\\Local\\Continuum\\anaconda3\\lib\\site-packages\\matplotlib\\axes\\_axes.py\u001b[0m in \u001b[0;36mplot\u001b[1;34m(self, scalex, scaley, *args, **kwargs)\u001b[0m\n\u001b[0;32m   1609\u001b[0m         \u001b[0mkwargs\u001b[0m \u001b[1;33m=\u001b[0m \u001b[0mcbook\u001b[0m\u001b[1;33m.\u001b[0m\u001b[0mnormalize_kwargs\u001b[0m\u001b[1;33m(\u001b[0m\u001b[0mkwargs\u001b[0m\u001b[1;33m,\u001b[0m \u001b[0mmlines\u001b[0m\u001b[1;33m.\u001b[0m\u001b[0mLine2D\u001b[0m\u001b[1;33m.\u001b[0m\u001b[0m_alias_map\u001b[0m\u001b[1;33m)\u001b[0m\u001b[1;33m\u001b[0m\u001b[1;33m\u001b[0m\u001b[0m\n\u001b[0;32m   1610\u001b[0m \u001b[1;33m\u001b[0m\u001b[0m\n\u001b[1;32m-> 1611\u001b[1;33m         \u001b[1;32mfor\u001b[0m \u001b[0mline\u001b[0m \u001b[1;32min\u001b[0m \u001b[0mself\u001b[0m\u001b[1;33m.\u001b[0m\u001b[0m_get_lines\u001b[0m\u001b[1;33m(\u001b[0m\u001b[1;33m*\u001b[0m\u001b[0margs\u001b[0m\u001b[1;33m,\u001b[0m \u001b[1;33m**\u001b[0m\u001b[0mkwargs\u001b[0m\u001b[1;33m)\u001b[0m\u001b[1;33m:\u001b[0m\u001b[1;33m\u001b[0m\u001b[1;33m\u001b[0m\u001b[0m\n\u001b[0m\u001b[0;32m   1612\u001b[0m             \u001b[0mself\u001b[0m\u001b[1;33m.\u001b[0m\u001b[0madd_line\u001b[0m\u001b[1;33m(\u001b[0m\u001b[0mline\u001b[0m\u001b[1;33m)\u001b[0m\u001b[1;33m\u001b[0m\u001b[1;33m\u001b[0m\u001b[0m\n\u001b[0;32m   1613\u001b[0m             \u001b[0mlines\u001b[0m\u001b[1;33m.\u001b[0m\u001b[0mappend\u001b[0m\u001b[1;33m(\u001b[0m\u001b[0mline\u001b[0m\u001b[1;33m)\u001b[0m\u001b[1;33m\u001b[0m\u001b[1;33m\u001b[0m\u001b[0m\n",
      "\u001b[1;32m~\\AppData\\Local\\Continuum\\anaconda3\\lib\\site-packages\\matplotlib\\axes\\_base.py\u001b[0m in \u001b[0;36m_grab_next_args\u001b[1;34m(self, *args, **kwargs)\u001b[0m\n\u001b[0;32m    391\u001b[0m                 \u001b[0mthis\u001b[0m \u001b[1;33m+=\u001b[0m \u001b[0margs\u001b[0m\u001b[1;33m[\u001b[0m\u001b[1;36m0\u001b[0m\u001b[1;33m]\u001b[0m\u001b[1;33m,\u001b[0m\u001b[1;33m\u001b[0m\u001b[1;33m\u001b[0m\u001b[0m\n\u001b[0;32m    392\u001b[0m                 \u001b[0margs\u001b[0m \u001b[1;33m=\u001b[0m \u001b[0margs\u001b[0m\u001b[1;33m[\u001b[0m\u001b[1;36m1\u001b[0m\u001b[1;33m:\u001b[0m\u001b[1;33m]\u001b[0m\u001b[1;33m\u001b[0m\u001b[1;33m\u001b[0m\u001b[0m\n\u001b[1;32m--> 393\u001b[1;33m             \u001b[1;32myield\u001b[0m \u001b[1;32mfrom\u001b[0m \u001b[0mself\u001b[0m\u001b[1;33m.\u001b[0m\u001b[0m_plot_args\u001b[0m\u001b[1;33m(\u001b[0m\u001b[0mthis\u001b[0m\u001b[1;33m,\u001b[0m \u001b[0mkwargs\u001b[0m\u001b[1;33m)\u001b[0m\u001b[1;33m\u001b[0m\u001b[1;33m\u001b[0m\u001b[0m\n\u001b[0m\u001b[0;32m    394\u001b[0m \u001b[1;33m\u001b[0m\u001b[0m\n\u001b[0;32m    395\u001b[0m \u001b[1;33m\u001b[0m\u001b[0m\n",
      "\u001b[1;32m~\\AppData\\Local\\Continuum\\anaconda3\\lib\\site-packages\\matplotlib\\axes\\_base.py\u001b[0m in \u001b[0;36m_plot_args\u001b[1;34m(self, tup, kwargs)\u001b[0m\n\u001b[0;32m    368\u001b[0m             \u001b[0mx\u001b[0m\u001b[1;33m,\u001b[0m \u001b[0my\u001b[0m \u001b[1;33m=\u001b[0m \u001b[0mindex_of\u001b[0m\u001b[1;33m(\u001b[0m\u001b[0mtup\u001b[0m\u001b[1;33m[\u001b[0m\u001b[1;33m-\u001b[0m\u001b[1;36m1\u001b[0m\u001b[1;33m]\u001b[0m\u001b[1;33m)\u001b[0m\u001b[1;33m\u001b[0m\u001b[1;33m\u001b[0m\u001b[0m\n\u001b[0;32m    369\u001b[0m \u001b[1;33m\u001b[0m\u001b[0m\n\u001b[1;32m--> 370\u001b[1;33m         \u001b[0mx\u001b[0m\u001b[1;33m,\u001b[0m \u001b[0my\u001b[0m \u001b[1;33m=\u001b[0m \u001b[0mself\u001b[0m\u001b[1;33m.\u001b[0m\u001b[0m_xy_from_xy\u001b[0m\u001b[1;33m(\u001b[0m\u001b[0mx\u001b[0m\u001b[1;33m,\u001b[0m \u001b[0my\u001b[0m\u001b[1;33m)\u001b[0m\u001b[1;33m\u001b[0m\u001b[1;33m\u001b[0m\u001b[0m\n\u001b[0m\u001b[0;32m    371\u001b[0m \u001b[1;33m\u001b[0m\u001b[0m\n\u001b[0;32m    372\u001b[0m         \u001b[1;32mif\u001b[0m \u001b[0mself\u001b[0m\u001b[1;33m.\u001b[0m\u001b[0mcommand\u001b[0m \u001b[1;33m==\u001b[0m \u001b[1;34m'plot'\u001b[0m\u001b[1;33m:\u001b[0m\u001b[1;33m\u001b[0m\u001b[1;33m\u001b[0m\u001b[0m\n",
      "\u001b[1;32m~\\AppData\\Local\\Continuum\\anaconda3\\lib\\site-packages\\matplotlib\\axes\\_base.py\u001b[0m in \u001b[0;36m_xy_from_xy\u001b[1;34m(self, x, y)\u001b[0m\n\u001b[0;32m    229\u001b[0m         \u001b[1;32mif\u001b[0m \u001b[0mx\u001b[0m\u001b[1;33m.\u001b[0m\u001b[0mshape\u001b[0m\u001b[1;33m[\u001b[0m\u001b[1;36m0\u001b[0m\u001b[1;33m]\u001b[0m \u001b[1;33m!=\u001b[0m \u001b[0my\u001b[0m\u001b[1;33m.\u001b[0m\u001b[0mshape\u001b[0m\u001b[1;33m[\u001b[0m\u001b[1;36m0\u001b[0m\u001b[1;33m]\u001b[0m\u001b[1;33m:\u001b[0m\u001b[1;33m\u001b[0m\u001b[1;33m\u001b[0m\u001b[0m\n\u001b[0;32m    230\u001b[0m             raise ValueError(\"x and y must have same first dimension, but \"\n\u001b[1;32m--> 231\u001b[1;33m                              \"have shapes {} and {}\".format(x.shape, y.shape))\n\u001b[0m\u001b[0;32m    232\u001b[0m         \u001b[1;32mif\u001b[0m \u001b[0mx\u001b[0m\u001b[1;33m.\u001b[0m\u001b[0mndim\u001b[0m \u001b[1;33m>\u001b[0m \u001b[1;36m2\u001b[0m \u001b[1;32mor\u001b[0m \u001b[0my\u001b[0m\u001b[1;33m.\u001b[0m\u001b[0mndim\u001b[0m \u001b[1;33m>\u001b[0m \u001b[1;36m2\u001b[0m\u001b[1;33m:\u001b[0m\u001b[1;33m\u001b[0m\u001b[1;33m\u001b[0m\u001b[0m\n\u001b[0;32m    233\u001b[0m             raise ValueError(\"x and y can be no greater than 2-D, but have \"\n",
      "\u001b[1;31mValueError\u001b[0m: x and y must have same first dimension, but have shapes (13,) and (14,)"
     ]
    },
    {
     "data": {
      "image/png": "[encoded data removed]",
      "text/plain": [
       "<Figure size 1440x360 with 1 Axes>"
      ]
     },
     "metadata": {
      "needs_background": "light"
     },
     "output_type": "display_data"
    }
   ],
   "source": [
    "tempEpsilon = [2] \n",
    "\n",
    "fig, ax = plt.subplots(figsize=(20, 5))\n",
    "ax.plot(events.index, events.iloc[:,0] , color='black', linewidth='1', label='Original')    \n",
    "for e in tempEpsilon:\n",
    "    adj_tempEpsilon = convert_tempEpsilon(e, events)\n",
    "    print('{0} hours is {1} timesteps'.format(e, adj_tempEpsilon))\n",
    "    tstep = events.index[-1]/(events.shape[0]-1)\n",
    "    events_resampled = prep_data_for_convolution(events, adj_tempEpsilon)\n",
    "    idx = np.arange(0, duration+adj_tempEpsilon*tstep, adj_tempEpsilon*tstep)\n",
    "    ax.plot(idx, np.insert(list(events_resampled.iloc[:,0]), 0, 0), linewidth='1', label='tempEpsilon = {}'.format(e), alpha=0.75)    \n",
    "ax.grid()\n",
    "ax.set_xlabel('Duration, [hours]')\n",
    "ax.set_ylabel('Runoff, [inches/timestep]')\n",
    "ax.set_title('Excess Rainfall', size = 18)\n",
    "ax.legend() "
   ]
  },
  {
   "cell_type": "code",
   "execution_count": 86,
   "metadata": {},
   "outputs": [],
   "source": [
    "def prep_data_for_convolution(dataslice: pd.DataFrame, \n",
    "                                    adj_tempEpsilon: int) -> pd.DataFrame:\n",
    "    '''The runoff for each column (event) in the passed dataframe is \n",
    "       calculated from zero to 24 hours for the intervals of length \n",
    "       tempEpsilon*timstep (30 minutes).\n",
    "    '''\n",
    "    curve_test_dict = {}\n",
    "    for col in dataslice.columns:   \n",
    "        curve_result = test_shapes(dataslice, col, adj_tempEpsilon) \n",
    "        curve_test_dict[col] = curve_result\n",
    "    curve_test_df = pd.DataFrame.from_dict(curve_test_dict, orient='index').T\n",
    "    curve_test_df_nanzero = curve_test_df.fillna(0)\n",
    "    return curve_test_df_nanzero\n",
    "\n",
    "\n",
    "def test_shapes(dataslice: pd.DataFrame, col: str, \n",
    "                                adj_tempEpsilon: int) -> Array[np.float64]:\n",
    "    '''Calculates the total runoff for each interval, where the interval \n",
    "       width is equal to tempEpsilon times the timestep (30 minutes).\n",
    "    '''\n",
    "    calc_sum = []\n",
    "    for i in np.arange(0, len(dataslice.index), adj_tempEpsilon):\n",
    "        calc_sum.append(sum(dataslice.iloc[i:i+1][col]))\n",
    "    curve_shape = np.array(calc_sum)\n",
    "    return curve_shape"
   ]
  },
  {
   "cell_type": "code",
   "execution_count": 90,
   "metadata": {},
   "outputs": [],
   "source": [
    "calc_sum = test_shapes(events, 'E2001', 2)"
   ]
  },
  {
   "cell_type": "code",
   "execution_count": 93,
   "metadata": {},
   "outputs": [
    {
     "data": {
      "text/plain": [
       "0.7189336534485942"
      ]
     },
     "execution_count": 93,
     "metadata": {},
     "output_type": "execute_result"
    }
   ],
   "source": [
    "sum(calc_sum)"
   ]
  },
  {
   "cell_type": "code",
   "execution_count": 92,
   "metadata": {},
   "outputs": [
    {
     "data": {
      "text/plain": [
       "2.9192874546119274"
      ]
     },
     "execution_count": 92,
     "metadata": {},
     "output_type": "execute_result"
    }
   ],
   "source": [
    "sum(events_resampled.iloc[:,0])"
   ]
  },
  {
   "cell_type": "code",
   "execution_count": 95,
   "metadata": {},
   "outputs": [
    {
     "name": "stdout",
     "output_type": "stream",
     "text": [
      "0\n",
      "1\n",
      "2\n",
      "3\n",
      "4\n",
      "5\n",
      "6\n",
      "7\n",
      "8\n",
      "9\n",
      "10\n",
      "11\n",
      "12\n"
     ]
    }
   ],
   "source": [
    "for i in np.arange(0, len(events.index), adj_tempEpsilon):\n",
    "    print(i)"
   ]
  },
  {
   "cell_type": "markdown",
   "metadata": {},
   "source": [
    "##### __conEpsilon__:"
   ]
  },
  {
   "cell_type": "code",
   "execution_count": 9,
   "metadata": {},
   "outputs": [],
   "source": [
    "convEpsilon = 133.33  "
   ]
  },
  {
   "cell_type": "markdown",
   "metadata": {},
   "source": [
    "##### __volEpsilon__:"
   ]
  },
  {
   "cell_type": "code",
   "execution_count": null,
   "metadata": {},
   "outputs": [],
   "source": [
    "\n",
    "volEpsilon = 67  "
   ]
  },
  {
   "cell_type": "markdown",
   "metadata": {},
   "source": [
    "#### __Interpretion of the Test Statistic__:\n",
    "As described above, the test statistic is a quantitative measure of the similiarity between two incremental excess rainfall curves, where:\n",
    "- __1__ -- indicates that the resampled curves are identical to each other. Note that the curves are resampled using either $tempEpsilon$ or $tempEpsilon2$ depending on if the test statistic is being calculated during the first or final (second) convolution.\n",
    "   - This occurs when both $max⁡\\%dif$ and $total⁡\\%dif$ are equal to zero, such that $t_c$ and $t_v$ are equal to one.\n",
    "- __0__ -- indicates that the curves are not identical (being conservative). \n",
    "    - This occurs when either the $max⁡\\%dif$  is equal to $conEpsilon$ or $total⁡\\%dif$ is equal to $volEpsilon$, such that either $t_c$ or $t_v$ is equal to zero. \n",
    "    - Note that using zero as the threshold for when two curves are no longer considered similiar is conservative since one of the two $\\%dif$ values are still less the user defined conEpsilon or volEpsilon value. \n",
    "- __1-√2__ -- the max⁡〖% 𝑑𝑖𝑓〗 is equal to 𝑐𝑜𝑛𝐸𝑝𝑠𝑖𝑙𝑜𝑛 and  total⁡〖% 𝑑𝑖𝑓〗 is equal to 𝑣𝑜𝑙𝐸𝑝𝑠𝑖𝑙𝑜𝑛. Again, using the parameters as measures of it, this implies the curves are not equal with respect to either parameter. Note that 𝑡_𝑐=𝑡_𝑣=0\n"
   ]
  },
  {
   "cell_type": "code",
   "execution_count": null,
   "metadata": {},
   "outputs": [],
   "source": [
    "tc = np.arange(-1,1,0.1)\n",
    "tv = np.arange(-1,1,0.1)\n",
    "\n",
    "test= [] \n",
    "for i in tc:\n",
    "    for j in tv:\n",
    "        t = 1-np.sqrt((i-1)**2+(j-1)**2)\n",
    "        test.append((i, j ,t))"
   ]
  },
  {
   "cell_type": "code",
   "execution_count": 98,
   "metadata": {},
   "outputs": [
    {
     "name": "stdout",
     "output_type": "stream",
     "text": [
      "Value1 is 1x value2, Epsilon: 0.0\n",
      "Value1 is 2x value2, Epsilon: 66.67\n",
      "Value1 is 3x value2, Epsilon: 100.0\n",
      "Value1 is 4x value2, Epsilon: 120.0\n",
      "Value1 is 5x value2, Epsilon: 133.33\n",
      "Value1 is 6x value2, Epsilon: 142.86\n",
      "Value1 is 7x value2, Epsilon: 150.0\n",
      "Value1 is 8x value2, Epsilon: 155.56\n",
      "Value1 is 9x value2, Epsilon: 160.0\n",
      "Value1 is 10x value2, Epsilon: 163.64\n",
      "Value1 is 11x value2, Epsilon: 166.67\n",
      "Value1 is 12x value2, Epsilon: 169.23\n",
      "Value1 is 13x value2, Epsilon: 171.43\n",
      "Value1 is 14x value2, Epsilon: 173.33\n",
      "Value1 is 15x value2, Epsilon: 175.0\n",
      "Value1 is 16x value2, Epsilon: 176.47\n",
      "Value1 is 17x value2, Epsilon: 177.78\n",
      "Value1 is 18x value2, Epsilon: 178.95\n",
      "Value1 is 19x value2, Epsilon: 180.0\n",
      "Value1 is 20x value2, Epsilon: 180.95\n",
      "Value1 is 21x value2, Epsilon: 181.82\n",
      "Value1 is 22x value2, Epsilon: 182.61\n",
      "Value1 is 23x value2, Epsilon: 183.33\n",
      "Value1 is 24x value2, Epsilon: 184.0\n",
      "Value1 is 25x value2, Epsilon: 184.62\n",
      "Value1 is 26x value2, Epsilon: 185.19\n",
      "Value1 is 27x value2, Epsilon: 185.71\n",
      "Value1 is 28x value2, Epsilon: 186.21\n",
      "Value1 is 29x value2, Epsilon: 186.67\n",
      "Value1 is 30x value2, Epsilon: 187.1\n",
      "Value1 is 31x value2, Epsilon: 187.5\n",
      "Value1 is 32x value2, Epsilon: 187.88\n",
      "Value1 is 33x value2, Epsilon: 188.24\n",
      "Value1 is 34x value2, Epsilon: 188.57\n",
      "Value1 is 35x value2, Epsilon: 188.89\n",
      "Value1 is 36x value2, Epsilon: 189.19\n",
      "Value1 is 37x value2, Epsilon: 189.47\n",
      "Value1 is 38x value2, Epsilon: 189.74\n",
      "Value1 is 39x value2, Epsilon: 190.0\n",
      "Value1 is 40x value2, Epsilon: 190.24\n"
     ]
    }
   ],
   "source": [
    "x = np.arange(1,41)\n",
    "\n",
    "v1 = 1.0\n",
    "\n",
    "for i in x:\n",
    "    v2 = i\n",
    "    pdiff = np.abs(v1-v2)/((v1+v2)/2)*100.0\n",
    "    print('Value1 is {}x value2,'.format(i), 'Epsilon:',np.around(pdiff,2))"
   ]
  },
  {
   "cell_type": "markdown",
   "metadata": {},
   "source": [
    "---\n",
    "\n",
    "# End"
   ]
  }
 ],
 "metadata": {
  "kernelspec": {
   "display_name": "Python 3",
   "language": "python",
   "name": "python3"
  },
  "language_info": {
   "codemirror_mode": {
    "name": "ipython",
    "version": 3
   },
   "file_extension": ".py",
   "mimetype": "text/x-python",
   "name": "python",
   "nbconvert_exporter": "python",
   "pygments_lexer": "ipython3",
   "version": "3.7.1"
  }
 },
 "nbformat": 4,
 "nbformat_minor": 2
}
