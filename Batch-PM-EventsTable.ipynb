{
 "cells": [
  {
   "cell_type": "markdown",
   "metadata": {},
   "source": [
    "#  Batch Papermill - Events Table\n",
    "\n",
    "__Description__: Creates a *.cmd* file containing command lines that run papermill and execute `Eventstable.ipynb` using the specified parameters.\n",
    "    \n",
    "__Input__: Parameters and the paths.\n",
    "\n",
    "    \n",
    "__Output__: A *.cmd* of command lines for executing papermill.\n",
    "       \n",
    "---"
   ]
  },
  {
   "cell_type": "markdown",
   "metadata": {},
   "source": [
    "## Load Libraries and Parameters:"
   ]
  },
  {
   "cell_type": "code",
   "execution_count": null,
   "metadata": {},
   "outputs": [],
   "source": []
  },
  {
   "cell_type": "markdown",
   "metadata": {},
   "source": [
    "### Libraries:"
   ]
  },
  {
   "cell_type": "code",
   "execution_count": 1,
   "metadata": {},
   "outputs": [],
   "source": [
    "import os\n",
    "import numpy as np"
   ]
  },
  {
   "cell_type": "markdown",
   "metadata": {},
   "source": [
    "### Specify parameters:"
   ]
  },
  {
   "cell_type": "code",
   "execution_count": 2,
   "metadata": {},
   "outputs": [],
   "source": []
  },
  {
   "cell_type": "markdown",
   "metadata": {},
   "source": [
    "#### Parmeters to hold constant:"
   ]
  },
  {
   "cell_type": "code",
   "execution_count": 3,
   "metadata": {},
   "outputs": [],
   "source": [
    "## Excess rainfall parameters:\n",
    "CN = 83\n",
    "volume = 9\n",
    "region = 1\n",
    "\n",
    "\n",
    "## Filenames and paths:\n",
    "control_file = 'AR_LA_MS-Area5' \n",
    "control_file_dir = r'C:\\Users\\sputnam\\Documents\\GitHub\\probmod-tools\\hydrology\\pluvial\\Inputs'\n",
    "datarepository_dir = r'C:\\Users\\sputnam\\Documents\\GitHub\\probmod-tools\\hydrology\\pluvial\\DataRepository'\n",
    "outputs_dir = r'C:\\Users\\sputnam\\Documents\\GitHub\\probmod-tools\\hydrology\\pluvial\\Outputs'\n",
    "dir_notebook = r'C:\\Users\\sputnam\\Documents\\GitHub\\probmod-tools\\hydrology\\pluvial\\Notebooks'\n",
    "nb_in = r\"C:\\Users\\sputnam\\Documents\\GitHub\\probmod-tools\\hydrology\\pluvial\\CalcExcessRainfall_CombineEvents.ipynb\"\n",
    "\n",
    "\n",
    "## Options:\n",
    "seed = np.random.randint(low=0, high=10000)\n",
    "papermill = False #Temporary fix\n",
    "display_plots = True\n",
    "display_print = True"
   ]
  },
  {
   "cell_type": "markdown",
   "metadata": {},
   "source": [
    "## Build commands:"
   ]
  },
  {
   "cell_type": "code",
   "execution_count": 4,
   "metadata": {},
   "outputs": [],
   "source": [
    "pm_string = ''\n",
    "\n",
    "for d in duration:\n",
    "    for i in convEpsilon:\n",
    "        for j in volEpsilon:\n",
    "            t = tempEpsilon_dic[str(d)]\n",
    "            k = t/2\n",
    "            nb_out = os.path.join(dir_notebook, \"CalcExcessRainfall_{0}_Dur{1}_tempE{2}_{3}_convE{4}_volE{5}.ipynb\".format(control_file, d, t, k, i, j))\n",
    "            pm_string += 'start papermill {0} {1} -p CN {2} -p volume {3} -p region {4} -p duration {5} -p tempEpsilon {6} -p tempEpsilon2 {7} -p convEpsilon {8} -p volEpsilon {9} -p control_file {10}  -p control_file_dir {11} -p datarepository_dir {12} -p outputs_dir {13} -p seed {14} -p papermill {15} -p display_plots {16} -p display_print {17} \\n'.format(nb_in, nb_out, CN, volume, region, d, t, k, i, j, control_file, control_file_dir, datarepository_dir, outputs_dir, seed, papermill, display_plots, display_print)"
   ]
  },
  {
   "cell_type": "markdown",
   "metadata": {},
   "source": [
    "## Save command lines to cmd:"
   ]
  },
  {
   "cell_type": "code",
   "execution_count": 5,
   "metadata": {},
   "outputs": [],
   "source": [
    "with open('papermill-{}.cmd'.format(control_file),'w') as f: \n",
    "    f.write(pm_string)"
   ]
  },
  {
   "cell_type": "markdown",
   "metadata": {},
   "source": [
    "# End"
   ]
  }
 ],
 "metadata": {
  "kernelspec": {
   "display_name": "Python 3",
   "language": "python",
   "name": "python3"
  },
  "language_info": {
   "codemirror_mode": {
    "name": "ipython",
    "version": 3
   },
   "file_extension": ".py",
   "mimetype": "text/x-python",
   "name": "python",
   "nbconvert_exporter": "python",
   "pygments_lexer": "ipython3",
   "version": "3.7.1"
  }
 },
 "nbformat": 4,
 "nbformat_minor": 2
}
