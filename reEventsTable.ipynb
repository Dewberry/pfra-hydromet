{
 "cells": [
  {
   "cell_type": "markdown",
   "metadata": {},
   "source": [
    "###### Reduced Events Table\n",
    "\n",
    "__Description__: Reduced excess rainfall is calculated for each event using a user-specified stormwater removal rate and capacity.\n",
    "\n",
    "__Input__: A JSON file containing the incremental excess rainfall for a suite of events which may have different durations and boundary condition names, and the stormwater removal rate and capacity. \n",
    "\n",
    "__Output__: \n",
    "\n",
    "- The unreduced incremental excess rainfall for each event as a JSON.\n",
    "\n",
    "- The incremental reduced excess rainfall and lateral inflow hydrographs for each event as a JSON.\n",
    "\n",
    "- A metadata file containing the stormwater removal rate, the stormwater capacity, and the seed of the random number generator.\n",
    "\n",
    "---"
   ]
  },
  {
   "cell_type": "markdown",
   "metadata": {},
   "source": [
    "## A. Load Libraries, Parameters, and Data:"
   ]
  },
  {
   "cell_type": "markdown",
   "metadata": {},
   "source": [
    "### Libraries:"
   ]
  },
  {
   "cell_type": "code",
   "execution_count": 1,
   "metadata": {},
   "outputs": [],
   "source": [
    "import sys\n",
    "sys.path.append('core')\n",
    "import hydromet_reduced\n",
    "from hydromet import*"
   ]
  },
  {
   "cell_type": "markdown",
   "metadata": {},
   "source": [
    "### Parameters: "
   ]
  },
  {
   "cell_type": "markdown",
   "metadata": {},
   "source": [
    "#### Papermill (site specific):"
   ]
  },
  {
   "cell_type": "code",
   "execution_count": 2,
   "metadata": {},
   "outputs": [],
   "source": [
    "## Filenames and paths:\n",
    "Project_Area = 'Passaic'   # Project area name\n",
    "Pluvial_Model = 'P01'         # Pluvial model name\n",
    "BCN = 'D01'                   # Domain/boundary condition name\n",
    "\n",
    "pluvial_params = '{0}_{1}_Pluvial_Parameters.xlsx'.format(Project_Area, Pluvial_Model) \n",
    "rate_column = 'SW Rate (in/30min)'\n",
    "capacity_column = 'SW Capacity (in)'\n",
    "\n",
    "#root_dir = pl.Path(os.getcwd())\n",
    "root_dir = pl.Path(r'C:\\Users\\sputnam\\Desktop\\PFRA_Production\\Pluvial\\Test2')\n",
    "outputs_dir = root_dir/'Outputs'\n",
    "inputs_dir = root_dir/'Inputs'\n",
    "pluvial_params_dir = inputs_dir/pluvial_params\n",
    "\n",
    "\n",
    "## Options:\n",
    "display_plots = True\n",
    "display_print = True\n",
    "run_dur_dic = {'6': 1, '12': 1, '24': 2, '96': 5}  # Run durations in days"
   ]
  },
  {
   "cell_type": "markdown",
   "metadata": {},
   "source": [
    "##### Convert all paths to objects:"
   ]
  },
  {
   "cell_type": "code",
   "execution_count": 3,
   "metadata": {},
   "outputs": [],
   "source": [
    "outputs_dir = pl.Path(outputs_dir)\n",
    "pluvial_params_dir = pl.Path(pluvial_params_dir)"
   ]
  },
  {
   "cell_type": "markdown",
   "metadata": {},
   "source": [
    "##### Set the base filestem for reading/writing files:"
   ]
  },
  {
   "cell_type": "code",
   "execution_count": 4,
   "metadata": {},
   "outputs": [],
   "source": [
    "filestem = '{0}_{1}_{2}'.format(Project_Area, Pluvial_Model, BCN)"
   ]
  },
  {
   "cell_type": "markdown",
   "metadata": {},
   "source": [
    "### Data:\n",
    "#### Stormwater removal rate and capacity:"
   ]
  },
  {
   "cell_type": "code",
   "execution_count": 5,
   "metadata": {},
   "outputs": [
    {
     "data": {
      "text/html": [
       "<div>\n",
       "<style scoped>\n",
       "    .dataframe tbody tr th:only-of-type {\n",
       "        vertical-align: middle;\n",
       "    }\n",
       "\n",
       "    .dataframe tbody tr th {\n",
       "        vertical-align: top;\n",
       "    }\n",
       "\n",
       "    .dataframe thead th {\n",
       "        text-align: right;\n",
       "    }\n",
       "</style>\n",
       "<table border=\"1\" class=\"dataframe\">\n",
       "  <thead>\n",
       "    <tr style=\"text-align: right;\">\n",
       "      <th></th>\n",
       "      <th>Pluvial Domain</th>\n",
       "      <th>Shapefile</th>\n",
       "      <th>Curve Number</th>\n",
       "      <th>SW Infrastructure (YES or NO)</th>\n",
       "      <th>SW Rate (in/30min)</th>\n",
       "      <th>SW Capacity (in)</th>\n",
       "      <th>Comments</th>\n",
       "      <th>Unnamed: 7</th>\n",
       "      <th>Unnamed: 8</th>\n",
       "      <th>Unnamed: 9</th>\n",
       "      <th>Unnamed: 10</th>\n",
       "      <th>Unnamed: 11</th>\n",
       "      <th>Unnamed: 12</th>\n",
       "    </tr>\n",
       "  </thead>\n",
       "  <tbody>\n",
       "    <tr>\n",
       "      <th>0</th>\n",
       "      <td>D01</td>\n",
       "      <td>P01_2D_Domain.shp</td>\n",
       "      <td>82.0</td>\n",
       "      <td>YES</td>\n",
       "      <td>0.1083</td>\n",
       "      <td>8.47</td>\n",
       "      <td>SW Rate from NJDOT 2015 Roadway Design Manual</td>\n",
       "      <td>NaN</td>\n",
       "      <td>NaN</td>\n",
       "      <td>NaN</td>\n",
       "      <td>NaN</td>\n",
       "      <td>NaN</td>\n",
       "      <td>NaN</td>\n",
       "    </tr>\n",
       "  </tbody>\n",
       "</table>\n",
       "</div>"
      ],
      "text/plain": [
       "  Pluvial Domain          Shapefile  Curve Number  \\\n",
       "0            D01  P01_2D_Domain.shp          82.0   \n",
       "\n",
       "  SW Infrastructure (YES or NO)  SW Rate (in/30min)  SW Capacity (in)  \\\n",
       "0                           YES              0.1083              8.47   \n",
       "\n",
       "                                        Comments  Unnamed: 7  Unnamed: 8  \\\n",
       "0  SW Rate from NJDOT 2015 Roadway Design Manual         NaN         NaN   \n",
       "\n",
       "   Unnamed: 9  Unnamed: 10  Unnamed: 11  Unnamed: 12  \n",
       "0         NaN          NaN          NaN          NaN  "
      ]
     },
     "metadata": {},
     "output_type": "display_data"
    },
    {
     "name": "stdout",
     "output_type": "stream",
     "text": [
      "None\n",
      "SW Rate: 0.1083 in/30min\n",
      "SW Capacity: 8.47 in/unit area\n"
     ]
    }
   ],
   "source": [
    "rate, maxcap = get_stormwater_rate_cap(pluvial_params_dir, BCN, rate_column, capacity_column, display_print)"
   ]
  },
  {
   "cell_type": "markdown",
   "metadata": {},
   "source": [
    "#### Lateral inflow domains:"
   ]
  },
  {
   "cell_type": "code",
   "execution_count": null,
   "metadata": {},
   "outputs": [],
   "source": [
    "lid = get_lateral_inflow_domains(pluvial_params_dir, BCN, display_print)"
   ]
  },
  {
   "cell_type": "markdown",
   "metadata": {},
   "source": [
    "#### Excess rainfall data:"
   ]
  },
  {
   "cell_type": "code",
   "execution_count": null,
   "metadata": {},
   "outputs": [],
   "source": [
    "with open(outputs_dir/'{}.json'.format(filestem)) as f:\n",
    "    EventsTable = json.load(f)"
   ]
  },
  {
   "cell_type": "markdown",
   "metadata": {},
   "source": [
    "##### Extract the durations:"
   ]
  },
  {
   "cell_type": "code",
   "execution_count": null,
   "metadata": {},
   "outputs": [],
   "source": [
    "durations = list(EventsTable.keys())\n",
    "print('Durations:', durations)"
   ]
  },
  {
   "cell_type": "markdown",
   "metadata": {},
   "source": [
    "---"
   ]
  },
  {
   "cell_type": "markdown",
   "metadata": {},
   "source": [
    "## B. Calculate Reduced Excess Rainfall:"
   ]
  },
  {
   "cell_type": "code",
   "execution_count": null,
   "metadata": {},
   "outputs": [],
   "source": [
    "ReducedTable, StormwaterTable, SW_variables = hydromet_reduced.main(EventsTable, durations, BCN, rate = rate, maxcap = maxcap, \n",
    "                                                                    display_print = display_print, display_plots = display_plots)"
   ]
  },
  {
   "cell_type": "markdown",
   "metadata": {},
   "source": [
    "---"
   ]
  },
  {
   "cell_type": "markdown",
   "metadata": {},
   "source": [
    "## C. Calculate the Lateral Inflow Hydrographs:"
   ]
  },
  {
   "cell_type": "code",
   "execution_count": null,
   "metadata": {},
   "outputs": [],
   "source": [
    "if lid.shape[0]>0:\n",
    "    ReducedTable = calc_lateral_inflow_hydro(lid, ReducedTable, StormwaterTable, durations, BCN, display_print, display_plots, plot_lid_num = 0)"
   ]
  },
  {
   "cell_type": "markdown",
   "metadata": {},
   "source": [
    "---"
   ]
  },
  {
   "cell_type": "markdown",
   "metadata": {},
   "source": [
    "## D. Save the Results:"
   ]
  },
  {
   "cell_type": "markdown",
   "metadata": {},
   "source": [
    "### Unreduced excess rainfall:"
   ]
  },
  {
   "cell_type": "code",
   "execution_count": null,
   "metadata": {},
   "outputs": [],
   "source": [
    "with open(outputs_dir/'{0}_Unreduced.json'.format(filestem), 'w') as f:\n",
    "    json.dump(EventsTable, f)"
   ]
  },
  {
   "cell_type": "markdown",
   "metadata": {},
   "source": [
    "### Reduced excess rainfall:"
   ]
  },
  {
   "cell_type": "code",
   "execution_count": null,
   "metadata": {},
   "outputs": [],
   "source": [
    "with open(outputs_dir/'{}.json'.format(filestem), 'w') as f:\n",
    "    json.dump(ReducedTable, f)"
   ]
  },
  {
   "cell_type": "markdown",
   "metadata": {},
   "source": [
    "### Metadata:"
   ]
  },
  {
   "cell_type": "code",
   "execution_count": null,
   "metadata": {},
   "outputs": [],
   "source": [
    "with open(outputs_dir/'{0}_SWMetadata.json'.format(filestem), 'w') as f:\n",
    "    json.dump(SW_variables, f)"
   ]
  },
  {
   "cell_type": "markdown",
   "metadata": {},
   "source": [
    "---"
   ]
  },
  {
   "cell_type": "markdown",
   "metadata": {},
   "source": [
    "## END"
   ]
  }
 ],
 "metadata": {
  "kernelspec": {
   "display_name": "Python 3",
   "language": "python",
   "name": "python3"
  },
  "language_info": {
   "codemirror_mode": {
    "name": "ipython",
    "version": 3
   },
   "file_extension": ".py",
   "mimetype": "text/x-python",
   "name": "python",
   "nbconvert_exporter": "python",
   "pygments_lexer": "ipython3",
   "version": "3.7.1"
  }
 },
 "nbformat": 4,
 "nbformat_minor": 4
}
