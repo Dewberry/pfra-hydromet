{
 "cells": [
  {
   "cell_type": "markdown",
   "metadata": {},
   "source": [
    "#  Reduced Events Table\n",
    "\n",
    "__Description__: Reduced excess rainfall is calculated using a randomly generated stormwater removal rate and capacity for each event.\n",
    "\n",
    "__Input__: A JSON file containing the incremental excess rainfall for a suite of events which may have different durations and boundary condition names. \n",
    "\n",
    "__Output__: \n",
    "\n",
    "- The incremental reduced excess rainfall for each event as a JSON.\n",
    "\n",
    "- The incremental stormwater amount for each event as a JSON.\n",
    "\n",
    "- A metadata file containing the stormwater removal rate, the stormwater capacity, and the seed of the random number generator.\n",
    "\n",
    "---"
   ]
  },
  {
   "cell_type": "markdown",
   "metadata": {},
   "source": [
    "## A. Load Libraries, Parameters, and Data:"
   ]
  },
  {
   "cell_type": "markdown",
   "metadata": {},
   "source": [
    "### Libraries:"
   ]
  },
  {
   "cell_type": "code",
   "execution_count": 1,
   "metadata": {},
   "outputs": [],
   "source": [
    "import sys\n",
    "sys.path.append('core')\n",
    "import hydromet_reduced\n",
    "from hydromet import*"
   ]
  },
  {
   "cell_type": "markdown",
   "metadata": {},
   "source": [
    "### Parameters: "
   ]
  },
  {
   "cell_type": "markdown",
   "metadata": {},
   "source": [
    "#### Papermill (site specific):"
   ]
  },
  {
   "cell_type": "code",
   "execution_count": 2,
   "metadata": {},
   "outputs": [],
   "source": [
    "### Minimum and maximum storm water removal rates:\n",
    "minrate = 0.0459 # [L^3/30min]\n",
    "maxrate = 0.2375 # [L^3/30min]\n",
    "\n",
    "## Filenames and paths:\n",
    "filename = 'DC_P01.json'\n",
    "root_dir = pl.Path(os.getcwd())\n",
    "outputs_dir = root_dir/'Outputs'\n",
    "\n",
    "## Options:\n",
    "seed = np.random.randint(low=0, high=10000)\n",
    "display_print = True"
   ]
  },
  {
   "cell_type": "markdown",
   "metadata": {},
   "source": [
    "##### Convert all paths to objects:"
   ]
  },
  {
   "cell_type": "code",
   "execution_count": 3,
   "metadata": {},
   "outputs": [],
   "source": [
    "outputs_dir = pl.Path(outputs_dir)"
   ]
  },
  {
   "cell_type": "markdown",
   "metadata": {},
   "source": [
    "### Load the excess rainfall data:"
   ]
  },
  {
   "cell_type": "code",
   "execution_count": 4,
   "metadata": {},
   "outputs": [],
   "source": [
    "with open(outputs_dir/filename) as f:\n",
    "    EventsTable = json.load(f)"
   ]
  },
  {
   "cell_type": "markdown",
   "metadata": {},
   "source": [
    "##### Extract the durations:"
   ]
  },
  {
   "cell_type": "code",
   "execution_count": 5,
   "metadata": {},
   "outputs": [
    {
     "name": "stdout",
     "output_type": "stream",
     "text": [
      "Durations: ['H06', 'H12', 'H24', 'H96']\n"
     ]
    }
   ],
   "source": [
    "durations = list(EventsTable.keys())\n",
    "print('Durations:', durations)"
   ]
  },
  {
   "cell_type": "markdown",
   "metadata": {},
   "source": [
    "##### Extract the boundary condition names:"
   ]
  },
  {
   "cell_type": "code",
   "execution_count": 6,
   "metadata": {},
   "outputs": [
    {
     "name": "stdout",
     "output_type": "stream",
     "text": [
      "Boundary Condition Names: ['D01']\n"
     ]
    }
   ],
   "source": [
    "BCN = list(EventsTable[durations[0]]['BCName'].keys())\n",
    "print('Boundary Condition Names:', BCN)"
   ]
  },
  {
   "cell_type": "markdown",
   "metadata": {},
   "source": [
    "---"
   ]
  },
  {
   "cell_type": "markdown",
   "metadata": {},
   "source": [
    "## B. Calculate Reduced Excess Rainfall:"
   ]
  },
  {
   "cell_type": "code",
   "execution_count": 7,
   "metadata": {},
   "outputs": [
    {
     "name": "stdout",
     "output_type": "stream",
     "text": [
      "Duration: H06\n",
      "Time Step: 0.5 Hours\n",
      "Rate: 0.1753701392104806 Maximum Capacity: 8.41776668210307 Seed: 51\n",
      "Duration: H12\n",
      "Time Step: 1.0 Hours\n",
      "Rate: 0.3507402784209612 Maximum Capacity: 8.41776668210307 Seed: 51\n",
      "Duration: H24\n",
      "Time Step: 2.0 Hours\n",
      "Rate: 0.7014805568419225 Maximum Capacity: 8.41776668210307 Seed: 51\n",
      "Duration: H96\n",
      "Time Step: 4.0 Hours\n",
      "Rate: 1.402961113683845 Maximum Capacity: 8.41776668210307 Seed: 51\n"
     ]
    }
   ],
   "source": [
    "ReducedTable = {}\n",
    "StormwaterTable = {}\n",
    "SW_variables = {}\n",
    "\n",
    "for dur in durations:\n",
    "    dic_dur = EventsTable[dur]\n",
    "    time_ord = dic_dur['time_idx_ordinate']\n",
    "    time_idx = dic_dur['time_idx']\n",
    "    print('Duration:', dur)\n",
    "    ts = determine_timestep(dic_dur, display_print)\n",
    "    adj_rate, maximum_capacity, seed = storm_water_simulator(minrate, maxrate, ts, seed, display_print)\n",
    "    dic_BCN = {}\n",
    "    dic_BCN_SW = {}\n",
    "    \n",
    "    for name in BCN:\n",
    "        dic_events = dic_dur['BCName'][name]\n",
    "        dic_reduced = {}\n",
    "        dic_stormwater = {}\n",
    "        \n",
    "        for event in dic_events.keys():\n",
    "            unreduced = dic_events[event]\n",
    "            reduced = calculate_reduced_excess(unreduced, adj_rate, maximum_capacity)\n",
    "            dic_reduced[event] = reduced\n",
    "            dic_stormwater[event] = list(np.array(unreduced)-np.array(reduced))\n",
    "            \n",
    "        dic_BCN[name] = dic_reduced\n",
    "        dic_BCN_SW[name] = dic_stormwater\n",
    "        \n",
    "    ReducedTable[dur] = {'time_idx_ordinate':time_ord,'time_idx':time_idx, 'BCName': dic_BCN}\n",
    "    StormwaterTable[dur] = {'time_idx_ordinate':time_ord,'time_idx':time_idx, 'BCName': dic_BCN_SW}\n",
    "    SW_variables[dur] = {'Rate': adj_rate, 'Capacity': maximum_capacity, 'Seed':seed}"
   ]
  },
  {
   "cell_type": "markdown",
   "metadata": {},
   "source": [
    "---"
   ]
  },
  {
   "cell_type": "markdown",
   "metadata": {},
   "source": [
    "## C. Plot the Results:"
   ]
  },
  {
   "cell_type": "code",
   "execution_count": 9,
   "metadata": {},
   "outputs": [
    {
     "data": {
      "text/plain": [
       "dict_keys(['E0001', 'E0002', 'E0003', 'E0004', 'E0005', 'E0006', 'E0007', 'E0008', 'E0009', 'E0010', 'E0011', 'E0012', 'E0013', 'E0014', 'E0015', 'E0016', 'E0017', 'E0018', 'E0019', 'E0020', 'E0021', 'E0022', 'E0023', 'E0024', 'E0025', 'E0026', 'E0027', 'E0028', 'E0029', 'E0030', 'E0031', 'E0032', 'E0033', 'E0034', 'E0035', 'E0036', 'E0037', 'E0038', 'E0039', 'E0040', 'E0041', 'E0042', 'E0043', 'E0044', 'E0045', 'E0046', 'E0047', 'E0048', 'E0049', 'E0050', 'E0051', 'E0052', 'E0053', 'E0054', 'E0055', 'E0056', 'E0057', 'E0058', 'E0059', 'E0060', 'E0061', 'E0062', 'E0063', 'E0064', 'E0065', 'E0066', 'E0067', 'E0068', 'E0069', 'E0070', 'E0071', 'E0072', 'E0073', 'E0074', 'E0075', 'E0076', 'E0077', 'E0078', 'E0079', 'E0080', 'E0081', 'E0082', 'E0083', 'E0084', 'E0085', 'E0086', 'E0087', 'E0088', 'E0089', 'E0090', 'E0091', 'E0092', 'E0093', 'E0094', 'E0095', 'E0096', 'E0097', 'E0098', 'E0099', 'E0100', 'E0101', 'E0102', 'E0103', 'E0104', 'E0105', 'E0106', 'E0107', 'E0108', 'E0109', 'E0110', 'E0111', 'E0112', 'E0113', 'E0114', 'E0115', 'E0116', 'E0117', 'E0118', 'E0119', 'E0120', 'E0121', 'E0122', 'E0123', 'E0124', 'E0125', 'E0126', 'E0127', 'E0128', 'E0129', 'E0130', 'E0131', 'E0132', 'E0133', 'E0134', 'E0135', 'E0136', 'E0137', 'E0138', 'E0139', 'E0140', 'E0141', 'E0142', 'E0143', 'E0144', 'E0145', 'E0146', 'E0147', 'E0148', 'E0149', 'E0150', 'E0151', 'E0152', 'E0153', 'E0154', 'E0155', 'E0156', 'E0157', 'E0158', 'E0159', 'E0160', 'E0161', 'E0162', 'E0163', 'E0164', 'E0165', 'E0166', 'E0167', 'E0168', 'E0169', 'E0170', 'E0171', 'E0172', 'E0173', 'E0174', 'E0175', 'E0176', 'E0177', 'E0178', 'E0179', 'E0180', 'E0181', 'E0182', 'E0183', 'E0184', 'E0185', 'E0186', 'E0187', 'E0188', 'E0189', 'E0190', 'E0191', 'E0192', 'E0193', 'E0194', 'E0195', 'E0196', 'E0197', 'E0198', 'E0199', 'E0200', 'E0201', 'E0202', 'E0203', 'E0204', 'E0205', 'E0206', 'E0207', 'E0208', 'E0209', 'E0210', 'E0211', 'E0212', 'E0213', 'E0214', 'E0215', 'E0216', 'E0217', 'E0218', 'E0219', 'E0220', 'E0221', 'E0222', 'E0223', 'E0224', 'E0225', 'E0226', 'E0227', 'E0228', 'E0229', 'E0230', 'E0231', 'E0232', 'E0233', 'E0234', 'E0235', 'E0236', 'E0237', 'E0238', 'E0239', 'E0240', 'E0241', 'E0242', 'E0243', 'E0244', 'E0245', 'E0246', 'E0247', 'E0248', 'E0249', 'E0250', 'E0251', 'E0252', 'E0253', 'E0254', 'E0255', 'E0256', 'E0257', 'E0258', 'E0259', 'E0260', 'E0261', 'E0262', 'E0263', 'E0264', 'E0265', 'E0266', 'E0267', 'E0268', 'E0269', 'E0270', 'E0271', 'E0272', 'E0273', 'E0274', 'E0275', 'E0276', 'E0277', 'E0278', 'E0279', 'E0280', 'E0281', 'E0282', 'E0283', 'E0284', 'E0285', 'E0286', 'E0287', 'E0288', 'E0289', 'E0290', 'E0291', 'E0292', 'E0293', 'E0294', 'E0295', 'E0296', 'E0297', 'E0298', 'E0299', 'E0300', 'E0301', 'E0302', 'E0303', 'E0304', 'E0305', 'E0306', 'E0307', 'E0308', 'E0309', 'E0310', 'E0311', 'E0312', 'E0313', 'E0314', 'E0315', 'E0316', 'E0317', 'E0318', 'E0319', 'E0320', 'E0321', 'E0322', 'E0323', 'E0324', 'E0325', 'E0326', 'E0327', 'E0328', 'E0329', 'E0330', 'E0331', 'E0332', 'E0333', 'E0334', 'E0335', 'E0336', 'E0337', 'E0338', 'E0339', 'E0340', 'E0341', 'E0342', 'E0343', 'E0344', 'E0345', 'E0346', 'E0347', 'E0348', 'E0349'])"
      ]
     },
     "execution_count": 9,
     "metadata": {},
     "output_type": "execute_result"
    }
   ],
   "source": [
    "events = ReducedTable[durations[0]]['BCName'][BCN[0]].keys()"
   ]
  },
  {
   "cell_type": "code",
   "execution_count": null,
   "metadata": {},
   "outputs": [],
   "source": [
    "def plot_reduced_excess(df: pd.DataFrame, df2: pd.DataFrame, col: pd.Series, tstep: int, duration: int, adjustment_rate: float, max_capacity: float) -> plt.subplots:\n",
    "    '''\n",
    "    '''\n",
    "    fig, ax = plt.subplots(figsize=(24,3))\n",
    "    xmax=int(duration*24*(60/tstep))\n",
    "    ax.plot(df[0:xmax].index, df[0:xmax][col], '--', color='grey', \n",
    "                                    label = 'Incremental Excess Rainfall')\n",
    "    ax.set_ylabel('Inches')\n",
    "    ax.set_xlabel('Hours')\n",
    "    ax.plot(df2[0:xmax].index, df2[0:xmax][col], '-', color = 'blue', \n",
    "        label = 'Adjusted Excess Rainfall:\\n{} inches/hour'.format(round(adjustment_rate, 5)))\n",
    "    ax.set_title('Cumulative Excess Rainfall {} inches\\n Design Capacity {} inches'.format(np.round(df[col].sum(),2),np.round(max_capacity,2)))\n",
    "    ax.grid()\n",
    "    ax.legend()"
   ]
  },
  {
   "cell_type": "code",
   "execution_count": null,
   "metadata": {},
   "outputs": [],
   "source": [
    "plot_reduced_excess(df, df2, col, tstep, duration, adjustment_rate, max_capacity)"
   ]
  },
  {
   "cell_type": "markdown",
   "metadata": {},
   "source": [
    "---"
   ]
  },
  {
   "cell_type": "markdown",
   "metadata": {},
   "source": [
    "## D. Save the Results:"
   ]
  },
  {
   "cell_type": "markdown",
   "metadata": {},
   "source": [
    "### Reduced excess rainfall:"
   ]
  },
  {
   "cell_type": "code",
   "execution_count": null,
   "metadata": {},
   "outputs": [],
   "source": [
    "with open(outputs_dir/'Reduced_{0}'.format(filename), 'w') as f:\n",
    "    json.dump(ReducedTable, f)"
   ]
  },
  {
   "cell_type": "markdown",
   "metadata": {},
   "source": [
    "### Stormwater:"
   ]
  },
  {
   "cell_type": "code",
   "execution_count": null,
   "metadata": {},
   "outputs": [],
   "source": [
    "with open(outputs_dir/'Stormwater_{0}'.format(filename), 'w') as f:\n",
    "    json.dump(StormwaterTable, f)"
   ]
  },
  {
   "cell_type": "markdown",
   "metadata": {},
   "source": [
    "### Metadata:"
   ]
  },
  {
   "cell_type": "code",
   "execution_count": null,
   "metadata": {},
   "outputs": [],
   "source": [
    "with open(outputs_dir/'SWMetadata_{0}'.format(filename), 'w') as f:\n",
    "    json.dump(SW_variables, f)"
   ]
  },
  {
   "cell_type": "code",
   "execution_count": null,
   "metadata": {},
   "outputs": [],
   "source": [
    "SW_variables"
   ]
  },
  {
   "cell_type": "markdown",
   "metadata": {},
   "source": [
    "---"
   ]
  },
  {
   "cell_type": "markdown",
   "metadata": {},
   "source": [
    "## END"
   ]
  }
 ],
 "metadata": {
  "kernelspec": {
   "display_name": "Python 3",
   "language": "python",
   "name": "python3"
  },
  "language_info": {
   "codemirror_mode": {
    "name": "ipython",
    "version": 3
   },
   "file_extension": ".py",
   "mimetype": "text/x-python",
   "name": "python",
   "nbconvert_exporter": "python",
   "pygments_lexer": "ipython3",
   "version": "3.7.1"
  }
 },
 "nbformat": 4,
 "nbformat_minor": 2
}
