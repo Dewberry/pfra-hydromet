{
 "cells": [
  {
   "cell_type": "markdown",
   "metadata": {},
   "source": [
    "# Precipitation Frequency Table For Nested Hyetograph\n",
    "\n",
    "__Description__: Auto-retrieve [NOAA Atlas 14](https://hdsc.nws.noaa.gov/hdsc/pfds/pfds_gis.html) precipitation statistics from [FTP](ftp://hdsc.nws.noaa.gov/pub/hdsc/data/) and calcualte the area-averaged precipitation frequency table for the area of interest (AOI).\n",
    "\n",
    "__Input__: A vector polygon of the AOI and the durations of interest.\n",
    "\n",
    "__Output__: A spreadsheet with sheets for each recurrence interval hyetograph shape \n",
    "\n",
    "---"
   ]
  },
  {
   "cell_type": "markdown",
   "metadata": {},
   "source": [
    "## Load Libraries, Parameters, and Data:"
   ]
  },
  {
   "cell_type": "markdown",
   "metadata": {},
   "source": [
    "### Libraries:"
   ]
  },
  {
   "cell_type": "code",
   "execution_count": 1,
   "metadata": {},
   "outputs": [],
   "source": [
    "import sys\n",
    "sys.path.append('../../core')\n",
    "from hydromet import*             \n",
    "from hydromet_stratified import precip_hyetograph_nrcs"
   ]
  },
  {
   "cell_type": "markdown",
   "metadata": {},
   "source": [
    "### Parameters: \n",
    "#### Local (site specific):"
   ]
  },
  {
   "cell_type": "code",
   "execution_count": 2,
   "metadata": {},
   "outputs": [],
   "source": [
    "## Filenames and fields:\n",
    "Project_Area = 'Amite_WA2'  # Project area name\n",
    "Pluvial_Model = 'P01'       # Pluvial model name\n",
    "BCN = '080702020804'        # Domain/boundary condition name 071200040505 Kansas 102500170609 Nevada '160600140303'\n",
    "polygon = 'WA2_stpln.shp'   # Shapefile name\n",
    "filter_field = 'HUC_12'     # HUC12 Attribute with in the vector polygon used for data selection\n",
    "select_data = BCN           # Value within the filter_field used for data selection\n",
    "\n",
    "## Paths:\n",
    "root_dir = pl.Path(os.getcwd())\n",
    "datarepository_dir = root_dir.parent.parent/'DataRepository'\n",
    "polygon_dir = root_dir/'Inputs'/polygon\n",
    "outputs_dir = root_dir/'Outputs'\n",
    "\n",
    "brute_force_projection = None"
   ]
  },
  {
   "cell_type": "markdown",
   "metadata": {},
   "source": [
    "##### Convert all paths to objects:"
   ]
  },
  {
   "cell_type": "code",
   "execution_count": 3,
   "metadata": {},
   "outputs": [],
   "source": [
    "datarepository_dir = pl.Path(datarepository_dir)\n",
    "polygon_dir = pl.Path(polygon_dir)\n",
    "outputs_dir = pl.Path(outputs_dir)"
   ]
  },
  {
   "cell_type": "markdown",
   "metadata": {},
   "source": [
    "#### Global (project specific):"
   ]
  },
  {
   "cell_type": "code",
   "execution_count": 4,
   "metadata": {},
   "outputs": [],
   "source": [
    "noaa_data_crs = 4326\n",
    "\n",
    "durations = ['05m', '10m', '15m', '30m', '60m', '02h', '03h', '06h', '12h', '24h'] \n",
    "dur_names = ['5min', '10min', '15min', '30min', '60min', '2hr', '3hr', '6hr', '12hr', '24hr'] \n",
    "\n",
    "vol_code_filename = 'NOAA_Atlas_Volume_Codes.json'\n",
    "Temporal_area_filename = 'NOAA_Temporal_Areas_US.geojson'\n",
    "\n",
    "verbose = True"
   ]
  },
  {
   "cell_type": "markdown",
   "metadata": {},
   "source": [
    "## Read Vector Polygon:"
   ]
  },
  {
   "cell_type": "markdown",
   "metadata": {},
   "source": [
    "### Load as a geodataframe:"
   ]
  },
  {
   "cell_type": "code",
   "execution_count": 5,
   "metadata": {},
   "outputs": [
    {
     "data": {
      "text/html": [
       "<div>\n",
       "<style scoped>\n",
       "    .dataframe tbody tr th:only-of-type {\n",
       "        vertical-align: middle;\n",
       "    }\n",
       "\n",
       "    .dataframe tbody tr th {\n",
       "        vertical-align: top;\n",
       "    }\n",
       "\n",
       "    .dataframe thead th {\n",
       "        text-align: right;\n",
       "    }\n",
       "</style>\n",
       "<table border=\"1\" class=\"dataframe\">\n",
       "  <thead>\n",
       "    <tr style=\"text-align: right;\">\n",
       "      <th></th>\n",
       "      <th>OBJECTID</th>\n",
       "      <th>Gaz_ID</th>\n",
       "      <th>Area_Acres</th>\n",
       "      <th>Area_SqKm</th>\n",
       "      <th>States</th>\n",
       "      <th>LoadDate</th>\n",
       "      <th>HUC_12</th>\n",
       "      <th>HU_12_Name</th>\n",
       "      <th>HU_12_Type</th>\n",
       "      <th>HU_12_Mod</th>\n",
       "      <th>...</th>\n",
       "      <th>Shape_STAr</th>\n",
       "      <th>Shape_STLe</th>\n",
       "      <th>Shape_Leng</th>\n",
       "      <th>Shape_Area</th>\n",
       "      <th>Work_Area</th>\n",
       "      <th>Engineer</th>\n",
       "      <th>Area_sqmi</th>\n",
       "      <th>Area_ac</th>\n",
       "      <th>Area_sqft</th>\n",
       "      <th>geometry</th>\n",
       "    </tr>\n",
       "  </thead>\n",
       "  <tbody>\n",
       "    <tr>\n",
       "      <th>0</th>\n",
       "      <td>63992</td>\n",
       "      <td>0</td>\n",
       "      <td>37742.14707</td>\n",
       "      <td>152.737661</td>\n",
       "      <td>LA</td>\n",
       "      <td>2012-06-11</td>\n",
       "      <td>080702020804</td>\n",
       "      <td>Bayou Fountain-Bayou Manchac</td>\n",
       "      <td>S</td>\n",
       "      <td>DD,LE,ID,UA</td>\n",
       "      <td>...</td>\n",
       "      <td>0.01433</td>\n",
       "      <td>0.96154</td>\n",
       "      <td>0.96154</td>\n",
       "      <td>0.01433</td>\n",
       "      <td>WA2</td>\n",
       "      <td>Brian</td>\n",
       "      <td>168.795155</td>\n",
       "      <td>108028.898959</td>\n",
       "      <td>4.705720e+09</td>\n",
       "      <td>POLYGON ((3709575.006 -8591.999, 3709861.122 -...</td>\n",
       "    </tr>\n",
       "  </tbody>\n",
       "</table>\n",
       "<p>1 rows × 23 columns</p>\n",
       "</div>"
      ],
      "text/plain": [
       "   OBJECTID  Gaz_ID   Area_Acres   Area_SqKm States    LoadDate        HUC_12  \\\n",
       "0     63992       0  37742.14707  152.737661     LA  2012-06-11  080702020804   \n",
       "\n",
       "                     HU_12_Name HU_12_Type    HU_12_Mod  ...  Shape_STAr  \\\n",
       "0  Bayou Fountain-Bayou Manchac          S  DD,LE,ID,UA  ...     0.01433   \n",
       "\n",
       "   Shape_STLe Shape_Leng  Shape_Area  Work_Area  Engineer   Area_sqmi  \\\n",
       "0     0.96154    0.96154     0.01433        WA2     Brian  168.795155   \n",
       "\n",
       "         Area_ac     Area_sqft  \\\n",
       "0  108028.898959  4.705720e+09   \n",
       "\n",
       "                                            geometry  \n",
       "0  POLYGON ((3709575.006 -8591.999, 3709861.122 -...  \n",
       "\n",
       "[1 rows x 23 columns]"
      ]
     },
     "execution_count": 5,
     "metadata": {},
     "output_type": "execute_result"
    }
   ],
   "source": [
    "gdf = gpd.read_file(polygon_dir)\n",
    "\n",
    "check_attributes(gdf)\n",
    "\n",
    "gdf.head(1)"
   ]
  },
  {
   "cell_type": "markdown",
   "metadata": {},
   "source": [
    "### Determine projection:\n",
    "- If a projection cannot be determined automatically, search for the projection using the EPSG number on the following website: https://www.spatialreference.org/, select 'Proj4', and copy and paste the string above, setting it equal to brute_force_projection. Rerun the cell with the brute_force_projection string and the cell below."
   ]
  },
  {
   "cell_type": "code",
   "execution_count": 6,
   "metadata": {},
   "outputs": [
    {
     "name": "stdout",
     "output_type": "stream",
     "text": [
      "Original Coordinate Reference System: epsg:3451\n",
      "\n",
      "Vector Layer crs = +proj=lcc +lat_0=30.5 +lon_0=-92.5 +lat_1=32.6666666666667 +lat_2=31.1666666666667 +x_0=999999.999989839 +y_0=0 +datum=NAD83 +units=us-ft +no_defs\n"
     ]
    },
    {
     "name": "stderr",
     "output_type": "stream",
     "text": [
      "C:\\Users\\sputnam\\AppData\\Local\\Continuum\\anaconda3\\lib\\site-packages\\pyproj\\crs\\crs.py:53: FutureWarning: '+init=<authority>:<code>' syntax is deprecated. '<authority>:<code>' is the preferred initialization method. When making the change, be mindful of axis order changes: https://pyproj4.github.io/pyproj/stable/gotchas.html#axis-order-changes-in-proj-6\n",
      "  return _prepare_from_string(\" \".join(pjargs))\n"
     ]
    }
   ],
   "source": [
    "print(f'Original Coordinate Reference System: {gdf.crs}\\n')\n",
    "\n",
    "with fiona.collection(polygon_dir, 'r') as layer:\n",
    "    try:\n",
    "        vector_crs_prj = Proj(layer.crs).srs\n",
    "        if 'epsg' in vector_crs_prj: \n",
    "            raise KeyboardInterrupt\n",
    "        else: \n",
    "            print('Vector Layer crs = {}'.format(vector_crs_prj))\n",
    "        \n",
    "    except:\n",
    "        assert brute_force_projection!= None, 'Need to specify projection'\n",
    "        vector_crs_prj = brute_force_projection\n",
    "        print(f'Error: Setting projection as {brute_force_projection}')"
   ]
  },
  {
   "cell_type": "markdown",
   "metadata": {},
   "source": [
    "### Extract the area of interest, reproject, and plot:"
   ]
  },
  {
   "cell_type": "code",
   "execution_count": 7,
   "metadata": {},
   "outputs": [
    {
     "data": {
      "image/png": "[encoded data removed]",
      "text/plain": [
       "<Figure size 720x1008 with 1 Axes>"
      ]
     },
     "metadata": {
      "needs_background": "light"
     },
     "output_type": "display_data"
    }
   ],
   "source": [
    "gdf1 = gdf.loc[gdf[filter_field] == select_data].copy()\n",
    "\n",
    "gdf1.crs = vector_crs_prj\n",
    "    \n",
    "geo_df = gdf1.to_crs(epsg  = noaa_data_crs)\n",
    "\n",
    "plot_area_of_interest(geo_df, select_data, filter_field)"
   ]
  },
  {
   "cell_type": "markdown",
   "metadata": {},
   "source": [
    "## Identify the NOAA Atlas 14 Volume Code:\n",
    "### Determine the volume and region numbers:"
   ]
  },
  {
   "cell_type": "code",
   "execution_count": 8,
   "metadata": {},
   "outputs": [
    {
     "name": "stdout",
     "output_type": "stream",
     "text": [
      "Volume           8\n",
      "Region           4\n",
      "Percent_area     50.0\n",
      "Volume_1         9\n",
      "Region_1         1\n",
      "Percent_area_1   50.0\n"
     ]
    },
    {
     "data": {
      "image/png": "[encoded data removed]",
      "text/plain": [
       "<Figure size 720x1008 with 1 Axes>"
      ]
     },
     "metadata": {
      "needs_background": "light"
     },
     "output_type": "display_data"
    }
   ],
   "source": [
    "volume_dict, intersection_gdf = intersect_temporal_areas(geo_df, datarepository_dir, Temporal_area_filename, alldata=True)\n",
    "\n",
    "plot_aoi_noaa_intersection(intersection_gdf, select_data)\n",
    "\n",
    "#volume = volume_dict['Volume']\n",
    "volume = '9' # Manually specify the volume if the input shapes do not overlap below"
   ]
  },
  {
   "cell_type": "markdown",
   "metadata": {},
   "source": [
    "### Load Atlas 14 volume code from json:"
   ]
  },
  {
   "cell_type": "code",
   "execution_count": 9,
   "metadata": {},
   "outputs": [
    {
     "name": "stdout",
     "output_type": "stream",
     "text": [
      "NOAA Atlas 14 Volume Code: se\n"
     ]
    }
   ],
   "source": [
    "vol_code = get_volume_code(datarepository_dir, vol_code_filename, volume)"
   ]
  },
  {
   "cell_type": "markdown",
   "metadata": {},
   "source": [
    "## Retrieve the Precipitation Frequency Data:"
   ]
  },
  {
   "cell_type": "markdown",
   "metadata": {},
   "source": [
    "### Get list of zip files:"
   ]
  },
  {
   "cell_type": "code",
   "execution_count": 10,
   "metadata": {},
   "outputs": [
    {
     "name": "stdout",
     "output_type": "stream",
     "text": [
      "10 files found for 05m\n",
      "10 files found for 10m\n",
      "10 files found for 15m\n",
      "10 files found for 30m\n",
      "10 files found for 60m\n",
      "10 files found for 02h\n",
      "10 files found for 03h\n",
      "10 files found for 06h\n",
      "10 files found for 12h\n",
      "10 files found for 24h\n"
     ]
    }
   ],
   "source": [
    "noaa_url = 'https://hdsc.nws.noaa.gov/pub/hdsc/data/{}/'.format(vol_code)\n",
    "\n",
    "req = urllib.request.Request(noaa_url)\n",
    "data = urllib.request.urlopen(req).read().decode().split()\n",
    "\n",
    "copy_zips = []\n",
    "for duration in durations:\n",
    "    zips = [d for d in data if ('.zip' in d) and ('{}'.format(duration) in d) and ('ams' not in d) and ('l.zip' not in d) and ('u.zip' not in d)]\n",
    "    copy_zips.append(zips)\n",
    "    if verbose: \n",
    "        print('{} files found for {}'.format(len(zips), duration))\n",
    "\n",
    "all_zips_list = list(np.array(copy_zips).flat)\n",
    "\n",
    "for i, zip_name in enumerate(all_zips_list):\n",
    "    all_zips_list[i] = zip_name.split(\"\\\"\", 1)[1].split(\"\\\"\", 1)[0]"
   ]
  },
  {
   "cell_type": "markdown",
   "metadata": {},
   "source": [
    "### Iterate through zip files and build a table:"
   ]
  },
  {
   "cell_type": "code",
   "execution_count": 11,
   "metadata": {},
   "outputs": [
    {
     "name": "stdout",
     "output_type": "stream",
     "text": [
      "0 se1yr05ma.zip\n",
      "1 se2yr05ma.zip\n",
      "2 se5yr05ma.zip\n",
      "3 se10yr05ma.zip\n",
      "4 se25yr05ma.zip\n",
      "5 se50yr05ma.zip\n",
      "6 se100yr05ma.zip\n",
      "7 se200yr05ma.zip\n",
      "8 se500yr05ma.zip\n",
      "9 se1000yr05ma.zip\n",
      "10 se1yr10ma.zip\n",
      "11 se2yr10ma.zip\n",
      "12 se5yr10ma.zip\n",
      "13 se10yr10ma.zip\n",
      "14 se25yr10ma.zip\n",
      "15 se50yr10ma.zip\n",
      "16 se100yr10ma.zip\n",
      "17 se200yr10ma.zip\n",
      "18 se500yr10ma.zip\n",
      "19 se1000yr10ma.zip\n",
      "20 se1yr15ma.zip\n",
      "21 se2yr15ma.zip\n",
      "22 se5yr15ma.zip\n",
      "23 se10yr15ma.zip\n",
      "24 se25yr15ma.zip\n",
      "25 se50yr15ma.zip\n",
      "26 se100yr15ma.zip\n",
      "27 se200yr15ma.zip\n",
      "28 se500yr15ma.zip\n",
      "29 se1000yr15ma.zip\n",
      "30 se1yr30ma.zip\n",
      "31 se2yr30ma.zip\n",
      "32 se5yr30ma.zip\n",
      "33 se10yr30ma.zip\n",
      "34 se25yr30ma.zip\n",
      "35 se50yr30ma.zip\n",
      "36 se100yr30ma.zip\n",
      "37 se200yr30ma.zip\n",
      "38 se500yr30ma.zip\n",
      "39 se1000yr30ma.zip\n",
      "40 se1yr60ma.zip\n",
      "41 se2yr60ma.zip\n",
      "42 se5yr60ma.zip\n",
      "43 se10yr60ma.zip\n",
      "44 se25yr60ma.zip\n",
      "45 se50yr60ma.zip\n",
      "46 se100yr60ma.zip\n",
      "47 se200yr60ma.zip\n",
      "48 se500yr60ma.zip\n",
      "49 se1000yr60ma.zip\n",
      "50 se1yr02ha.zip\n",
      "51 se2yr02ha.zip\n",
      "52 se5yr02ha.zip\n",
      "53 se10yr02ha.zip\n",
      "54 se25yr02ha.zip\n",
      "55 se50yr02ha.zip\n",
      "56 se100yr02ha.zip\n",
      "57 se200yr02ha.zip\n",
      "58 se500yr02ha.zip\n",
      "59 se1000yr02ha.zip\n",
      "60 se1yr03ha.zip\n",
      "61 se2yr03ha.zip\n",
      "62 se5yr03ha.zip\n",
      "63 se10yr03ha.zip\n",
      "64 se25yr03ha.zip\n",
      "65 se50yr03ha.zip\n",
      "66 se100yr03ha.zip\n",
      "67 se200yr03ha.zip\n",
      "68 se500yr03ha.zip\n",
      "69 se1000yr03ha.zip\n",
      "70 se1yr06ha.zip\n",
      "71 se2yr06ha.zip\n",
      "72 se5yr06ha.zip\n",
      "73 se10yr06ha.zip\n",
      "74 se25yr06ha.zip\n",
      "75 se50yr06ha.zip\n",
      "76 se100yr06ha.zip\n",
      "77 se200yr06ha.zip\n",
      "78 se500yr06ha.zip\n",
      "79 se1000yr06ha.zip\n",
      "80 se1yr12ha.zip\n",
      "81 se2yr12ha.zip\n",
      "82 se5yr12ha.zip\n",
      "83 se10yr12ha.zip\n",
      "84 se25yr12ha.zip\n",
      "85 se50yr12ha.zip\n",
      "86 se100yr12ha.zip\n",
      "87 se200yr12ha.zip\n",
      "88 se500yr12ha.zip\n",
      "89 se1000yr12ha.zip\n",
      "90 se1yr24ha.zip\n",
      "91 se2yr24ha.zip\n",
      "92 se5yr24ha.zip\n",
      "93 se10yr24ha.zip\n",
      "94 se25yr24ha.zip\n",
      "95 se50yr24ha.zip\n",
      "96 se100yr24ha.zip\n",
      "97 se200yr24ha.zip\n",
      "98 se500yr24ha.zip\n",
      "99 se1000yr24ha.zip\n",
      "58 Seconds\n"
     ]
    },
    {
     "data": {
      "text/html": [
       "<div>\n",
       "<style scoped>\n",
       "    .dataframe tbody tr th:only-of-type {\n",
       "        vertical-align: middle;\n",
       "    }\n",
       "\n",
       "    .dataframe tbody tr th {\n",
       "        vertical-align: top;\n",
       "    }\n",
       "\n",
       "    .dataframe thead th {\n",
       "        text-align: right;\n",
       "    }\n",
       "</style>\n",
       "<table border=\"1\" class=\"dataframe\">\n",
       "  <thead>\n",
       "    <tr style=\"text-align: right;\">\n",
       "      <th></th>\n",
       "      <th>region</th>\n",
       "      <th>TR</th>\n",
       "      <th>duration</th>\n",
       "      <th>statistic</th>\n",
       "      <th>value</th>\n",
       "    </tr>\n",
       "  </thead>\n",
       "  <tbody>\n",
       "    <tr>\n",
       "      <th>0</th>\n",
       "      <td>se</td>\n",
       "      <td>1</td>\n",
       "      <td>05m</td>\n",
       "      <td>Expected Value</td>\n",
       "      <td>0.528372</td>\n",
       "    </tr>\n",
       "    <tr>\n",
       "      <th>1</th>\n",
       "      <td>se</td>\n",
       "      <td>2</td>\n",
       "      <td>05m</td>\n",
       "      <td>Expected Value</td>\n",
       "      <td>0.602769</td>\n",
       "    </tr>\n",
       "    <tr>\n",
       "      <th>2</th>\n",
       "      <td>se</td>\n",
       "      <td>5</td>\n",
       "      <td>05m</td>\n",
       "      <td>Expected Value</td>\n",
       "      <td>0.725998</td>\n",
       "    </tr>\n",
       "    <tr>\n",
       "      <th>3</th>\n",
       "      <td>se</td>\n",
       "      <td>10</td>\n",
       "      <td>05m</td>\n",
       "      <td>Expected Value</td>\n",
       "      <td>0.829749</td>\n",
       "    </tr>\n",
       "    <tr>\n",
       "      <th>4</th>\n",
       "      <td>se</td>\n",
       "      <td>25</td>\n",
       "      <td>05m</td>\n",
       "      <td>Expected Value</td>\n",
       "      <td>0.974771</td>\n",
       "    </tr>\n",
       "  </tbody>\n",
       "</table>\n",
       "</div>"
      ],
      "text/plain": [
       "  region  TR duration       statistic     value\n",
       "0     se   1      05m  Expected Value  0.528372\n",
       "1     se   2      05m  Expected Value  0.602769\n",
       "2     se   5      05m  Expected Value  0.725998\n",
       "3     se  10      05m  Expected Value  0.829749\n",
       "4     se  25      05m  Expected Value  0.974771"
      ]
     },
     "metadata": {},
     "output_type": "display_data"
    },
    {
     "name": "stdout",
     "output_type": "stream",
     "text": [
      "None\n"
     ]
    }
   ],
   "source": [
    "df = build_precip_table(geo_df, all_zips_list, noaa_url, vol_code, 10, verbose) #The integer is the number of times to attempt getting the file from ftp"
   ]
  },
  {
   "cell_type": "markdown",
   "metadata": {},
   "source": [
    "## Calculate NRCS nested hyetograph function "
   ]
  },
  {
   "cell_type": "code",
   "execution_count": 12,
   "metadata": {},
   "outputs": [],
   "source": [
    "c_df = df[df['statistic'] =='Expected Value'].set_index('TR')\n",
    "hyetos = {}\n",
    "for evnt in c_df.index.astype(str).tolist()[1:10]:\n",
    "    precip_df = c_df.loc[evnt][['duration', 'value']].set_index('duration')\n",
    "    hyetos[evnt] = precip_hyetograph_nrcs(precip_df)   "
   ]
  },
  {
   "cell_type": "markdown",
   "metadata": {},
   "source": [
    "#### Plot to check"
   ]
  },
  {
   "cell_type": "code",
   "execution_count": 13,
   "metadata": {},
   "outputs": [
    {
     "data": {
      "image/png": "[encoded data removed]",
      "text/plain": [
       "<Figure size 432x288 with 1 Axes>"
      ]
     },
     "metadata": {
      "needs_background": "light"
     },
     "output_type": "display_data"
    },
    {
     "data": {
      "image/png": "[encoded data removed]",
      "text/plain": [
       "<Figure size 432x288 with 1 Axes>"
      ]
     },
     "metadata": {
      "needs_background": "light"
     },
     "output_type": "display_data"
    }
   ],
   "source": [
    "hyetos['100'].plot('t_step', 'ratio')\n",
    "hyetos['100'].plot('t_step', 'slope');"
   ]
  },
  {
   "cell_type": "markdown",
   "metadata": {},
   "source": [
    "## Save the Results to an Excel Workbook:\n",
    "### Create an outputs directory:"
   ]
  },
  {
   "cell_type": "code",
   "execution_count": 14,
   "metadata": {},
   "outputs": [],
   "source": [
    "if not os.path.isdir(outputs_dir):\n",
    "    os.mkdir(outputs_dir)"
   ]
  },
  {
   "cell_type": "markdown",
   "metadata": {},
   "source": [
    "### Save:"
   ]
  },
  {
   "cell_type": "code",
   "execution_count": 15,
   "metadata": {},
   "outputs": [
    {
     "name": "stdout",
     "output_type": "stream",
     "text": [
      "         ratio     slope\n",
      "time                    \n",
      "0.0   0.000000  0.000000\n",
      "0.1   0.000454  0.004535\n",
      "0.2   0.000928  0.004748\n",
      "0.3   0.001424  0.004960\n",
      "0.4   0.001941  0.005172\n",
      "...        ...       ...\n",
      "23.6  0.998059  0.005384\n",
      "23.7  0.998576  0.005172\n",
      "23.8  0.999072  0.004960\n",
      "23.9  0.999546  0.004748\n",
      "24.0  1.000000  0.004535\n",
      "\n",
      "[241 rows x 2 columns]\n",
      "         ratio     slope\n",
      "time                    \n",
      "0.0   0.000000  0.000000\n",
      "0.1   0.000536  0.005361\n",
      "0.2   0.001094  0.005583\n",
      "0.3   0.001675  0.005806\n",
      "0.4   0.002278  0.006028\n",
      "...        ...       ...\n",
      "23.6  0.997722  0.006251\n",
      "23.7  0.998325  0.006028\n",
      "23.8  0.998906  0.005806\n",
      "23.9  0.999464  0.005583\n",
      "24.0  1.000000  0.005361\n",
      "\n",
      "[241 rows x 2 columns]\n",
      "         ratio     slope\n",
      "time                    \n",
      "0.0   0.000000  0.000000\n",
      "0.1   0.000581  0.005808\n",
      "0.2   0.001185  0.006041\n",
      "0.3   0.001812  0.006274\n",
      "0.4   0.002463  0.006508\n",
      "...        ...       ...\n",
      "23.6  0.997537  0.006741\n",
      "23.7  0.998188  0.006508\n",
      "23.8  0.998815  0.006274\n",
      "23.9  0.999419  0.006041\n",
      "24.0  1.000000  0.005808\n",
      "\n",
      "[241 rows x 2 columns]\n",
      "         ratio     slope\n",
      "time                    \n",
      "0.0   0.000000  0.000000\n",
      "0.1   0.000620  0.006203\n",
      "0.2   0.001266  0.006453\n",
      "0.3   0.001936  0.006702\n",
      "0.4   0.002631  0.006951\n",
      "...        ...       ...\n",
      "23.6  0.997369  0.007201\n",
      "23.7  0.998064  0.006951\n",
      "23.8  0.998734  0.006702\n",
      "23.9  0.999380  0.006453\n",
      "24.0  1.000000  0.006203\n",
      "\n",
      "[241 rows x 2 columns]\n",
      "         ratio     slope\n",
      "time                    \n",
      "0.0   0.000000  0.000000\n",
      "0.1   0.000639  0.006395\n",
      "0.2   0.001305  0.006657\n",
      "0.3   0.001997  0.006919\n",
      "0.4   0.002715  0.007181\n",
      "...        ...       ...\n",
      "23.6  0.997285  0.007443\n",
      "23.7  0.998003  0.007181\n",
      "23.8  0.998695  0.006919\n",
      "23.9  0.999361  0.006657\n",
      "24.0  1.000000  0.006395\n",
      "\n",
      "[241 rows x 2 columns]\n",
      "         ratio     slope\n",
      "time                    \n",
      "0.0   0.000000  0.000000\n",
      "0.1   0.000652  0.006523\n",
      "0.2   0.001332  0.006797\n",
      "0.3   0.002039  0.007071\n",
      "0.4   0.002774  0.007345\n",
      "...        ...       ...\n",
      "23.6  0.997226  0.007620\n",
      "23.7  0.997961  0.007345\n",
      "23.8  0.998668  0.007071\n",
      "23.9  0.999348  0.006797\n",
      "24.0  1.000000  0.006523\n",
      "\n",
      "[241 rows x 2 columns]\n",
      "         ratio     slope\n",
      "time                    \n",
      "0.0   0.000000  0.000000\n",
      "0.1   0.000660  0.006605\n",
      "0.2   0.001350  0.006891\n",
      "0.3   0.002067  0.007178\n",
      "0.4   0.002814  0.007464\n",
      "...        ...       ...\n",
      "23.6  0.997186  0.007751\n",
      "23.7  0.997933  0.007464\n",
      "23.8  0.998650  0.007178\n",
      "23.9  0.999340  0.006891\n",
      "24.0  1.000000  0.006605\n",
      "\n",
      "[241 rows x 2 columns]\n",
      "         ratio     slope\n",
      "time                    \n",
      "0.0   0.000000  0.000000\n",
      "0.1   0.000666  0.006665\n",
      "0.2   0.001363  0.006966\n",
      "0.3   0.002090  0.007268\n",
      "0.4   0.002847  0.007569\n",
      "...        ...       ...\n",
      "23.6  0.997153  0.007871\n",
      "23.7  0.997910  0.007569\n",
      "23.8  0.998637  0.007268\n",
      "23.9  0.999334  0.006966\n",
      "24.0  1.000000  0.006665\n",
      "\n",
      "[241 rows x 2 columns]\n",
      "         ratio     slope\n",
      "time                    \n",
      "0.0   0.000000  0.000000\n",
      "0.1   0.000668  0.006683\n",
      "0.2   0.001368  0.006995\n",
      "0.3   0.002099  0.007308\n",
      "0.4   0.002861  0.007620\n",
      "...        ...       ...\n",
      "23.6  0.997139  0.007932\n",
      "23.7  0.997901  0.007620\n",
      "23.8  0.998632  0.007308\n",
      "23.9  0.999332  0.006995\n",
      "24.0  1.000000  0.006683\n",
      "\n",
      "[241 rows x 2 columns]\n"
     ]
    }
   ],
   "source": [
    "writer = pd.ExcelWriter(outputs_dir/'{0}_{1}_{2}_nrcs_PrecipTable.xlsx'.format(Project_Area, Pluvial_Model, BCN))\n",
    "\n",
    "for i, d in enumerate(c_df.index.astype(str).tolist()[1:10]):\n",
    "    table = hyetos[d][['ratio', 'slope']]\n",
    "    hyetos[d].to_excel(writer, sheet_name = f'nrcs_hye_{d}')\n",
    "    print(table)\n",
    "writer.save()"
   ]
  },
  {
   "cell_type": "markdown",
   "metadata": {},
   "source": [
    "---"
   ]
  },
  {
   "cell_type": "markdown",
   "metadata": {},
   "source": [
    "# End"
   ]
  }
 ],
 "metadata": {
  "kernelspec": {
   "display_name": "Python 3",
   "language": "python",
   "name": "python3"
  },
  "language_info": {
   "codemirror_mode": {
    "name": "ipython",
    "version": 3
   },
   "file_extension": ".py",
   "mimetype": "text/x-python",
   "name": "python",
   "nbconvert_exporter": "python",
   "pygments_lexer": "ipython3",
   "version": "3.7.1"
  },
  "nteract": {
   "version": "0.12.3"
  }
 },
 "nbformat": 4,
 "nbformat_minor": 4
}
