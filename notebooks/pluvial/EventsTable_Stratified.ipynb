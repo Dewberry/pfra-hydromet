{
 "cells": [
  {
   "cell_type": "markdown",
   "metadata": {},
   "source": [
    "# Events Table Stratified\n",
    "\n",
    "__Description__: \n",
    "A stratified sampling of runoff events is performed on a runoff distribution derived from \n",
    "- Rainfall distribution based on the NOAA Atlas 14 (or mean precipitation curve) data (area averaged) and\n",
    "- Max. potential retention distribution based on a beta distribution.\n",
    "\n",
    "The rainfall distribution is assumed to be represented by a generalized extreme value distribution (GEV). This GEV distribution is fitted to the data (NOAA Atlas 14 data or corresponding values for the mean precipitation curve). The maximum potential distribution variabilitity corresponds to the curve number (CN) dispersion documented by the NRCS. For the rainfall distribution and runoff distribution, this notebook sequentially calculates \n",
    "- GEV distribution parameters for the NOAA or mean precipitation curve data\n",
    "- Rainfall values and probability weights for different return period events\n",
    "- Max potential retention variability and distribution parameters\n",
    "- Partition for the max potential distribution for calculating the runoff distribution\n",
    "- Runoff as a function of the return interval (i.e., return period)\n",
    "- Runoff event probability weights\n",
    "- A stratified sampling of runoff, where for each return interval the sampling includes\n",
    "    - Event weight\n",
    "    - Runoff value\n",
    "    - Max. potential retention value\n",
    "    - Rainfall value\n",
    "    \n",
    "\n",
    "__Input__: \n",
    "- Parameters: curve number and initial abstraction ratio; the probable maximum precipitation; return intervals for stratified sampling; maximum return interval limit for the stratified sampling bins;  the volume, region, and duration ([See map for volume and region](https://hdsc.nws.noaa.gov/hdsc/pfds/pfds_temporal.html)).\n",
    "        \n",
    "- The area averaged precipitation frequency data for the specified duration.\n",
    "\n",
    "- `DataRepository` folder which contains the following:\n",
    "    - The *Temporal_Distributions* folder, containing [precipitation temporal distribution data](https://hdsc.nws.noaa.gov/hdsc/pfds/pfds_temporal.html) broken down by quartile for the specified volume, region, and duration.\n",
    "\n",
    "    - The *Temporal_Distribution_Data_Map.json* which contains metadata used to extract the temporal distribution data from its *.csv file.\n",
    "\n",
    "    - The *Temporal_Quartile_Ranks.xlsx* which contains the percentage of precipitation events whose temporal distributions are represented by those in each quartile. [Source](https://www.nws.noaa.gov/oh/hdsc/currentpf.html). \n",
    "\n",
    "    - The *NEH630_Table_10_1.json* which contains information about the spread of possible values around the provided (expected) curve number. [Source](https://www.wcc.nrcs.usda.gov/ftpref/wntsc/H&H/NEHhydrology/ch10.pdf).\n",
    "\n",
    "\n",
    "__Output__: A *.csv* file containing mean incremental excess rainfall curves and a *.json* file containing the metadata associated with the curves.\n"
   ]
  },
  {
   "cell_type": "markdown",
   "metadata": {},
   "source": [
    "---\n",
    "## Load Libraries, Parameters, and Data:\n",
    "### Libraries:"
   ]
  },
  {
   "cell_type": "code",
   "execution_count": 1,
   "metadata": {},
   "outputs": [],
   "source": [
    "import sys\n",
    "sys.path.append('../../core')\n",
    "from hydromet import*\n",
    "from hydromet_stratified import*"
   ]
  },
  {
   "cell_type": "markdown",
   "metadata": {},
   "source": [
    "### Parameters: \n",
    "#### Local (site specific):"
   ]
  },
  {
   "cell_type": "code",
   "execution_count": 2,
   "metadata": {},
   "outputs": [],
   "source": [
    "## Excess rainfall parameters:\n",
    "CN  = 73  # Curve number\n",
    "mu  = 0.2  # Intial abstraction ratio parameter\n",
    "PMP = 20  # [inches]; Probable maximum precipitation for the selected duration \n",
    "Return_Intervals = np.array([2, 5, 10, 25, 50, 100, 200, 500, 1000, 2000, 3000])  # Return intervals for calculating runoff values.\n",
    "RI_upper_bound = 3700  # Upper Limit of recurrence interval evaluation, suggest not changing this value\n",
    "Aerial_Reduction = 1.0  # Aerial reduction factor\n",
    "duration = 24  # [hours]; Event duration;  must be a duration in the input Precip_Table file\n",
    "\n",
    "\n",
    "## Mean curve parameters:\n",
    "RI_data = np.array([2, 5, 10, 50, 100, 200, 500, 1000, 2000]) # Subset of return intervals from above that are automatically calculated as a part of the mean curve calculation\n",
    "return_intervals_mc = np.array([1.01, 1.05, 1.11, 1.25, 20, 2000, 5000, 10000, 20000, 50000, 100000, 200000, 1/2E-06, 1/1E-06, 1/5E-07, 1/2E-07, 1/1E-07]) # Additional return intervals for the mean curve inputs\n",
    "CL = np.array([0.001, 0.005, 0.01, 0.05, 0.1, 0.2, 0.3, 0.4, 0.5, 0.6, 0.7, 0.8, 0.9, 0.95, 0.99, 0.995, 0.999]) # Confidence limits\n",
    "\n",
    "\n",
    "## Integration parameter:\n",
    "n_partition = 30  # Define number of partitions of max potential retention distribution; this controls the resolution of the integration of int p(Q|S)p(S) dS\n",
    "\n",
    "\n",
    "## Filenames and paths:\n",
    "Project_Area = 'DesPlaines'  # Project area name\n",
    "Pluvial_Model = 'P01'  # Pluvial model name\n",
    "BCN = '071200040403'  # Domain/boundary condition name\n",
    "precip_table = '{0}_{1}_{2}_PrecipTable.xlsx'.format(Project_Area, Pluvial_Model, BCN)  # NOAA Data\n",
    "precip_mean_curve_table = '{0}_{1}_{2}_MeanCurve.csv'.format(Project_Area, Pluvial_Model, BCN)  # Mean Precip Curve Data\n",
    "\n",
    "root_dir = pl.Path(os.getcwd())\n",
    "inputs_dir = root_dir/'Inputs'\n",
    "outputs_dir = root_dir/'Outputs'\n",
    "precip_table_dir = outputs_dir/precip_table\n",
    "precip_mean_curve_table_dir = outputs_dir/precip_mean_curve_table\n",
    "datarepository_dir = root_dir.parent.parent/'DataRepository'\n",
    "bin_dir = root_dir.parent.parent/'bin'\n",
    "\n",
    "\n",
    "## Options:\n",
    "display_plots = True\n",
    "display_print = False\n",
    "np.set_printoptions(suppress=True)"
   ]
  },
  {
   "cell_type": "markdown",
   "metadata": {},
   "source": [
    "##### Convert all paths to objects:"
   ]
  },
  {
   "cell_type": "code",
   "execution_count": 3,
   "metadata": {},
   "outputs": [],
   "source": [
    "inputs_dir = pl.Path(inputs_dir)\n",
    "precip_table_dir = pl.Path(precip_table_dir)\n",
    "precip_mean_curve_table_dir = pl.Path(precip_mean_curve_table_dir)\n",
    "datarepository_dir = pl.Path(datarepository_dir)\n",
    "bin_dir = pl.Path(bin_dir)\n",
    "outputs_dir = pl.Path(outputs_dir)"
   ]
  },
  {
   "cell_type": "markdown",
   "metadata": {},
   "source": [
    "#### Global (project specific):"
   ]
  },
  {
   "cell_type": "code",
   "execution_count": 4,
   "metadata": {},
   "outputs": [],
   "source": [
    "## Excess rainfall parameters:\n",
    "lower_limit, upper_limit = 1, 3000 \n",
    "\n",
    "## Filenames and paths:\n",
    "Temporal_Distribution_Data_Map = 'Temporal_Distribution_Data_Map.json'\n",
    "Temporal_Quartile_Ranks = 'Temporal_Quartile_Ranks.xlsx'\n",
    "CN_Distribution = 'NEH630_Table_10_1.json'\n",
    "temporal_dir = datarepository_dir/'Temporal_Distributions'"
   ]
  },
  {
   "cell_type": "markdown",
   "metadata": {},
   "source": [
    "### Data:\n",
    "#### NOAA Atlas 14 precipitation values:"
   ]
  },
  {
   "cell_type": "code",
   "execution_count": 5,
   "metadata": {},
   "outputs": [
    {
     "data": {
      "text/html": [
       "<div>\n",
       "<style scoped>\n",
       "    .dataframe tbody tr th:only-of-type {\n",
       "        vertical-align: middle;\n",
       "    }\n",
       "\n",
       "    .dataframe tbody tr th {\n",
       "        vertical-align: top;\n",
       "    }\n",
       "\n",
       "    .dataframe thead th {\n",
       "        text-align: right;\n",
       "    }\n",
       "</style>\n",
       "<table border=\"1\" class=\"dataframe\">\n",
       "  <thead>\n",
       "    <tr style=\"text-align: right;\">\n",
       "      <th></th>\n",
       "      <th>Median</th>\n",
       "      <th>Lower (90%)</th>\n",
       "      <th>Upper (90%)</th>\n",
       "    </tr>\n",
       "    <tr>\n",
       "      <th>Tr</th>\n",
       "      <th></th>\n",
       "      <th></th>\n",
       "      <th></th>\n",
       "    </tr>\n",
       "  </thead>\n",
       "  <tbody>\n",
       "    <tr>\n",
       "      <th>1</th>\n",
       "      <td>2.379714</td>\n",
       "      <td>2.117918</td>\n",
       "      <td>2.702459</td>\n",
       "    </tr>\n",
       "    <tr>\n",
       "      <th>2</th>\n",
       "      <td>2.891592</td>\n",
       "      <td>2.574480</td>\n",
       "      <td>3.286755</td>\n",
       "    </tr>\n",
       "  </tbody>\n",
       "</table>\n",
       "</div>"
      ],
      "text/plain": [
       "      Median  Lower (90%)  Upper (90%)\n",
       "Tr                                    \n",
       "1   2.379714     2.117918     2.702459\n",
       "2   2.891592     2.574480     3.286755"
      ]
     },
     "execution_count": 5,
     "metadata": {},
     "output_type": "execute_result"
    },
    {
     "data": {
      "image/png": "[encoded data removed]",
      "text/plain": [
       "<Figure size 432x288 with 1 Axes>"
      ]
     },
     "metadata": {
      "needs_background": "light"
     },
     "output_type": "display_data"
    }
   ],
   "source": [
    "raw_precip = get_input_data(precip_table_dir, duration, lower_limit, display_print)\n",
    "raw_precip.rename(columns = {'Expected Value':'Median'}, inplace = True)\n",
    "raw_precip.plot(style=['+-','o-','.--'], logx=True, ylim=(0, 14))\n",
    "raw_precip.head(2)"
   ]
  },
  {
   "cell_type": "markdown",
   "metadata": {},
   "source": [
    "#### Fit GEV to rainfall data (find GEV parameters):"
   ]
  },
  {
   "cell_type": "code",
   "execution_count": 6,
   "metadata": {},
   "outputs": [
    {
     "data": {
      "text/html": [
       "<div>\n",
       "<style scoped>\n",
       "    .dataframe tbody tr th:only-of-type {\n",
       "        vertical-align: middle;\n",
       "    }\n",
       "\n",
       "    .dataframe tbody tr th {\n",
       "        vertical-align: top;\n",
       "    }\n",
       "\n",
       "    .dataframe thead th {\n",
       "        text-align: right;\n",
       "    }\n",
       "</style>\n",
       "<table border=\"1\" class=\"dataframe\">\n",
       "  <thead>\n",
       "    <tr style=\"text-align: right;\">\n",
       "      <th></th>\n",
       "      <th>GEV Median</th>\n",
       "      <th>GEV Lower (90%)</th>\n",
       "      <th>GEV Upper (90%)</th>\n",
       "    </tr>\n",
       "  </thead>\n",
       "  <tbody>\n",
       "    <tr>\n",
       "      <th>mu</th>\n",
       "      <td>2.755150</td>\n",
       "      <td>2.446070</td>\n",
       "      <td>3.139833</td>\n",
       "    </tr>\n",
       "    <tr>\n",
       "      <th>sigma</th>\n",
       "      <td>0.574647</td>\n",
       "      <td>0.532820</td>\n",
       "      <td>0.627433</td>\n",
       "    </tr>\n",
       "    <tr>\n",
       "      <th>xi</th>\n",
       "      <td>-0.204410</td>\n",
       "      <td>-0.163136</td>\n",
       "      <td>-0.222317</td>\n",
       "    </tr>\n",
       "  </tbody>\n",
       "</table>\n",
       "</div>"
      ],
      "text/plain": [
       "       GEV Median  GEV Lower (90%)  GEV Upper (90%)\n",
       "mu       2.755150         2.446070         3.139833\n",
       "sigma    0.574647         0.532820         0.627433\n",
       "xi      -0.204410        -0.163136        -0.222317"
      ]
     },
     "execution_count": 6,
     "metadata": {},
     "output_type": "execute_result"
    }
   ],
   "source": [
    "## Reduce precipitation by aerial reduction factor:\n",
    "raw_precip_reduced = raw_precip[raw_precip.select_dtypes(include=['number']).columns] * Aerial_Reduction\n",
    "\n",
    "## Find GEV parameter values:\n",
    "df_GEV_parameters_M = GEV_parameters_Fit(raw_precip_reduced, 'Median', PMP)\n",
    "df_GEV_parameters_U = GEV_parameters_Fit(raw_precip_reduced, 'Upper (90%)', PMP)\n",
    "df_GEV_parameters_L = GEV_parameters_Fit(raw_precip_reduced, 'Lower (90%)', PMP)\n",
    "df_GEV_parameters = pd.concat([df_GEV_parameters_M, df_GEV_parameters_L, df_GEV_parameters_U], axis=1)\n",
    "df_GEV_parameters"
   ]
  },
  {
   "cell_type": "markdown",
   "metadata": {},
   "source": [
    "#### Plot fitted GEV distribution and NOAA data:"
   ]
  },
  {
   "cell_type": "code",
   "execution_count": 7,
   "metadata": {},
   "outputs": [
    {
     "data": {
      "image/png": "[encoded data removed]",
      "text/plain": [
       "<Figure size 720x288 with 2 Axes>"
      ]
     },
     "metadata": {
      "needs_background": "light"
     },
     "output_type": "display_data"
    }
   ],
   "source": [
    "plot_GEV_precip_curves(raw_precip_reduced, df_GEV_parameters, PMP)"
   ]
  },
  {
   "cell_type": "markdown",
   "metadata": {},
   "source": [
    "#### Data for calculating the mean curve:"
   ]
  },
  {
   "cell_type": "code",
   "execution_count": 8,
   "metadata": {},
   "outputs": [
    {
     "data": {
      "text/html": [
       "<div>\n",
       "<style scoped>\n",
       "    .dataframe tbody tr th:only-of-type {\n",
       "        vertical-align: middle;\n",
       "    }\n",
       "\n",
       "    .dataframe tbody tr th {\n",
       "        vertical-align: top;\n",
       "    }\n",
       "\n",
       "    .dataframe thead th {\n",
       "        text-align: right;\n",
       "    }\n",
       "</style>\n",
       "<table border=\"1\" class=\"dataframe\">\n",
       "  <thead>\n",
       "    <tr style=\"text-align: right;\">\n",
       "      <th></th>\n",
       "      <th>Median</th>\n",
       "      <th>Lower (90%)</th>\n",
       "      <th>Upper (90%)</th>\n",
       "      <th>Log SD (Lower)</th>\n",
       "      <th>Log SD (Upper)</th>\n",
       "      <th>Max Log SD</th>\n",
       "      <th>mu LN</th>\n",
       "    </tr>\n",
       "  </thead>\n",
       "  <tbody>\n",
       "    <tr>\n",
       "      <th>1.00</th>\n",
       "      <td>2.379714</td>\n",
       "      <td>2.117918</td>\n",
       "      <td>2.702459</td>\n",
       "      <td>0.070849</td>\n",
       "      <td>0.077314</td>\n",
       "      <td>0.077314</td>\n",
       "      <td>0.866980</td>\n",
       "    </tr>\n",
       "    <tr>\n",
       "      <th>1.01</th>\n",
       "      <td>2.000418</td>\n",
       "      <td>1.724906</td>\n",
       "      <td>2.326368</td>\n",
       "      <td>0.090081</td>\n",
       "      <td>0.091764</td>\n",
       "      <td>0.091764</td>\n",
       "      <td>0.693356</td>\n",
       "    </tr>\n",
       "  </tbody>\n",
       "</table>\n",
       "</div>"
      ],
      "text/plain": [
       "        Median  Lower (90%)  Upper (90%)  Log SD (Lower)  Log SD (Upper)  \\\n",
       "1.00  2.379714     2.117918     2.702459        0.070849        0.077314   \n",
       "1.01  2.000418     1.724906     2.326368        0.090081        0.091764   \n",
       "\n",
       "      Max Log SD     mu LN  \n",
       "1.00    0.077314  0.866980  \n",
       "1.01    0.091764  0.693356  "
      ]
     },
     "execution_count": 8,
     "metadata": {},
     "output_type": "execute_result"
    }
   ],
   "source": [
    "return_interval_data = return_interval_data(raw_precip_reduced, return_intervals_mc, df_GEV_parameters, PMP)\n",
    "return_interval_data.head(2)"
   ]
  },
  {
   "cell_type": "markdown",
   "metadata": {},
   "source": [
    "#### Input for calculating the mean curve:"
   ]
  },
  {
   "cell_type": "code",
   "execution_count": 9,
   "metadata": {},
   "outputs": [
    {
     "data": {
      "text/html": [
       "<div>\n",
       "<style scoped>\n",
       "    .dataframe tbody tr th:only-of-type {\n",
       "        vertical-align: middle;\n",
       "    }\n",
       "\n",
       "    .dataframe tbody tr th {\n",
       "        vertical-align: top;\n",
       "    }\n",
       "\n",
       "    .dataframe thead th {\n",
       "        text-align: right;\n",
       "    }\n",
       "</style>\n",
       "<table border=\"1\" class=\"dataframe\">\n",
       "  <thead>\n",
       "    <tr style=\"text-align: right;\">\n",
       "      <th></th>\n",
       "      <th>0.001</th>\n",
       "      <th>0.005</th>\n",
       "      <th>0.010</th>\n",
       "      <th>0.050</th>\n",
       "      <th>0.100</th>\n",
       "      <th>0.200</th>\n",
       "      <th>0.300</th>\n",
       "      <th>0.400</th>\n",
       "      <th>0.500</th>\n",
       "      <th>0.600</th>\n",
       "      <th>0.700</th>\n",
       "      <th>0.800</th>\n",
       "      <th>0.900</th>\n",
       "      <th>0.950</th>\n",
       "      <th>0.990</th>\n",
       "      <th>0.995</th>\n",
       "      <th>0.999</th>\n",
       "    </tr>\n",
       "    <tr>\n",
       "      <th>AEP</th>\n",
       "      <th></th>\n",
       "      <th></th>\n",
       "      <th></th>\n",
       "      <th></th>\n",
       "      <th></th>\n",
       "      <th></th>\n",
       "      <th></th>\n",
       "      <th></th>\n",
       "      <th></th>\n",
       "      <th></th>\n",
       "      <th></th>\n",
       "      <th></th>\n",
       "      <th></th>\n",
       "      <th></th>\n",
       "      <th></th>\n",
       "      <th></th>\n",
       "      <th></th>\n",
       "    </tr>\n",
       "  </thead>\n",
       "  <tbody>\n",
       "    <tr>\n",
       "      <th>1.000000e-07</th>\n",
       "      <td>19.970397</td>\n",
       "      <td>19.975902</td>\n",
       "      <td>19.978447</td>\n",
       "      <td>19.984881</td>\n",
       "      <td>19.987934</td>\n",
       "      <td>19.991209</td>\n",
       "      <td>19.993246</td>\n",
       "      <td>19.994756</td>\n",
       "      <td>19.995968</td>\n",
       "      <td>19.996987</td>\n",
       "      <td>19.997870</td>\n",
       "      <td>19.998653</td>\n",
       "      <td>19.999358</td>\n",
       "      <td>19.999686</td>\n",
       "      <td>19.999938</td>\n",
       "      <td>19.999969</td>\n",
       "      <td>19.999994</td>\n",
       "    </tr>\n",
       "    <tr>\n",
       "      <th>2.000000e-07</th>\n",
       "      <td>19.925614</td>\n",
       "      <td>19.937968</td>\n",
       "      <td>19.943796</td>\n",
       "      <td>19.958977</td>\n",
       "      <td>19.966486</td>\n",
       "      <td>19.974844</td>\n",
       "      <td>19.980253</td>\n",
       "      <td>19.984390</td>\n",
       "      <td>19.987806</td>\n",
       "      <td>19.990756</td>\n",
       "      <td>19.993378</td>\n",
       "      <td>19.995758</td>\n",
       "      <td>19.997953</td>\n",
       "      <td>19.998993</td>\n",
       "      <td>19.999801</td>\n",
       "      <td>19.999901</td>\n",
       "      <td>19.999980</td>\n",
       "    </tr>\n",
       "  </tbody>\n",
       "</table>\n",
       "</div>"
      ],
      "text/plain": [
       "                  0.001      0.005      0.010      0.050      0.100  \\\n",
       "AEP                                                                   \n",
       "1.000000e-07  19.970397  19.975902  19.978447  19.984881  19.987934   \n",
       "2.000000e-07  19.925614  19.937968  19.943796  19.958977  19.966486   \n",
       "\n",
       "                  0.200      0.300      0.400      0.500      0.600  \\\n",
       "AEP                                                                   \n",
       "1.000000e-07  19.991209  19.993246  19.994756  19.995968  19.996987   \n",
       "2.000000e-07  19.974844  19.980253  19.984390  19.987806  19.990756   \n",
       "\n",
       "                  0.700      0.800      0.900      0.950      0.990  \\\n",
       "AEP                                                                   \n",
       "1.000000e-07  19.997870  19.998653  19.999358  19.999686  19.999938   \n",
       "2.000000e-07  19.993378  19.995758  19.997953  19.998993  19.999801   \n",
       "\n",
       "                  0.995      0.999  \n",
       "AEP                                 \n",
       "1.000000e-07  19.999969  19.999994  \n",
       "2.000000e-07  19.999901  19.999980  "
      ]
     },
     "execution_count": 9,
     "metadata": {},
     "output_type": "execute_result"
    }
   ],
   "source": [
    "mean_curve_data = mean_curve_input_table(CL, return_interval_data, PMP, outputs_dir, Project_Area, Pluvial_Model, BCN)\n",
    "mean_curve_data.head(2)"
   ]
  },
  {
   "cell_type": "markdown",
   "metadata": {},
   "source": [
    "---\n",
    "## Hydrology 2\n",
    "### Load Mean Curve:"
   ]
  },
  {
   "cell_type": "code",
   "execution_count": 10,
   "metadata": {},
   "outputs": [
    {
     "data": {
      "text/html": [
       "<div>\n",
       "<style scoped>\n",
       "    .dataframe tbody tr th:only-of-type {\n",
       "        vertical-align: middle;\n",
       "    }\n",
       "\n",
       "    .dataframe tbody tr th {\n",
       "        vertical-align: top;\n",
       "    }\n",
       "\n",
       "    .dataframe thead th {\n",
       "        text-align: right;\n",
       "    }\n",
       "</style>\n",
       "<table border=\"1\" class=\"dataframe\">\n",
       "  <thead>\n",
       "    <tr style=\"text-align: right;\">\n",
       "      <th></th>\n",
       "      <th>Expected Value</th>\n",
       "      <th>Median</th>\n",
       "    </tr>\n",
       "    <tr>\n",
       "      <th>Tr</th>\n",
       "      <th></th>\n",
       "      <th></th>\n",
       "    </tr>\n",
       "  </thead>\n",
       "  <tbody>\n",
       "    <tr>\n",
       "      <th>1.111111</th>\n",
       "      <td>2.372917</td>\n",
       "      <td>2.314617</td>\n",
       "    </tr>\n",
       "    <tr>\n",
       "      <th>2.000000</th>\n",
       "      <td>2.954968</td>\n",
       "      <td>2.891592</td>\n",
       "    </tr>\n",
       "  </tbody>\n",
       "</table>\n",
       "</div>"
      ],
      "text/plain": [
       "          Expected Value    Median\n",
       "Tr                                \n",
       "1.111111        2.372917  2.314617\n",
       "2.000000        2.954968  2.891592"
      ]
     },
     "execution_count": 10,
     "metadata": {},
     "output_type": "execute_result"
    },
    {
     "data": {
      "image/png": "[encoded data removed]",
      "text/plain": [
       "<Figure size 432x288 with 1 Axes>"
      ]
     },
     "metadata": {
      "needs_background": "light"
     },
     "output_type": "display_data"
    }
   ],
   "source": [
    "mean_curve_precip = pd.read_csv(precip_mean_curve_table_dir, index_col=0)\n",
    "mean_curve_precip['Tr'] = 1.0/mean_curve_precip.index.values\n",
    "mean_curve_precip.set_index('Tr', inplace = True)\n",
    "mean_curve_precip.rename(columns = {'Q_Mean_cfs': 'Expected Value', 'Q_Median_cfs': 'Median'}, inplace = True)\n",
    "mean_curve_precip.plot(style=['+-', 'o-'], logx=True, ylim=(0, PMP))\n",
    "mean_curve_precip.head(2)"
   ]
  },
  {
   "cell_type": "markdown",
   "metadata": {},
   "source": [
    "### Fit GEV to Mean Precipication Curve (Find GEV Parameters):"
   ]
  },
  {
   "cell_type": "code",
   "execution_count": 11,
   "metadata": {},
   "outputs": [
    {
     "data": {
      "text/html": [
       "<div>\n",
       "<style scoped>\n",
       "    .dataframe tbody tr th:only-of-type {\n",
       "        vertical-align: middle;\n",
       "    }\n",
       "\n",
       "    .dataframe tbody tr th {\n",
       "        vertical-align: top;\n",
       "    }\n",
       "\n",
       "    .dataframe thead th {\n",
       "        text-align: right;\n",
       "    }\n",
       "</style>\n",
       "<table border=\"1\" class=\"dataframe\">\n",
       "  <thead>\n",
       "    <tr style=\"text-align: right;\">\n",
       "      <th></th>\n",
       "      <th>GEV Median</th>\n",
       "      <th>GEV Lower (90%)</th>\n",
       "      <th>GEV Upper (90%)</th>\n",
       "      <th>GEV Expected Value</th>\n",
       "    </tr>\n",
       "  </thead>\n",
       "  <tbody>\n",
       "    <tr>\n",
       "      <th>mu</th>\n",
       "      <td>2.755150</td>\n",
       "      <td>2.446070</td>\n",
       "      <td>3.139833</td>\n",
       "      <td>2.738182</td>\n",
       "    </tr>\n",
       "    <tr>\n",
       "      <th>sigma</th>\n",
       "      <td>0.574647</td>\n",
       "      <td>0.532820</td>\n",
       "      <td>0.627433</td>\n",
       "      <td>0.584266</td>\n",
       "    </tr>\n",
       "    <tr>\n",
       "      <th>xi</th>\n",
       "      <td>-0.204410</td>\n",
       "      <td>-0.163136</td>\n",
       "      <td>-0.222317</td>\n",
       "      <td>-0.213904</td>\n",
       "    </tr>\n",
       "  </tbody>\n",
       "</table>\n",
       "</div>"
      ],
      "text/plain": [
       "       GEV Median  GEV Lower (90%)  GEV Upper (90%)  GEV Expected Value\n",
       "mu       2.755150         2.446070         3.139833            2.738182\n",
       "sigma    0.574647         0.532820         0.627433            0.584266\n",
       "xi      -0.204410        -0.163136        -0.222317           -0.213904"
      ]
     },
     "execution_count": 11,
     "metadata": {},
     "output_type": "execute_result"
    }
   ],
   "source": [
    "fit_values_mean_curve_precip = mean_curve_precip[1:20000] # Only fit the value up to about the 20,000 year event\n",
    "df_GEV_parameters_E = GEV_parameters_Fit(fit_values_mean_curve_precip, 'Expected Value', PMP)\n",
    "GEV_parameters_E = df_GEV_parameters_E.values.transpose()[0]\n",
    "df_GEV_parameters = pd.concat([df_GEV_parameters, df_GEV_parameters_E], axis=1)\n",
    "df_GEV_parameters "
   ]
  },
  {
   "cell_type": "markdown",
   "metadata": {},
   "source": [
    "#### Plot fitted GEV distribution and mean precipitation curve:"
   ]
  },
  {
   "cell_type": "code",
   "execution_count": 12,
   "metadata": {},
   "outputs": [
    {
     "data": {
      "image/png": "[encoded data removed]",
      "text/plain": [
       "<Figure size 720x288 with 2 Axes>"
      ]
     },
     "metadata": {
      "needs_background": "light"
     },
     "output_type": "display_data"
    }
   ],
   "source": [
    "plot_GEV_precip_curves(mean_curve_precip, df_GEV_parameters_E, PMP)"
   ]
  },
  {
   "cell_type": "markdown",
   "metadata": {},
   "source": [
    "### Hydrology 2 Events:"
   ]
  },
  {
   "cell_type": "code",
   "execution_count": 13,
   "metadata": {},
   "outputs": [
    {
     "data": {
      "text/html": [
       "<div>\n",
       "<style scoped>\n",
       "    .dataframe tbody tr th:only-of-type {\n",
       "        vertical-align: middle;\n",
       "    }\n",
       "\n",
       "    .dataframe tbody tr th {\n",
       "        vertical-align: top;\n",
       "    }\n",
       "\n",
       "    .dataframe thead th {\n",
       "        text-align: right;\n",
       "    }\n",
       "</style>\n",
       "<table border=\"1\" class=\"dataframe\">\n",
       "  <thead>\n",
       "    <tr style=\"text-align: right;\">\n",
       "      <th></th>\n",
       "      <th>Bin Floor</th>\n",
       "      <th>Bin Ceiling</th>\n",
       "      <th>Event Weight</th>\n",
       "      <th>Expected Value</th>\n",
       "      <th>Runoff</th>\n",
       "    </tr>\n",
       "  </thead>\n",
       "  <tbody>\n",
       "    <tr>\n",
       "      <th>2.0</th>\n",
       "      <td>1.261016</td>\n",
       "      <td>4.091117</td>\n",
       "      <td>0.548579</td>\n",
       "      <td>2.954968</td>\n",
       "      <td>0.829794</td>\n",
       "    </tr>\n",
       "    <tr>\n",
       "      <th>5.0</th>\n",
       "      <td>4.091117</td>\n",
       "      <td>6.280232</td>\n",
       "      <td>0.085202</td>\n",
       "      <td>3.765830</td>\n",
       "      <td>1.361735</td>\n",
       "    </tr>\n",
       "  </tbody>\n",
       "</table>\n",
       "</div>"
      ],
      "text/plain": [
       "     Bin Floor  Bin Ceiling  Event Weight  Expected Value    Runoff\n",
       "2.0   1.261016     4.091117      0.548579        2.954968  0.829794\n",
       "5.0   4.091117     6.280232      0.085202        3.765830  1.361735"
      ]
     },
     "execution_count": 13,
     "metadata": {},
     "output_type": "execute_result"
    }
   ],
   "source": [
    "df_weights_rainfall = weights_Rainfall(Return_Intervals, GEV_parameters_E, PMP, RI_upper_bound, mean_curve_precip, 'Expected Value', RI_data, CN, mu)\n",
    "df_weights_rainfall.head(2)"
   ]
  },
  {
   "cell_type": "markdown",
   "metadata": {},
   "source": [
    "---\n",
    "## Hydrology 3:\n",
    "### Retrieve Max Potential Retention Variability and Distribution Parameters:"
   ]
  },
  {
   "cell_type": "code",
   "execution_count": null,
   "metadata": {},
   "outputs": [],
   "source": [
    "## NRCS value of wet and dry soil moiture conditions:\n",
    "arc_data = get_CN_distribution(datarepository_dir, CN_Distribution, CN, display_print)\n",
    "\n",
    "## Table of wet, dry, and average (or median) soil moisture conditions:\n",
    "df_CN = prep_cn_table(CN, arc_data)  \n",
    "\n",
    "## Table of parameters for best fit of beta-type distribution to NRCS estiamted dispersion:\n",
    "fitted_cn = find_optimal_curve_beta_dist_S(df_CN)\n",
    "\n",
    "## Distribution parameter values:\n",
    "S_limit = 1000.0/fitted_cn.iloc[0]['CN Lower Limit']-10.0\n",
    "alpha = fitted_cn.iloc[0]['alpha']\n",
    "beta = fitted_cn.iloc[0]['beta']\n",
    "\n",
    "## Define probability for each partition of the max potential retention distribution:\n",
    "Delta_P = 1/n_partition\n",
    "\n",
    "## Find the average value over each partition, which is the basis for the runoff distribution:\n",
    "partition_avg = partition_S_avgs(n_partition, alpha, beta, S_limit)\n",
    "print(partition_avg )\n",
    "\n",
    "fitted_cn['mu'] = mu\n",
    "print(display(fitted_cn))\n",
    "\n",
    "plot_runoff_maxRetention_distributions(GEV_parameters_E, PMP, fitted_cn)"
   ]
  },
  {
   "cell_type": "markdown",
   "metadata": {},
   "source": [
    "## Runoff as a function of the return period"
   ]
  },
  {
   "cell_type": "code",
   "execution_count": null,
   "metadata": {},
   "outputs": [],
   "source": [
    "#error between the integral approach (based on summation integration) and the actual value\n",
    "error_PQ = 1- CDF_Q(PMP, mu, alpha, beta, S_limit, GEV_parameters_E, PMP, partition_avg, Delta_P)\n",
    "\n",
    "print('\\nProbability of zero runoff = {}\\nError in calculation of Probabilibity of zero runoff = {}\\n'\n",
    "      'Error, i.e., the difference between 1 and the numerical CDF evaluated at PMP, Error = {}'\n",
    "      ''.format(P_Qzero(mu, alpha, beta, S_limit, GEV_parameters_E, PMP)[0], P_Qzero(mu, alpha, beta, S_limit, GEV_parameters_E, PMP)[1], error_PQ))"
   ]
  },
  {
   "cell_type": "markdown",
   "metadata": {},
   "source": [
    "### Determine Runoff Values and Weights\n",
    "- Runoff weights calculated starting from a given bin ceiling."
   ]
  },
  {
   "cell_type": "code",
   "execution_count": null,
   "metadata": {},
   "outputs": [],
   "source": [
    "#tck_RI_Q, tck_Q_RI respectively are cubic spline interpolation functions for runoff as a function of return period and return period as a function of runoff, respectively.\n",
    "tck_RI_Q, tck_Q_RI, df_weights_runoff = runoff(Return_Intervals, RI_upper_bound, mu, GEV_parameters_E, PMP, alpha, beta, S_limit, partition_avg, Delta_P, error_PQ)\n",
    "df_weights_runoff"
   ]
  },
  {
   "cell_type": "markdown",
   "metadata": {},
   "source": [
    "### Plot runoff distribution"
   ]
  },
  {
   "cell_type": "code",
   "execution_count": null,
   "metadata": {},
   "outputs": [],
   "source": [
    "plot_runoff_distributions_final(GEV_parameters_E, PMP, fitted_cn, partition_avg, Delta_P, tck_RI_Q)"
   ]
  },
  {
   "cell_type": "markdown",
   "metadata": {},
   "source": [
    "### Plot maximum potential distribution conditional on runoff"
   ]
  },
  {
   "cell_type": "code",
   "execution_count": null,
   "metadata": {},
   "outputs": [],
   "source": [
    "plot_max_potential_retention_cond_runoff(GEV_parameters_E, PMP, fitted_cn, partition_avg, Delta_P)"
   ]
  },
  {
   "cell_type": "markdown",
   "metadata": {},
   "source": [
    "### Calculate Runoff and Corresponding Max. Potential Retention and Rainfall"
   ]
  },
  {
   "cell_type": "code",
   "execution_count": null,
   "metadata": {},
   "outputs": [],
   "source": [
    "df_runoff_SR1 = Scenarios_Avg_S_Median_S(df_weights_runoff, mu, GEV_parameters_E, PMP, partition_avg, Delta_P, alpha, beta, S_limit)\n",
    "df_runoff_SR1"
   ]
  },
  {
   "cell_type": "markdown",
   "metadata": {},
   "source": [
    "## Hydrology 3 Events\n",
    "- For each runoff value, two events are considered, a high max. potential retention, and a low max. potential retention"
   ]
  },
  {
   "cell_type": "code",
   "execution_count": null,
   "metadata": {},
   "outputs": [],
   "source": [
    "df_runoff_SR2 = Scenarios_low_and_high_S(df_runoff_SR1, mu, GEV_parameters_E, PMP, partition_avg, Delta_P, alpha,beta,S_limit)\n",
    "df_runoff_SR2"
   ]
  },
  {
   "cell_type": "markdown",
   "metadata": {},
   "source": [
    "---"
   ]
  }
 ],
 "metadata": {
  "kernelspec": {
   "display_name": "Python 3",
   "language": "python",
   "name": "python3"
  },
  "language_info": {
   "codemirror_mode": {
    "name": "ipython",
    "version": 3
   },
   "file_extension": ".py",
   "mimetype": "text/x-python",
   "name": "python",
   "nbconvert_exporter": "python",
   "pygments_lexer": "ipython3",
   "version": "3.7.1"
  }
 },
 "nbformat": 4,
 "nbformat_minor": 4
}
