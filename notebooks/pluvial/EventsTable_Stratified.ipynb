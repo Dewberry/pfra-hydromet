{
 "cells": [
  {
   "cell_type": "markdown",
   "metadata": {},
   "source": [
    "# Events Table Stratified\n",
    "\n",
    "__Description__: \n",
    "A stratified sampling of runoff events is performed on a runoff distribution derived from \n",
    "- Rainfall distribution based on the NOAA Atlas 14 (or mean precipitation curve) data (area averaged) and\n",
    "- Max. potential retention distribution based on a beta distribution.\n",
    "\n",
    "The rainfall distribution is assumed to be represented by a generalized extreme value distribution (GEV). This GEV distribution is fitted to the data (NOAA Atlas 14 data or corresponding values for the mean precipitation curve). The maximum potential distribution variabilitity corresponds to the curve number (CN) dispersion documented by the NRCS. For the rainfall distribution and runoff distribution, this notebook sequentially calculates \n",
    "- GEV distribution parameters for the NOAA or mean precipitation curve data\n",
    "- Rainfall values and probability weights for different return period events\n",
    "- Max potential retention variability and distribution parameters\n",
    "- Partition for the max potential distribution for calculating the runoff distribution\n",
    "- Runoff as a function of the return interval (i.e., return period)\n",
    "- Runoff event probability weights\n",
    "- A stratified sampling of runoff, where for each return interval the sampling includes\n",
    "    - Event weight\n",
    "    - Runoff value\n",
    "    - Max. potential retention value\n",
    "    - Rainfall value\n",
    "    \n",
    "\n",
    "__Input__: \n",
    "- Parameters: curve number and initial abstraction ratio; the probable maximum precipitation; return intervals for stratified sampling; maximum return interval limit for the stratified sampling bins;  the volume, region, and duration ([See map for volume and region](https://hdsc.nws.noaa.gov/hdsc/pfds/pfds_temporal.html)).\n",
    "        \n",
    "- The area averaged precipitation frequency data for the specified duration.\n",
    "\n",
    "- `DataRepository` folder which contains the following:\n",
    "    - The *NEH630_Table_10_1.json* which contains information about the spread of possible values around the provided (expected) curve number. [Source](https://www.wcc.nrcs.usda.gov/ftpref/wntsc/H&H/NEHhydrology/ch10.pdf).\n",
    "\n",
    "\n",
    "__Output__: TBD\n"
   ]
  },
  {
   "cell_type": "markdown",
   "metadata": {},
   "source": [
    "---\n",
    "## Load Libraries, Parameters, and Data:\n",
    "### Libraries:"
   ]
  },
  {
   "cell_type": "code",
   "execution_count": 1,
   "metadata": {},
   "outputs": [],
   "source": [
    "import sys\n",
    "sys.path.append('../../core')\n",
    "from hydromet import*\n",
    "from hydromet_stratified import*\n",
    "import mean_frequency_curve\n",
    "%matplotlib inline"
   ]
  },
  {
   "cell_type": "markdown",
   "metadata": {},
   "source": [
    "### Parameters: \n",
    "#### Local (site specific):"
   ]
  },
  {
   "cell_type": "code",
   "execution_count": 2,
   "metadata": {},
   "outputs": [],
   "source": [
    "## Excess rainfall parameters:\n",
    "CN  = 81  # Curve number, must be an integer\n",
    "mu  = 0.2  # Intial abstraction ratio parameter\n",
    "PMP = 39.9  # [inches]; Probable maximum precipitation for the selected duration \n",
    "Return_Intervals = np.array([2, 5, 10, 25, 50, 100, 200, 500, 1000, 2000, 3000])  # Return intervals for calculating runoff values.\n",
    "RI_upper_bound = 3700  # Upper Limit of recurrence interval evaluation, suggest not changing this value\n",
    "lower_limit = 1 # Lower limit of NOAA Atlas 14 precipitation values\n",
    "Aerial_Reduction = 0.9216  # Aerial reduction factor\n",
    "duration = 24  # [hours]; Event duration;  must be a duration in the input Precip_Table file\n",
    "\n",
    "## Mean curve parameters:\n",
    "return_intervals_mc = np.array([1.01, 1.05, 1.11, 1.25, 20, 2000, 5000, 10000, 20000, 50000, 100000, 200000, 1/2E-06, 1/1E-06, 1/5E-07, 1/2E-07, 1/1E-07]) # Additional return intervals for the mean curve inputs\n",
    "CL = np.array([0.001, 0.005, 0.01, 0.05, 0.1, 0.2, 0.3, 0.4, 0.5, 0.6, 0.7, 0.8, 0.9, 0.95, 0.99, 0.995, 0.999]) # Confidence limits\n",
    "\n",
    "## Integration parameter:\n",
    "n_partition = 30  # Define number of partitions of max potential retention distribution; this controls the resolution of the integration of int p(Q|S)p(S) dS\n",
    "\n",
    "## Filenames and paths:\n",
    "Project_Area = 'Amite_WA2'  # Project area name\n",
    "Pluvial_Model = 'P01'  # Pluvial model name\n",
    "BCN = '080702020804'  # Domain/boundary condition name\n",
    "precip_table = '{0}_{1}_{2}_PrecipTable.xlsx'.format(Project_Area, Pluvial_Model, BCN)  # NOAA Data\n",
    "precip_mean_curve_input_table = f'Mean_Curve_Input_{Project_Area}.csv'\n",
    "precip_mean_curve_table = f'MeanCurve_{Project_Area}.csv'\n",
    "CN_Distribution = 'NEH630_Table_10_1.json'\n",
    "\n",
    "root_dir = pl.Path(os.getcwd())\n",
    "outputs_dir = root_dir/'Outputs'\n",
    "precip_table_dir = outputs_dir/precip_table\n",
    "precip_mean_curve_input_table_dir = outputs_dir/precip_mean_curve_input_table\n",
    "precip_mean_curve_table_dir = outputs_dir/precip_mean_curve_table\n",
    "datarepository_dir = root_dir.parent.parent/'DataRepository'\n",
    "\n",
    "## Options:\n",
    "display_print = False\n",
    "np.set_printoptions(suppress=True)"
   ]
  },
  {
   "cell_type": "markdown",
   "metadata": {},
   "source": [
    "##### Convert all paths to objects:"
   ]
  },
  {
   "cell_type": "code",
   "execution_count": 3,
   "metadata": {},
   "outputs": [],
   "source": [
    "outputs_dir = pl.Path(outputs_dir)\n",
    "precip_table_dir = pl.Path(precip_table_dir)\n",
    "precip_mean_curve_input_table_dir = pl.Path(precip_mean_curve_input_table_dir)\n",
    "precip_mean_curve_table_dir = pl.Path(precip_mean_curve_table_dir)\n",
    "datarepository_dir = pl.Path(datarepository_dir)"
   ]
  },
  {
   "cell_type": "markdown",
   "metadata": {},
   "source": [
    "### Data:\n",
    "#### NOAA Atlas 14 precipitation values:"
   ]
  },
  {
   "cell_type": "code",
   "execution_count": 4,
   "metadata": {},
   "outputs": [
    {
     "data": {
      "text/html": [
       "<div>\n",
       "<style scoped>\n",
       "    .dataframe tbody tr th:only-of-type {\n",
       "        vertical-align: middle;\n",
       "    }\n",
       "\n",
       "    .dataframe tbody tr th {\n",
       "        vertical-align: top;\n",
       "    }\n",
       "\n",
       "    .dataframe thead th {\n",
       "        text-align: right;\n",
       "    }\n",
       "</style>\n",
       "<table border=\"1\" class=\"dataframe\">\n",
       "  <thead>\n",
       "    <tr style=\"text-align: right;\">\n",
       "      <th></th>\n",
       "      <th>Median</th>\n",
       "      <th>Lower (90%)</th>\n",
       "      <th>Upper (90%)</th>\n",
       "    </tr>\n",
       "    <tr>\n",
       "      <th>Tr</th>\n",
       "      <th></th>\n",
       "      <th></th>\n",
       "      <th></th>\n",
       "    </tr>\n",
       "  </thead>\n",
       "  <tbody>\n",
       "    <tr>\n",
       "      <th>1</th>\n",
       "      <td>4.278450</td>\n",
       "      <td>3.550713</td>\n",
       "      <td>5.134769</td>\n",
       "    </tr>\n",
       "    <tr>\n",
       "      <th>2</th>\n",
       "      <td>5.000066</td>\n",
       "      <td>4.145173</td>\n",
       "      <td>6.005280</td>\n",
       "    </tr>\n",
       "  </tbody>\n",
       "</table>\n",
       "</div>"
      ],
      "text/plain": [
       "      Median  Lower (90%)  Upper (90%)\n",
       "Tr                                    \n",
       "1   4.278450     3.550713     5.134769\n",
       "2   5.000066     4.145173     6.005280"
      ]
     },
     "execution_count": 4,
     "metadata": {},
     "output_type": "execute_result"
    },
    {
     "data": {
      "image/png": "[encoded data removed]",
      "text/plain": [
       "<Figure size 432x288 with 1 Axes>"
      ]
     },
     "metadata": {
      "needs_background": "light"
     },
     "output_type": "display_data"
    }
   ],
   "source": [
    "raw_precip = get_input_data(precip_table_dir, duration, lower_limit, display_print)\n",
    "raw_precip.rename(columns = {'Expected Value': 'Median'}, inplace = True)\n",
    "raw_precip.plot(style=['+-','o-','.--'], logx=True, ylim=(0, raw_precip['Upper (90%)'].max()))\n",
    "raw_precip.head(2)"
   ]
  },
  {
   "cell_type": "markdown",
   "metadata": {},
   "source": [
    "#### Fit GEV to rainfall data (find GEV parameters):"
   ]
  },
  {
   "cell_type": "code",
   "execution_count": 5,
   "metadata": {},
   "outputs": [
    {
     "name": "stderr",
     "output_type": "stream",
     "text": [
      "../../core\\hydromet_stratified.py:60: RuntimeWarning:\n",
      "\n",
      "divide by zero encountered in double_scalars\n",
      "\n"
     ]
    },
    {
     "data": {
      "text/html": [
       "<div>\n",
       "<style scoped>\n",
       "    .dataframe tbody tr th:only-of-type {\n",
       "        vertical-align: middle;\n",
       "    }\n",
       "\n",
       "    .dataframe tbody tr th {\n",
       "        vertical-align: top;\n",
       "    }\n",
       "\n",
       "    .dataframe thead th {\n",
       "        text-align: right;\n",
       "    }\n",
       "</style>\n",
       "<table border=\"1\" class=\"dataframe\">\n",
       "  <thead>\n",
       "    <tr style=\"text-align: right;\">\n",
       "      <th></th>\n",
       "      <th>GEV Median</th>\n",
       "      <th>GEV Lower (90%)</th>\n",
       "      <th>GEV Upper (90%)</th>\n",
       "    </tr>\n",
       "  </thead>\n",
       "  <tbody>\n",
       "    <tr>\n",
       "      <th>mu</th>\n",
       "      <td>4.411776</td>\n",
       "      <td>3.655813</td>\n",
       "      <td>5.289589</td>\n",
       "    </tr>\n",
       "    <tr>\n",
       "      <th>sigma</th>\n",
       "      <td>0.928430</td>\n",
       "      <td>0.856085</td>\n",
       "      <td>1.095949</td>\n",
       "    </tr>\n",
       "    <tr>\n",
       "      <th>xi</th>\n",
       "      <td>-0.178520</td>\n",
       "      <td>-0.076008</td>\n",
       "      <td>-0.232102</td>\n",
       "    </tr>\n",
       "  </tbody>\n",
       "</table>\n",
       "</div>"
      ],
      "text/plain": [
       "       GEV Median  GEV Lower (90%)  GEV Upper (90%)\n",
       "mu       4.411776         3.655813         5.289589\n",
       "sigma    0.928430         0.856085         1.095949\n",
       "xi      -0.178520        -0.076008        -0.232102"
      ]
     },
     "execution_count": 5,
     "metadata": {},
     "output_type": "execute_result"
    }
   ],
   "source": [
    "## Reduce precipitation by aerial reduction factor:\n",
    "raw_precip_reduced = raw_precip[raw_precip.select_dtypes(include=['number']).columns]*Aerial_Reduction\n",
    "\n",
    "## Find GEV parameter values:\n",
    "df_GEV_parameters_M = GEV_parameters_Fit(raw_precip_reduced, 'Median', PMP)\n",
    "df_GEV_parameters_U = GEV_parameters_Fit(raw_precip_reduced, 'Upper (90%)', PMP)\n",
    "df_GEV_parameters_L = GEV_parameters_Fit(raw_precip_reduced, 'Lower (90%)', PMP)\n",
    "df_GEV_parameters = pd.concat([df_GEV_parameters_M, df_GEV_parameters_L, df_GEV_parameters_U], axis=1)\n",
    "df_GEV_parameters"
   ]
  },
  {
   "cell_type": "markdown",
   "metadata": {},
   "source": [
    "#### Plot fitted GEV distribution and NOAA data:"
   ]
  },
  {
   "cell_type": "code",
   "execution_count": 7,
   "metadata": {},
   "outputs": [
    {
     "data": {
      "image/png": "[encoded data removed]",
      "text/plain": [
       "<Figure size 720x288 with 2 Axes>"
      ]
     },
     "metadata": {
      "needs_background": "light"
     },
     "output_type": "display_data"
    }
   ],
   "source": [
    "plot_GEV_precip_curves(raw_precip_reduced, df_GEV_parameters, PMP, 'Rainfall')"
   ]
  },
  {
   "cell_type": "markdown",
   "metadata": {},
   "source": [
    "---\n",
    "## Hydrology 1"
   ]
  },
  {
   "cell_type": "code",
   "execution_count": 51,
   "metadata": {},
   "outputs": [
    {
     "data": {
      "text/html": [
       "<div>\n",
       "<style scoped>\n",
       "    .dataframe tbody tr th:only-of-type {\n",
       "        vertical-align: middle;\n",
       "    }\n",
       "\n",
       "    .dataframe tbody tr th {\n",
       "        vertical-align: top;\n",
       "    }\n",
       "\n",
       "    .dataframe thead th {\n",
       "        text-align: right;\n",
       "    }\n",
       "</style>\n",
       "<table border=\"1\" class=\"dataframe\">\n",
       "  <thead>\n",
       "    <tr style=\"text-align: right;\">\n",
       "      <th></th>\n",
       "      <th>Bin Floor</th>\n",
       "      <th>Bin Ceiling</th>\n",
       "      <th>Event Weight</th>\n",
       "      <th>Median</th>\n",
       "      <th>Runoff</th>\n",
       "    </tr>\n",
       "  </thead>\n",
       "  <tbody>\n",
       "    <tr>\n",
       "      <th>10</th>\n",
       "      <td>6.760187</td>\n",
       "      <td>16.803426</td>\n",
       "      <td>0.088413</td>\n",
       "      <td>6.854132</td>\n",
       "      <td>4.669533</td>\n",
       "    </tr>\n",
       "    <tr>\n",
       "      <th>25</th>\n",
       "      <td>16.803426</td>\n",
       "      <td>42.323797</td>\n",
       "      <td>0.035884</td>\n",
       "      <td>8.450823</td>\n",
       "      <td>6.168788</td>\n",
       "    </tr>\n",
       "    <tr>\n",
       "      <th>50</th>\n",
       "      <td>42.323797</td>\n",
       "      <td>60.172760</td>\n",
       "      <td>0.007009</td>\n",
       "      <td>9.783970</td>\n",
       "      <td>7.441022</td>\n",
       "    </tr>\n",
       "    <tr>\n",
       "      <th>100</th>\n",
       "      <td>60.172760</td>\n",
       "      <td>209.588288</td>\n",
       "      <td>0.011848</td>\n",
       "      <td>11.205955</td>\n",
       "      <td>8.811718</td>\n",
       "    </tr>\n",
       "    <tr>\n",
       "      <th>500</th>\n",
       "      <td>209.588288</td>\n",
       "      <td>3700.000000</td>\n",
       "      <td>0.004771</td>\n",
       "      <td>14.907534</td>\n",
       "      <td>12.420542</td>\n",
       "    </tr>\n",
       "  </tbody>\n",
       "</table>\n",
       "</div>"
      ],
      "text/plain": [
       "      Bin Floor  Bin Ceiling  Event Weight     Median     Runoff\n",
       "10     6.760187    16.803426      0.088413   6.854132   4.669533\n",
       "25    16.803426    42.323797      0.035884   8.450823   6.168788\n",
       "50    42.323797    60.172760      0.007009   9.783970   7.441022\n",
       "100   60.172760   209.588288      0.011848  11.205955   8.811718\n",
       "500  209.588288  3700.000000      0.004771  14.907534  12.420542"
      ]
     },
     "execution_count": 51,
     "metadata": {},
     "output_type": "execute_result"
    }
   ],
   "source": [
    "Return_Intervals_Hydro1 = np.array([10, 25, 50, 100, 500])  # Return intervals for calculating runoff values.\n",
    "GEV_parameters_M = df_GEV_parameters_M.values.transpose()[0]\n",
    "df_weights_rainfall = weights_Rainfall(Return_Intervals_Hydro1, GEV_parameters_M, PMP, RI_upper_bound, raw_precip_reduced, 'Median', CN, mu)\n",
    "#Add last event weight to the last event listed in the return intervals array\n",
    "df_weights_rainfall['Event Weight'].iloc[-2]=df_weights_rainfall['Event Weight'].iloc[-2]+df_weights_rainfall['Event Weight'].iloc[-1]\n",
    "#drop the last event containing the rainfall amount of to the PMP\n",
    "df_weights_rainfall = df_weights_rainfall[:-1] #.head(2)\n",
    "df_weights_rainfall"
   ]
  },
  {
   "cell_type": "markdown",
   "metadata": {},
   "source": [
    "## Mean Curve Calculation\n",
    "#### Data for calculating the mean curve:"
   ]
  },
  {
   "cell_type": "code",
   "execution_count": 8,
   "metadata": {},
   "outputs": [
    {
     "data": {
      "text/html": [
       "<div>\n",
       "<style scoped>\n",
       "    .dataframe tbody tr th:only-of-type {\n",
       "        vertical-align: middle;\n",
       "    }\n",
       "\n",
       "    .dataframe tbody tr th {\n",
       "        vertical-align: top;\n",
       "    }\n",
       "\n",
       "    .dataframe thead th {\n",
       "        text-align: right;\n",
       "    }\n",
       "</style>\n",
       "<table border=\"1\" class=\"dataframe\">\n",
       "  <thead>\n",
       "    <tr style=\"text-align: right;\">\n",
       "      <th></th>\n",
       "      <th>Median</th>\n",
       "      <th>Lower (90%)</th>\n",
       "      <th>Upper (90%)</th>\n",
       "      <th>Log SD (Lower)</th>\n",
       "      <th>Log SD (Upper)</th>\n",
       "      <th>Max Log SD</th>\n",
       "      <th>mu LN</th>\n",
       "    </tr>\n",
       "  </thead>\n",
       "  <tbody>\n",
       "    <tr>\n",
       "      <th>1.00</th>\n",
       "      <td>3.943019</td>\n",
       "      <td>3.272337</td>\n",
       "      <td>4.732203</td>\n",
       "      <td>0.113339</td>\n",
       "      <td>0.110908</td>\n",
       "      <td>0.113339</td>\n",
       "      <td>1.371947</td>\n",
       "    </tr>\n",
       "    <tr>\n",
       "      <th>1.01</th>\n",
       "      <td>3.169220</td>\n",
       "      <td>2.419799</td>\n",
       "      <td>3.878684</td>\n",
       "      <td>0.164013</td>\n",
       "      <td>0.122803</td>\n",
       "      <td>0.164013</td>\n",
       "      <td>1.153486</td>\n",
       "    </tr>\n",
       "  </tbody>\n",
       "</table>\n",
       "</div>"
      ],
      "text/plain": [
       "        Median  Lower (90%)  Upper (90%)  Log SD (Lower)  Log SD (Upper)  \\\n",
       "1.00  3.943019     3.272337     4.732203        0.113339        0.110908   \n",
       "1.01  3.169220     2.419799     3.878684        0.164013        0.122803   \n",
       "\n",
       "      Max Log SD     mu LN  \n",
       "1.00    0.113339  1.371947  \n",
       "1.01    0.164013  1.153486  "
      ]
     },
     "execution_count": 8,
     "metadata": {},
     "output_type": "execute_result"
    }
   ],
   "source": [
    "return_interval_data = return_interval_data(raw_precip_reduced, return_intervals_mc, df_GEV_parameters, PMP)\n",
    "return_interval_data.head(2)"
   ]
  },
  {
   "cell_type": "markdown",
   "metadata": {},
   "source": [
    "#### Input for calculating the mean curve:"
   ]
  },
  {
   "cell_type": "code",
   "execution_count": 9,
   "metadata": {},
   "outputs": [
    {
     "data": {
      "text/html": [
       "<div>\n",
       "<style scoped>\n",
       "    .dataframe tbody tr th:only-of-type {\n",
       "        vertical-align: middle;\n",
       "    }\n",
       "\n",
       "    .dataframe tbody tr th {\n",
       "        vertical-align: top;\n",
       "    }\n",
       "\n",
       "    .dataframe thead th {\n",
       "        text-align: right;\n",
       "    }\n",
       "</style>\n",
       "<table border=\"1\" class=\"dataframe\">\n",
       "  <thead>\n",
       "    <tr style=\"text-align: right;\">\n",
       "      <th></th>\n",
       "      <th>0.001</th>\n",
       "      <th>0.005</th>\n",
       "      <th>0.010</th>\n",
       "      <th>0.050</th>\n",
       "      <th>0.100</th>\n",
       "      <th>0.200</th>\n",
       "      <th>0.300</th>\n",
       "      <th>0.400</th>\n",
       "      <th>0.500</th>\n",
       "      <th>0.600</th>\n",
       "      <th>0.700</th>\n",
       "      <th>0.800</th>\n",
       "      <th>0.900</th>\n",
       "      <th>0.950</th>\n",
       "      <th>0.990</th>\n",
       "      <th>0.995</th>\n",
       "      <th>0.999</th>\n",
       "    </tr>\n",
       "    <tr>\n",
       "      <th>AEP</th>\n",
       "      <th></th>\n",
       "      <th></th>\n",
       "      <th></th>\n",
       "      <th></th>\n",
       "      <th></th>\n",
       "      <th></th>\n",
       "      <th></th>\n",
       "      <th></th>\n",
       "      <th></th>\n",
       "      <th></th>\n",
       "      <th></th>\n",
       "      <th></th>\n",
       "      <th></th>\n",
       "      <th></th>\n",
       "      <th></th>\n",
       "      <th></th>\n",
       "      <th></th>\n",
       "    </tr>\n",
       "  </thead>\n",
       "  <tbody>\n",
       "    <tr>\n",
       "      <th>1.000000e-07</th>\n",
       "      <td>38.026092</td>\n",
       "      <td>38.452545</td>\n",
       "      <td>38.638075</td>\n",
       "      <td>39.073262</td>\n",
       "      <td>39.262603</td>\n",
       "      <td>39.453109</td>\n",
       "      <td>39.565093</td>\n",
       "      <td>39.644791</td>\n",
       "      <td>39.706751</td>\n",
       "      <td>39.757466</td>\n",
       "      <td>39.800410</td>\n",
       "      <td>39.837657</td>\n",
       "      <td>39.870549</td>\n",
       "      <td>39.885659</td>\n",
       "      <td>39.897189</td>\n",
       "      <td>39.898598</td>\n",
       "      <td>39.899720</td>\n",
       "    </tr>\n",
       "    <tr>\n",
       "      <th>2.000000e-07</th>\n",
       "      <td>37.094509</td>\n",
       "      <td>37.725234</td>\n",
       "      <td>38.001053</td>\n",
       "      <td>38.651407</td>\n",
       "      <td>38.935845</td>\n",
       "      <td>39.222943</td>\n",
       "      <td>39.392131</td>\n",
       "      <td>39.512733</td>\n",
       "      <td>39.606603</td>\n",
       "      <td>39.683510</td>\n",
       "      <td>39.748682</td>\n",
       "      <td>39.805247</td>\n",
       "      <td>39.855225</td>\n",
       "      <td>39.878194</td>\n",
       "      <td>39.895726</td>\n",
       "      <td>39.897868</td>\n",
       "      <td>39.899575</td>\n",
       "    </tr>\n",
       "  </tbody>\n",
       "</table>\n",
       "</div>"
      ],
      "text/plain": [
       "                  0.001      0.005      0.010      0.050      0.100  \\\n",
       "AEP                                                                   \n",
       "1.000000e-07  38.026092  38.452545  38.638075  39.073262  39.262603   \n",
       "2.000000e-07  37.094509  37.725234  38.001053  38.651407  38.935845   \n",
       "\n",
       "                  0.200      0.300      0.400      0.500      0.600  \\\n",
       "AEP                                                                   \n",
       "1.000000e-07  39.453109  39.565093  39.644791  39.706751  39.757466   \n",
       "2.000000e-07  39.222943  39.392131  39.512733  39.606603  39.683510   \n",
       "\n",
       "                  0.700      0.800      0.900      0.950      0.990  \\\n",
       "AEP                                                                   \n",
       "1.000000e-07  39.800410  39.837657  39.870549  39.885659  39.897189   \n",
       "2.000000e-07  39.748682  39.805247  39.855225  39.878194  39.895726   \n",
       "\n",
       "                  0.995      0.999  \n",
       "AEP                                 \n",
       "1.000000e-07  39.898598  39.899720  \n",
       "2.000000e-07  39.897868  39.899575  "
      ]
     },
     "execution_count": 9,
     "metadata": {},
     "output_type": "execute_result"
    }
   ],
   "source": [
    "mean_curve_data = mean_curve_input_table(CL, return_interval_data, PMP, precip_mean_curve_input_table_dir)\n",
    "mean_curve_data.head(2)"
   ]
  },
  {
   "cell_type": "markdown",
   "metadata": {},
   "source": [
    "##### Calculate the mean precipitation curve:"
   ]
  },
  {
   "cell_type": "code",
   "execution_count": 10,
   "metadata": {},
   "outputs": [
    {
     "name": "stdout",
     "output_type": "stream",
     "text": [
      "Specified inputs_path is to a csv, loaded table.\n",
      "\n",
      "Values increase with decreasing annual exceedance probability for all confidence limits as expected\n",
      "\n"
     ]
    },
    {
     "data": {
      "text/html": [
       "<div>\n",
       "<style scoped>\n",
       "    .dataframe tbody tr th:only-of-type {\n",
       "        vertical-align: middle;\n",
       "    }\n",
       "\n",
       "    .dataframe tbody tr th {\n",
       "        vertical-align: top;\n",
       "    }\n",
       "\n",
       "    .dataframe thead th {\n",
       "        text-align: right;\n",
       "    }\n",
       "</style>\n",
       "<table border=\"1\" class=\"dataframe\">\n",
       "  <thead>\n",
       "    <tr style=\"text-align: right;\">\n",
       "      <th></th>\n",
       "      <th>P_Mean_in</th>\n",
       "      <th>P_Median_in</th>\n",
       "    </tr>\n",
       "    <tr>\n",
       "      <th>AEP</th>\n",
       "      <th></th>\n",
       "      <th></th>\n",
       "    </tr>\n",
       "  </thead>\n",
       "  <tbody>\n",
       "    <tr>\n",
       "      <th>0.9</th>\n",
       "      <td>3.530070</td>\n",
       "      <td>3.692513</td>\n",
       "    </tr>\n",
       "    <tr>\n",
       "      <th>0.5</th>\n",
       "      <td>4.719528</td>\n",
       "      <td>4.608061</td>\n",
       "    </tr>\n",
       "  </tbody>\n",
       "</table>\n",
       "</div>"
      ],
      "text/plain": [
       "     P_Mean_in  P_Median_in\n",
       "AEP                        \n",
       "0.9   3.530070     3.692513\n",
       "0.5   4.719528     4.608061"
      ]
     },
     "metadata": {},
     "output_type": "display_data"
    },
    {
     "name": "stdout",
     "output_type": "stream",
     "text": [
      "C:\\Users\\mbartlettjr\\Documents\\GitHub\\pfra-hydromet\\Notebooks\\pluvial\\Outputs - already exists\n",
      "\n"
     ]
    },
    {
     "data": {
      "image/png": "[encoded data removed]",
      "text/plain": [
       "<Figure size 1728x432 with 2 Axes>"
      ]
     },
     "metadata": {
      "needs_background": "light"
     },
     "output_type": "display_data"
    }
   ],
   "source": [
    "df = mean_frequency_curve.main(Project_Area, precip_mean_curve_input_table_dir, outputs_dir, data_type = 'P', round_decimals = 6)"
   ]
  },
  {
   "cell_type": "markdown",
   "metadata": {},
   "source": [
    "---\n",
    "## Hydrology 2\n",
    "### Load Mean Curve:"
   ]
  },
  {
   "cell_type": "code",
   "execution_count": 11,
   "metadata": {},
   "outputs": [
    {
     "data": {
      "text/html": [
       "<div>\n",
       "<style scoped>\n",
       "    .dataframe tbody tr th:only-of-type {\n",
       "        vertical-align: middle;\n",
       "    }\n",
       "\n",
       "    .dataframe tbody tr th {\n",
       "        vertical-align: top;\n",
       "    }\n",
       "\n",
       "    .dataframe thead th {\n",
       "        text-align: right;\n",
       "    }\n",
       "</style>\n",
       "<table border=\"1\" class=\"dataframe\">\n",
       "  <thead>\n",
       "    <tr style=\"text-align: right;\">\n",
       "      <th></th>\n",
       "      <th>P_Mean_in</th>\n",
       "      <th>P_Median_in</th>\n",
       "    </tr>\n",
       "    <tr>\n",
       "      <th>Tr</th>\n",
       "      <th></th>\n",
       "      <th></th>\n",
       "    </tr>\n",
       "  </thead>\n",
       "  <tbody>\n",
       "    <tr>\n",
       "      <th>1.111111</th>\n",
       "      <td>3.530070</td>\n",
       "      <td>3.692513</td>\n",
       "    </tr>\n",
       "    <tr>\n",
       "      <th>2.000000</th>\n",
       "      <td>4.719528</td>\n",
       "      <td>4.608061</td>\n",
       "    </tr>\n",
       "  </tbody>\n",
       "</table>\n",
       "</div>"
      ],
      "text/plain": [
       "          P_Mean_in  P_Median_in\n",
       "Tr                              \n",
       "1.111111   3.530070     3.692513\n",
       "2.000000   4.719528     4.608061"
      ]
     },
     "execution_count": 11,
     "metadata": {},
     "output_type": "execute_result"
    },
    {
     "data": {
      "image/png": "[encoded data removed]",
      "text/plain": [
       "<Figure size 432x288 with 1 Axes>"
      ]
     },
     "metadata": {
      "needs_background": "light"
     },
     "output_type": "display_data"
    }
   ],
   "source": [
    "mean_curve_precip = pd.read_csv(precip_mean_curve_table_dir, index_col=0)\n",
    "mean_curve_precip['Tr'] = 1.0/mean_curve_precip.index.values\n",
    "mean_curve_precip.set_index('Tr', inplace = True)\n",
    "mean_curve_precip.plot(style=['+-', 'o-'], logx=True, ylim=(0, PMP))\n",
    "mean_curve_precip.head(2)"
   ]
  },
  {
   "cell_type": "markdown",
   "metadata": {},
   "source": [
    "### Fit GEV to Mean Precipication Curve (Find GEV Parameters):"
   ]
  },
  {
   "cell_type": "code",
   "execution_count": 12,
   "metadata": {},
   "outputs": [
    {
     "data": {
      "text/html": [
       "<div>\n",
       "<style scoped>\n",
       "    .dataframe tbody tr th:only-of-type {\n",
       "        vertical-align: middle;\n",
       "    }\n",
       "\n",
       "    .dataframe tbody tr th {\n",
       "        vertical-align: top;\n",
       "    }\n",
       "\n",
       "    .dataframe thead th {\n",
       "        text-align: right;\n",
       "    }\n",
       "</style>\n",
       "<table border=\"1\" class=\"dataframe\">\n",
       "  <thead>\n",
       "    <tr style=\"text-align: right;\">\n",
       "      <th></th>\n",
       "      <th>GEV Median</th>\n",
       "      <th>GEV Lower (90%)</th>\n",
       "      <th>GEV Upper (90%)</th>\n",
       "      <th>GEV P_Mean_in</th>\n",
       "    </tr>\n",
       "  </thead>\n",
       "  <tbody>\n",
       "    <tr>\n",
       "      <th>mu</th>\n",
       "      <td>4.411776</td>\n",
       "      <td>3.655813</td>\n",
       "      <td>5.289589</td>\n",
       "      <td>4.267400</td>\n",
       "    </tr>\n",
       "    <tr>\n",
       "      <th>sigma</th>\n",
       "      <td>0.928430</td>\n",
       "      <td>0.856085</td>\n",
       "      <td>1.095949</td>\n",
       "      <td>0.918184</td>\n",
       "    </tr>\n",
       "    <tr>\n",
       "      <th>xi</th>\n",
       "      <td>-0.178520</td>\n",
       "      <td>-0.076008</td>\n",
       "      <td>-0.232102</td>\n",
       "      <td>-0.227794</td>\n",
       "    </tr>\n",
       "  </tbody>\n",
       "</table>\n",
       "</div>"
      ],
      "text/plain": [
       "       GEV Median  GEV Lower (90%)  GEV Upper (90%)  GEV P_Mean_in\n",
       "mu       4.411776         3.655813         5.289589       4.267400\n",
       "sigma    0.928430         0.856085         1.095949       0.918184\n",
       "xi      -0.178520        -0.076008        -0.232102      -0.227794"
      ]
     },
     "execution_count": 12,
     "metadata": {},
     "output_type": "execute_result"
    }
   ],
   "source": [
    "fit_values_mean_curve_precip = mean_curve_precip[1:20000] # Only fit the value up to about the 20,000 year event\n",
    "df_GEV_parameters_E = GEV_parameters_Fit(fit_values_mean_curve_precip, 'P_Mean_in', PMP)\n",
    "GEV_parameters_E = df_GEV_parameters_E.values.transpose()[0]\n",
    "df_GEV_parameters = pd.concat([df_GEV_parameters, df_GEV_parameters_E], axis=1)\n",
    "df_GEV_parameters "
   ]
  },
  {
   "cell_type": "markdown",
   "metadata": {},
   "source": [
    "#### Plot fitted GEV distribution and mean precipitation curve:"
   ]
  },
  {
   "cell_type": "code",
   "execution_count": 13,
   "metadata": {},
   "outputs": [
    {
     "data": {
      "image/png": "[encoded data removed]",
      "text/plain": [
       "<Figure size 720x288 with 2 Axes>"
      ]
     },
     "metadata": {
      "needs_background": "light"
     },
     "output_type": "display_data"
    }
   ],
   "source": [
    "plot_GEV_precip_curves(mean_curve_precip, df_GEV_parameters_E, PMP, 'Rainfall')"
   ]
  },
  {
   "cell_type": "markdown",
   "metadata": {},
   "source": [
    "### Hydrology 2 Events:"
   ]
  },
  {
   "cell_type": "code",
   "execution_count": 14,
   "metadata": {},
   "outputs": [
    {
     "data": {
      "text/html": [
       "<div>\n",
       "<style scoped>\n",
       "    .dataframe tbody tr th:only-of-type {\n",
       "        vertical-align: middle;\n",
       "    }\n",
       "\n",
       "    .dataframe tbody tr th {\n",
       "        vertical-align: top;\n",
       "    }\n",
       "\n",
       "    .dataframe thead th {\n",
       "        text-align: right;\n",
       "    }\n",
       "</style>\n",
       "<table border=\"1\" class=\"dataframe\">\n",
       "  <thead>\n",
       "    <tr style=\"text-align: right;\">\n",
       "      <th></th>\n",
       "      <th>Bin Floor</th>\n",
       "      <th>Bin Ceiling</th>\n",
       "      <th>Event Weight</th>\n",
       "      <th>P_Mean_in</th>\n",
       "      <th>Runoff</th>\n",
       "    </tr>\n",
       "  </thead>\n",
       "  <tbody>\n",
       "    <tr>\n",
       "      <th>2.0</th>\n",
       "      <td>1.257114</td>\n",
       "      <td>4.099749</td>\n",
       "      <td>0.551555</td>\n",
       "      <td>4.719528</td>\n",
       "      <td>2.738878</td>\n",
       "    </tr>\n",
       "    <tr>\n",
       "      <th>5.0</th>\n",
       "      <td>4.099749</td>\n",
       "      <td>6.271597</td>\n",
       "      <td>0.084468</td>\n",
       "      <td>5.997485</td>\n",
       "      <td>3.881450</td>\n",
       "    </tr>\n",
       "    <tr>\n",
       "      <th>10.0</th>\n",
       "      <td>6.271597</td>\n",
       "      <td>19.206301</td>\n",
       "      <td>0.107383</td>\n",
       "      <td>7.053969</td>\n",
       "      <td>4.855268</td>\n",
       "    </tr>\n",
       "    <tr>\n",
       "      <th>25.0</th>\n",
       "      <td>19.206301</td>\n",
       "      <td>34.184150</td>\n",
       "      <td>0.022813</td>\n",
       "      <td>8.587114</td>\n",
       "      <td>6.298139</td>\n",
       "    </tr>\n",
       "    <tr>\n",
       "      <th>50.0</th>\n",
       "      <td>34.184150</td>\n",
       "      <td>81.768597</td>\n",
       "      <td>0.017024</td>\n",
       "      <td>10.141250</td>\n",
       "      <td>7.784274</td>\n",
       "    </tr>\n",
       "    <tr>\n",
       "      <th>100.0</th>\n",
       "      <td>81.768597</td>\n",
       "      <td>125.688325</td>\n",
       "      <td>0.004273</td>\n",
       "      <td>11.745087</td>\n",
       "      <td>9.334204</td>\n",
       "    </tr>\n",
       "    <tr>\n",
       "      <th>200.0</th>\n",
       "      <td>125.688325</td>\n",
       "      <td>380.936571</td>\n",
       "      <td>0.005331</td>\n",
       "      <td>13.570298</td>\n",
       "      <td>11.111686</td>\n",
       "    </tr>\n",
       "    <tr>\n",
       "      <th>500.0</th>\n",
       "      <td>380.936571</td>\n",
       "      <td>692.138872</td>\n",
       "      <td>0.001180</td>\n",
       "      <td>16.398151</td>\n",
       "      <td>13.884420</td>\n",
       "    </tr>\n",
       "    <tr>\n",
       "      <th>1000.0</th>\n",
       "      <td>692.138872</td>\n",
       "      <td>1607.598897</td>\n",
       "      <td>0.000823</td>\n",
       "      <td>18.923625</td>\n",
       "      <td>16.373337</td>\n",
       "    </tr>\n",
       "    <tr>\n",
       "      <th>2000.0</th>\n",
       "      <td>1607.598897</td>\n",
       "      <td>2575.487976</td>\n",
       "      <td>0.000234</td>\n",
       "      <td>21.910376</td>\n",
       "      <td>19.326874</td>\n",
       "    </tr>\n",
       "    <tr>\n",
       "      <th>3000.0</th>\n",
       "      <td>2575.487976</td>\n",
       "      <td>3700.000000</td>\n",
       "      <td>0.000118</td>\n",
       "      <td>24.516410</td>\n",
       "      <td>21.910068</td>\n",
       "    </tr>\n",
       "    <tr>\n",
       "      <th>9069.0</th>\n",
       "      <td>3700.000000</td>\n",
       "      <td>inf</td>\n",
       "      <td>0.000270</td>\n",
       "      <td>30.011195</td>\n",
       "      <td>27.368930</td>\n",
       "    </tr>\n",
       "  </tbody>\n",
       "</table>\n",
       "</div>"
      ],
      "text/plain": [
       "          Bin Floor  Bin Ceiling  Event Weight  P_Mean_in     Runoff\n",
       "2.0        1.257114     4.099749      0.551555   4.719528   2.738878\n",
       "5.0        4.099749     6.271597      0.084468   5.997485   3.881450\n",
       "10.0       6.271597    19.206301      0.107383   7.053969   4.855268\n",
       "25.0      19.206301    34.184150      0.022813   8.587114   6.298139\n",
       "50.0      34.184150    81.768597      0.017024  10.141250   7.784274\n",
       "100.0     81.768597   125.688325      0.004273  11.745087   9.334204\n",
       "200.0    125.688325   380.936571      0.005331  13.570298  11.111686\n",
       "500.0    380.936571   692.138872      0.001180  16.398151  13.884420\n",
       "1000.0   692.138872  1607.598897      0.000823  18.923625  16.373337\n",
       "2000.0  1607.598897  2575.487976      0.000234  21.910376  19.326874\n",
       "3000.0  2575.487976  3700.000000      0.000118  24.516410  21.910068\n",
       "9069.0  3700.000000          inf      0.000270  30.011195  27.368930"
      ]
     },
     "execution_count": 14,
     "metadata": {},
     "output_type": "execute_result"
    }
   ],
   "source": [
    "df_weights_rainfall = weights_Rainfall(Return_Intervals, GEV_parameters_E, PMP, RI_upper_bound, mean_curve_precip, 'P_Mean_in', CN, mu)\n",
    "df_weights_rainfall #.head(2)"
   ]
  },
  {
   "cell_type": "markdown",
   "metadata": {},
   "source": [
    "---\n",
    "## Hydrology 3:\n",
    "### Retrieve Max Potential Retention Variability and Distribution Parameters:"
   ]
  },
  {
   "cell_type": "code",
   "execution_count": null,
   "metadata": {},
   "outputs": [],
   "source": [
    "## NRCS value of wet and dry soil moiture conditions:\n",
    "arc_data = get_CN_distribution(datarepository_dir, CN_Distribution, CN, display_print)\n",
    "\n",
    "## Table of wet, dry, and average (or median) soil moisture conditions:\n",
    "df_CN = prep_cn_table(CN, arc_data)  \n",
    "\n",
    "## Table of parameters for best fit of beta-type distribution to NRCS estiamted dispersion:\n",
    "fitted_cn = find_optimal_curve_beta_dist_S(df_CN)\n",
    "fitted_cn['mu'] = mu\n",
    "\n",
    "## Distribution parameter values:\n",
    "S_limit = 1000.0/fitted_cn.iloc[0]['CN Lower Limit']-10.0\n",
    "alpha = fitted_cn.iloc[0]['alpha']\n",
    "beta = fitted_cn.iloc[0]['beta']\n",
    "\n",
    "## Define probability for each partition of the max potential retention distribution:\n",
    "Delta_P = 1.0/n_partition\n",
    "\n",
    "## Find the average value over each partition, which is the basis for the runoff distribution:\n",
    "partition_avg = partition_S_avgs(n_partition, Delta_P, alpha, beta, S_limit)\n",
    "\n",
    "plot_runoff_maxRetention_distributions(GEV_parameters_E, PMP, fitted_cn)"
   ]
  },
  {
   "cell_type": "markdown",
   "metadata": {},
   "source": [
    "#### Calculate the error in the numerical CDF evaluated at PMP:"
   ]
  },
  {
   "cell_type": "code",
   "execution_count": null,
   "metadata": {},
   "outputs": [],
   "source": [
    "## Error between the integral approach (based on summation integration) and the actual value:\n",
    "error_PQ = 1-CDF_Q(PMP, mu, alpha, beta, S_limit, GEV_parameters_E, PMP, partition_avg, Delta_P, 0)\n",
    "\n",
    "print('\\nProbability of zero runoff = {}\\nError in calculation of Probabilibity of zero runoff = {}\\n'\n",
    "      'Error, i.e., the difference between 1 and the numerical CDF evaluated at PMP, Error = {}'\n",
    "      ''.format(P_Qzero(mu, alpha, beta, S_limit, GEV_parameters_E, PMP, error_PQ)[0], P_Qzero(mu, alpha, beta, S_limit, GEV_parameters_E, PMP, error_PQ)[1], error_PQ))"
   ]
  },
  {
   "cell_type": "markdown",
   "metadata": {},
   "source": [
    "### Determine Runoff Values and Weights:\n",
    "#### Fit GEV to runoff data (find GEV parameters):"
   ]
  },
  {
   "cell_type": "code",
   "execution_count": null,
   "metadata": {},
   "outputs": [],
   "source": [
    "df_runoff, df_GEV_parameters_R = runoff_GEV(mu, GEV_parameters_E, PMP, alpha, beta, S_limit, partition_avg, Delta_P, error_PQ)\n",
    "GEV_parameters_R = df_GEV_parameters_R.values.transpose()[0]\n",
    "df_GEV_parameters_R"
   ]
  },
  {
   "cell_type": "markdown",
   "metadata": {},
   "source": [
    "#### Plot fitted rainfall and runoff GEV distributions:"
   ]
  },
  {
   "cell_type": "code",
   "execution_count": null,
   "metadata": {},
   "outputs": [],
   "source": [
    "plot_GEV_precip_curves(df_runoff, pd.concat([df_GEV_parameters_R, df_GEV_parameters_E], axis=1), PMP, 'Depth')"
   ]
  },
  {
   "cell_type": "markdown",
   "metadata": {},
   "source": [
    "#### Runoff weights:"
   ]
  },
  {
   "cell_type": "code",
   "execution_count": null,
   "metadata": {},
   "outputs": [],
   "source": [
    "df_weights_runoff = runoff_weights(Return_Intervals, RI_upper_bound, mu, GEV_parameters_R,  GEV_parameters_E, PMP, partition_avg, Delta_P, error_PQ)\n",
    "df_weights_runoff.head(2)"
   ]
  },
  {
   "cell_type": "markdown",
   "metadata": {},
   "source": [
    "#### Plot runoff distribution:"
   ]
  },
  {
   "cell_type": "code",
   "execution_count": null,
   "metadata": {},
   "outputs": [],
   "source": [
    "plot_runoff_distributions_final(GEV_parameters_E, GEV_parameters_R, PMP, fitted_cn, partition_avg, Delta_P, error_PQ)"
   ]
  },
  {
   "cell_type": "markdown",
   "metadata": {},
   "source": [
    "#### Plot maximum potential distribution conditional on runoff:"
   ]
  },
  {
   "cell_type": "code",
   "execution_count": null,
   "metadata": {},
   "outputs": [],
   "source": [
    "plot_max_potential_retention_cond_runoff(GEV_parameters_E, PMP, fitted_cn, partition_avg, Delta_P, error_PQ)"
   ]
  },
  {
   "cell_type": "markdown",
   "metadata": {},
   "source": [
    "### Calculate Runoff and Corresponding Max Potential Retention and Rainfall:"
   ]
  },
  {
   "cell_type": "code",
   "execution_count": null,
   "metadata": {},
   "outputs": [],
   "source": [
    "df_runoff_SR1 = Scenarios_Avg_S_Median_S(df_weights_runoff, mu, GEV_parameters_E, PMP, partition_avg, Delta_P, alpha, beta, S_limit, error_PQ)\n",
    "df_runoff_SR1 #.head(2)"
   ]
  },
  {
   "cell_type": "markdown",
   "metadata": {},
   "source": [
    "### Hydrology 3 Events:\n",
    "- For each runoff value, two events are considered, a high max potential retention and a low max potential retention"
   ]
  },
  {
   "cell_type": "code",
   "execution_count": null,
   "metadata": {},
   "outputs": [],
   "source": [
    "df_runoff_SR2 = Scenarios_low_and_high_S(df_runoff_SR1, mu, GEV_parameters_E, PMP, partition_avg, Delta_P, alpha, beta, S_limit, error_PQ)\n",
    "df_runoff_SR2 #.head(2)"
   ]
  },
  {
   "cell_type": "markdown",
   "metadata": {},
   "source": [
    "---\n",
    "## End"
   ]
  }
 ],
 "metadata": {
  "kernelspec": {
   "display_name": "Python 3",
   "language": "python",
   "name": "python3"
  },
  "language_info": {
   "codemirror_mode": {
    "name": "ipython",
    "version": 3
   },
   "file_extension": ".py",
   "mimetype": "text/x-python",
   "name": "python",
   "nbconvert_exporter": "python",
   "pygments_lexer": "ipython3",
   "version": "3.7.7"
  }
 },
 "nbformat": 4,
 "nbformat_minor": 4
}
