{
 "cells": [
  {
   "cell_type": "markdown",
   "metadata": {},
   "source": [
    "# Metadata Explorer\n",
    "\n",
    "__Description__: Opens the metadata file created by `PM-EventsTable.ipynb` or `distalEventsTable.ipynb` and explores the metadata associated with the excess rainfall calculation. \n",
    "\n",
    "__Input__: The metadata *.json file created by `PM-EventsTable.ipynb` or `distalEventsTable.ipynb`.\n",
    "\n",
    "__Output__: User-specified metadata as a *.csv.\n",
    "\n",
    "---\n",
    "\n"
   ]
  },
  {
   "cell_type": "markdown",
   "metadata": {},
   "source": [
    "### Load Libraries:"
   ]
  },
  {
   "cell_type": "code",
   "execution_count": 1,
   "metadata": {},
   "outputs": [],
   "source": [
    "import sys\n",
    "sys.path.append('../../core')\n",
    "from hydromet import*"
   ]
  },
  {
   "cell_type": "markdown",
   "metadata": {},
   "source": [
    "### Specify the Filename and Path:"
   ]
  },
  {
   "cell_type": "code",
   "execution_count": 2,
   "metadata": {},
   "outputs": [],
   "source": [
    "root_dir = pl.Path(r\"C:\\Users\\sputnam\\Documents\\Projects\\PFRA\\PFRA_Production\\Pluvial\\DC_75_all\\Outputs\")\n",
    "outputs_dir = pl.Path(r\"C:\\Users\\sputnam\\Desktop\")"
   ]
  },
  {
   "cell_type": "code",
   "execution_count": 3,
   "metadata": {},
   "outputs": [
    {
     "data": {
      "text/plain": [
       "[WindowsPath('C:/Users/sputnam/Documents/Projects/PFRA/PFRA_Production/Pluvial/DC_75_all/Outputs/DC_P01_Metadata/DC_P01_D01_Metadata.json'),\n",
       " WindowsPath('C:/Users/sputnam/Documents/Projects/PFRA/PFRA_Production/Pluvial/DC_75_all/Outputs/DC_P01_Metadata/DC_P01_D02_Metadata.json'),\n",
       " WindowsPath('C:/Users/sputnam/Documents/Projects/PFRA/PFRA_Production/Pluvial/DC_75_all/Outputs/DC_P03_Metadata/DC_P03_D01_Metadata.json'),\n",
       " WindowsPath('C:/Users/sputnam/Documents/Projects/PFRA/PFRA_Production/Pluvial/DC_75_all/Outputs/DC_P03_Metadata/DC_P03_D02_Metadata.json'),\n",
       " WindowsPath('C:/Users/sputnam/Documents/Projects/PFRA/PFRA_Production/Pluvial/DC_75_all/Outputs/DC_P04_Metadata/DC_P04_D01_Metadata.json'),\n",
       " WindowsPath('C:/Users/sputnam/Documents/Projects/PFRA/PFRA_Production/Pluvial/DC_75_all/Outputs/DC_P06_Metadata/DC_P06_D01_Metadata.json'),\n",
       " WindowsPath('C:/Users/sputnam/Documents/Projects/PFRA/PFRA_Production/Pluvial/DC_75_all/Outputs/DC_P06_Metadata/DC_P06_D02_Metadata.json')]"
      ]
     },
     "execution_count": 3,
     "metadata": {},
     "output_type": "execute_result"
    }
   ],
   "source": [
    "files = []\n",
    "for file in root_dir.glob('**/*.json'):\n",
    "    if 'Metadata' in file.stem and 'SW' not in file.stem:\n",
    "        files.append(file)\n",
    "files"
   ]
  },
  {
   "cell_type": "code",
   "execution_count": 6,
   "metadata": {},
   "outputs": [],
   "source": [
    "durations = ['H06', 'H12', 'H24', 'H96']\n",
    "\n",
    "writer = pd.ExcelWriter(outputs_dir/'FFRD_DC_Events_Summary.xlsx')\n",
    "for file in files:\n",
    "    results = {}\n",
    "    project_area = file.stem.split('_')[0]\n",
    "    model = file.stem.split('_')[1]\n",
    "    domain = file.stem.split('_')[2]\n",
    "    with open(file) as f:\n",
    "        metadata = json.load(f)\n",
    "        \n",
    "    for dur in durations:\n",
    "        events_metadata = metadata[dur]['BCName'][domain]['events_metadata']\n",
    "        events_metadata_df = pd.DataFrame.from_dict(events_metadata)\n",
    "        events_metadata_df = events_metadata_df.set_index('EventID')\n",
    "        groups = metadata[dur]['BCName'][domain]['groups']\n",
    "        \n",
    "        for final_event, original_events in groups.items():\n",
    "            temp_df = events_metadata_df.loc[original_events].copy()\n",
    "            event = f'{project_area}_{model}_{domain}_{final_event}'\n",
    "            n_events = len(original_events)\n",
    "            ri_min = temp_df['Tr'].min()\n",
    "            ri_max = temp_df['Tr'].max()\n",
    "            ri_avg = temp_df['Tr'].mean()\n",
    "            precip_min = temp_df['Random Precipitation'].min()\n",
    "            precip_max = temp_df['Random Precipitation'].max()\n",
    "            precip_avg = temp_df['Random Precipitation'].mean()\n",
    "            cn = events_metadata_df['AMC II CN'].iloc[0]\n",
    "            cn_min = temp_df['Random CN'].min()\n",
    "            cn_max =  temp_df['Random CN'].max()\n",
    "            cn_avg = temp_df['Random CN'].mean()\n",
    "            if cn_avg<cn:\n",
    "                cn_relative = 'Drier'\n",
    "            elif cn_avg==cn:\n",
    "                cn_relative = 'Average'\n",
    "            else: \n",
    "                cn_relative = 'Wetter'\n",
    "            results[final_event] = {'Original Name': event, 'Num Events, [-]': n_events, 'Duration, [hr]': dur, \n",
    "                                    'RI Min, [yr]': ri_min, 'RI Max, [yr]': ri_max, 'RI Avg, [yr]': ri_avg, \n",
    "                                    'Depth Min, [in]': precip_min, 'Depth Max, [in]': precip_max, 'Depth Avg, [in]': precip_avg, \n",
    "                                    'CN Min, [-]': cn_min, 'CN Max, [-]': cn_max, 'CN Avg, [-]': cn_avg, 'Relative Wetness': cn_relative}\n",
    "    df = pd.DataFrame.from_dict(results).T        \n",
    "    df.to_excel(writer, sheet_name = f'{project_area}_{model}_{domain}')\n",
    "writer.save()"
   ]
  },
  {
   "cell_type": "code",
   "execution_count": null,
   "metadata": {},
   "outputs": [],
   "source": []
  },
  {
   "cell_type": "markdown",
   "metadata": {},
   "source": [
    "---\n",
    "## End"
   ]
  }
 ],
 "metadata": {
  "kernelspec": {
   "display_name": "Python 3",
   "language": "python",
   "name": "python3"
  },
  "language_info": {
   "codemirror_mode": {
    "name": "ipython",
    "version": 3
   },
   "file_extension": ".py",
   "mimetype": "text/x-python",
   "name": "python",
   "nbconvert_exporter": "python",
   "pygments_lexer": "ipython3",
   "version": "3.7.1"
  }
 },
 "nbformat": 4,
 "nbformat_minor": 4
}
