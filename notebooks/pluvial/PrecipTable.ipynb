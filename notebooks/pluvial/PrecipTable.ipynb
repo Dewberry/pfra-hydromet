{
 "cells": [
  {
   "cell_type": "markdown",
   "metadata": {},
   "source": [
    "# Precipitation Frequency Table\n",
    "\n",
    "__Description__: Auto-retrieve [NOAA Atlas 14](https://hdsc.nws.noaa.gov/hdsc/pfds/pfds_gis.html) precipitation statistics from [FTP](ftp://hdsc.nws.noaa.gov/pub/hdsc/data/) and calcualte the area-averaged precipitation frequency table for the area of interest (AOI). Also calculates the 24-hour rainfall distribution from a set of rainfall data values for 5-minute through 24-hour durations  (see NRCS Engineering Handbook Part 630 https://directives.sc.egov.usda.gov/OpenNonWebContent.aspx?content=43924.wba\n",
    "\n",
    "__Input__: A vector polygon of the AOI and the durations of interest.\n",
    "\n",
    "__Output__: A spreadsheet with sheets for each duration and a sheet with the NOAA Atlas 14 volume and region numbers. For each duration, the sheet contains a table with area-averaged precipitation and confidence limits. A spreadsheet with sheets for each recurrence interval that includes the NRCS nested hyetograph for the 24 hour storm.\n",
    "\n",
    "---"
   ]
  },
  {
   "cell_type": "markdown",
   "metadata": {},
   "source": [
    "## Load Libraries, Parameters, and Data:"
   ]
  },
  {
   "cell_type": "markdown",
   "metadata": {},
   "source": [
    "### Libraries:"
   ]
  },
  {
   "cell_type": "code",
   "execution_count": 1,
   "metadata": {},
   "outputs": [],
   "source": [
    "import sys\n",
    "sys.path.append('../../core')\n",
    "from hydromet import*\n",
    "from hydromet_stratified import precip_hyetograph_nrcs"
   ]
  },
  {
   "cell_type": "markdown",
   "metadata": {},
   "source": [
    "### Parameters: "
   ]
  },
  {
   "cell_type": "markdown",
   "metadata": {},
   "source": [
    "#### Papermill (site specific):"
   ]
  },
  {
   "cell_type": "code",
   "execution_count": 2,
   "metadata": {},
   "outputs": [],
   "source": [
    "\n",
    "## Filenames and fields:\n",
    "Project_Area = 'Concord'          # Project area name\n",
    "Pluvial_Model = 'P01'                # Pluvial model name\n",
    "BCN = 'HUC_08Concord'               # Domain/boundary condition name 071200040505 Kansas 102500170609 Nevada '160600140303'\n",
    "polygon = 'Concord_domain_spc.shp'           # Shapefile name\n",
    "filter_field = 'HUC_8'          #HUC12 Attribute with in the vector polygon used for data selection\n",
    "select_data = '01070005'                    # Value within the filter_field used for data selection\n",
    "\n",
    "\n",
    "## Paths:\n",
    "root_dir = pl.Path(os.getcwd())\n",
    "datarepository_dir = root_dir.parent.parent/'DataRepository'\n",
    "polygon_dir = root_dir/'Inputs'/polygon\n",
    "outputs_dir = root_dir/'Outputs'\n",
    "\n",
    "\n",
    "brute_force_projection = None"
   ]
  },
  {
   "cell_type": "markdown",
   "metadata": {},
   "source": [
    "##### Convert all paths to objects:"
   ]
  },
  {
   "cell_type": "code",
   "execution_count": 3,
   "metadata": {},
   "outputs": [],
   "source": [
    "datarepository_dir = pl.Path(datarepository_dir)\n",
    "polygon_dir = pl.Path(polygon_dir)\n",
    "outputs_dir = pl.Path(outputs_dir)"
   ]
  },
  {
   "cell_type": "markdown",
   "metadata": {},
   "source": [
    "#### Global (project specific):"
   ]
  },
  {
   "cell_type": "code",
   "execution_count": 4,
   "metadata": {},
   "outputs": [],
   "source": [
    "noaa_data_crs = 4326 #Based on newer version of GeoPandas\n",
    "\n",
    "durations = ['05m', '10m', '15m', '30m', '60m', '02h', '03h', '06h', '12h', '24h'] \n",
    "dur_names = ['5min', '10min', '15min', '30min', '60min', '2hr', '3hr', '6hr', '12hr', '24hr'] \n",
    "\n",
    "vol_code_filename = 'NOAA_Atlas_Volume_Codes.json'\n",
    "Temporal_area_filename = 'NOAA_Temporal_Areas_US.geojson'\n",
    "\n",
    "verbose = True"
   ]
  },
  {
   "cell_type": "markdown",
   "metadata": {},
   "source": [
    "## Read Vector Polygon:"
   ]
  },
  {
   "cell_type": "markdown",
   "metadata": {},
   "source": [
    "### Load as a geodataframe:"
   ]
  },
  {
   "cell_type": "code",
   "execution_count": 5,
   "metadata": {},
   "outputs": [
    {
     "data": {
      "text/html": [
       "<div>\n",
       "<style scoped>\n",
       "    .dataframe tbody tr th:only-of-type {\n",
       "        vertical-align: middle;\n",
       "    }\n",
       "\n",
       "    .dataframe tbody tr th {\n",
       "        vertical-align: top;\n",
       "    }\n",
       "\n",
       "    .dataframe thead th {\n",
       "        text-align: right;\n",
       "    }\n",
       "</style>\n",
       "<table border=\"1\" class=\"dataframe\">\n",
       "  <thead>\n",
       "    <tr style=\"text-align: right;\">\n",
       "      <th></th>\n",
       "      <th>OBJECTID_1</th>\n",
       "      <th>OBJECTID</th>\n",
       "      <th>Gaz_ID</th>\n",
       "      <th>Area_Acres</th>\n",
       "      <th>Area_SqKm</th>\n",
       "      <th>States</th>\n",
       "      <th>LoadDate</th>\n",
       "      <th>HUC_8</th>\n",
       "      <th>HU_8_Name</th>\n",
       "      <th>GlobalID</th>\n",
       "      <th>Shape_STAr</th>\n",
       "      <th>Shape_STLe</th>\n",
       "      <th>Shape_Leng</th>\n",
       "      <th>HUC4</th>\n",
       "      <th>Shape_Le_1</th>\n",
       "      <th>Shape_Area</th>\n",
       "      <th>geometry</th>\n",
       "    </tr>\n",
       "  </thead>\n",
       "  <tbody>\n",
       "    <tr>\n",
       "      <th>0</th>\n",
       "      <td>1</td>\n",
       "      <td>32</td>\n",
       "      <td>0</td>\n",
       "      <td>256173.721662</td>\n",
       "      <td>1036.702418</td>\n",
       "      <td>MA</td>\n",
       "      <td>2012-06-06</td>\n",
       "      <td>01070005</td>\n",
       "      <td>Concord</td>\n",
       "      <td>{26B4D3FA-C10D-496C-A33D-C960BE6DE84D}</td>\n",
       "      <td>0.113352</td>\n",
       "      <td>2.185344</td>\n",
       "      <td>2.185344</td>\n",
       "      <td>0107</td>\n",
       "      <td>686281.665826</td>\n",
       "      <td>1.115830e+10</td>\n",
       "      <td>POLYGON ((711705.302 3058725.635, 711828.474 3...</td>\n",
       "    </tr>\n",
       "  </tbody>\n",
       "</table>\n",
       "</div>"
      ],
      "text/plain": [
       "   OBJECTID_1  OBJECTID  Gaz_ID     Area_Acres    Area_SqKm States  \\\n",
       "0           1        32       0  256173.721662  1036.702418     MA   \n",
       "\n",
       "     LoadDate     HUC_8 HU_8_Name                                GlobalID  \\\n",
       "0  2012-06-06  01070005   Concord  {26B4D3FA-C10D-496C-A33D-C960BE6DE84D}   \n",
       "\n",
       "   Shape_STAr  Shape_STLe  Shape_Leng  HUC4     Shape_Le_1    Shape_Area  \\\n",
       "0    0.113352    2.185344    2.185344  0107  686281.665826  1.115830e+10   \n",
       "\n",
       "                                            geometry  \n",
       "0  POLYGON ((711705.302 3058725.635, 711828.474 3...  "
      ]
     },
     "execution_count": 5,
     "metadata": {},
     "output_type": "execute_result"
    }
   ],
   "source": [
    "gdf = gpd.read_file(polygon_dir)\n",
    "\n",
    "check_attributes(gdf)\n",
    "\n",
    "gdf.head(1)"
   ]
  },
  {
   "cell_type": "markdown",
   "metadata": {},
   "source": [
    "### Determine projection:\n",
    "- If a projection cannot be determined automatically, search for the projection using the EPSG number on the following website: https://www.spatialreference.org/, select 'Proj4', and copy and paste the string above, setting it equal to brute_force_projection. Rerun the cell with the brute_force_projection string and the cell below."
   ]
  },
  {
   "cell_type": "code",
   "execution_count": 6,
   "metadata": {},
   "outputs": [
    {
     "name": "stdout",
     "output_type": "stream",
     "text": [
      "Original Coordinate Reference System: {'proj': 'lcc', 'lat_0': 41, 'lon_0': -71.5, 'lat_1': 41.7166666666667, 'lat_2': 42.6833333333333, 'x_0': 200000, 'y_0': 750000, 'datum': 'NAD83', 'units': 'us-ft', 'no_defs': True}\n",
      "Vector Layer crs = +proj=lcc +lat_0=41 +lon_0=-71.5 +lat_1=41.7166666666667 +lat_2=42.6833333333333 +x_0=200000 +y_0=750000 +datum=NAD83 +units=us-ft +no_defs\n"
     ]
    }
   ],
   "source": [
    "print('Original Coordinate Reference System:', gdf.crs)\n",
    "\n",
    "with fiona.collection(polygon_dir, 'r') as layer:\n",
    "    try:\n",
    "        vector_crs_prj = Proj(layer.crs).srs\n",
    "        if 'epsg' in vector_crs_prj: \n",
    "            raise KeyboardInterrupt\n",
    "        else: \n",
    "            print('Vector Layer crs = {}'.format(vector_crs_prj))\n",
    "        \n",
    "    except:\n",
    "        assert brute_force_projection!= None, 'Need to specify projection'\n",
    "        vector_crs_prj = brute_force_projection\n",
    "        print('Error: Setting projection as {}'.format(brute_force_projection))"
   ]
  },
  {
   "cell_type": "markdown",
   "metadata": {},
   "source": [
    "### Extract the area of interest, reproject, and plot:"
   ]
  },
  {
   "cell_type": "code",
   "execution_count": 7,
   "metadata": {},
   "outputs": [
    {
     "data": {
      "image/png": "[encoded data removed]",
      "text/plain": [
       "<Figure size 720x1008 with 1 Axes>"
      ]
     },
     "metadata": {
      "needs_background": "light"
     },
     "output_type": "display_data"
    }
   ],
   "source": [
    "gdf1 = gdf.loc[gdf[filter_field] == select_data].copy()\n",
    "\n",
    "gdf1.crs = vector_crs_prj\n",
    "    \n",
    "geo_df = gdf1.to_crs(epsg = noaa_data_crs)\n",
    "\n",
    "plot_area_of_interest(geo_df, select_data, filter_field)"
   ]
  },
  {
   "cell_type": "markdown",
   "metadata": {},
   "source": [
    "## Identify the NOAA Atlas 14 Volume Code:"
   ]
  },
  {
   "cell_type": "markdown",
   "metadata": {},
   "source": [
    "### Determine the volume and region numbers:"
   ]
  },
  {
   "cell_type": "code",
   "execution_count": 8,
   "metadata": {},
   "outputs": [
    {
     "name": "stdout",
     "output_type": "stream",
     "text": [
      "Volume           10\n",
      "Region           2\n",
      "Percent_area     100.0\n"
     ]
    },
    {
     "data": {
      "image/png": "[encoded data removed]",
      "text/plain": [
       "<Figure size 720x1008 with 1 Axes>"
      ]
     },
     "metadata": {
      "needs_background": "light"
     },
     "output_type": "display_data"
    }
   ],
   "source": [
    "volume_dict, intersection_gdf = intersect_temporal_areas(geo_df, datarepository_dir, Temporal_area_filename, alldata=True)\n",
    "\n",
    "plot_aoi_noaa_intersection(intersection_gdf, select_data)\n",
    "\n",
    "volume = volume_dict['Volume']\n",
    "#volume = '9' # Manually specify the volume if the input shapes do not overlap below"
   ]
  },
  {
   "cell_type": "markdown",
   "metadata": {},
   "source": [
    "### Load Atlas 14 volume code from json:"
   ]
  },
  {
   "cell_type": "code",
   "execution_count": 9,
   "metadata": {},
   "outputs": [
    {
     "name": "stdout",
     "output_type": "stream",
     "text": [
      "NOAA Atlas 14 Volume Code: ne\n"
     ]
    }
   ],
   "source": [
    "vol_code = get_volume_code(datarepository_dir, vol_code_filename, volume)"
   ]
  },
  {
   "cell_type": "markdown",
   "metadata": {},
   "source": [
    "## Retrieve the Precipitation Frequency Data:"
   ]
  },
  {
   "cell_type": "markdown",
   "metadata": {},
   "source": [
    "### Get list of zip files:"
   ]
  },
  {
   "cell_type": "code",
   "execution_count": 10,
   "metadata": {},
   "outputs": [
    {
     "name": "stdout",
     "output_type": "stream",
     "text": [
      "30 files found for 05m\n",
      "30 files found for 10m\n",
      "30 files found for 15m\n",
      "30 files found for 30m\n",
      "30 files found for 60m\n",
      "30 files found for 02h\n",
      "30 files found for 03h\n",
      "30 files found for 06h\n",
      "30 files found for 12h\n",
      "30 files found for 24h\n"
     ]
    }
   ],
   "source": [
    "noaa_url = 'https://hdsc.nws.noaa.gov/pub/hdsc/data/{}/'.format(vol_code)\n",
    "\n",
    "req = urllib.request.Request(noaa_url)\n",
    "data = urllib.request.urlopen(req).read().decode().split()\n",
    "\n",
    "copy_zips = []\n",
    "for duration in durations:\n",
    "    zips = [d for d in data if ('.zip' in d) and ('{}'.format(duration) in d) and ('ams' not in d)]\n",
    "    copy_zips.append(zips)\n",
    "    if verbose: \n",
    "        print('{} files found for {}'.format(len(zips), duration))\n",
    "\n",
    "all_zips_list = list(np.array(copy_zips).flat)\n",
    "\n",
    "for i, zip_name in enumerate(all_zips_list):\n",
    "    all_zips_list[i]= zip_name.split(\"\\\"\", 1)[1].split(\"\\\"\", 1)[0]"
   ]
  },
  {
   "cell_type": "markdown",
   "metadata": {},
   "source": [
    "### Iterate through zip files and build a table:"
   ]
  },
  {
   "cell_type": "code",
   "execution_count": 11,
   "metadata": {},
   "outputs": [
    {
     "name": "stdout",
     "output_type": "stream",
     "text": [
      "0 ne1yr05ma.zip\n",
      "1 ne1yr05mal.zip\n",
      "2 ne1yr05mau.zip\n",
      "3 ne2yr05ma.zip\n",
      "4 ne2yr05mal.zip\n",
      "5 ne2yr05mau.zip\n",
      "6 ne5yr05ma.zip\n",
      "7 ne5yr05mal.zip\n",
      "8 ne5yr05mau.zip\n",
      "9 ne10yr05ma.zip\n",
      "10 ne10yr05mal.zip\n",
      "11 ne10yr05mau.zip\n",
      "12 ne25yr05ma.zip\n",
      "13 ne25yr05mal.zip\n",
      "14 ne25yr05mau.zip\n",
      "15 ne50yr05ma.zip\n",
      "16 ne50yr05mal.zip\n",
      "17 ne50yr05mau.zip\n",
      "18 ne100yr05ma.zip\n",
      "19 ne100yr05mal.zip\n",
      "20 ne100yr05mau.zip\n",
      "21 ne200yr05ma.zip\n",
      "22 ne200yr05mal.zip\n",
      "23 ne200yr05mau.zip\n",
      "24 ne500yr05ma.zip\n",
      "25 ne500yr05mal.zip\n",
      "26 ne500yr05mau.zip\n",
      "27 ne1000yr05ma.zip\n",
      "28 ne1000yr05mal.zip\n",
      "29 ne1000yr05mau.zip\n",
      "30 ne1yr10ma.zip\n",
      "31 ne1yr10mal.zip\n",
      "32 ne1yr10mau.zip\n",
      "33 ne2yr10ma.zip\n",
      "34 ne2yr10mal.zip\n",
      "35 ne2yr10mau.zip\n",
      "36 ne5yr10ma.zip\n",
      "37 ne5yr10mal.zip\n",
      "38 ne5yr10mau.zip\n",
      "39 ne10yr10ma.zip\n",
      "40 ne10yr10mal.zip\n",
      "41 ne10yr10mau.zip\n",
      "42 ne25yr10ma.zip\n",
      "43 ne25yr10mal.zip\n",
      "44 ne25yr10mau.zip\n",
      "45 ne50yr10ma.zip\n",
      "46 ne50yr10mal.zip\n",
      "47 ne50yr10mau.zip\n",
      "48 ne100yr10ma.zip\n",
      "49 ne100yr10mal.zip\n",
      "50 ne100yr10mau.zip\n",
      "51 ne200yr10ma.zip\n",
      "52 ne200yr10mal.zip\n",
      "53 ne200yr10mau.zip\n",
      "54 ne500yr10ma.zip\n",
      "55 ne500yr10mal.zip\n",
      "56 ne500yr10mau.zip\n",
      "57 ne1000yr10ma.zip\n",
      "58 ne1000yr10mal.zip\n",
      "59 ne1000yr10mau.zip\n",
      "60 ne1yr15ma.zip\n",
      "61 ne1yr15mal.zip\n",
      "62 ne1yr15mau.zip\n",
      "63 ne2yr15ma.zip\n",
      "64 ne2yr15mal.zip\n",
      "65 ne2yr15mau.zip\n",
      "66 ne5yr15ma.zip\n",
      "67 ne5yr15mal.zip\n",
      "68 ne5yr15mau.zip\n",
      "69 ne10yr15ma.zip\n",
      "70 ne10yr15mal.zip\n",
      "71 ne10yr15mau.zip\n",
      "72 ne25yr15ma.zip\n",
      "73 ne25yr15mal.zip\n",
      "74 ne25yr15mau.zip\n",
      "75 ne50yr15ma.zip\n",
      "76 ne50yr15mal.zip\n",
      "77 ne50yr15mau.zip\n",
      "78 ne100yr15ma.zip\n",
      "79 ne100yr15mal.zip\n",
      "80 ne100yr15mau.zip\n",
      "81 ne200yr15ma.zip\n",
      "82 ne200yr15mal.zip\n",
      "83 ne200yr15mau.zip\n",
      "84 ne500yr15ma.zip\n",
      "85 ne500yr15mal.zip\n",
      "86 ne500yr15mau.zip\n",
      "87 ne1000yr15ma.zip\n",
      "88 ne1000yr15mal.zip\n",
      "89 ne1000yr15mau.zip\n",
      "90 ne1yr30ma.zip\n",
      "91 ne1yr30mal.zip\n",
      "92 ne1yr30mau.zip\n",
      "93 ne2yr30ma.zip\n",
      "94 ne2yr30mal.zip\n",
      "95 ne2yr30mau.zip\n",
      "96 ne5yr30ma.zip\n",
      "97 ne5yr30mal.zip\n",
      "98 ne5yr30mau.zip\n",
      "99 ne10yr30ma.zip\n",
      "100 ne10yr30mal.zip\n",
      "101 ne10yr30mau.zip\n",
      "102 ne25yr30ma.zip\n",
      "103 ne25yr30mal.zip\n",
      "104 ne25yr30mau.zip\n",
      "105 ne50yr30ma.zip\n",
      "106 ne50yr30mal.zip\n",
      "107 ne50yr30mau.zip\n",
      "108 ne100yr30ma.zip\n",
      "109 ne100yr30mal.zip\n",
      "110 ne100yr30mau.zip\n",
      "111 ne200yr30ma.zip\n",
      "112 ne200yr30mal.zip\n",
      "113 ne200yr30mau.zip\n",
      "114 ne500yr30ma.zip\n",
      "115 ne500yr30mal.zip\n",
      "116 ne500yr30mau.zip\n",
      "117 ne1000yr30ma.zip\n",
      "118 ne1000yr30mal.zip\n",
      "119 ne1000yr30mau.zip\n",
      "120 ne1yr60ma.zip\n",
      "121 ne1yr60mal.zip\n",
      "122 ne1yr60mau.zip\n",
      "123 ne2yr60ma.zip\n",
      "124 ne2yr60mal.zip\n",
      "125 ne2yr60mau.zip\n",
      "126 ne5yr60ma.zip\n",
      "127 ne5yr60mal.zip\n",
      "128 ne5yr60mau.zip\n",
      "129 ne10yr60ma.zip\n",
      "130 ne10yr60mal.zip\n",
      "131 ne10yr60mau.zip\n",
      "132 ne25yr60ma.zip\n",
      "133 ne25yr60mal.zip\n",
      "134 ne25yr60mau.zip\n",
      "135 ne50yr60ma.zip\n",
      "136 ne50yr60mal.zip\n",
      "137 ne50yr60mau.zip\n",
      "138 ne100yr60ma.zip\n",
      "139 ne100yr60mal.zip\n",
      "140 ne100yr60mau.zip\n",
      "141 ne200yr60ma.zip\n",
      "142 ne200yr60mal.zip\n",
      "143 ne200yr60mau.zip\n",
      "144 ne500yr60ma.zip\n",
      "145 ne500yr60mal.zip\n",
      "146 ne500yr60mau.zip\n",
      "147 ne1000yr60ma.zip\n",
      "148 ne1000yr60mal.zip\n",
      "149 ne1000yr60mau.zip\n",
      "150 ne1yr02ha.zip\n",
      "151 ne1yr02hal.zip\n",
      "152 ne1yr02hau.zip\n",
      "153 ne2yr02ha.zip\n",
      "154 ne2yr02hal.zip\n",
      "155 ne2yr02hau.zip\n",
      "156 ne5yr02ha.zip\n",
      "157 ne5yr02hal.zip\n",
      "158 ne5yr02hau.zip\n",
      "159 ne10yr02ha.zip\n",
      "160 ne10yr02hal.zip\n",
      "161 ne10yr02hau.zip\n",
      "162 ne25yr02ha.zip\n",
      "163 ne25yr02hal.zip\n",
      "164 ne25yr02hau.zip\n",
      "165 ne50yr02ha.zip\n",
      "166 ne50yr02hal.zip\n",
      "167 ne50yr02hau.zip\n",
      "168 ne100yr02ha.zip\n",
      "169 ne100yr02hal.zip\n",
      "170 ne100yr02hau.zip\n",
      "171 ne200yr02ha.zip\n",
      "172 ne200yr02hal.zip\n",
      "173 ne200yr02hau.zip\n",
      "174 ne500yr02ha.zip\n",
      "175 ne500yr02hal.zip\n",
      "176 ne500yr02hau.zip\n",
      "177 ne1000yr02ha.zip\n",
      "178 ne1000yr02hal.zip\n",
      "179 ne1000yr02hau.zip\n",
      "180 ne1yr03ha.zip\n",
      "181 ne1yr03hal.zip\n",
      "182 ne1yr03hau.zip\n",
      "183 ne2yr03ha.zip\n",
      "184 ne2yr03hal.zip\n",
      "185 ne2yr03hau.zip\n",
      "186 ne5yr03ha.zip\n",
      "187 ne5yr03hal.zip\n",
      "188 ne5yr03hau.zip\n",
      "189 ne10yr03ha.zip\n",
      "190 ne10yr03hal.zip\n",
      "191 ne10yr03hau.zip\n",
      "192 ne25yr03ha.zip\n",
      "193 ne25yr03hal.zip\n",
      "194 ne25yr03hau.zip\n",
      "195 ne50yr03ha.zip\n",
      "196 ne50yr03hal.zip\n",
      "197 ne50yr03hau.zip\n",
      "198 ne100yr03ha.zip\n",
      "199 ne100yr03hal.zip\n",
      "200 ne100yr03hau.zip\n",
      "201 ne200yr03ha.zip\n",
      "202 ne200yr03hal.zip\n",
      "203 ne200yr03hau.zip\n",
      "204 ne500yr03ha.zip\n",
      "205 ne500yr03hal.zip\n",
      "206 ne500yr03hau.zip\n",
      "207 ne1000yr03ha.zip\n",
      "208 ne1000yr03hal.zip\n",
      "209 ne1000yr03hau.zip\n",
      "210 ne1yr06ha.zip\n",
      "211 ne1yr06hal.zip\n",
      "212 ne1yr06hau.zip\n",
      "213 ne2yr06ha.zip\n",
      "214 ne2yr06hal.zip\n",
      "215 ne2yr06hau.zip\n",
      "216 ne5yr06ha.zip\n",
      "217 ne5yr06hal.zip\n",
      "218 ne5yr06hau.zip\n",
      "219 ne10yr06ha.zip\n",
      "220 ne10yr06hal.zip\n",
      "221 ne10yr06hau.zip\n",
      "222 ne25yr06ha.zip\n",
      "223 ne25yr06hal.zip\n",
      "224 ne25yr06hau.zip\n",
      "225 ne50yr06ha.zip\n",
      "226 ne50yr06hal.zip\n",
      "227 ne50yr06hau.zip\n",
      "228 ne100yr06ha.zip\n",
      "229 ne100yr06hal.zip\n",
      "230 ne100yr06hau.zip\n",
      "231 ne200yr06ha.zip\n",
      "232 ne200yr06hal.zip\n",
      "233 ne200yr06hau.zip\n",
      "234 ne500yr06ha.zip\n",
      "235 ne500yr06hal.zip\n",
      "236 ne500yr06hau.zip\n",
      "237 ne1000yr06ha.zip\n",
      "238 ne1000yr06hal.zip\n",
      "239 ne1000yr06hau.zip\n",
      "240 ne1yr12ha.zip\n",
      "241 ne1yr12hal.zip\n",
      "242 ne1yr12hau.zip\n",
      "243 ne2yr12ha.zip\n",
      "244 ne2yr12hal.zip\n",
      "245 ne2yr12hau.zip\n",
      "246 ne5yr12ha.zip\n",
      "247 ne5yr12hal.zip\n",
      "248 ne5yr12hau.zip\n",
      "249 ne10yr12ha.zip\n",
      "250 ne10yr12hal.zip\n",
      "251 ne10yr12hau.zip\n",
      "252 ne25yr12ha.zip\n",
      "253 ne25yr12hal.zip\n",
      "254 ne25yr12hau.zip\n",
      "255 ne50yr12ha.zip\n",
      "256 ne50yr12hal.zip\n",
      "257 ne50yr12hau.zip\n",
      "258 ne100yr12ha.zip\n",
      "259 ne100yr12hal.zip\n",
      "260 ne100yr12hau.zip\n",
      "261 ne200yr12ha.zip\n",
      "262 ne200yr12hal.zip\n",
      "263 ne200yr12hau.zip\n",
      "264 ne500yr12ha.zip\n",
      "265 ne500yr12hal.zip\n",
      "266 ne500yr12hau.zip\n",
      "267 ne1000yr12ha.zip\n",
      "268 ne1000yr12hal.zip\n",
      "269 ne1000yr12hau.zip\n",
      "270 ne1yr24ha.zip\n",
      "271 ne1yr24hal.zip\n",
      "272 ne1yr24hau.zip\n",
      "273 ne2yr24ha.zip\n",
      "274 ne2yr24hal.zip\n",
      "275 ne2yr24hau.zip\n",
      "276 ne5yr24ha.zip\n",
      "277 ne5yr24hal.zip\n",
      "278 ne5yr24hau.zip\n",
      "279 ne10yr24ha.zip\n",
      "280 ne10yr24hal.zip\n",
      "281 ne10yr24hau.zip\n",
      "282 ne25yr24ha.zip\n",
      "283 ne25yr24hal.zip\n",
      "284 ne25yr24hau.zip\n",
      "285 ne50yr24ha.zip\n",
      "286 ne50yr24hal.zip\n",
      "287 ne50yr24hau.zip\n",
      "288 ne100yr24ha.zip\n",
      "289 ne100yr24hal.zip\n",
      "290 ne100yr24hau.zip\n",
      "291 ne200yr24ha.zip\n",
      "292 ne200yr24hal.zip\n",
      "293 ne200yr24hau.zip\n",
      "294 ne500yr24ha.zip\n",
      "295 ne500yr24hal.zip\n",
      "296 ne500yr24hau.zip\n",
      "297 ne1000yr24ha.zip\n",
      "298 ne1000yr24hal.zip\n",
      "299 ne1000yr24hau.zip\n",
      "285 Seconds\n"
     ]
    },
    {
     "data": {
      "text/html": [
       "<div>\n",
       "<style scoped>\n",
       "    .dataframe tbody tr th:only-of-type {\n",
       "        vertical-align: middle;\n",
       "    }\n",
       "\n",
       "    .dataframe tbody tr th {\n",
       "        vertical-align: top;\n",
       "    }\n",
       "\n",
       "    .dataframe thead th {\n",
       "        text-align: right;\n",
       "    }\n",
       "</style>\n",
       "<table border=\"1\" class=\"dataframe\">\n",
       "  <thead>\n",
       "    <tr style=\"text-align: right;\">\n",
       "      <th></th>\n",
       "      <th>region</th>\n",
       "      <th>TR</th>\n",
       "      <th>duration</th>\n",
       "      <th>statistic</th>\n",
       "      <th>value</th>\n",
       "    </tr>\n",
       "  </thead>\n",
       "  <tbody>\n",
       "    <tr>\n",
       "      <th>0</th>\n",
       "      <td>ne</td>\n",
       "      <td>1</td>\n",
       "      <td>05m</td>\n",
       "      <td>Expected Value</td>\n",
       "      <td>0.328367</td>\n",
       "    </tr>\n",
       "    <tr>\n",
       "      <th>1</th>\n",
       "      <td>ne</td>\n",
       "      <td>1</td>\n",
       "      <td>05m</td>\n",
       "      <td>Lower (90%)</td>\n",
       "      <td>0.254063</td>\n",
       "    </tr>\n",
       "    <tr>\n",
       "      <th>2</th>\n",
       "      <td>ne</td>\n",
       "      <td>1</td>\n",
       "      <td>05m</td>\n",
       "      <td>Upper (90%)</td>\n",
       "      <td>0.417645</td>\n",
       "    </tr>\n",
       "    <tr>\n",
       "      <th>3</th>\n",
       "      <td>ne</td>\n",
       "      <td>2</td>\n",
       "      <td>05m</td>\n",
       "      <td>Expected Value</td>\n",
       "      <td>0.393253</td>\n",
       "    </tr>\n",
       "    <tr>\n",
       "      <th>4</th>\n",
       "      <td>ne</td>\n",
       "      <td>2</td>\n",
       "      <td>05m</td>\n",
       "      <td>Lower (90%)</td>\n",
       "      <td>0.303941</td>\n",
       "    </tr>\n",
       "  </tbody>\n",
       "</table>\n",
       "</div>"
      ],
      "text/plain": [
       "  region TR duration       statistic     value\n",
       "0     ne  1      05m  Expected Value  0.328367\n",
       "1     ne  1      05m     Lower (90%)  0.254063\n",
       "2     ne  1      05m     Upper (90%)  0.417645\n",
       "3     ne  2      05m  Expected Value  0.393253\n",
       "4     ne  2      05m     Lower (90%)  0.303941"
      ]
     },
     "metadata": {},
     "output_type": "display_data"
    },
    {
     "name": "stdout",
     "output_type": "stream",
     "text": [
      "None\n"
     ]
    }
   ],
   "source": [
    "df = build_precip_table(geo_df, all_zips_list, noaa_url, vol_code, 10, verbose) #The integer is the number of times to attempt getting the file from ftp"
   ]
  },
  {
   "cell_type": "markdown",
   "metadata": {},
   "source": [
    "## Save the Results to an Excel Workbook:"
   ]
  },
  {
   "cell_type": "markdown",
   "metadata": {},
   "source": [
    "### Create an outputs directory:"
   ]
  },
  {
   "cell_type": "code",
   "execution_count": 12,
   "metadata": {},
   "outputs": [],
   "source": [
    "if not os.path.isdir(outputs_dir):\n",
    "    os.mkdir(outputs_dir)"
   ]
  },
  {
   "cell_type": "markdown",
   "metadata": {},
   "source": [
    "### Save Precipitation Table:"
   ]
  },
  {
   "cell_type": "code",
   "execution_count": 13,
   "metadata": {},
   "outputs": [
    {
     "name": "stdout",
     "output_type": "stream",
     "text": [
      "      Expected Value  Lower (90%)  Upper (90%)\n",
      "Tr                                            \n",
      "1           0.328367     0.254063     0.417645\n",
      "2           0.393253     0.303941     0.500725\n",
      "5           0.499374     0.384680     0.637907\n",
      "10          0.587367     0.449980     0.754507\n",
      "25          0.708521     0.526611     0.950711\n",
      "50          0.799458     0.582952     1.095767\n",
      "100         0.895301     0.635156     1.273310\n",
      "200         1.004323     0.674974     1.457428\n",
      "500         1.162306     0.752561     1.745120\n",
      "1000        1.292739     0.818169     1.979564\n",
      "      Expected Value  Lower (90%)  Upper (90%)\n",
      "Tr                                            \n",
      "1           0.465176     0.359913     0.591663\n",
      "2           0.557121     0.430583     0.709363\n",
      "5           0.707428     0.544953     0.903744\n",
      "10          0.832121     0.637518     1.068952\n",
      "25          1.003755     0.746029     1.346830\n",
      "50          1.132605     0.825661     1.552347\n",
      "100         1.268357     0.899808     1.803842\n",
      "200         1.422806     0.956201     2.064696\n",
      "500         1.646609     1.066129     2.472256\n",
      "1000        1.831371     1.159082     2.804382\n",
      "      Expected Value  Lower (90%)  Upper (90%)\n",
      "Tr                                            \n",
      "1           0.547272     0.423428     0.696082\n",
      "2           0.655429     0.506570     0.834533\n",
      "5           0.832250     0.641117     1.063239\n",
      "10          0.978964     0.749990     1.257569\n",
      "25          1.180878     0.877681     1.584510\n",
      "50          1.332460     0.971297     1.826292\n",
      "100         1.492178     1.058607     2.122185\n",
      "200         1.673894     1.124918     2.429021\n",
      "500         1.937181     1.254302     2.908545\n",
      "1000        2.154554     1.363628     3.299260\n",
      "      Expected Value  Lower (90%)  Upper (90%)\n",
      "Tr                                            \n",
      "1           0.745147     0.576545     0.947744\n",
      "2           0.893060     0.690244     1.137102\n",
      "5           1.134915     0.874282     1.449834\n",
      "10          1.335542     1.023215     1.715590\n",
      "25          1.611707     1.197946     2.162694\n",
      "50          1.819006     1.326048     2.493264\n",
      "100         2.037469     1.445579     2.897939\n",
      "200         2.286134     1.536369     3.317450\n",
      "500         2.646619     1.713615     3.973599\n",
      "1000        2.944315     1.863456     4.508412\n",
      "      Expected Value  Lower (90%)  Upper (90%)\n",
      "Tr                                            \n",
      "1           0.943012     0.729654     1.199409\n",
      "2           1.130701     0.873935     1.439670\n",
      "5           1.437574     1.107471     1.836525\n",
      "10          1.692143     1.296437     2.173639\n",
      "25          2.042538     1.518206     2.740898\n",
      "50          2.305564     1.680780     3.160266\n",
      "100         2.582763     1.832550     3.673697\n",
      "200         2.898409     1.947836     4.205879\n",
      "500         3.356052     2.172945     5.038679\n",
      "1000        3.734069     2.363300     5.717560\n",
      "      Expected Value  Lower (90%)  Upper (90%)\n",
      "Tr                                            \n",
      "1           1.194038     0.931057     1.507411\n",
      "2           1.447589     1.127557     1.829460\n",
      "5           1.862174     1.445578     2.361174\n",
      "10          2.206104     1.702993     2.812651\n",
      "25          2.679527     2.009550     3.581260\n",
      "50          3.030632     2.231267     4.143750\n",
      "100         3.409402     2.448972     4.853926\n",
      "200         3.864138     2.605710     5.567672\n",
      "500         4.552307     2.955790     6.783894\n",
      "1000        5.138852     3.262183     7.804571\n",
      "      Expected Value  Lower (90%)  Upper (90%)\n",
      "Tr                                            \n",
      "1           1.374084     1.076292     1.727082\n",
      "2           1.672874     1.308910     2.104843\n",
      "5           2.161393     1.685402     2.728509\n",
      "10          2.566683     1.990093     3.257891\n",
      "25          3.124507     2.354438     4.162858\n",
      "50          3.536607     2.616790     4.822933\n",
      "100         3.984545     2.878488     5.664861\n",
      "200         4.531933     3.062987     6.501654\n",
      "500         5.372226     3.494847     7.969826\n",
      "1000        6.095236     3.876653     9.213175\n",
      "      Expected Value  Lower (90%)  Upper (90%)\n",
      "Tr                                            \n",
      "1           1.759283     1.388814     2.194691\n",
      "2           2.145111     1.691517     2.678780\n",
      "5           2.775947     2.181375     3.477957\n",
      "10          3.299271     2.577578     4.156188\n",
      "25          4.019593     3.050256     5.317072\n",
      "50          4.550938     3.389963     6.162768\n",
      "100         5.130139     3.729591     7.245431\n",
      "200         5.842701     3.965632     8.316671\n",
      "500         6.942506     4.531808    10.217711\n",
      "1000        7.892083     5.034556    11.833039\n",
      "      Expected Value  Lower (90%)  Upper (90%)\n",
      "Tr                                            \n",
      "1           2.235540     1.778699     2.767747\n",
      "2           2.720006     2.161739     3.371041\n",
      "5           3.512138     2.781413     4.366963\n",
      "10          4.169281     3.282240     5.212301\n",
      "25          5.073820     3.874258     6.654339\n",
      "50          5.742656     4.300742     7.707034\n",
      "100         6.468340     4.720421     9.045620\n",
      "200         7.351244     5.012844    10.379172\n",
      "500         8.701609     5.701721    12.702525\n",
      "1000        9.860806     6.310248    14.665916\n",
      "      Expected Value  Lower (90%)  Upper (90%)\n",
      "Tr                                            \n",
      "1           2.669244     2.140739     3.279545\n",
      "2           3.269051     2.618799     4.020598\n",
      "5           4.249757     3.392219     5.243687\n",
      "10          5.063368     4.017082     6.281425\n",
      "25          6.183249     4.755345     8.052542\n",
      "50          7.009970     5.286192     9.343607\n",
      "100         7.909753     5.810667    10.991487\n",
      "200         9.012390     6.171392    12.624631\n",
      "500        10.708725     7.040440    15.507572\n",
      "1000       12.170391     7.811445    17.953191\n",
      "\n",
      "NOAA_Atlas_MetaData:\n"
     ]
    },
    {
     "data": {
      "text/html": [
       "<div>\n",
       "<style scoped>\n",
       "    .dataframe tbody tr th:only-of-type {\n",
       "        vertical-align: middle;\n",
       "    }\n",
       "\n",
       "    .dataframe tbody tr th {\n",
       "        vertical-align: top;\n",
       "    }\n",
       "\n",
       "    .dataframe thead th {\n",
       "        text-align: right;\n",
       "    }\n",
       "</style>\n",
       "<table border=\"1\" class=\"dataframe\">\n",
       "  <thead>\n",
       "    <tr style=\"text-align: right;\">\n",
       "      <th></th>\n",
       "      <th>Volume</th>\n",
       "      <th>Region</th>\n",
       "      <th>Percent_area</th>\n",
       "    </tr>\n",
       "    <tr>\n",
       "      <th>AOI</th>\n",
       "      <th></th>\n",
       "      <th></th>\n",
       "      <th></th>\n",
       "    </tr>\n",
       "  </thead>\n",
       "  <tbody>\n",
       "    <tr>\n",
       "      <th>HUC_8_01070005</th>\n",
       "      <td>10</td>\n",
       "      <td>2</td>\n",
       "      <td>100.0</td>\n",
       "    </tr>\n",
       "  </tbody>\n",
       "</table>\n",
       "</div>"
      ],
      "text/plain": [
       "               Volume  Region  Percent_area\n",
       "AOI                                        \n",
       "HUC_8_01070005     10       2         100.0"
      ]
     },
     "metadata": {},
     "output_type": "display_data"
    }
   ],
   "source": [
    "writer = pd.ExcelWriter(outputs_dir/'{0}_{1}_{2}_PrecipTable.xlsx'.format(Project_Area, Pluvial_Model, BCN))\n",
    "\n",
    "for i, d in enumerate(durations):\n",
    "    table = pd.pivot_table(df[df['duration'] == d], values = 'value', index=['TR'], columns=['statistic'])\n",
    "    table.index.name = 'Tr'\n",
    "    table.columns.name = None\n",
    "    table = table.sort_values(by = ['Expected Value'])\n",
    "    table.to_excel(writer, sheet_name = 'AreaDepths_{}'.format(dur_names[i]))\n",
    "    print(table)\n",
    "\n",
    "metadata = pd.DataFrame.from_dict([volume_dict])\n",
    "metadata['AOI'] = str(filter_field) + '_' + str(select_data)\n",
    "metadata = metadata.set_index('AOI')\n",
    "metadata.to_excel(writer, sheet_name = 'NOAA_Atlas_MetaData')\n",
    "print('\\nNOAA_Atlas_MetaData:')\n",
    "display(metadata)\n",
    "    \n",
    "writer.save()"
   ]
  },
  {
   "cell_type": "markdown",
   "metadata": {},
   "source": [
    "---"
   ]
  },
  {
   "cell_type": "markdown",
   "metadata": {},
   "source": [
    "## Calculate NRCS nested hyetograph function "
   ]
  },
  {
   "cell_type": "code",
   "execution_count": 19,
   "metadata": {},
   "outputs": [],
   "source": [
    "#select events to prepare nested distribution\n",
    "Return_Intervals = np.array(['2', '5', '10', '25', '50', '100', '200', '500', '1000'])  # Return intervals for calculating runoff values.\n"
   ]
  },
  {
   "cell_type": "code",
   "execution_count": 20,
   "metadata": {},
   "outputs": [],
   "source": [
    "c_df = df[df['statistic'] =='Expected Value'].set_index('TR')\n",
    "hyetos = {}\n",
    "for evnt in Return_Intervals:\n",
    "    precip_df = c_df.loc[evnt][['duration', 'value']].set_index('duration')\n",
    "    hyetos[evnt] = precip_hyetograph_nrcs(precip_df)   "
   ]
  },
  {
   "cell_type": "markdown",
   "metadata": {},
   "source": [
    "#### Plot to check behavior of 100 year recurrence interval"
   ]
  },
  {
   "cell_type": "code",
   "execution_count": 34,
   "metadata": {},
   "outputs": [],
   "source": [
    "h100 = hyetos['100'].rename(columns = {'ratio':'Cumulative Distribution','t_step':'Time','slope':'100 year Distribution'}, inplace = False)"
   ]
  },
  {
   "cell_type": "code",
   "execution_count": 38,
   "metadata": {},
   "outputs": [
    {
     "data": {
      "text/plain": [
       "<matplotlib.axes._subplots.AxesSubplot at 0x1f5922a2908>"
      ]
     },
     "execution_count": 38,
     "metadata": {},
     "output_type": "execute_result"
    },
    {
     "data": {
      "image/png": "[encoded data removed]",
      "text/plain": [
       "<Figure size 432x288 with 1 Axes>"
      ]
     },
     "metadata": {
      "needs_background": "light"
     },
     "output_type": "display_data"
    },
    {
     "data": {
      "image/png": "[encoded data removed]",
      "text/plain": [
       "<Figure size 432x288 with 1 Axes>"
      ]
     },
     "metadata": {
      "needs_background": "light"
     },
     "output_type": "display_data"
    }
   ],
   "source": [
    "p1 = h100.plot('Time','Cumulative Distribution')\n",
    "p1.legend()\n",
    "p1.set_xlabel('Time (hours)', fontsize=14)\n",
    "p1.set_ylabel('% of Total Precipitation', fontsize=14)\n",
    "\n",
    "p2 = h100.plot('Time', '100 year Distribution')\n",
    "p2.legend()\n",
    "p2.set_xlabel('Time (hours)', fontsize=14)\n",
    "p2.set_ylabel('Precipitation (inches)', fontsize=14)\n",
    "\n",
    "p1\n",
    "p2"
   ]
  },
  {
   "cell_type": "markdown",
   "metadata": {},
   "source": [
    "### Save Nested Hyetograph:"
   ]
  },
  {
   "cell_type": "code",
   "execution_count": 40,
   "metadata": {},
   "outputs": [
    {
     "name": "stdout",
     "output_type": "stream",
     "text": [
      "         ratio     slope\n",
      "time                    \n",
      "0.0   0.000000  0.000000\n",
      "0.1   0.000396  0.003957\n",
      "0.2   0.000825  0.004297\n",
      "0.3   0.001289  0.004637\n",
      "0.4   0.001787  0.004978\n",
      "...        ...       ...\n",
      "23.6  0.998213  0.005318\n",
      "23.7  0.998711  0.004978\n",
      "23.8  0.999175  0.004637\n",
      "23.9  0.999604  0.004297\n",
      "24.0  1.000000  0.003957\n",
      "\n",
      "[241 rows x 2 columns]\n",
      "         ratio     slope\n",
      "time                    \n",
      "0.0   0.000000  0.000000\n",
      "0.1   0.000502  0.005019\n",
      "0.2   0.001036  0.005339\n",
      "0.3   0.001602  0.005659\n",
      "0.4   0.002200  0.005979\n",
      "...        ...       ...\n",
      "23.6  0.997800  0.006299\n",
      "23.7  0.998398  0.005979\n",
      "23.8  0.998964  0.005659\n",
      "23.9  0.999498  0.005339\n",
      "24.0  1.000000  0.005019\n",
      "\n",
      "[241 rows x 2 columns]\n",
      "         ratio     slope\n",
      "time                    \n",
      "0.0   0.000000  0.000000\n",
      "0.1   0.000559  0.005588\n",
      "0.2   0.001149  0.005897\n",
      "0.3   0.001769  0.006207\n",
      "0.4   0.002421  0.006516\n",
      "...        ...       ...\n",
      "23.6  0.997579  0.006826\n",
      "23.7  0.998231  0.006516\n",
      "23.8  0.998851  0.006207\n",
      "23.9  0.999441  0.005897\n",
      "24.0  1.000000  0.005588\n",
      "\n",
      "[241 rows x 2 columns]\n",
      "         ratio     slope\n",
      "time                    \n",
      "0.0   0.000000  0.000000\n",
      "0.1   0.000613  0.006126\n",
      "0.2   0.001255  0.006425\n",
      "0.3   0.001927  0.006724\n",
      "0.4   0.002630  0.007023\n",
      "...        ...       ...\n",
      "23.6  0.997370  0.007322\n",
      "23.7  0.998073  0.007023\n",
      "23.8  0.998745  0.006724\n",
      "23.9  0.999387  0.006425\n",
      "24.0  1.000000  0.006126\n",
      "\n",
      "[241 rows x 2 columns]\n",
      "         ratio     slope\n",
      "time                    \n",
      "0.0   0.000000  0.000000\n",
      "0.1   0.000637  0.006368\n",
      "0.2   0.001303  0.006662\n",
      "0.3   0.001999  0.006957\n",
      "0.4   0.002724  0.007252\n",
      "...        ...       ...\n",
      "23.6  0.997276  0.007547\n",
      "23.7  0.998001  0.007252\n",
      "23.8  0.998697  0.006957\n",
      "23.9  0.999363  0.006662\n",
      "24.0  1.000000  0.006368\n",
      "\n",
      "[241 rows x 2 columns]\n",
      "         ratio     slope\n",
      "time                    \n",
      "0.0   0.000000  0.000000\n",
      "0.1   0.000666  0.006656\n",
      "0.2   0.001360  0.006946\n",
      "0.3   0.002084  0.007235\n",
      "0.4   0.002836  0.007524\n",
      "...        ...       ...\n",
      "23.6  0.997164  0.007813\n",
      "23.7  0.997916  0.007524\n",
      "23.8  0.998640  0.007235\n",
      "23.9  0.999334  0.006946\n",
      "24.0  1.000000  0.006656\n",
      "\n",
      "[241 rows x 2 columns]\n",
      "         ratio     slope\n",
      "time                    \n",
      "0.0   0.000000  0.000000\n",
      "0.1   0.000714  0.007141\n",
      "0.2   0.001456  0.007419\n",
      "0.3   0.002226  0.007698\n",
      "0.4   0.003023  0.007976\n",
      "...        ...       ...\n",
      "23.6  0.996977  0.008255\n",
      "23.7  0.997774  0.007976\n",
      "23.8  0.998544  0.007698\n",
      "23.9  0.999286  0.007419\n",
      "24.0  1.000000  0.007141\n",
      "\n",
      "[241 rows x 2 columns]\n",
      "         ratio     slope\n",
      "time                    \n",
      "0.0   0.000000  0.000000\n",
      "0.1   0.000791  0.007910\n",
      "0.2   0.001608  0.008172\n",
      "0.3   0.002451  0.008433\n",
      "0.4   0.003321  0.008694\n",
      "...        ...       ...\n",
      "23.6  0.996679  0.008956\n",
      "23.7  0.997549  0.008694\n",
      "23.8  0.998392  0.008433\n",
      "23.9  0.999209  0.008172\n",
      "24.0  1.000000  0.007910\n",
      "\n",
      "[241 rows x 2 columns]\n",
      "         ratio     slope\n",
      "time                    \n",
      "0.0   0.000000  0.000000\n",
      "0.1   0.000851  0.008507\n",
      "0.2   0.001726  0.008755\n",
      "0.3   0.002626  0.009003\n",
      "0.4   0.003551  0.009250\n",
      "...        ...       ...\n",
      "23.6  0.996449  0.009498\n",
      "23.7  0.997374  0.009250\n",
      "23.8  0.998274  0.009003\n",
      "23.9  0.999149  0.008755\n",
      "24.0  1.000000  0.008507\n",
      "\n",
      "[241 rows x 2 columns]\n"
     ]
    }
   ],
   "source": [
    "writer = pd.ExcelWriter(outputs_dir/'{0}_{1}_{2}_nrcs_PrecipTable.xlsx'.format(Project_Area, Pluvial_Model, BCN))\n",
    "\n",
    "for i, d in enumerate(c_df.index.astype(str).tolist()[1:10]):\n",
    "    table = hyetos[d][['ratio', 'slope']]\n",
    "    hyetos[d].to_excel(writer, sheet_name = f'nrcs_hye_{d}')\n",
    "    print(table)\n",
    "writer.save()"
   ]
  },
  {
   "cell_type": "markdown",
   "metadata": {},
   "source": [
    "---"
   ]
  }
 ],
 "metadata": {
  "kernelspec": {
   "display_name": "Python 3",
   "language": "python",
   "name": "python3"
  },
  "language_info": {
   "codemirror_mode": {
    "name": "ipython",
    "version": 3
   },
   "file_extension": ".py",
   "mimetype": "text/x-python",
   "name": "python",
   "nbconvert_exporter": "python",
   "pygments_lexer": "ipython3",
   "version": "3.6.10"
  },
  "nteract": {
   "version": "0.12.3"
  }
 },
 "nbformat": 4,
 "nbformat_minor": 4
}
