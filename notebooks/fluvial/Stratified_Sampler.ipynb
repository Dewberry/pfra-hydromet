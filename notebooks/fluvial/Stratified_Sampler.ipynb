{
 "cells": [
  {
   "cell_type": "markdown",
   "metadata": {},
   "source": [
    "# Stratified Sampler\n",
    "\n",
    "__Description__: Calculates the weight of a specified number of annual exceedance probabilities/recurrence intervals uniformly selected between the minimum and maximum value within log space.\n",
    "\n",
    "__Input__: No data, only specified parameters.\n",
    "\n",
    "__Output__: A table of annual exceedance probabilities and their corresponding weight. \n",
    "\n",
    "---\n",
    "## Load Libraries and Parameters:\n",
    "### Libraries:"
   ]
  },
  {
   "cell_type": "code",
   "execution_count": 1,
   "metadata": {},
   "outputs": [],
   "source": [
    "import sys\n",
    "sys.path.append('../../core')\n",
    "from meanffc import*"
   ]
  },
  {
   "cell_type": "markdown",
   "metadata": {},
   "source": [
    "### Parameters:\n",
    "#### Site specific (papermill):"
   ]
  },
  {
   "cell_type": "raw",
   "metadata": {},
   "source": [
    "## Filenames and paths:\n",
    "gage_ID = '01134500'                          # The USGS Station ID \n",
    "outputs_dir = pl.Path(os.getcwd())/'Outputs'  # The directory/path to save the outputs\n",
    "\n",
    "## Options\n",
    "min_val = 2     # The minimum recurrence interval\n",
    "max_val = 3000  # The maximum recurrence interval\n",
    "nbin = 100      # The number of recurrence intervals/annual exceedance probabilities \n",
    "verbose = True  # Option for displaying print statements"
   ]
  },
  {
   "cell_type": "markdown",
   "metadata": {},
   "source": [
    "##### Make directory if it does not exist:"
   ]
  },
  {
   "cell_type": "code",
   "execution_count": 3,
   "metadata": {},
   "outputs": [
    {
     "name": "stdout",
     "output_type": "stream",
     "text": [
      "C:\\Users\\sputnam\\Desktop\\MeanFFC\\Outputs - already exists\n"
     ]
    }
   ],
   "source": [
    "make_directories([outputs_dir], verbose)"
   ]
  },
  {
   "cell_type": "markdown",
   "metadata": {},
   "source": [
    "---\n",
    "## Calculate the Weight of Each Recurrence Interval:\n",
    "### Uniformly Select Recurrence Intervals:"
   ]
  },
  {
   "cell_type": "code",
   "execution_count": 4,
   "metadata": {},
   "outputs": [
    {
     "data": {
      "text/html": [
       "<div>\n",
       "<style scoped>\n",
       "    .dataframe tbody tr th:only-of-type {\n",
       "        vertical-align: middle;\n",
       "    }\n",
       "\n",
       "    .dataframe tbody tr th {\n",
       "        vertical-align: top;\n",
       "    }\n",
       "\n",
       "    .dataframe thead th {\n",
       "        text-align: right;\n",
       "    }\n",
       "</style>\n",
       "<table border=\"1\" class=\"dataframe\">\n",
       "  <thead>\n",
       "    <tr style=\"text-align: right;\">\n",
       "      <th></th>\n",
       "      <th>Center</th>\n",
       "    </tr>\n",
       "  </thead>\n",
       "  <tbody>\n",
       "    <tr>\n",
       "      <th>0</th>\n",
       "      <td>2.073100</td>\n",
       "    </tr>\n",
       "    <tr>\n",
       "      <th>1</th>\n",
       "      <td>2.230391</td>\n",
       "    </tr>\n",
       "  </tbody>\n",
       "</table>\n",
       "</div>"
      ],
      "text/plain": [
       "     Center\n",
       "0  2.073100\n",
       "1  2.230391"
      ]
     },
     "metadata": {},
     "output_type": "display_data"
    }
   ],
   "source": [
    "df = RI(min_val, max_val, nbin, verbose)"
   ]
  },
  {
   "cell_type": "markdown",
   "metadata": {},
   "source": [
    "### Calculate the Weight:"
   ]
  },
  {
   "cell_type": "code",
   "execution_count": 5,
   "metadata": {},
   "outputs": [
    {
     "data": {
      "text/html": [
       "<div>\n",
       "<style scoped>\n",
       "    .dataframe tbody tr th:only-of-type {\n",
       "        vertical-align: middle;\n",
       "    }\n",
       "\n",
       "    .dataframe tbody tr th {\n",
       "        vertical-align: top;\n",
       "    }\n",
       "\n",
       "    .dataframe thead th {\n",
       "        text-align: right;\n",
       "    }\n",
       "</style>\n",
       "<table border=\"1\" class=\"dataframe\">\n",
       "  <thead>\n",
       "    <tr style=\"text-align: right;\">\n",
       "      <th></th>\n",
       "      <th>Ceiling</th>\n",
       "      <th>Floor</th>\n",
       "      <th>Weight</th>\n",
       "    </tr>\n",
       "    <tr>\n",
       "      <th>AEP</th>\n",
       "      <th></th>\n",
       "      <th></th>\n",
       "      <th></th>\n",
       "    </tr>\n",
       "  </thead>\n",
       "  <tbody>\n",
       "    <tr>\n",
       "      <th>0.482369</th>\n",
       "      <td>0.500000</td>\n",
       "      <td>0.464739</td>\n",
       "      <td>0.035594</td>\n",
       "    </tr>\n",
       "    <tr>\n",
       "      <th>0.448352</th>\n",
       "      <td>0.464739</td>\n",
       "      <td>0.431965</td>\n",
       "      <td>0.032774</td>\n",
       "    </tr>\n",
       "  </tbody>\n",
       "</table>\n",
       "</div>"
      ],
      "text/plain": [
       "           Ceiling     Floor    Weight\n",
       "AEP                                   \n",
       "0.482369  0.500000  0.464739  0.035594\n",
       "0.448352  0.464739  0.431965  0.032774"
      ]
     },
     "metadata": {},
     "output_type": "display_data"
    }
   ],
   "source": [
    "df1 = AEP_weights(df, min_val, max_val, verbose) "
   ]
  },
  {
   "cell_type": "markdown",
   "metadata": {},
   "source": [
    "### Add Event Numbers:"
   ]
  },
  {
   "cell_type": "code",
   "execution_count": 6,
   "metadata": {},
   "outputs": [
    {
     "data": {
      "text/html": [
       "<div>\n",
       "<style scoped>\n",
       "    .dataframe tbody tr th:only-of-type {\n",
       "        vertical-align: middle;\n",
       "    }\n",
       "\n",
       "    .dataframe tbody tr th {\n",
       "        vertical-align: top;\n",
       "    }\n",
       "\n",
       "    .dataframe thead th {\n",
       "        text-align: right;\n",
       "    }\n",
       "</style>\n",
       "<table border=\"1\" class=\"dataframe\">\n",
       "  <thead>\n",
       "    <tr style=\"text-align: right;\">\n",
       "      <th></th>\n",
       "      <th>AEP</th>\n",
       "      <th>Ceiling</th>\n",
       "      <th>Floor</th>\n",
       "      <th>Weight</th>\n",
       "    </tr>\n",
       "    <tr>\n",
       "      <th></th>\n",
       "      <th></th>\n",
       "      <th></th>\n",
       "      <th></th>\n",
       "      <th></th>\n",
       "    </tr>\n",
       "  </thead>\n",
       "  <tbody>\n",
       "    <tr>\n",
       "      <th>E0001</th>\n",
       "      <td>0.482369</td>\n",
       "      <td>0.500000</td>\n",
       "      <td>0.464739</td>\n",
       "      <td>0.035594</td>\n",
       "    </tr>\n",
       "    <tr>\n",
       "      <th>E0002</th>\n",
       "      <td>0.448352</td>\n",
       "      <td>0.464739</td>\n",
       "      <td>0.431965</td>\n",
       "      <td>0.032774</td>\n",
       "    </tr>\n",
       "  </tbody>\n",
       "</table>\n",
       "</div>"
      ],
      "text/plain": [
       "            AEP   Ceiling     Floor    Weight\n",
       "                                             \n",
       "E0001  0.482369  0.500000  0.464739  0.035594\n",
       "E0002  0.448352  0.464739  0.431965  0.032774"
      ]
     },
     "metadata": {},
     "output_type": "display_data"
    }
   ],
   "source": [
    "df1 = add_events(df1, verbose)"
   ]
  },
  {
   "cell_type": "markdown",
   "metadata": {},
   "source": [
    "---\n",
    "## Save the Results:"
   ]
  },
  {
   "cell_type": "code",
   "execution_count": 7,
   "metadata": {},
   "outputs": [
    {
     "data": {
      "application/scrapbook.scrap.json+json": {
       "data": {
        "AEP": {
         "E0001": 0.4823694853302572,
         "E0002": 0.4483517961808517,
         "E0003": 0.4167331045017636,
         "E0004": 0.38734422805262037,
         "E0005": 0.36002791567293274,
         "E0006": 0.3346380058777785,
         "E0007": 0.31103864479105187,
         "E0008": 0.28910355923166964,
         "E0009": 0.26871538106323445,
         "E0010": 0.249765019191951,
         "E0011": 0.23215107585254185,
         "E0012": 0.2157793040588826,
         "E0013": 0.20056210331633453,
         "E0014": 0.1864180508974821,
         "E0015": 0.17327146617327044,
         "E0016": 0.16105200566840772,
         "E0017": 0.14969428667429427,
         "E0018": 0.13913753740554297,
         "E0019": 0.12932527182818174,
         "E0020": 0.12020498741964082,
         "E0021": 0.11172788424332787,
         "E0022": 0.10384860383464262,
         "E0023": 0.09652498650128674,
         "E0024": 0.08971784573925609,
         "E0025": 0.0833907585574814,
         "E0026": 0.07750987058920679,
         "E0027": 0.07204371494731529,
         "E0028": 0.06696304385434962,
         "E0029": 0.06224067214633066,
         "E0030": 0.05785133181300854,
         "E0031": 0.05377153679623492,
         "E0032": 0.049979457323032384,
         "E0033": 0.04645480310095435,
         "E0034": 0.0431787147507488,
         "E0035": 0.04013366289541394,
         "E0036": 0.03730335436570151,
         "E0037": 0.03467264502020106,
         "E0038": 0.032227458713531304,
         "E0039": 0.02995471197906153,
         "E0040": 0.027842244023162467,
         "E0041": 0.025878751656406778,
         "E0042": 0.024053728813555126,
         "E0043": 0.022357410338717538,
         "E0044": 0.020780719734900664,
         "E0045": 0.019315220598364748,
         "E0046": 0.017953071477929596,
         "E0047": 0.016686983917695283,
         "E0048": 0.01551018345867653,
         "E0049": 0.014416373390682132,
         "E0050": 0.01339970106048649,
         "E0051": 0.012454726556018189,
         "E0052": 0.011576393599004135,
         "E0053": 0.0107600024903243,
         "E0054": 0.010001184963315774,
         "E0055": 0.009295880810473578,
         "E0056": 0.008640316158484637,
         "E0057": 0.008030983275351119,
         "E0058": 0.007464621801556974,
         "E0059": 0.006938201304851248,
         "E0060": 0.006448905065304012,
         "E0061": 0.005994115003873526,
         "E0062": 0.005571397673841858,
         "E0063": 0.005178491240163298,
         "E0064": 0.004813293377055963,
         "E0065": 0.004473850019080121,
         "E0066": 0.004158344905513636,
         "E0067": 0.003865089862079601,
         "E0068": 0.003592515768026528,
         "E0069": 0.003339164160228633,
         "E0070": 0.0031036794293822713,
         "E0071": 0.0028848015665426585,
         "E0072": 0.00268135942118975,
         "E0073": 0.0024922644347491942,
         "E0074": 0.002316504816038298,
         "E0075": 0.0021531401274715264,
         "E0076": 0.0020012962530579327,
         "E0077": 0.0018601607212657756,
         "E0078": 0.001728978357728353,
         "E0079": 0.0016070472445299632,
         "E0080": 0.0014937149644513427,
         "E0081": 0.0013883751100786474,
         "E0082": 0.0012904640390972578,
         "E0083": 0.0011994578584089393,
         "E0084": 0.0011148696209352708,
         "E0085": 0.001036246720108271,
         "E0086": 0.0009631684681069046,
         "E0087": 0.0008952438448813349,
         "E0088": 0.0008321094059206255,
         "E0089": 0.0007734273375689671,
         "E0090": 0.0007188836494850082,
         "E0091": 0.0006681864945726735,
         "E0092": 0.0006210646073939231,
         "E0093": 0.0005772658527078569,
         "E0094": 0.0005365558763698273,
         "E0095": 0.0004987168513719273,
         "E0096": 0.00046354631231528443,
         "E0097": 0.00043085607207776544,
         "E0098": 0.00040047121488050625,
         "E0099": 0.00037222916036546414,
         "E0100": 0.00034597879367614687
        },
        "Weight": {
         "E0001": 0.03559436267281896,
         "E0002": 0.03277434895932552,
         "E0003": 0.030463034398850786,
         "E0004": 0.02831471849943551,
         "E0005": 0.026317906259939794,
         "E0006": 0.024461913330368734,
         "E0007": 0.02273680884308449,
         "E0008": 0.021133362275679968,
         "E0009": 0.01964299406119041,
         "E0010": 0.01825772968137651,
         "E0011": 0.016970156997441754,
         "E0012": 0.01577338658987676,
         "E0013": 0.014661014895219399,
         "E0014": 0.01362708994248546,
         "E0015": 0.012666079505937872,
         "E0016": 0.011772841503787573,
         "E0017": 0.010942596484439265,
         "E0018": 0.010170902053063341,
         "E0019": 0.009453629101659158,
         "E0020": 0.008786939715422715,
         "E0021": 0.008167266637203102,
         "E0022": 0.007591294180167435,
         "E0023": 0.007055940486544329,
         "E0024": 0.006558341037516943,
         "E0025": 0.00609583332603246,
         "E0026": 0.005665942610516755,
         "E0027": 0.005266368673266256,
         "E0028": 0.00489497351266506,
         "E0029": 0.004549769903372865,
         "E0030": 0.004228910763271386,
         "E0031": 0.003930679270275843,
         "E0032": 0.003653479676129237,
         "E0033": 0.0033958287680268193,
         "E0034": 0.0031563479323842916,
         "E0035": 0.0029337557782854393,
         "E0036": 0.0027268612811394144,
         "E0037": 0.002534557409861485,
         "E0038": 0.0023558152034780164,
         "E0039": 0.002189678265461535,
         "E0040": 0.002035257646336587,
         "E0041": 0.0018917270871748083,
         "E0042": 0.001758318598528475,
         "E0043": 0.001634318351146715,
         "E0044": 0.0015190628564870287,
         "E0045": 0.001411935416584808,
         "E0046": 0.0013123628242854915,
         "E0047": 0.0012198122961831308,
         "E0048": 0.0011337886218543806,
         "E0049": 0.0010538315141344137,
         "E0050": 0.0009795131462568742,
         "E0051": 0.0009104358626797256,
         "E0052": 0.0008462300513483838,
         "E0053": 0.000786552166011284,
         "E0054": 0.0007310828880057654,
         "E0055": 0.0006795254176786315,
         "E0056": 0.000631603886299249,
         "E0057": 0.0005870618799677842,
         "E0058": 0.0005456610676205075,
         "E0059": 0.0005071799257909465,
         "E0060": 0.0004714125533035237,
         "E0061": 0.00043816756955744607,
         "E0062": 0.00040726709050589466,
         "E0063": 0.00037854577685122407,
         "E0064": 0.0003518499493634442,
         "E0065": 0.00032703676658824184,
         "E0066": 0.0003039734605447264,
         "E0067": 0.0002825366263233416,
         "E0068": 0.0002626115617828063,
         "E0069": 0.00024409165381298475,
         "E0070": 0.00022687780787973783,
         "E0071": 0.00021087791779948652,
         "E0072": 0.00019600637290633155,
         "E0073": 0.00018218359997477975,
         "E0074": 0.0001693356374470119,
         "E0075": 0.00015739373968653167,
         "E0076": 0.00014629400914065649,
         "E0077": 0.00013597705444365728,
         "E0078": 0.00012638767263118767,
         "E0079": 0.0001174745537655922,
         "E0080": 0.00010919000639164926,
         "E0081": 0.00010148970235374067,
         "E0082": 9.433243960903833e-05,
         "E0083": 8.767992176759954e-05,
         "E0084": 8.149655317973739e-05,
         "E0085": 7.574924847426174e-05,
         "E0086": 7.040725552847152e-05,
         "E0087": 6.544199092266788e-05,
         "E0088": 6.082688699875086e-05,
         "E0089": 5.653724970456557e-05,
         "E0090": 5.2550126463352435e-05,
         "E0091": 4.884418336131705e-05,
         "E0092": 4.539959099618342e-05,
         "E0093": 4.2197918375949184e-05,
         "E0094": 3.9222034300110276e-05,
         "E0095": 3.6456015695689355e-05,
         "E0096": 3.388506241759631e-05,
         "E0097": 3.1495418057441945e-05,
         "E0098": 2.9274296337076437e-05,
         "E0099": 2.7209812693007444e-05,
         "E0100": 2.5290920685627208e-05
        }
       },
       "encoder": "json",
       "name": "AEP_Weights",
       "version": 1
      }
     },
     "metadata": {
      "scrapbook": {
       "data": true,
       "display": false,
       "name": "AEP_Weights"
      }
     },
     "output_type": "display_data"
    },
    {
     "data": {
      "text/html": [
       "<div>\n",
       "<style scoped>\n",
       "    .dataframe tbody tr th:only-of-type {\n",
       "        vertical-align: middle;\n",
       "    }\n",
       "\n",
       "    .dataframe tbody tr th {\n",
       "        vertical-align: top;\n",
       "    }\n",
       "\n",
       "    .dataframe thead th {\n",
       "        text-align: right;\n",
       "    }\n",
       "</style>\n",
       "<table border=\"1\" class=\"dataframe\">\n",
       "  <thead>\n",
       "    <tr style=\"text-align: right;\">\n",
       "      <th></th>\n",
       "      <th>AEP</th>\n",
       "      <th>Weight</th>\n",
       "    </tr>\n",
       "    <tr>\n",
       "      <th></th>\n",
       "      <th></th>\n",
       "      <th></th>\n",
       "    </tr>\n",
       "  </thead>\n",
       "  <tbody>\n",
       "    <tr>\n",
       "      <th>E0001</th>\n",
       "      <td>0.482369</td>\n",
       "      <td>0.035594</td>\n",
       "    </tr>\n",
       "    <tr>\n",
       "      <th>E0002</th>\n",
       "      <td>0.448352</td>\n",
       "      <td>0.032774</td>\n",
       "    </tr>\n",
       "  </tbody>\n",
       "</table>\n",
       "</div>"
      ],
      "text/plain": [
       "            AEP    Weight\n",
       "                         \n",
       "E0001  0.482369  0.035594\n",
       "E0002  0.448352  0.032774"
      ]
     },
     "execution_count": 7,
     "metadata": {},
     "output_type": "execute_result"
    }
   ],
   "source": [
    "AEP_Weights = df1.drop(columns=['Ceiling', 'Floor'])\n",
    "\n",
    "outputs_dir = pl.Path(outputs_dir)\n",
    "\n",
    "AEP_Weights.to_csv(outputs_dir/'AEPWeights_{0}.csv'.format(gage_ID))\n",
    "\n",
    "sb.glue('AEP_Weights', AEP_Weights.to_dict())\n",
    "\n",
    "AEP_Weights.head(2)"
   ]
  },
  {
   "cell_type": "markdown",
   "metadata": {},
   "source": [
    "---\n",
    "## End"
   ]
  }
 ],
 "metadata": {
  "kernelspec": {
   "display_name": "Python 3",
   "language": "python",
   "name": "python3"
  },
  "language_info": {
   "codemirror_mode": {
    "name": "ipython",
    "version": 3
   },
   "file_extension": ".py",
   "mimetype": "text/x-python",
   "name": "python",
   "nbconvert_exporter": "python",
   "pygments_lexer": "ipython3",
   "version": "3.7.1"
  }
 },
 "nbformat": 4,
 "nbformat_minor": 4
}
